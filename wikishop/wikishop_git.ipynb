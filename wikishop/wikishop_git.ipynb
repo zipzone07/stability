{
 "cells": [
  {
   "cell_type": "markdown",
   "metadata": {},
   "source": [
    "# Викишоп"
   ]
  },
  {
   "cell_type": "markdown",
   "metadata": {},
   "source": [
    "Интернет-магазин «Викишоп» запускает новый сервис. Теперь пользователи могут редактировать и дополнять описания товаров, как в вики-сообществах. То есть клиенты предлагают свои правки и комментируют изменения других. Магазину нужен инструмент, который будет искать токсичные комментарии и отправлять их на модерацию. \n",
    "\n",
    "Обучим модель классифицировать комментарии на позитивные и негативные. В распоряжении набор данных с разметкой о токсичности правок.\n",
    "\n",
    "Построим модель со значением метрики качества *F1* не меньше 0.75. \n",
    "\n",
    "**Инструкция по выполнению проекта**\n",
    "\n",
    "1. Загрузка и подготовка данных.\n",
    "2. Обучение разных моделей. \n",
    "3. Выводы.\n",
    "\n",
    "**Описание данных**\n",
    "\n",
    "Данные находятся в файле `toxic_comments.csv`. Столбец *text* в нём содержит текст комментария, а *toxic* — целевой признак."
   ]
  },
  {
   "cell_type": "markdown",
   "metadata": {},
   "source": [
    "## Подготовка"
   ]
  },
  {
   "cell_type": "code",
   "execution_count": 2,
   "metadata": {},
   "outputs": [],
   "source": [
    "import numpy as np\n",
    "import pandas as pd\n",
    "from sklearn.linear_model import LogisticRegression\n",
    "from sklearn.svm import LinearSVC\n",
    "from sklearn.model_selection import cross_val_score\n",
    "from sklearn.model_selection import train_test_split\n",
    "from sklearn.feature_extraction.text import CountVectorizer, TfidfVectorizer\n",
    "from concurrent.futures import ProcessPoolExecutor\n",
    "from sklearn.pipeline import Pipeline\n",
    "import spacy\n",
    "from nltk.corpus import stopwords as nltk_stopwords\n",
    "from sklearn.feature_extraction.text import TfidfVectorizer\n",
    "from sklearn.metrics import f1_score\n",
    "import lightgbm as lgb\n",
    "from tqdm import tqdm"
   ]
  },
  {
   "cell_type": "code",
   "execution_count": 3,
   "metadata": {},
   "outputs": [],
   "source": [
    "# Загрузка данных\n",
    "data = pd.read_csv(\n",
    "        'https://code.s3.yandex.net/datasets/toxic_comments.csv'\n",
    "    )"
   ]
  },
  {
   "cell_type": "code",
   "execution_count": 5,
   "metadata": {},
   "outputs": [
    {
     "name": "stdout",
     "output_type": "stream",
     "text": [
      "<class 'pandas.core.frame.DataFrame'>\n",
      "RangeIndex: 159292 entries, 0 to 159291\n",
      "Data columns (total 3 columns):\n",
      " #   Column      Non-Null Count   Dtype \n",
      "---  ------      --------------   ----- \n",
      " 0   Unnamed: 0  159292 non-null  int64 \n",
      " 1   text        159292 non-null  object\n",
      " 2   toxic       159292 non-null  int64 \n",
      "dtypes: int64(2), object(1)\n",
      "memory usage: 3.6+ MB\n"
     ]
    },
    {
     "data": {
      "text/plain": [
       "None"
      ]
     },
     "metadata": {},
     "output_type": "display_data"
    }
   ],
   "source": [
    "display(data.info())"
   ]
  },
  {
   "cell_type": "code",
   "execution_count": 6,
   "metadata": {},
   "outputs": [
    {
     "data": {
      "text/html": [
       "<div>\n",
       "<style scoped>\n",
       "    .dataframe tbody tr th:only-of-type {\n",
       "        vertical-align: middle;\n",
       "    }\n",
       "\n",
       "    .dataframe tbody tr th {\n",
       "        vertical-align: top;\n",
       "    }\n",
       "\n",
       "    .dataframe thead th {\n",
       "        text-align: right;\n",
       "    }\n",
       "</style>\n",
       "<table border=\"1\" class=\"dataframe\">\n",
       "  <thead>\n",
       "    <tr style=\"text-align: right;\">\n",
       "      <th></th>\n",
       "      <th>Unnamed: 0</th>\n",
       "      <th>text</th>\n",
       "      <th>toxic</th>\n",
       "    </tr>\n",
       "  </thead>\n",
       "  <tbody>\n",
       "    <tr>\n",
       "      <th>0</th>\n",
       "      <td>0</td>\n",
       "      <td>Explanation\\nWhy the edits made under my usern...</td>\n",
       "      <td>0</td>\n",
       "    </tr>\n",
       "    <tr>\n",
       "      <th>1</th>\n",
       "      <td>1</td>\n",
       "      <td>D'aww! He matches this background colour I'm s...</td>\n",
       "      <td>0</td>\n",
       "    </tr>\n",
       "    <tr>\n",
       "      <th>2</th>\n",
       "      <td>2</td>\n",
       "      <td>Hey man, I'm really not trying to edit war. It...</td>\n",
       "      <td>0</td>\n",
       "    </tr>\n",
       "    <tr>\n",
       "      <th>3</th>\n",
       "      <td>3</td>\n",
       "      <td>\"\\nMore\\nI can't make any real suggestions on ...</td>\n",
       "      <td>0</td>\n",
       "    </tr>\n",
       "    <tr>\n",
       "      <th>4</th>\n",
       "      <td>4</td>\n",
       "      <td>You, sir, are my hero. Any chance you remember...</td>\n",
       "      <td>0</td>\n",
       "    </tr>\n",
       "  </tbody>\n",
       "</table>\n",
       "</div>"
      ],
      "text/plain": [
       "   Unnamed: 0                                               text  toxic\n",
       "0           0  Explanation\\nWhy the edits made under my usern...      0\n",
       "1           1  D'aww! He matches this background colour I'm s...      0\n",
       "2           2  Hey man, I'm really not trying to edit war. It...      0\n",
       "3           3  \"\\nMore\\nI can't make any real suggestions on ...      0\n",
       "4           4  You, sir, are my hero. Any chance you remember...      0"
      ]
     },
     "metadata": {},
     "output_type": "display_data"
    }
   ],
   "source": [
    "display(data.head())"
   ]
  },
  {
   "cell_type": "code",
   "execution_count": 7,
   "metadata": {},
   "outputs": [],
   "source": [
    "# Лемматизация\n",
    "nlp = spacy.load('en_core_web_sm', disable=[ 'parser',  'ner'])\n",
    "\n",
    "def lemmatize_clear_text_spacy(text):\n",
    "    doc = nlp(text)\n",
    "    return \" \".join([token.lemma_ for token in doc if token.is_alpha])"
   ]
  },
  {
   "cell_type": "code",
   "execution_count": 8,
   "metadata": {},
   "outputs": [],
   "source": [
    "# Используем ProcessPoolExecutor для параллельной обработки\n",
    "with ProcessPoolExecutor() as executor:\n",
    "    data['clear_text'] = list(\n",
    "        executor.map(lemmatize_clear_text_spacy, data['text'])\n",
    "    )"
   ]
  },
  {
   "cell_type": "markdown",
   "metadata": {},
   "source": [
    "## Обучение"
   ]
  },
  {
   "cell_type": "code",
   "execution_count": 11,
   "metadata": {},
   "outputs": [],
   "source": [
    "# Определяем данные для обучения\n",
    "X = data['clear_text']\n",
    "y = data['toxic']\n",
    "\n",
    "# Разделение на обучающую и тестовую выборки\n",
    "X_train, X_test, y_train, y_test = train_test_split(\n",
    "    X, \n",
    "    y, \n",
    "    test_size=0.1, \n",
    "    random_state=42\n",
    ")\n",
    "\n",
    "# Создаем TF-IDF векторизатор с исключением стоп-слов\n",
    "stopwords = list(nltk_stopwords.words('english'))\n",
    "tfidf_vectorizer = TfidfVectorizer(\n",
    "    stop_words=stopwords,\n",
    "    max_df=0.8,\n",
    "    min_df=5,\n",
    "    ngram_range=(1, 3)\n",
    ")\n",
    "X_train_tfidf = tfidf_vectorizer.fit_transform(X_train)\n",
    "X_test_tfidf = tfidf_vectorizer.transform(X_test)"
   ]
  },
  {
   "cell_type": "code",
   "execution_count": 14,
   "metadata": {},
   "outputs": [
    {
     "data": {
      "text/html": [
       "<div>\n",
       "<style scoped>\n",
       "    .dataframe tbody tr th:only-of-type {\n",
       "        vertical-align: middle;\n",
       "    }\n",
       "\n",
       "    .dataframe tbody tr th {\n",
       "        vertical-align: top;\n",
       "    }\n",
       "\n",
       "    .dataframe thead th {\n",
       "        text-align: right;\n",
       "    }\n",
       "</style>\n",
       "<table border=\"1\" class=\"dataframe\">\n",
       "  <thead>\n",
       "    <tr style=\"text-align: right;\">\n",
       "      <th></th>\n",
       "      <th>F1_Mean</th>\n",
       "    </tr>\n",
       "    <tr>\n",
       "      <th>Model</th>\n",
       "      <th></th>\n",
       "    </tr>\n",
       "  </thead>\n",
       "  <tbody>\n",
       "    <tr>\n",
       "      <th>Logistic Regression</th>\n",
       "      <td>0.773571</td>\n",
       "    </tr>\n",
       "    <tr>\n",
       "      <th>Linear SVC</th>\n",
       "      <td>0.740643</td>\n",
       "    </tr>\n",
       "    <tr>\n",
       "      <th>LightGBM</th>\n",
       "      <td>0.763342</td>\n",
       "    </tr>\n",
       "  </tbody>\n",
       "</table>\n",
       "</div>"
      ],
      "text/plain": [
       "                      F1_Mean\n",
       "Model                        \n",
       "Logistic Regression  0.773571\n",
       "Linear SVC           0.740643\n",
       "LightGBM             0.763342"
      ]
     },
     "metadata": {},
     "output_type": "display_data"
    }
   ],
   "source": [
    "# Настраиваем модели\n",
    "log_reg = LogisticRegression(max_iter=1000, class_weight='balanced', C=7.5)\n",
    "\n",
    "svc = LinearSVC(C=10, max_iter=10000, class_weight='balanced')\n",
    "\n",
    "pos_weight = len(data[data['toxic']==0]) / len(data[data['toxic']==1])\n",
    "lgbm = lgb.LGBMClassifier(\n",
    "    objective='binary',\n",
    "    n_estimators=500,\n",
    "    learning_rate=0.2,\n",
    "    max_depth=-1,\n",
    "    force_col_wise=True,\n",
    "    scale_pos_weight=pos_weight,\n",
    "    verbose=0\n",
    ")\n",
    "\n",
    "# Список моделей\n",
    "models = [\n",
    "    ('Logistic Regression', log_reg),\n",
    "    ('Linear SVC', svc),\n",
    "    ('LightGBM', lgbm)\n",
    "]\n",
    "\n",
    "# Создаем список для хранения результатов\n",
    "results = []\n",
    "\n",
    "for name, model in models:\n",
    "    scores = cross_val_score(model, X_train_tfidf, y_train, cv=5, scoring='f1')\n",
    "    results.append({\n",
    "        'Model': name,\n",
    "        'F1_Mean': scores.mean(),\n",
    "    })\n",
    "\n",
    "# Преобразуем в DataFrame\n",
    "results_df = pd.DataFrame(results).set_index('Model')\n",
    "\n",
    "display(results_df)"
   ]
  },
  {
   "cell_type": "markdown",
   "metadata": {},
   "source": [
    "Лидирует простая LogisticRegression, проверяем на тесте"
   ]
  },
  {
   "cell_type": "code",
   "execution_count": 15,
   "metadata": {},
   "outputs": [
    {
     "name": "stdout",
     "output_type": "stream",
     "text": [
      "F1-score: 0.78\n"
     ]
    }
   ],
   "source": [
    "# Предсказания\n",
    "log_reg.fit(X_train_tfidf, y_train)\n",
    "predict = log_reg.predict(X_test_tfidf)\n",
    "\n",
    "# Оценка по F1-score на трейне\n",
    "scores = f1_score(y_test, predict)\n",
    "print(f\"F1-score: {scores:.2f}\")"
   ]
  },
  {
   "cell_type": "markdown",
   "metadata": {},
   "source": [
    "## Выводы"
   ]
  },
  {
   "cell_type": "markdown",
   "metadata": {},
   "source": [
    "В данном проекте мы обработали датасет с твитами, использовали лемматизацию для очистки текста. Так же использовали ProcessPoolExecutor для ускоренной лемматизации, применили TF-IDF векторизатор с набором стоп-слов для английского языка. В дальнейшем обучили LogisticRegression, Linear SVC и LightGBM. Лучшая оказалась LogisticRegression с выходом метрики F1 на тестовых данных в 0.75"
   ]
  }
 ],
 "metadata": {
  "ExecuteTimeLog": [
   {
    "duration": 2773,
    "start_time": "2025-05-10T06:06:00.330Z"
   },
   {
    "duration": 2917,
    "start_time": "2025-05-10T12:27:42.262Z"
   },
   {
    "duration": 5210,
    "start_time": "2025-05-16T17:09:12.850Z"
   },
   {
    "duration": 4,
    "start_time": "2025-05-16T17:10:47.217Z"
   },
   {
    "duration": 3,
    "start_time": "2025-05-16T17:10:47.223Z"
   },
   {
    "duration": 5127,
    "start_time": "2025-05-16T17:10:47.227Z"
   },
   {
    "duration": 2678,
    "start_time": "2025-05-16T17:10:52.356Z"
   },
   {
    "duration": 13,
    "start_time": "2025-05-16T17:10:55.036Z"
   },
   {
    "duration": 31,
    "start_time": "2025-05-16T17:10:55.051Z"
   },
   {
    "duration": 559,
    "start_time": "2025-05-16T17:10:55.084Z"
   },
   {
    "duration": 1523736,
    "start_time": "2025-05-16T17:10:55.644Z"
   },
   {
    "duration": 87578,
    "start_time": "2025-05-16T17:36:19.382Z"
   },
   {
    "duration": 1949,
    "start_time": "2025-05-18T03:27:02.894Z"
   },
   {
    "duration": 7,
    "start_time": "2025-05-18T03:27:36.353Z"
   },
   {
    "duration": 3847,
    "start_time": "2025-05-18T03:27:42.976Z"
   },
   {
    "duration": 2540,
    "start_time": "2025-05-18T03:27:48.996Z"
   },
   {
    "duration": 15,
    "start_time": "2025-05-18T03:27:52.892Z"
   },
   {
    "duration": 24,
    "start_time": "2025-05-18T03:27:54.324Z"
   },
   {
    "duration": 627,
    "start_time": "2025-05-18T03:27:57.257Z"
   },
   {
    "duration": 1471488,
    "start_time": "2025-05-18T03:28:00.466Z"
   },
   {
    "duration": 7,
    "start_time": "2025-05-18T04:00:14.390Z"
   },
   {
    "duration": 7118,
    "start_time": "2025-05-18T04:00:48.307Z"
   },
   {
    "duration": 7284,
    "start_time": "2025-05-18T04:01:32.783Z"
   },
   {
    "duration": 2241,
    "start_time": "2025-05-18T04:05:56.848Z"
   },
   {
    "duration": 14,
    "start_time": "2025-05-18T04:10:09.646Z"
   },
   {
    "duration": 63026,
    "start_time": "2025-05-18T04:22:55.413Z"
   },
   {
    "duration": 61595,
    "start_time": "2025-05-18T04:24:32.162Z"
   },
   {
    "duration": 59981,
    "start_time": "2025-05-18T04:26:44.571Z"
   },
   {
    "duration": 17,
    "start_time": "2025-05-18T04:27:54.148Z"
   },
   {
    "duration": 3140,
    "start_time": "2025-05-18T04:27:59.670Z"
   },
   {
    "duration": 11,
    "start_time": "2025-05-18T04:28:20.102Z"
   },
   {
    "duration": 317,
    "start_time": "2025-05-18T04:41:16.167Z"
   },
   {
    "duration": 54,
    "start_time": "2025-05-18T04:41:32.141Z"
   },
   {
    "duration": 372,
    "start_time": "2025-05-18T04:48:51.904Z"
   },
   {
    "duration": 3,
    "start_time": "2025-05-18T04:50:43.586Z"
   },
   {
    "duration": 60998,
    "start_time": "2025-05-18T04:50:47.075Z"
   },
   {
    "duration": 20,
    "start_time": "2025-05-18T04:51:52.670Z"
   },
   {
    "duration": 14,
    "start_time": "2025-05-18T04:51:56.399Z"
   },
   {
    "duration": 39,
    "start_time": "2025-05-18T04:52:04.301Z"
   },
   {
    "duration": 9057,
    "start_time": "2025-05-18T04:52:36.584Z"
   },
   {
    "duration": 2233,
    "start_time": "2025-05-18T04:54:10.516Z"
   },
   {
    "duration": 107324,
    "start_time": "2025-05-18T04:54:22.522Z"
   },
   {
    "duration": 22,
    "start_time": "2025-05-18T05:13:06.451Z"
   },
   {
    "duration": 4,
    "start_time": "2025-05-18T05:13:18.081Z"
   },
   {
    "duration": 22,
    "start_time": "2025-05-18T05:17:50.377Z"
   },
   {
    "duration": 24,
    "start_time": "2025-05-18T05:18:00.327Z"
   },
   {
    "duration": 4,
    "start_time": "2025-05-18T05:18:08.779Z"
   },
   {
    "duration": 102708,
    "start_time": "2025-05-18T05:18:22.637Z"
   },
   {
    "duration": 69241,
    "start_time": "2025-05-18T05:25:56.946Z"
   },
   {
    "duration": 13,
    "start_time": "2025-05-18T05:27:15.805Z"
   },
   {
    "duration": 4,
    "start_time": "2025-05-18T05:32:29.166Z"
   },
   {
    "duration": 29,
    "start_time": "2025-05-18T05:32:29.172Z"
   },
   {
    "duration": 4792,
    "start_time": "2025-05-18T05:32:29.203Z"
   },
   {
    "duration": 3408,
    "start_time": "2025-05-18T05:32:33.997Z"
   },
   {
    "duration": 14,
    "start_time": "2025-05-18T05:32:37.408Z"
   },
   {
    "duration": 19,
    "start_time": "2025-05-18T05:32:37.424Z"
   },
   {
    "duration": 550,
    "start_time": "2025-05-18T05:32:37.445Z"
   },
   {
    "duration": 4505057,
    "start_time": "2025-05-18T05:32:37.997Z"
   },
   {
    "duration": 2,
    "start_time": "2025-05-18T06:47:43.057Z"
   },
   {
    "duration": 9,
    "start_time": "2025-05-18T06:47:43.061Z"
   },
   {
    "duration": 4,
    "start_time": "2025-05-18T06:47:43.140Z"
   },
   {
    "duration": 3,
    "start_time": "2025-05-18T06:47:43.145Z"
   },
   {
    "duration": 14,
    "start_time": "2025-05-18T06:47:43.150Z"
   },
   {
    "duration": 192,
    "start_time": "2025-05-18T06:47:43.167Z"
   },
   {
    "duration": 7278,
    "start_time": "2025-05-18T06:47:43.361Z"
   },
   {
    "duration": 2,
    "start_time": "2025-05-18T06:47:50.641Z"
   },
   {
    "duration": 32,
    "start_time": "2025-05-18T06:47:50.645Z"
   },
   {
    "duration": 288676,
    "start_time": "2025-05-18T06:47:50.679Z"
   },
   {
    "duration": 4,
    "start_time": "2025-05-19T10:43:39.814Z"
   },
   {
    "duration": 6,
    "start_time": "2025-05-19T10:43:39.820Z"
   },
   {
    "duration": 5159,
    "start_time": "2025-05-19T10:43:39.828Z"
   },
   {
    "duration": 2528,
    "start_time": "2025-05-19T10:43:44.989Z"
   },
   {
    "duration": 24,
    "start_time": "2025-05-19T10:43:47.519Z"
   },
   {
    "duration": 53,
    "start_time": "2025-05-19T10:43:47.550Z"
   },
   {
    "duration": 580,
    "start_time": "2025-05-19T10:43:47.605Z"
   },
   {
    "duration": 7852,
    "start_time": "2025-05-19T10:43:48.187Z"
   },
   {
    "duration": 7,
    "start_time": "2025-05-19T10:43:56.041Z"
   },
   {
    "duration": 12,
    "start_time": "2025-05-19T10:43:56.053Z"
   },
   {
    "duration": 10,
    "start_time": "2025-05-19T10:43:56.066Z"
   },
   {
    "duration": 26,
    "start_time": "2025-05-19T10:43:56.077Z"
   },
   {
    "duration": 38,
    "start_time": "2025-05-19T10:43:56.107Z"
   },
   {
    "duration": 179,
    "start_time": "2025-05-19T10:43:56.151Z"
   },
   {
    "duration": 22,
    "start_time": "2025-05-19T10:43:56.332Z"
   },
   {
    "duration": 13,
    "start_time": "2025-05-19T10:43:56.357Z"
   },
   {
    "duration": 19,
    "start_time": "2025-05-19T10:43:56.371Z"
   },
   {
    "duration": 87,
    "start_time": "2025-05-19T10:43:56.391Z"
   },
   {
    "duration": 250,
    "start_time": "2025-05-19T10:43:56.479Z"
   },
   {
    "duration": 30,
    "start_time": "2025-05-19T10:43:56.731Z"
   },
   {
    "duration": 4,
    "start_time": "2025-05-19T16:49:37.951Z"
   },
   {
    "duration": 47,
    "start_time": "2025-05-19T16:49:37.956Z"
   },
   {
    "duration": 4001,
    "start_time": "2025-05-19T16:49:38.005Z"
   },
   {
    "duration": 2358,
    "start_time": "2025-05-19T16:49:42.008Z"
   },
   {
    "duration": 13,
    "start_time": "2025-05-19T16:49:44.367Z"
   },
   {
    "duration": 35,
    "start_time": "2025-05-19T16:49:44.382Z"
   },
   {
    "duration": 675,
    "start_time": "2025-05-19T16:49:44.419Z"
   },
   {
    "duration": 4181014,
    "start_time": "2025-05-19T16:49:45.096Z"
   },
   {
    "duration": 2,
    "start_time": "2025-05-19T17:59:26.112Z"
   },
   {
    "duration": 17,
    "start_time": "2025-05-19T17:59:26.116Z"
   },
   {
    "duration": 12,
    "start_time": "2025-05-19T17:59:26.134Z"
   },
   {
    "duration": 2,
    "start_time": "2025-05-19T17:59:26.148Z"
   },
   {
    "duration": 3,
    "start_time": "2025-05-19T17:59:26.152Z"
   },
   {
    "duration": 15489,
    "start_time": "2025-05-19T17:59:26.156Z"
   },
   {
    "duration": 6538,
    "start_time": "2025-05-19T17:59:41.647Z"
   },
   {
    "duration": 2,
    "start_time": "2025-05-19T17:59:48.187Z"
   },
   {
    "duration": 263828,
    "start_time": "2025-05-19T17:59:48.191Z"
   },
   {
    "duration": 3,
    "start_time": "2025-05-21T07:45:32.348Z"
   },
   {
    "duration": 90,
    "start_time": "2025-05-21T07:45:32.353Z"
   },
   {
    "duration": 4549,
    "start_time": "2025-05-21T07:45:32.445Z"
   },
   {
    "duration": 2476,
    "start_time": "2025-05-21T07:45:36.996Z"
   },
   {
    "duration": 13,
    "start_time": "2025-05-21T07:45:39.476Z"
   },
   {
    "duration": 33,
    "start_time": "2025-05-21T07:45:39.491Z"
   },
   {
    "duration": 830,
    "start_time": "2025-05-21T07:45:39.526Z"
   },
   {
    "duration": 4313996,
    "start_time": "2025-05-21T07:45:40.358Z"
   },
   {
    "duration": 2,
    "start_time": "2025-05-21T08:57:34.356Z"
   },
   {
    "duration": 49,
    "start_time": "2025-05-21T08:57:34.359Z"
   },
   {
    "duration": 28,
    "start_time": "2025-05-21T08:57:34.410Z"
   },
   {
    "duration": 25,
    "start_time": "2025-05-21T08:57:34.440Z"
   },
   {
    "duration": 7,
    "start_time": "2025-05-21T08:57:34.466Z"
   },
   {
    "duration": 28592,
    "start_time": "2025-05-21T08:57:34.476Z"
   },
   {
    "duration": 3,
    "start_time": "2025-05-21T08:58:03.071Z"
   },
   {
    "duration": 167464,
    "start_time": "2025-05-21T08:58:03.076Z"
   },
   {
    "duration": 51,
    "start_time": "2025-05-21T14:09:38.990Z"
   },
   {
    "duration": 4,
    "start_time": "2025-05-21T14:12:00.718Z"
   },
   {
    "duration": 4286,
    "start_time": "2025-05-21T14:12:00.724Z"
   },
   {
    "duration": 2942,
    "start_time": "2025-05-21T14:12:05.011Z"
   },
   {
    "duration": 28,
    "start_time": "2025-05-21T14:12:07.955Z"
   },
   {
    "duration": 716,
    "start_time": "2025-05-21T14:12:07.989Z"
   },
   {
    "duration": 4,
    "start_time": "2025-05-21T14:13:58.833Z"
   },
   {
    "duration": 4277,
    "start_time": "2025-05-21T14:13:58.839Z"
   },
   {
    "duration": 4423,
    "start_time": "2025-05-21T14:14:03.118Z"
   },
   {
    "duration": 14,
    "start_time": "2025-05-21T14:14:07.543Z"
   },
   {
    "duration": 823,
    "start_time": "2025-05-21T14:14:07.560Z"
   },
   {
    "duration": 4728100,
    "start_time": "2025-05-21T14:14:08.388Z"
   },
   {
    "duration": 31833,
    "start_time": "2025-05-21T15:32:56.492Z"
   },
   {
    "duration": 74,
    "start_time": "2025-05-21T15:33:28.327Z"
   },
   {
    "duration": 41777,
    "start_time": "2025-05-21T15:33:28.403Z"
   },
   {
    "duration": 26,
    "start_time": "2025-05-21T15:34:10.189Z"
   },
   {
    "duration": 6920,
    "start_time": "2025-05-21T18:40:02.329Z"
   },
   {
    "duration": 6276,
    "start_time": "2025-05-21T18:40:38.156Z"
   },
   {
    "duration": 2299,
    "start_time": "2025-05-21T18:40:44.434Z"
   },
   {
    "duration": 206,
    "start_time": "2025-05-21T18:40:46.734Z"
   },
   {
    "duration": 26,
    "start_time": "2025-05-21T18:40:46.942Z"
   },
   {
    "duration": 4604,
    "start_time": "2025-05-22T15:54:56.576Z"
   },
   {
    "duration": 2398,
    "start_time": "2025-05-22T15:55:03.230Z"
   },
   {
    "duration": 177,
    "start_time": "2025-05-22T16:24:13.289Z"
   },
   {
    "duration": 4,
    "start_time": "2025-05-22T16:39:12.899Z"
   },
   {
    "duration": 100,
    "start_time": "2025-05-22T16:56:32.530Z"
   },
   {
    "duration": 330,
    "start_time": "2025-05-22T17:13:34.155Z"
   },
   {
    "duration": 4,
    "start_time": "2025-05-22T17:20:50.841Z"
   },
   {
    "duration": 4131,
    "start_time": "2025-05-22T17:20:50.847Z"
   },
   {
    "duration": 2393,
    "start_time": "2025-05-22T17:20:54.980Z"
   },
   {
    "duration": 41,
    "start_time": "2025-05-22T17:20:57.375Z"
   },
   {
    "duration": 28,
    "start_time": "2025-05-22T17:20:57.419Z"
   },
   {
    "duration": 36,
    "start_time": "2025-05-22T17:20:57.449Z"
   },
   {
    "duration": 17,
    "start_time": "2025-05-22T17:20:57.487Z"
   },
   {
    "duration": 985,
    "start_time": "2025-05-22T17:20:57.506Z"
   },
   {
    "duration": 0,
    "start_time": "2025-05-22T17:20:58.492Z"
   },
   {
    "duration": 0,
    "start_time": "2025-05-22T17:20:58.494Z"
   },
   {
    "duration": 0,
    "start_time": "2025-05-22T17:20:58.495Z"
   },
   {
    "duration": 0,
    "start_time": "2025-05-22T17:20:58.496Z"
   },
   {
    "duration": 0,
    "start_time": "2025-05-22T17:20:58.498Z"
   },
   {
    "duration": 0,
    "start_time": "2025-05-22T17:20:58.499Z"
   },
   {
    "duration": 4,
    "start_time": "2025-05-22T17:21:46.762Z"
   },
   {
    "duration": 6,
    "start_time": "2025-05-22T17:21:50.491Z"
   },
   {
    "duration": 501,
    "start_time": "2025-05-22T17:21:58.621Z"
   },
   {
    "duration": 461,
    "start_time": "2025-05-22T17:22:09.933Z"
   },
   {
    "duration": 455,
    "start_time": "2025-05-22T17:23:35.733Z"
   },
   {
    "duration": 0,
    "start_time": "2025-05-22T17:23:36.189Z"
   },
   {
    "duration": 0,
    "start_time": "2025-05-22T17:23:36.191Z"
   },
   {
    "duration": 0,
    "start_time": "2025-05-22T17:23:36.193Z"
   },
   {
    "duration": 0,
    "start_time": "2025-05-22T17:23:36.194Z"
   },
   {
    "duration": 0,
    "start_time": "2025-05-22T17:23:36.196Z"
   },
   {
    "duration": 0,
    "start_time": "2025-05-22T17:23:36.197Z"
   },
   {
    "duration": 5,
    "start_time": "2025-05-22T17:23:45.160Z"
   },
   {
    "duration": 47503,
    "start_time": "2025-05-22T17:23:50.196Z"
   },
   {
    "duration": 0,
    "start_time": "2025-05-22T17:24:37.701Z"
   },
   {
    "duration": 0,
    "start_time": "2025-05-22T17:24:37.702Z"
   },
   {
    "duration": 0,
    "start_time": "2025-05-22T17:24:37.703Z"
   },
   {
    "duration": 0,
    "start_time": "2025-05-22T17:24:37.704Z"
   },
   {
    "duration": 0,
    "start_time": "2025-05-22T17:24:37.704Z"
   },
   {
    "duration": 0,
    "start_time": "2025-05-22T17:24:37.706Z"
   },
   {
    "duration": 5,
    "start_time": "2025-05-22T17:25:03.451Z"
   },
   {
    "duration": 4625,
    "start_time": "2025-05-22T17:25:03.458Z"
   },
   {
    "duration": 2443,
    "start_time": "2025-05-22T17:25:08.085Z"
   },
   {
    "duration": 41,
    "start_time": "2025-05-22T17:25:10.530Z"
   },
   {
    "duration": 47,
    "start_time": "2025-05-22T17:25:10.573Z"
   },
   {
    "duration": 3,
    "start_time": "2025-05-22T17:25:10.622Z"
   },
   {
    "duration": 7,
    "start_time": "2025-05-22T17:25:10.626Z"
   },
   {
    "duration": 25,
    "start_time": "2025-05-22T17:25:10.634Z"
   },
   {
    "duration": 358524,
    "start_time": "2025-05-22T17:25:10.662Z"
   },
   {
    "duration": 0,
    "start_time": "2025-05-22T17:31:09.188Z"
   },
   {
    "duration": 0,
    "start_time": "2025-05-22T17:31:09.189Z"
   },
   {
    "duration": 0,
    "start_time": "2025-05-22T17:31:09.191Z"
   },
   {
    "duration": 0,
    "start_time": "2025-05-22T17:31:09.192Z"
   },
   {
    "duration": 0,
    "start_time": "2025-05-22T17:31:09.193Z"
   },
   {
    "duration": 0,
    "start_time": "2025-05-22T17:31:09.194Z"
   },
   {
    "duration": 3,
    "start_time": "2025-05-22T17:31:46.963Z"
   },
   {
    "duration": 5088,
    "start_time": "2025-05-22T17:31:46.968Z"
   },
   {
    "duration": 3307,
    "start_time": "2025-05-22T17:31:52.058Z"
   },
   {
    "duration": 43,
    "start_time": "2025-05-22T17:31:55.368Z"
   },
   {
    "duration": 42,
    "start_time": "2025-05-22T17:31:55.413Z"
   },
   {
    "duration": 19,
    "start_time": "2025-05-22T17:31:55.457Z"
   },
   {
    "duration": 19,
    "start_time": "2025-05-22T17:31:55.477Z"
   },
   {
    "duration": 30,
    "start_time": "2025-05-22T17:31:55.498Z"
   },
   {
    "duration": 179798,
    "start_time": "2025-05-22T17:31:55.532Z"
   },
   {
    "duration": 0,
    "start_time": "2025-05-22T17:34:55.332Z"
   },
   {
    "duration": 0,
    "start_time": "2025-05-22T17:34:55.338Z"
   },
   {
    "duration": 0,
    "start_time": "2025-05-22T17:34:55.340Z"
   },
   {
    "duration": 0,
    "start_time": "2025-05-22T17:34:55.341Z"
   },
   {
    "duration": 0,
    "start_time": "2025-05-22T17:34:55.342Z"
   },
   {
    "duration": 0,
    "start_time": "2025-05-22T17:34:55.343Z"
   },
   {
    "duration": 3,
    "start_time": "2025-05-22T17:35:55.619Z"
   },
   {
    "duration": 4,
    "start_time": "2025-05-22T17:38:08.030Z"
   },
   {
    "duration": 4550,
    "start_time": "2025-05-22T17:38:08.036Z"
   },
   {
    "duration": 2546,
    "start_time": "2025-05-22T17:38:12.587Z"
   },
   {
    "duration": 28,
    "start_time": "2025-05-22T17:38:15.135Z"
   },
   {
    "duration": 78,
    "start_time": "2025-05-22T17:38:15.166Z"
   },
   {
    "duration": 26,
    "start_time": "2025-05-22T17:38:15.246Z"
   },
   {
    "duration": 677,
    "start_time": "2025-05-22T17:38:15.274Z"
   },
   {
    "duration": 3,
    "start_time": "2025-05-22T17:39:25.175Z"
   },
   {
    "duration": 4275,
    "start_time": "2025-05-22T17:39:25.180Z"
   },
   {
    "duration": 8621,
    "start_time": "2025-05-22T17:39:29.457Z"
   },
   {
    "duration": 24,
    "start_time": "2025-05-22T17:39:38.080Z"
   },
   {
    "duration": 46,
    "start_time": "2025-05-22T17:39:38.107Z"
   },
   {
    "duration": 10,
    "start_time": "2025-05-22T17:39:38.155Z"
   },
   {
    "duration": 506,
    "start_time": "2025-05-22T17:39:38.167Z"
   },
   {
    "duration": 1070517,
    "start_time": "2025-05-22T17:39:38.675Z"
   },
   {
    "duration": 0,
    "start_time": "2025-05-22T17:57:29.194Z"
   },
   {
    "duration": 0,
    "start_time": "2025-05-22T17:57:29.196Z"
   },
   {
    "duration": 0,
    "start_time": "2025-05-22T17:57:29.197Z"
   },
   {
    "duration": 0,
    "start_time": "2025-05-22T17:57:29.199Z"
   },
   {
    "duration": 0,
    "start_time": "2025-05-22T17:57:29.200Z"
   },
   {
    "duration": 0,
    "start_time": "2025-05-22T17:57:29.202Z"
   },
   {
    "duration": 0,
    "start_time": "2025-05-22T17:57:29.204Z"
   },
   {
    "duration": 4,
    "start_time": "2025-05-22T17:57:48.126Z"
   },
   {
    "duration": 4292,
    "start_time": "2025-05-22T17:57:48.132Z"
   },
   {
    "duration": 2577,
    "start_time": "2025-05-22T17:57:52.426Z"
   },
   {
    "duration": 33,
    "start_time": "2025-05-22T17:57:55.006Z"
   },
   {
    "duration": 34,
    "start_time": "2025-05-22T17:57:55.042Z"
   },
   {
    "duration": 24,
    "start_time": "2025-05-22T17:57:55.078Z"
   },
   {
    "duration": 542,
    "start_time": "2025-05-22T17:57:55.104Z"
   },
   {
    "duration": 700004,
    "start_time": "2025-05-22T17:57:55.648Z"
   },
   {
    "duration": 3,
    "start_time": "2025-05-22T18:09:35.654Z"
   },
   {
    "duration": 18,
    "start_time": "2025-05-22T18:09:35.659Z"
   },
   {
    "duration": 8582,
    "start_time": "2025-05-22T18:09:35.678Z"
   },
   {
    "duration": 2,
    "start_time": "2025-05-22T18:09:44.262Z"
   },
   {
    "duration": 67,
    "start_time": "2025-05-22T18:09:44.266Z"
   },
   {
    "duration": 350,
    "start_time": "2025-05-22T18:09:44.335Z"
   },
   {
    "duration": 0,
    "start_time": "2025-05-22T18:09:44.686Z"
   },
   {
    "duration": 115,
    "start_time": "2025-05-22T18:10:44.151Z"
   },
   {
    "duration": 129341,
    "start_time": "2025-05-22T18:11:35.710Z"
   },
   {
    "duration": 129885,
    "start_time": "2025-05-22T18:14:21.822Z"
   },
   {
    "duration": 70475,
    "start_time": "2025-05-22T18:17:56.498Z"
   },
   {
    "duration": 29,
    "start_time": "2025-05-22T18:19:27.662Z"
   },
   {
    "duration": 228126,
    "start_time": "2025-05-22T18:19:34.631Z"
   },
   {
    "duration": 23,
    "start_time": "2025-05-22T18:31:17.799Z"
   },
   {
    "duration": 24590,
    "start_time": "2025-05-22T18:32:04.657Z"
   },
   {
    "duration": 29351,
    "start_time": "2025-05-22T18:32:57.502Z"
   },
   {
    "duration": 28311,
    "start_time": "2025-05-22T18:33:35.339Z"
   },
   {
    "duration": 9,
    "start_time": "2025-05-22T18:35:05.441Z"
   },
   {
    "duration": 4,
    "start_time": "2025-05-24T05:16:39.974Z"
   },
   {
    "duration": 4299,
    "start_time": "2025-05-24T05:16:39.980Z"
   },
   {
    "duration": 2442,
    "start_time": "2025-05-24T05:16:44.281Z"
   },
   {
    "duration": 2,
    "start_time": "2025-05-24T05:16:46.726Z"
   },
   {
    "duration": 50,
    "start_time": "2025-05-24T05:16:46.729Z"
   },
   {
    "duration": 10,
    "start_time": "2025-05-24T05:16:46.781Z"
   },
   {
    "duration": 535,
    "start_time": "2025-05-24T05:16:46.792Z"
   },
   {
    "duration": 2086349,
    "start_time": "2025-05-24T05:16:47.329Z"
   },
   {
    "duration": 2,
    "start_time": "2025-05-24T05:51:33.681Z"
   },
   {
    "duration": 6,
    "start_time": "2025-05-24T05:51:33.685Z"
   },
   {
    "duration": 27507,
    "start_time": "2025-05-24T05:51:33.692Z"
   },
   {
    "duration": 2,
    "start_time": "2025-05-24T05:52:01.201Z"
   },
   {
    "duration": 5,
    "start_time": "2025-05-24T05:52:01.205Z"
   },
   {
    "duration": 3525727,
    "start_time": "2025-05-24T05:52:01.212Z"
   },
   {
    "duration": 127133,
    "start_time": "2025-05-24T06:50:46.941Z"
   }
  ],
  "kernelspec": {
   "display_name": "Python 3 (ipykernel)",
   "language": "python",
   "name": "python3"
  },
  "language_info": {
   "codemirror_mode": {
    "name": "ipython",
    "version": 3
   },
   "file_extension": ".py",
   "mimetype": "text/x-python",
   "name": "python",
   "nbconvert_exporter": "python",
   "pygments_lexer": "ipython3",
   "version": "3.12.9"
  },
  "toc": {
   "base_numbering": 1,
   "nav_menu": {},
   "number_sections": true,
   "sideBar": true,
   "skip_h1_title": true,
   "title_cell": "Содержание",
   "title_sidebar": "Contents",
   "toc_cell": true,
   "toc_position": {
    "height": "calc(100% - 180px)",
    "left": "10px",
    "top": "150px",
    "width": "302.391px"
   },
   "toc_section_display": true,
   "toc_window_display": false
  }
 },
 "nbformat": 4,
 "nbformat_minor": 4
}
