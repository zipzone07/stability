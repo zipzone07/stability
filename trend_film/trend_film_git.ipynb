{
 "cells": [
  {
   "cell_type": "markdown",
   "id": "cfcecfae-fb0e-444a-9f68-fcd9905e700e",
   "metadata": {},
   "source": [
    "**Тренды российского кинопроката**"
   ]
  },
  {
   "cell_type": "markdown",
   "id": "bea65841-a3b8-4c0c-ad1a-b443566be472",
   "metadata": {},
   "source": [
    "# Цель иследования"
   ]
  },
  {
   "cell_type": "markdown",
   "id": "5bdc7cce-46e1-4b28-86b3-e6f54139c6dd",
   "metadata": {},
   "source": [
    "Выявить текущие тренды в данном аналитическом кейсе. Мы будем работать с данными, опубликованными на портале открытых данных Министерства культуры."
   ]
  },
  {
   "cell_type": "markdown",
   "id": "55d87a3e-f7a2-44e2-8d1f-4063296d290f",
   "metadata": {},
   "source": [
    "# Обзор данных"
   ]
  },
  {
   "cell_type": "markdown",
   "id": "79ca7c13-399c-4c8b-a133-41b1dde5f609",
   "metadata": {},
   "source": [
    "## Откроем файлы с данными и объединим их в один датафрейм"
   ]
  },
  {
   "cell_type": "markdown",
   "id": "5b008e59-ed70-47c1-bd3d-2cef59db0eb7",
   "metadata": {},
   "source": [
    "### Загрузим данные и библиотеки"
   ]
  },
  {
   "cell_type": "code",
   "execution_count": 1,
   "id": "12fcb0e3-892a-40af-8ac8-936424f38f17",
   "metadata": {},
   "outputs": [],
   "source": [
    "import pandas as pd\n",
    "import matplotlib.pyplot as plt\n",
    "import seaborn as sns\n",
    "\n",
    "# вывод всех столбцов и строк, независимо от их количества.\n",
    "pd.set_option('display.max_columns', None)\n",
    "\n",
    "# отключаем предупреждение\n",
    "pd.options.mode.chained_assignment = None"
   ]
  },
  {
   "cell_type": "code",
   "execution_count": 2,
   "id": "c48af254-c57d-470b-b55f-78e8586623de",
   "metadata": {},
   "outputs": [],
   "source": [
    "try:\n",
    "    mkrf_movies = pd.read_csv(\n",
    "        r'...\\mkrf_movies.csv',\n",
    "    )\n",
    "    mkrf_shows = pd.read_csv(\n",
    "        r'...\\mkrf_shows.csv'\n",
    "    )\n",
    "except:\n",
    "    mkrf_movies = pd.read_csv('.../mkrf_movies.csv')\n",
    "    mkrf_shows = pd.read_csv('.../mkrf_shows.csv')"
   ]
  },
  {
   "cell_type": "markdown",
   "id": "452bedd5-6922-401c-add6-101a621cb1cd",
   "metadata": {},
   "source": [
    "### Объединение данных"
   ]
  },
  {
   "cell_type": "code",
   "execution_count": 3,
   "id": "8b9370df-ef7c-4a4f-93a3-ac62b6b52286",
   "metadata": {},
   "outputs": [
    {
     "name": "stdout",
     "output_type": "stream",
     "text": [
      "    puNumber    box_office\n",
      "0  111000113  2.450000e+03\n",
      "1  111000115  6.104000e+04\n",
      "2  111000116  1.530300e+08\n",
      "3  111000117  1.226096e+07\n",
      "4  111000118  1.636841e+08\n"
     ]
    },
    {
     "data": {
      "text/html": [
       "<div>\n",
       "<style scoped>\n",
       "    .dataframe tbody tr th:only-of-type {\n",
       "        vertical-align: middle;\n",
       "    }\n",
       "\n",
       "    .dataframe tbody tr th {\n",
       "        vertical-align: top;\n",
       "    }\n",
       "\n",
       "    .dataframe thead th {\n",
       "        text-align: right;\n",
       "    }\n",
       "</style>\n",
       "<table border=\"1\" class=\"dataframe\">\n",
       "  <thead>\n",
       "    <tr style=\"text-align: right;\">\n",
       "      <th></th>\n",
       "      <th>title</th>\n",
       "      <th>puNumber</th>\n",
       "      <th>show_start_date</th>\n",
       "      <th>type</th>\n",
       "      <th>film_studio</th>\n",
       "      <th>production_country</th>\n",
       "      <th>director</th>\n",
       "      <th>producer</th>\n",
       "      <th>age_restriction</th>\n",
       "      <th>refundable_support</th>\n",
       "      <th>nonrefundable_support</th>\n",
       "      <th>budget</th>\n",
       "      <th>financing_source</th>\n",
       "      <th>ratings</th>\n",
       "      <th>genres</th>\n",
       "    </tr>\n",
       "  </thead>\n",
       "  <tbody>\n",
       "    <tr>\n",
       "      <th>0</th>\n",
       "      <td>Открытый простор</td>\n",
       "      <td>221048915</td>\n",
       "      <td>2015-11-27T12:00:00.000Z</td>\n",
       "      <td>Художественный</td>\n",
       "      <td>Тачстоун Пикчерз, Кобальт Пикчерз, Бикон Пикче...</td>\n",
       "      <td>США</td>\n",
       "      <td>Кевин Костнер</td>\n",
       "      <td>Дэвид Валдес, Кевин Костнер, Джейк Эбертс</td>\n",
       "      <td>«18+» - запрещено для детей</td>\n",
       "      <td>NaN</td>\n",
       "      <td>NaN</td>\n",
       "      <td>NaN</td>\n",
       "      <td>NaN</td>\n",
       "      <td>7.2</td>\n",
       "      <td>боевик,драма,мелодрама</td>\n",
       "    </tr>\n",
       "    <tr>\n",
       "      <th>1</th>\n",
       "      <td>Особо важное задание</td>\n",
       "      <td>111013716</td>\n",
       "      <td>2016-09-13T12:00:00.000Z</td>\n",
       "      <td>Художественный</td>\n",
       "      <td>Киностудия \"Мосфильм\"</td>\n",
       "      <td>СССР</td>\n",
       "      <td>Е.Матвеев</td>\n",
       "      <td>NaN</td>\n",
       "      <td>«6+» - для детей старше 6 лет</td>\n",
       "      <td>NaN</td>\n",
       "      <td>NaN</td>\n",
       "      <td>NaN</td>\n",
       "      <td>NaN</td>\n",
       "      <td>6.6</td>\n",
       "      <td>драма,военный</td>\n",
       "    </tr>\n",
       "    <tr>\n",
       "      <th>2</th>\n",
       "      <td>Особо опасен</td>\n",
       "      <td>221038416</td>\n",
       "      <td>2016-10-10T12:00:00.000Z</td>\n",
       "      <td>Художественный</td>\n",
       "      <td>Юниверсал Пикчерз, Кикстарт Продакшнз, Марк Пл...</td>\n",
       "      <td>США</td>\n",
       "      <td>Тимур Бекмамбетов</td>\n",
       "      <td>Джим Лемли, Джейсон Нетер, Марк Е.Платт, Яйн Смит</td>\n",
       "      <td>«18+» - запрещено для детей</td>\n",
       "      <td>NaN</td>\n",
       "      <td>NaN</td>\n",
       "      <td>NaN</td>\n",
       "      <td>NaN</td>\n",
       "      <td>6.8</td>\n",
       "      <td>фантастика,боевик,триллер</td>\n",
       "    </tr>\n",
       "    <tr>\n",
       "      <th>3</th>\n",
       "      <td>Особо опасен</td>\n",
       "      <td>221026916</td>\n",
       "      <td>2016-06-10T12:00:00.000Z</td>\n",
       "      <td>Художественный</td>\n",
       "      <td>Юниверсал Пикчерз, Кикстарт Продакшнз, Марк Пл...</td>\n",
       "      <td>США</td>\n",
       "      <td>Тимур Бекмамбетов</td>\n",
       "      <td>Джим Лемли, Джейсон Нетер, Марк Е.Платт, Яйн Смит</td>\n",
       "      <td>«18+» - запрещено для детей</td>\n",
       "      <td>NaN</td>\n",
       "      <td>NaN</td>\n",
       "      <td>NaN</td>\n",
       "      <td>NaN</td>\n",
       "      <td>6.8</td>\n",
       "      <td>фантастика,боевик,триллер</td>\n",
       "    </tr>\n",
       "    <tr>\n",
       "      <th>4</th>\n",
       "      <td>Особо опасен</td>\n",
       "      <td>221030815</td>\n",
       "      <td>2015-07-29T12:00:00.000Z</td>\n",
       "      <td>Художественный</td>\n",
       "      <td>Юниверсал Пикчерз, Кикстарт Продакшнз, Марк Пл...</td>\n",
       "      <td>США</td>\n",
       "      <td>Тимур Бекмамбетов</td>\n",
       "      <td>Джим Лемли, Джейсон Нетер, Марк Е.Платт, Яйн Смит</td>\n",
       "      <td>«18+» - запрещено для детей</td>\n",
       "      <td>NaN</td>\n",
       "      <td>NaN</td>\n",
       "      <td>NaN</td>\n",
       "      <td>NaN</td>\n",
       "      <td>6.8</td>\n",
       "      <td>фантастика,боевик,триллер</td>\n",
       "    </tr>\n",
       "  </tbody>\n",
       "</table>\n",
       "</div>"
      ],
      "text/plain": [
       "                  title   puNumber           show_start_date            type  \\\n",
       "0      Открытый простор  221048915  2015-11-27T12:00:00.000Z  Художественный   \n",
       "1  Особо важное задание  111013716  2016-09-13T12:00:00.000Z  Художественный   \n",
       "2          Особо опасен  221038416  2016-10-10T12:00:00.000Z  Художественный   \n",
       "3          Особо опасен  221026916  2016-06-10T12:00:00.000Z  Художественный   \n",
       "4          Особо опасен  221030815  2015-07-29T12:00:00.000Z  Художественный   \n",
       "\n",
       "                                         film_studio production_country  \\\n",
       "0  Тачстоун Пикчерз, Кобальт Пикчерз, Бикон Пикче...                США   \n",
       "1                              Киностудия \"Мосфильм\"               СССР   \n",
       "2  Юниверсал Пикчерз, Кикстарт Продакшнз, Марк Пл...                США   \n",
       "3  Юниверсал Пикчерз, Кикстарт Продакшнз, Марк Пл...                США   \n",
       "4  Юниверсал Пикчерз, Кикстарт Продакшнз, Марк Пл...                США   \n",
       "\n",
       "            director                                           producer  \\\n",
       "0      Кевин Костнер          Дэвид Валдес, Кевин Костнер, Джейк Эбертс   \n",
       "1          Е.Матвеев                                                NaN   \n",
       "2  Тимур Бекмамбетов  Джим Лемли, Джейсон Нетер, Марк Е.Платт, Яйн Смит   \n",
       "3  Тимур Бекмамбетов  Джим Лемли, Джейсон Нетер, Марк Е.Платт, Яйн Смит   \n",
       "4  Тимур Бекмамбетов  Джим Лемли, Джейсон Нетер, Марк Е.Платт, Яйн Смит   \n",
       "\n",
       "                 age_restriction  refundable_support  nonrefundable_support  \\\n",
       "0    «18+» - запрещено для детей                 NaN                    NaN   \n",
       "1  «6+» - для детей старше 6 лет                 NaN                    NaN   \n",
       "2    «18+» - запрещено для детей                 NaN                    NaN   \n",
       "3    «18+» - запрещено для детей                 NaN                    NaN   \n",
       "4    «18+» - запрещено для детей                 NaN                    NaN   \n",
       "\n",
       "   budget financing_source ratings                     genres  \n",
       "0     NaN              NaN     7.2     боевик,драма,мелодрама  \n",
       "1     NaN              NaN     6.6              драма,военный  \n",
       "2     NaN              NaN     6.8  фантастика,боевик,триллер  \n",
       "3     NaN              NaN     6.8  фантастика,боевик,триллер  \n",
       "4     NaN              NaN     6.8  фантастика,боевик,триллер  "
      ]
     },
     "execution_count": 3,
     "metadata": {},
     "output_type": "execute_result"
    }
   ],
   "source": [
    "# выведем датафреймы на экран\n",
    "print(mkrf_shows.head())\n",
    "mkrf_movies.head()"
   ]
  },
  {
   "cell_type": "code",
   "execution_count": 4,
   "id": "4f92ed83-982f-4b64-a109-13dba8b8a9a3",
   "metadata": {},
   "outputs": [
    {
     "name": "stdout",
     "output_type": "stream",
     "text": [
      "<class 'pandas.core.frame.DataFrame'>\n",
      "RangeIndex: 3158 entries, 0 to 3157\n",
      "Data columns (total 2 columns):\n",
      " #   Column      Non-Null Count  Dtype  \n",
      "---  ------      --------------  -----  \n",
      " 0   puNumber    3158 non-null   int64  \n",
      " 1   box_office  3158 non-null   float64\n",
      "dtypes: float64(1), int64(1)\n",
      "memory usage: 49.5 KB\n",
      "None\n",
      "<class 'pandas.core.frame.DataFrame'>\n",
      "RangeIndex: 7486 entries, 0 to 7485\n",
      "Data columns (total 15 columns):\n",
      " #   Column                 Non-Null Count  Dtype  \n",
      "---  ------                 --------------  -----  \n",
      " 0   title                  7486 non-null   object \n",
      " 1   puNumber               7486 non-null   object \n",
      " 2   show_start_date        7486 non-null   object \n",
      " 3   type                   7486 non-null   object \n",
      " 4   film_studio            7468 non-null   object \n",
      " 5   production_country     7484 non-null   object \n",
      " 6   director               7477 non-null   object \n",
      " 7   producer               6918 non-null   object \n",
      " 8   age_restriction        7486 non-null   object \n",
      " 9   refundable_support     332 non-null    float64\n",
      " 10  nonrefundable_support  332 non-null    float64\n",
      " 11  budget                 332 non-null    float64\n",
      " 12  financing_source       332 non-null    object \n",
      " 13  ratings                6519 non-null   object \n",
      " 14  genres                 6510 non-null   object \n",
      "dtypes: float64(3), object(12)\n",
      "memory usage: 877.4+ KB\n"
     ]
    }
   ],
   "source": [
    "# выведем общую информацию\n",
    "print(mkrf_shows.info())\n",
    "mkrf_movies.info()"
   ]
  },
  {
   "cell_type": "markdown",
   "id": "970117c6-c63c-4b2c-9edb-954468d9b3d3",
   "metadata": {},
   "source": [
    "У датафреймов есть общий столбец *puNumber*, но разный формат данных. Для успешного объединения таблиц необходимо привести формат к одному типу `float64`. Также перед форматированием исключим пропуски."
   ]
  },
  {
   "cell_type": "code",
   "execution_count": 5,
   "id": "79949668-cb57-4dfc-9cdb-841fed9e1916",
   "metadata": {},
   "outputs": [],
   "source": [
    "# фильтрайия и форматирование\n",
    "data = mkrf_movies.loc[mkrf_movies.loc[:, 'puNumber'] != 'нет']\n",
    "data.puNumber = data.puNumber.astype('float64')"
   ]
  },
  {
   "cell_type": "markdown",
   "id": "5cd2041a-528f-4546-9aef-4573913fe9b0",
   "metadata": {},
   "source": [
    "Объединим данные таким образом, чтобы все объекты из датасета mkrf_movies обязательно вошли в получившийся датафрейм. \n",
    "Исмользуем метод `merge()`, который объеденит данные по столбцу *puNumber* из внешней общей области — такие, которые есть хотя бы в одном из датафреймов."
   ]
  },
  {
   "cell_type": "code",
   "execution_count": 6,
   "id": "ce3c1281-a317-400a-a763-a5f039bc6d90",
   "metadata": {},
   "outputs": [],
   "source": [
    "# объединим данные\n",
    "data = data.merge(mkrf_shows, on='puNumber', how='outer')"
   ]
  },
  {
   "cell_type": "markdown",
   "id": "feb1fde9-3e3a-4ace-9fee-73dab2986e49",
   "metadata": {},
   "source": [
    "### Изучим общую информацию о датафрейме"
   ]
  },
  {
   "cell_type": "code",
   "execution_count": 7,
   "id": "15540348-8469-4bb2-be15-55877259b35e",
   "metadata": {},
   "outputs": [
    {
     "name": "stdout",
     "output_type": "stream",
     "text": [
      "<class 'pandas.core.frame.DataFrame'>\n",
      "RangeIndex: 7485 entries, 0 to 7484\n",
      "Data columns (total 16 columns):\n",
      " #   Column                 Non-Null Count  Dtype  \n",
      "---  ------                 --------------  -----  \n",
      " 0   title                  7485 non-null   object \n",
      " 1   puNumber               7485 non-null   float64\n",
      " 2   show_start_date        7485 non-null   object \n",
      " 3   type                   7485 non-null   object \n",
      " 4   film_studio            7467 non-null   object \n",
      " 5   production_country     7483 non-null   object \n",
      " 6   director               7476 non-null   object \n",
      " 7   producer               6917 non-null   object \n",
      " 8   age_restriction        7485 non-null   object \n",
      " 9   refundable_support     332 non-null    float64\n",
      " 10  nonrefundable_support  332 non-null    float64\n",
      " 11  budget                 332 non-null    float64\n",
      " 12  financing_source       332 non-null    object \n",
      " 13  ratings                6519 non-null   object \n",
      " 14  genres                 6510 non-null   object \n",
      " 15  box_office             3158 non-null   float64\n",
      "dtypes: float64(5), object(11)\n",
      "memory usage: 935.8+ KB\n"
     ]
    }
   ],
   "source": [
    "# сохраним количество сырых данных\n",
    "data_len_stock = len(data)\n",
    "data.info()"
   ]
  },
  {
   "cell_type": "markdown",
   "id": "8e825b02-38a9-455d-ac58-fc92900a55ba",
   "metadata": {},
   "source": [
    "В представленной таблице есть колонки, которые имеют следующее значение: \n",
    "\n",
    "- title — название фильма;\n",
    "- puNumber — номер прокатного удостоверения;\n",
    "- show_start_date — дата премьеры фильма;\n",
    "- type — тип фильма;\n",
    "- film_studio — студия-производитель;\n",
    "- production_country — страна-производитель;\n",
    "- director — режиссёр;\n",
    "- producer — продюсер;\n",
    "- age_restriction — возрастная категория;\n",
    "- refundable_support — объём возвратных средств государственной поддержки;\n",
    "- nonrefundable_support — объём невозвратных средств государственной поддержки;\n",
    "- financing_source — источник государственного финансирования;\n",
    "- budget — общий бюджет фильма, включает в себя полный объём государственной поддержки. Данные в этом столбце указаны только для тех   фильмов,\n",
    "- которые получили государственную поддержку;\n",
    "- ratings — рейтинг фильм на КиноПоиске;\n",
    "- genres — жанр фильма;\n",
    "- box_office — сборы в рублях."
   ]
  },
  {
   "cell_type": "code",
   "execution_count": 8,
   "id": "7e1ce03d-4967-46c0-a00a-eff80df521c3",
   "metadata": {},
   "outputs": [
    {
     "data": {
      "text/html": [
       "<div>\n",
       "<style scoped>\n",
       "    .dataframe tbody tr th:only-of-type {\n",
       "        vertical-align: middle;\n",
       "    }\n",
       "\n",
       "    .dataframe tbody tr th {\n",
       "        vertical-align: top;\n",
       "    }\n",
       "\n",
       "    .dataframe thead th {\n",
       "        text-align: right;\n",
       "    }\n",
       "</style>\n",
       "<table border=\"1\" class=\"dataframe\">\n",
       "  <thead>\n",
       "    <tr style=\"text-align: right;\">\n",
       "      <th></th>\n",
       "      <th>title</th>\n",
       "      <th>puNumber</th>\n",
       "      <th>show_start_date</th>\n",
       "      <th>type</th>\n",
       "      <th>film_studio</th>\n",
       "      <th>production_country</th>\n",
       "      <th>director</th>\n",
       "      <th>producer</th>\n",
       "      <th>age_restriction</th>\n",
       "      <th>refundable_support</th>\n",
       "      <th>nonrefundable_support</th>\n",
       "      <th>budget</th>\n",
       "      <th>financing_source</th>\n",
       "      <th>ratings</th>\n",
       "      <th>genres</th>\n",
       "      <th>box_office</th>\n",
       "    </tr>\n",
       "  </thead>\n",
       "  <tbody>\n",
       "    <tr>\n",
       "      <th>0</th>\n",
       "      <td>1001 рецепт влюбленного кулинара</td>\n",
       "      <td>1811096.0</td>\n",
       "      <td>2010-12-23T12:00:00.000Z</td>\n",
       "      <td>Художественный</td>\n",
       "      <td>Ле Фильм дю Риваж, Ля Сет Синема, Адам и Ева, ...</td>\n",
       "      <td>Франция-Грузия-Германия-Россия-Украина-Бельгия</td>\n",
       "      <td>Н.Джорджадзе</td>\n",
       "      <td>NaN</td>\n",
       "      <td>«0+» - для любой зрительской аудитории</td>\n",
       "      <td>NaN</td>\n",
       "      <td>NaN</td>\n",
       "      <td>NaN</td>\n",
       "      <td>NaN</td>\n",
       "      <td>6.7</td>\n",
       "      <td>мелодрама,комедия</td>\n",
       "      <td>NaN</td>\n",
       "    </tr>\n",
       "    <tr>\n",
       "      <th>1</th>\n",
       "      <td>Небесный тихоход (новая цветная версия)</td>\n",
       "      <td>111000110.0</td>\n",
       "      <td>2010-01-14T12:00:00.000Z</td>\n",
       "      <td>Художественный</td>\n",
       "      <td>Киностудия \"Ленфильм\", ЗАО \"Киновидеообъединен...</td>\n",
       "      <td>СССР, Россия</td>\n",
       "      <td>И.Цветов (режиссер ч/б фильма - С.Тимошенко)</td>\n",
       "      <td>ЗАО \"Киновидеообъединение \"Крупный план\"</td>\n",
       "      <td>«0+» - для любой зрительской аудитории</td>\n",
       "      <td>NaN</td>\n",
       "      <td>NaN</td>\n",
       "      <td>NaN</td>\n",
       "      <td>NaN</td>\n",
       "      <td>8.0</td>\n",
       "      <td>комедия,военный</td>\n",
       "      <td>NaN</td>\n",
       "    </tr>\n",
       "    <tr>\n",
       "      <th>2</th>\n",
       "      <td>И не было лучше брата</td>\n",
       "      <td>111000111.0</td>\n",
       "      <td>2011-01-13T12:00:00.000Z</td>\n",
       "      <td>Художественный</td>\n",
       "      <td>ООО \"Ибрус\"  при поддержке Киностудии \"Азербай...</td>\n",
       "      <td>Россия - Азербайджан</td>\n",
       "      <td>М.Ибрагимбеков</td>\n",
       "      <td>М.Ибрагимбеков, А.Швыдкой, Д.Шуфутинский</td>\n",
       "      <td>«16+» - для детей старше 16 лет</td>\n",
       "      <td>NaN</td>\n",
       "      <td>NaN</td>\n",
       "      <td>NaN</td>\n",
       "      <td>NaN</td>\n",
       "      <td>6.7</td>\n",
       "      <td>детектив</td>\n",
       "      <td>NaN</td>\n",
       "    </tr>\n",
       "    <tr>\n",
       "      <th>3</th>\n",
       "      <td>Детский юмористический киножурнал \"Ералаш\", вы...</td>\n",
       "      <td>111000112.0</td>\n",
       "      <td>2012-01-16T12:00:00.000Z</td>\n",
       "      <td>Художественный</td>\n",
       "      <td>ООО \"Ералаш\"</td>\n",
       "      <td>Россия</td>\n",
       "      <td>В.Панжев, Г.Курлаев, И.Белостоцкий, М.Сулейман...</td>\n",
       "      <td>ООО \"Ералаш\"</td>\n",
       "      <td>«0+» - для любой зрительской аудитории</td>\n",
       "      <td>NaN</td>\n",
       "      <td>NaN</td>\n",
       "      <td>NaN</td>\n",
       "      <td>NaN</td>\n",
       "      <td>7.2</td>\n",
       "      <td>детский,комедия</td>\n",
       "      <td>NaN</td>\n",
       "    </tr>\n",
       "    <tr>\n",
       "      <th>4</th>\n",
       "      <td>Тайна перевала Дятлова</td>\n",
       "      <td>111000113.0</td>\n",
       "      <td>2013-01-17T12:00:00.000Z</td>\n",
       "      <td>Художественный</td>\n",
       "      <td>ООО \"Нон-Стоп Продакшн\"</td>\n",
       "      <td>Россия</td>\n",
       "      <td>Ренни Харлин</td>\n",
       "      <td>А.Роднянский, С.Мелькумов, С.Беспалов, Киа Джэм</td>\n",
       "      <td>«16+» - для детей старше 16 лет</td>\n",
       "      <td>NaN</td>\n",
       "      <td>NaN</td>\n",
       "      <td>NaN</td>\n",
       "      <td>NaN</td>\n",
       "      <td>5.1</td>\n",
       "      <td>ужасы,фантастика</td>\n",
       "      <td>2450.0</td>\n",
       "    </tr>\n",
       "  </tbody>\n",
       "</table>\n",
       "</div>"
      ],
      "text/plain": [
       "                                               title     puNumber  \\\n",
       "0                   1001 рецепт влюбленного кулинара    1811096.0   \n",
       "1            Небесный тихоход (новая цветная версия)  111000110.0   \n",
       "2                              И не было лучше брата  111000111.0   \n",
       "3  Детский юмористический киножурнал \"Ералаш\", вы...  111000112.0   \n",
       "4                             Тайна перевала Дятлова  111000113.0   \n",
       "\n",
       "            show_start_date            type  \\\n",
       "0  2010-12-23T12:00:00.000Z  Художественный   \n",
       "1  2010-01-14T12:00:00.000Z  Художественный   \n",
       "2  2011-01-13T12:00:00.000Z  Художественный   \n",
       "3  2012-01-16T12:00:00.000Z  Художественный   \n",
       "4  2013-01-17T12:00:00.000Z  Художественный   \n",
       "\n",
       "                                         film_studio  \\\n",
       "0  Ле Фильм дю Риваж, Ля Сет Синема, Адам и Ева, ...   \n",
       "1  Киностудия \"Ленфильм\", ЗАО \"Киновидеообъединен...   \n",
       "2  ООО \"Ибрус\"  при поддержке Киностудии \"Азербай...   \n",
       "3                                       ООО \"Ералаш\"   \n",
       "4                            ООО \"Нон-Стоп Продакшн\"   \n",
       "\n",
       "                               production_country  \\\n",
       "0  Франция-Грузия-Германия-Россия-Украина-Бельгия   \n",
       "1                                    СССР, Россия   \n",
       "2                            Россия - Азербайджан   \n",
       "3                                          Россия   \n",
       "4                                          Россия   \n",
       "\n",
       "                                            director  \\\n",
       "0                                       Н.Джорджадзе   \n",
       "1       И.Цветов (режиссер ч/б фильма - С.Тимошенко)   \n",
       "2                                     М.Ибрагимбеков   \n",
       "3  В.Панжев, Г.Курлаев, И.Белостоцкий, М.Сулейман...   \n",
       "4                                       Ренни Харлин   \n",
       "\n",
       "                                          producer  \\\n",
       "0                                              NaN   \n",
       "1         ЗАО \"Киновидеообъединение \"Крупный план\"   \n",
       "2         М.Ибрагимбеков, А.Швыдкой, Д.Шуфутинский   \n",
       "3                                     ООО \"Ералаш\"   \n",
       "4  А.Роднянский, С.Мелькумов, С.Беспалов, Киа Джэм   \n",
       "\n",
       "                          age_restriction  refundable_support  \\\n",
       "0  «0+» - для любой зрительской аудитории                 NaN   \n",
       "1  «0+» - для любой зрительской аудитории                 NaN   \n",
       "2         «16+» - для детей старше 16 лет                 NaN   \n",
       "3  «0+» - для любой зрительской аудитории                 NaN   \n",
       "4         «16+» - для детей старше 16 лет                 NaN   \n",
       "\n",
       "   nonrefundable_support  budget financing_source ratings             genres  \\\n",
       "0                    NaN     NaN              NaN     6.7  мелодрама,комедия   \n",
       "1                    NaN     NaN              NaN     8.0    комедия,военный   \n",
       "2                    NaN     NaN              NaN     6.7           детектив   \n",
       "3                    NaN     NaN              NaN     7.2    детский,комедия   \n",
       "4                    NaN     NaN              NaN     5.1   ужасы,фантастика   \n",
       "\n",
       "   box_office  \n",
       "0         NaN  \n",
       "1         NaN  \n",
       "2         NaN  \n",
       "3         NaN  \n",
       "4      2450.0  "
      ]
     },
     "execution_count": 8,
     "metadata": {},
     "output_type": "execute_result"
    }
   ],
   "source": [
    "# выведем датафрейм на экран\n",
    "data.head()"
   ]
  },
  {
   "cell_type": "markdown",
   "id": "8e9574e1-0148-4a0e-94cd-0799096f297c",
   "metadata": {},
   "source": [
    "Все объекты датасета mkrf_movies вошли в объединенный датафрейм data."
   ]
  },
  {
   "cell_type": "code",
   "execution_count": 9,
   "id": "a4268c2f-ae63-4b93-ab55-21489bf8e960",
   "metadata": {},
   "outputs": [
    {
     "data": {
      "image/png": "[encoded data removed]",
      "text/plain": [
       "<Figure size 300x300 with 1 Axes>"
      ]
     },
     "metadata": {},
     "output_type": "display_data"
    },
    {
     "data": {
      "image/png": "[encoded data removed]",
      "text/plain": [
       "<Figure size 300x300 with 1 Axes>"
      ]
     },
     "metadata": {},
     "output_type": "display_data"
    },
    {
     "data": {
      "image/png": "[encoded data removed]",
      "text/plain": [
       "<Figure size 300x300 with 1 Axes>"
      ]
     },
     "metadata": {},
     "output_type": "display_data"
    },
    {
     "data": {
      "image/png": "[encoded data removed]",
      "text/plain": [
       "<Figure size 300x300 with 1 Axes>"
      ]
     },
     "metadata": {},
     "output_type": "display_data"
    }
   ],
   "source": [
    "# построим гистограммы всех числовых значений\n",
    "data.refundable_support.hist(figsize=(3, 3))\n",
    "plt.title('Объём возвратных средств гос поддержки')\n",
    "plt.xlabel('Объём средств')\n",
    "plt.ylabel('Количество фильмов')\n",
    "plt.show()\n",
    "\n",
    "data.nonrefundable_support.hist(figsize=(3, 3))\n",
    "plt.title('Объём не возвратных средств гос поддержки')\n",
    "plt.xlabel('Объём средств')\n",
    "plt.ylabel('Количество фильмов')\n",
    "plt.show()\n",
    "\n",
    "data.budget.hist(figsize=(3, 3))\n",
    "plt.title('Общий бюджет фильма')\n",
    "plt.xlabel('Объём средств фильмов')\n",
    "plt.ylabel('Количество')\n",
    "plt.show()\n",
    "\n",
    "data.box_office.hist(figsize=(3, 3))\n",
    "plt.title('Сборы в рублях')\n",
    "plt.xlabel('Объём средств')\n",
    "plt.ylabel('Количество фильмов')\n",
    "plt.show()"
   ]
  },
  {
   "cell_type": "markdown",
   "id": "bb783bbd-1e0e-4472-afc4-005095be901c",
   "metadata": {},
   "source": [
    "После изучения общей информации о данных ясно следующее:\n",
    "\n",
    "- в колонках *puNumber* значения представленны в формате `float64`, а должны быть в виде целого числа;\n",
    "- в колоке *ratings* значения представленны в формате `object`, а должны быть в виде десятичного числа;\n",
    "- в колонке *show_start_date* данные о дате представлены в виде `object`, а должны быть в формате даты;\n",
    "- название столбцов *puNumber* нужно привести к змеиному регистру и к строчному написанию букв;\n",
    "- колонку *genres* нужно привести к формату `str`;\n",
    "- все объекты датасета `mkrf_movies` вошли в объединенный датафрейм `data`."
   ]
  },
  {
   "cell_type": "markdown",
   "id": "4105f333-a34e-403c-8650-05808cf2ed15",
   "metadata": {},
   "source": [
    "# Предобработка данных"
   ]
  },
  {
   "cell_type": "markdown",
   "id": "3417ebb1-60e2-4a42-9315-4f455ff3987a",
   "metadata": {},
   "source": [
    "Подготовка данных для анализа называется предобработкой. Нужно оценить масштаб найденных проблем и \n",
    "устранить их. Предобработка следует принципу GIGO (от англ. garbage in — garbage out, буквально «мусор на входе — мусор на выходе»). Это значит, что при ошибках во входных данных даже правильный алгоритм работы приведёт к неверным результатам. Так же нужно помнить об законе экономии, который называется **Бри́тва О́ккама**. В нем говорится следующее: *Не следует множить сущее без необходимости.* Суть принципа: совершенство должно быть простым. Если какого-то результата можно достичь с привлечением сущностей A, B и C либо другим путём с привлечением A, B, С и D — надо выбирать первый путь. В плане программирования это значит, что не следут создавать промежуточные переменные, которые не пригодяться в дальнейшем."
   ]
  },
  {
   "cell_type": "markdown",
   "id": "84326df0-fe46-4b75-8bc9-777840f8cda7",
   "metadata": {},
   "source": [
    "## Рассмотрим типы данных в каждом столбце"
   ]
  },
  {
   "cell_type": "markdown",
   "id": "ac86b2ec-4786-43b0-a5a1-63bfdf6fe1fc",
   "metadata": {},
   "source": [
    "Для комфортной работы с данными на этапе предобработки необходимо отформатировать данные в нужный нам тип."
   ]
  },
  {
   "cell_type": "markdown",
   "id": "e83242e2-d145-47fc-8df1-6c8572a5231f",
   "metadata": {},
   "source": [
    "### Найдем столбцы, в которых нужно изменить тип данных"
   ]
  },
  {
   "cell_type": "markdown",
   "id": "5196d941-c33e-47cf-ae91-d01b3d796026",
   "metadata": {},
   "source": [
    "Выяснили, в каких колонках есть проблемы с форматом данных. Это столбцы: \n",
    "\n",
    "- в колонке *puNumber* значения представленны в формате `float64`, а должны быть в виде целого числа;\n",
    "- в колоке *ratings* значения представленны в формате `object`, а должны быть в виде десятичного числа;\n",
    "- в колонке *show_start_date* данные о дате представлены в виде `object`, а должны быть в формате даты;\n",
    "- название столбца *puNumber* нужно привести к змеиному регистру и к строчному написанию букв;\n",
    "- колонку *genres* нужно привести к формату `str`.\n",
    "  \n",
    "При изменении формата данных используем числа 32 бит, для экономии памяти и быстродействия."
   ]
  },
  {
   "cell_type": "code",
   "execution_count": 10,
   "id": "ad31079a-50eb-44a1-91cf-18b14a2386ec",
   "metadata": {},
   "outputs": [],
   "source": [
    "# изменим формат в колонке puNumber\n",
    "data.puNumber = data.puNumber.astype('int32')"
   ]
  },
  {
   "cell_type": "markdown",
   "id": "c9bb8f40-456d-4c2d-93db-fdb03f0a0ae4",
   "metadata": {},
   "source": [
    "Изменим формат в колонке *ratings*. Для начала иизучим уникальные значения в столбце."
   ]
  },
  {
   "cell_type": "code",
   "execution_count": 11,
   "id": "18319889-c472-42f3-9f48-d9c6e758a035",
   "metadata": {},
   "outputs": [
    {
     "data": {
      "text/plain": [
       "array(['6.7', '8.0', '7.2', '5.1', '6.1', '5.8', '3.2', '5.3', '6.6',\n",
       "       '7.3', '3.0', '7.5', '5.4', nan, '5.0', '4.0', '5.9', '4.7', '6.9',\n",
       "       '6.0', '7.1', '4.5', '4.3', '3.3', '6.8', '5.7', '4.9', '2.8',\n",
       "       '3.9', '6.2', '6.4', '7.6', '1.9', '6.5', '7.0', '4.8', '99%',\n",
       "       '4.2', '5.2', '3.8', '3.1', '6.3', '1.5', '4.4', '7.7', '5.6',\n",
       "       '8.2', '7.4', '3.7', '2.6', '5.5', '7.8', '4.1', '91%', '2.9',\n",
       "       '8.1', '3.4', '4.6', '7.9', '8.5', '98%', '3.5', '94%', '1.4',\n",
       "       '8.4', '8.8', '79%', '1.7', '3.6', '2.7', '2.4', '2.5', '8.3',\n",
       "       '83%', '1.2', '8.7', '1.6', '1.1', '62%', '9.2', '1.0', '89%',\n",
       "       '90%', '2.1', '8.6', '1.3', '28%', '97%', '9.0', '64%', '88%',\n",
       "       '8.9', '9.1', '19%', '1.8'], dtype=object)"
      ]
     },
     "execution_count": 11,
     "metadata": {},
     "output_type": "execute_result"
    }
   ],
   "source": [
    "data.ratings.unique()"
   ]
  },
  {
   "cell_type": "markdown",
   "id": "92f6368c-927a-4741-8da2-76f4e3965a5d",
   "metadata": {},
   "source": [
    "Присутствуют строковые значения с знаком процентов. Перед форматированием нужно убрать этот знак"
   ]
  },
  {
   "cell_type": "code",
   "execution_count": 12,
   "id": "6206e806-04da-467d-9b1f-366b45cfac68",
   "metadata": {},
   "outputs": [],
   "source": [
    "# замена методом replace() с словарем\n",
    "data['ratings'] = data['ratings'].replace(\n",
    "    {'94%': 9.4, '79%': 7.9, '83%': 8.3, '62%': 6.2, \n",
    "     '99%': 9.9, '98%': 9.8, '88%': 8.8, '64%': 6.4,\n",
    "     '91%': 9.1, '28%': 2.8, '19%': 1.9, '89%': 8.9, \n",
    "     '97%': 9.7, '90%': 9.0}\n",
    ")\n",
    "\n",
    "# изменим формат в колонке ratings\n",
    "data.ratings = data.ratings.astype('float32')"
   ]
  },
  {
   "cell_type": "code",
   "execution_count": 13,
   "id": "2833bade-719e-4304-9c01-d079bcaedbec",
   "metadata": {},
   "outputs": [],
   "source": [
    "# изменим формат в колонке show_start_date\n",
    "data.show_start_date = pd.to_datetime(data.show_start_date)\n",
    "\n",
    "# название столбца puNumber к змеиному регистру и строчному написанию\n",
    "data = data.rename(columns={'puNumber': 'pu_number'})\n",
    "\n",
    "# колонка genres к формату str\n",
    "data.genres = data.genres.astype(str)"
   ]
  },
  {
   "cell_type": "markdown",
   "id": "94c52dd7-1f7e-4261-804b-c786e547582c",
   "metadata": {},
   "source": [
    "### Найдём и изучим пропущенные значения в столбцах"
   ]
  },
  {
   "cell_type": "code",
   "execution_count": 14,
   "id": "73f32d9f",
   "metadata": {},
   "outputs": [
    {
     "data": {
      "text/plain": [
       "7485"
      ]
     },
     "execution_count": 14,
     "metadata": {},
     "output_type": "execute_result"
    }
   ],
   "source": [
    "# Комментарий ревьюера\n",
    "temp = data.copy() # создаем копию датасета до преобразования\n",
    "len(temp)"
   ]
  },
  {
   "cell_type": "markdown",
   "id": "691f59fa-e3a7-4826-a068-c221541254ce",
   "metadata": {},
   "source": [
    "Выведем количество пропущенных значений для каждого столбца, комбинируя 2 метода."
   ]
  },
  {
   "cell_type": "code",
   "execution_count": 15,
   "id": "39e5865a-0e18-4a8e-962c-6533a65e2cb1",
   "metadata": {},
   "outputs": [
    {
     "data": {
      "text/plain": [
       "title                       0\n",
       "pu_number                   0\n",
       "show_start_date             0\n",
       "type                        0\n",
       "film_studio                18\n",
       "production_country          2\n",
       "director                    9\n",
       "producer                  568\n",
       "age_restriction             0\n",
       "refundable_support       7153\n",
       "nonrefundable_support    7153\n",
       "budget                   7153\n",
       "financing_source         7153\n",
       "ratings                   966\n",
       "genres                      0\n",
       "box_office               4327\n",
       "dtype: int64"
      ]
     },
     "execution_count": 15,
     "metadata": {},
     "output_type": "execute_result"
    }
   ],
   "source": [
    "data.isna().sum()"
   ]
  },
  {
   "cell_type": "code",
   "execution_count": 16,
   "id": "000a3f69-5c69-4e3c-b88e-920781b25a06",
   "metadata": {},
   "outputs": [],
   "source": [
    "# пропуски визуализация\n",
    "def pass_value_barh(dfg):\n",
    "    (\n",
    "        (dfg.isna().mean()*100)\n",
    "        .to_frame()\n",
    "        .rename(columns = {0:'space'})\n",
    "        .query('space > 0')\n",
    "        .sort_values(by = 'space', ascending = True)\n",
    "        .plot(kind = 'barh', figsize = (19,6), rot = 0, legend = False, fontsize = 16)    \n",
    "    )\n",
    "    plt.title('Пропущенные значения, %' + \"\\n\", fontsize=22, color='SteelBlue')\n",
    "    plt.xlabel('Процент пропусков', fontsize=22)\n",
    "    plt.ylabel('Столбцы с пропусками')\n",
    "    plt.xlim(0, 100)"
   ]
  },
  {
   "cell_type": "code",
   "execution_count": 17,
   "id": "48a712ca-b147-4fd8-a232-3d3e736f7aa3",
   "metadata": {},
   "outputs": [
    {
     "data": {
      "image/png": "[encoded data removed]",
      "text/plain": [
       "<Figure size 1900x600 with 1 Axes>"
      ]
     },
     "metadata": {},
     "output_type": "display_data"
    }
   ],
   "source": [
    "pass_value_barh(data)"
   ]
  },
  {
   "cell_type": "markdown",
   "id": "44dfb0d9-da25-448f-98a9-6779e65d5fdc",
   "metadata": {},
   "source": [
    "### Заполним пропущенные значения там, где это возможно"
   ]
  },
  {
   "cell_type": "markdown",
   "id": "a5e1aed5-ab76-4bf8-9051-a4d89326ca3f",
   "metadata": {},
   "source": [
    "Исправим столбецы *film_studio, production_country, director*. Количество пропусков в них 29, \n",
    "всего 0,3% от общего количесва объявлений, поэтому удалим строки из данных."
   ]
  },
  {
   "cell_type": "code",
   "execution_count": 18,
   "id": "5387ba43-dbed-49db-a5dd-247788a40420",
   "metadata": {},
   "outputs": [],
   "source": [
    "data = data.dropna(subset=['film_studio', 'production_country', 'director'])"
   ]
  },
  {
   "cell_type": "markdown",
   "id": "00dd6923-55a3-4267-9e64-ab8b610cb848",
   "metadata": {},
   "source": [
    "Исправим столбец *producer*. Количество пропусков в нем 568, всего 7% от общего количесва объявлений. \n",
    "Определить продюссера довольно сложно, поэтому заполним пропуски записью *unknow*, чтобы сохранить данные."
   ]
  },
  {
   "cell_type": "code",
   "execution_count": 19,
   "id": "7f42fc9a-bc1a-49bd-ab1e-6469e3d4fc81",
   "metadata": {},
   "outputs": [],
   "source": [
    "data.producer = data.producer.fillna('unknow')"
   ]
  },
  {
   "cell_type": "markdown",
   "id": "ab5bc9ed-06ac-4edf-bdf4-6f448bf23a45",
   "metadata": {},
   "source": [
    "В столбцах *refundable_support, nonrefundable_support, budget, financing_source* большое количество пропусков и оно одинаково. На цели исследования это не повлияет, поэтому оствим пропуски. В столбцах *ratings, box_office, genres* есть пропуски, физически заменить такие пропуски очень сложно. Оставим как есть."
   ]
  },
  {
   "cell_type": "markdown",
   "id": "36938780-3c25-4550-9a0e-630a763932cf",
   "metadata": {},
   "source": [
    "### Проверим дупликаты"
   ]
  },
  {
   "cell_type": "markdown",
   "id": "fe7e5711-9753-4b01-a9db-7910ef49aec2",
   "metadata": {},
   "source": [
    "Проверим, есть ли в данных дубликаты. Опишем причины, которые могли повлиять на появление дублей."
   ]
  },
  {
   "cell_type": "code",
   "execution_count": 20,
   "id": "2c3be2ab",
   "metadata": {},
   "outputs": [
    {
     "data": {
      "text/html": [
       "<div>\n",
       "<style scoped>\n",
       "    .dataframe tbody tr th:only-of-type {\n",
       "        vertical-align: middle;\n",
       "    }\n",
       "\n",
       "    .dataframe tbody tr th {\n",
       "        vertical-align: top;\n",
       "    }\n",
       "\n",
       "    .dataframe thead th {\n",
       "        text-align: right;\n",
       "    }\n",
       "</style>\n",
       "<table border=\"1\" class=\"dataframe\">\n",
       "  <thead>\n",
       "    <tr style=\"text-align: right;\">\n",
       "      <th></th>\n",
       "      <th>title</th>\n",
       "      <th>pu_number</th>\n",
       "      <th>show_start_date</th>\n",
       "      <th>type</th>\n",
       "      <th>film_studio</th>\n",
       "      <th>production_country</th>\n",
       "      <th>director</th>\n",
       "      <th>producer</th>\n",
       "      <th>age_restriction</th>\n",
       "      <th>refundable_support</th>\n",
       "      <th>nonrefundable_support</th>\n",
       "      <th>budget</th>\n",
       "      <th>financing_source</th>\n",
       "      <th>ratings</th>\n",
       "      <th>genres</th>\n",
       "      <th>box_office</th>\n",
       "    </tr>\n",
       "  </thead>\n",
       "  <tbody>\n",
       "    <tr>\n",
       "      <th>6888</th>\n",
       "      <td>Анализируй это!</td>\n",
       "      <td>221054410</td>\n",
       "      <td>2010-05-25 12:00:00+00:00</td>\n",
       "      <td>Художественный</td>\n",
       "      <td>Уорнер Бразерс, Вилладж Роудшоу Филмз ЛТД</td>\n",
       "      <td>США-Австралия</td>\n",
       "      <td>ХЭрольд Рэмис</td>\n",
       "      <td>Джейн Розенталь, Пола Уейнстейн</td>\n",
       "      <td>«16+» - для детей старше 16 лет</td>\n",
       "      <td>NaN</td>\n",
       "      <td>NaN</td>\n",
       "      <td>NaN</td>\n",
       "      <td>NaN</td>\n",
       "      <td>7.4</td>\n",
       "      <td>комедия,криминал</td>\n",
       "      <td>NaN</td>\n",
       "    </tr>\n",
       "    <tr>\n",
       "      <th>6889</th>\n",
       "      <td>Анализируй то!</td>\n",
       "      <td>221054410</td>\n",
       "      <td>2010-05-25 12:00:00+00:00</td>\n",
       "      <td>Художественный</td>\n",
       "      <td>Уорнер Бразерс, Виллидж Роадшоу Пикчерз, Эн-Пи...</td>\n",
       "      <td>США</td>\n",
       "      <td>Гарольд Реймис</td>\n",
       "      <td>Джейн Розенталь, Паул Уэйнстейн</td>\n",
       "      <td>«12+» - для детей старше 12 лет</td>\n",
       "      <td>NaN</td>\n",
       "      <td>NaN</td>\n",
       "      <td>NaN</td>\n",
       "      <td>NaN</td>\n",
       "      <td>6.8</td>\n",
       "      <td>комедия,криминал</td>\n",
       "      <td>NaN</td>\n",
       "    </tr>\n",
       "    <tr>\n",
       "      <th>7289</th>\n",
       "      <td>Как жениться и остаться холостым</td>\n",
       "      <td>221154310</td>\n",
       "      <td>2010-12-17 12:00:00+00:00</td>\n",
       "      <td>Художественный</td>\n",
       "      <td>Ше Вам, Скрипт Ассосье, Тэ Фэ 1 Фильм Продюксь...</td>\n",
       "      <td>Франция</td>\n",
       "      <td>Эрик Лартиго</td>\n",
       "      <td>Амандин Било, Алан Шаба</td>\n",
       "      <td>«16+» - для детей старше 16 лет</td>\n",
       "      <td>NaN</td>\n",
       "      <td>NaN</td>\n",
       "      <td>NaN</td>\n",
       "      <td>NaN</td>\n",
       "      <td>7.0</td>\n",
       "      <td>мелодрама,комедия</td>\n",
       "      <td>NaN</td>\n",
       "    </tr>\n",
       "    <tr>\n",
       "      <th>7290</th>\n",
       "      <td>Иоанна - женщина на папском престоле /По роман...</td>\n",
       "      <td>221154310</td>\n",
       "      <td>2010-12-17 12:00:00+00:00</td>\n",
       "      <td>Художественный</td>\n",
       "      <td>Константин Фильм, А Эр Ди Дегето Фильм, Дюне ...</td>\n",
       "      <td>Германия - Великобритания - Италия - Испания</td>\n",
       "      <td>Зенке Вортманн</td>\n",
       "      <td>Оливер Бербен, Дорис Д.Хайнце, Фарук Элтан</td>\n",
       "      <td>«16+» - для детей старше 16 лет</td>\n",
       "      <td>NaN</td>\n",
       "      <td>NaN</td>\n",
       "      <td>NaN</td>\n",
       "      <td>NaN</td>\n",
       "      <td>7.6</td>\n",
       "      <td>драма,мелодрама,история</td>\n",
       "      <td>NaN</td>\n",
       "    </tr>\n",
       "  </tbody>\n",
       "</table>\n",
       "</div>"
      ],
      "text/plain": [
       "                                                  title  pu_number  \\\n",
       "6888                                    Анализируй это!  221054410   \n",
       "6889                                     Анализируй то!  221054410   \n",
       "7289                   Как жениться и остаться холостым  221154310   \n",
       "7290  Иоанна - женщина на папском престоле /По роман...  221154310   \n",
       "\n",
       "               show_start_date            type  \\\n",
       "6888 2010-05-25 12:00:00+00:00  Художественный   \n",
       "6889 2010-05-25 12:00:00+00:00  Художественный   \n",
       "7289 2010-12-17 12:00:00+00:00  Художественный   \n",
       "7290 2010-12-17 12:00:00+00:00  Художественный   \n",
       "\n",
       "                                            film_studio  \\\n",
       "6888          Уорнер Бразерс, Вилладж Роудшоу Филмз ЛТД   \n",
       "6889  Уорнер Бразерс, Виллидж Роадшоу Пикчерз, Эн-Пи...   \n",
       "7289  Ше Вам, Скрипт Ассосье, Тэ Фэ 1 Фильм Продюксь...   \n",
       "7290   Константин Фильм, А Эр Ди Дегето Фильм, Дюне ...   \n",
       "\n",
       "                                production_country        director  \\\n",
       "6888                                 США-Австралия   ХЭрольд Рэмис   \n",
       "6889                                           США  Гарольд Реймис   \n",
       "7289                                       Франция    Эрик Лартиго   \n",
       "7290  Германия - Великобритания - Италия - Испания  Зенке Вортманн   \n",
       "\n",
       "                                        producer  \\\n",
       "6888             Джейн Розенталь, Пола Уейнстейн   \n",
       "6889             Джейн Розенталь, Паул Уэйнстейн   \n",
       "7289                     Амандин Било, Алан Шаба   \n",
       "7290  Оливер Бербен, Дорис Д.Хайнце, Фарук Элтан   \n",
       "\n",
       "                      age_restriction  refundable_support  \\\n",
       "6888  «16+» - для детей старше 16 лет                 NaN   \n",
       "6889  «12+» - для детей старше 12 лет                 NaN   \n",
       "7289  «16+» - для детей старше 16 лет                 NaN   \n",
       "7290  «16+» - для детей старше 16 лет                 NaN   \n",
       "\n",
       "      nonrefundable_support  budget financing_source  ratings  \\\n",
       "6888                    NaN     NaN              NaN      7.4   \n",
       "6889                    NaN     NaN              NaN      6.8   \n",
       "7289                    NaN     NaN              NaN      7.0   \n",
       "7290                    NaN     NaN              NaN      7.6   \n",
       "\n",
       "                       genres  box_office  \n",
       "6888         комедия,криминал         NaN  \n",
       "6889         комедия,криминал         NaN  \n",
       "7289        мелодрама,комедия         NaN  \n",
       "7290  драма,мелодрама,история         NaN  "
      ]
     },
     "execution_count": 20,
     "metadata": {},
     "output_type": "execute_result"
    }
   ],
   "source": [
    "data[data['pu_number'].duplicated(keep=False)]"
   ]
  },
  {
   "cell_type": "code",
   "execution_count": 21,
   "id": "95ba5482-b2a7-47c7-822c-4e38a1e02ccb",
   "metadata": {},
   "outputs": [
    {
     "name": "stdout",
     "output_type": "stream",
     "text": [
      "title\n",
      "День святого Валентина_                               5\n",
      "Начало_                                               4\n",
      "Безумцы                                               4\n",
      "Робин Гуд (Robin Hood)                                4\n",
      "Жена путешественника во времени                       4\n",
      "Белая мгла /По комиксу Грега Рукка и Стива Либера/    4\n",
      "Непокоренный.                                         4\n",
      "Код доступа \"Кейптаун\"                                4\n",
      "Секс в большом городе 2                               4\n",
      "Там, где живут чудовища                               4\n",
      "Name: count, dtype: int64\n"
     ]
    },
    {
     "data": {
      "text/plain": [
       "713"
      ]
     },
     "execution_count": 21,
     "metadata": {},
     "output_type": "execute_result"
    }
   ],
   "source": [
    "# количество дублей в столбце title\n",
    "print(data.title.value_counts().head(10))\n",
    "data.title.duplicated().sum()"
   ]
  },
  {
   "cell_type": "markdown",
   "id": "b26ea3e2-f58f-4626-8b99-b3c6c9c726e2",
   "metadata": {},
   "source": [
    "Дупликаты появились из-за того, что существуют фильмы с одинаковыми названиями."
   ]
  },
  {
   "cell_type": "markdown",
   "id": "0b88bed8-41f0-431f-8cf8-de736749efa0",
   "metadata": {},
   "source": [
    "### Категориальные значения"
   ]
  },
  {
   "cell_type": "markdown",
   "id": "044fc8e7-1eb2-4595-b576-94a269c16c44",
   "metadata": {},
   "source": [
    "Изучим столбцы, которые содержат категориальные значения, это *film_studio, producer, director, genres*. Посмотрим, какая общая проблема встречается почти во всех категориальных столбцах. Исправим проблемные значения в поле *type*."
   ]
  },
  {
   "cell_type": "code",
   "execution_count": 22,
   "id": "89f55b36-4a01-4b58-a7df-0ff0af24ad95",
   "metadata": {},
   "outputs": [
    {
     "data": {
      "text/plain": [
       "array(['Художественный', ' Художественный', 'Научно-популярный',\n",
       "       'Анимационный', 'Документальный', ' Анимационный', 'Прочие',\n",
       "       'Музыкально-развлекательный'], dtype=object)"
      ]
     },
     "execution_count": 22,
     "metadata": {},
     "output_type": "execute_result"
    }
   ],
   "source": [
    "# столбец type\n",
    "data.type.unique()"
   ]
  },
  {
   "cell_type": "markdown",
   "id": "01a9f8c4-e5a6-4373-a949-bc9ece368a33",
   "metadata": {},
   "source": [
    "В столбце есть неявный дупликат с пробелом в названии *Художественный и Анимационный*. Испаравим методом `str.lstrip()`, который убирает пробелы в начале и конце строки, и возвращает копию."
   ]
  },
  {
   "cell_type": "code",
   "execution_count": 23,
   "id": "183bcdf5-7fe3-4c01-9d69-1a1bcc0f4669",
   "metadata": {},
   "outputs": [],
   "source": [
    "data.type = data.type.str.lstrip()"
   ]
  },
  {
   "cell_type": "markdown",
   "id": "e7e044e4-5386-40b9-93b6-60fc7ebffe2b",
   "metadata": {},
   "source": [
    "Алогично в столбцах *producer, director, production_country, film_studio*."
   ]
  },
  {
   "cell_type": "code",
   "execution_count": 24,
   "id": "8d81b2b0-519a-447e-8ae7-f158d05e785d",
   "metadata": {},
   "outputs": [],
   "source": [
    "data.producer = data.producer.str.lstrip()\n",
    "data.director = data.director.str.lstrip()\n",
    "data.production_country = data.production_country.str.lstrip()\n",
    "data.film_studio = data.film_studio.str.lstrip()"
   ]
  },
  {
   "cell_type": "markdown",
   "id": "f8d32389-232b-47bd-aaf8-7d3e3046695a",
   "metadata": {},
   "source": [
    "Неявные дупликаты появились из-за опечатки. Далее проверим столбцы *film_studio, producer, director, genres*. "
   ]
  },
  {
   "cell_type": "code",
   "execution_count": 25,
   "id": "28ea641c-a5b0-4ed9-8de4-b306eeeb0632",
   "metadata": {},
   "outputs": [
    {
     "name": "stdout",
     "output_type": "stream",
     "text": [
      "5476\n",
      "5325\n",
      "4794\n"
     ]
    },
    {
     "data": {
      "text/plain": [
       "742"
      ]
     },
     "execution_count": 25,
     "metadata": {},
     "output_type": "execute_result"
    }
   ],
   "source": [
    "print(len(data.film_studio.unique()))\n",
    "print(len(data.producer.unique()))\n",
    "print(len(data.director.unique()))\n",
    "len(data.genres.unique())"
   ]
  },
  {
   "cell_type": "markdown",
   "id": "38a07b65-057d-4fdc-8060-3ca7987f160f",
   "metadata": {},
   "source": [
    "Предположим, что проблема в категориальных столбцах, это большое количество уникальных значений. "
   ]
  },
  {
   "cell_type": "markdown",
   "id": "a4a88949-7eab-4a95-a91b-bfd41e44afd8",
   "metadata": {},
   "source": [
    "### Количественные значения"
   ]
  },
  {
   "cell_type": "markdown",
   "id": "90ec8786-88af-425b-95ee-be5b160d5995",
   "metadata": {},
   "source": [
    "Изучим столбцы, которые хранят количественные значения. Проверим, обнаружились ли в таких столбцах подозрительные данные. Как с такими данными лучше поступить?"
   ]
  },
  {
   "cell_type": "code",
   "execution_count": 26,
   "id": "044aea2a-22c9-41c7-843b-079e67da5469",
   "metadata": {},
   "outputs": [
    {
     "data": {
      "text/html": [
       "<style type=\"text/css\">\n",
       "</style>\n",
       "<table id=\"T_d054c\">\n",
       "  <thead>\n",
       "    <tr>\n",
       "      <th class=\"blank level0\" >&nbsp;</th>\n",
       "      <th id=\"T_d054c_level0_col0\" class=\"col_heading level0 col0\" >refundable_support</th>\n",
       "      <th id=\"T_d054c_level0_col1\" class=\"col_heading level0 col1\" >nonrefundable_support</th>\n",
       "      <th id=\"T_d054c_level0_col2\" class=\"col_heading level0 col2\" >budget</th>\n",
       "      <th id=\"T_d054c_level0_col3\" class=\"col_heading level0 col3\" >box_office</th>\n",
       "    </tr>\n",
       "  </thead>\n",
       "  <tbody>\n",
       "    <tr>\n",
       "      <th id=\"T_d054c_level0_row0\" class=\"row_heading level0 row0\" >count</th>\n",
       "      <td id=\"T_d054c_row0_col0\" class=\"data row0 col0\" >332.00</td>\n",
       "      <td id=\"T_d054c_row0_col1\" class=\"data row0 col1\" >332.00</td>\n",
       "      <td id=\"T_d054c_row0_col2\" class=\"data row0 col2\" >332.00</td>\n",
       "      <td id=\"T_d054c_row0_col3\" class=\"data row0 col3\" >3,155.00</td>\n",
       "    </tr>\n",
       "    <tr>\n",
       "      <th id=\"T_d054c_level0_row1\" class=\"row_heading level0 row1\" >std</th>\n",
       "      <td id=\"T_d054c_row1_col0\" class=\"data row1 col0\" >24,916,555.26</td>\n",
       "      <td id=\"T_d054c_row1_col1\" class=\"data row1 col1\" >59,980,117.92</td>\n",
       "      <td id=\"T_d054c_row1_col2\" class=\"data row1 col2\" >188,588,333.12</td>\n",
       "      <td id=\"T_d054c_row1_col3\" class=\"data row1 col3\" >240,455,853.44</td>\n",
       "    </tr>\n",
       "    <tr>\n",
       "      <th id=\"T_d054c_level0_row2\" class=\"row_heading level0 row2\" >min</th>\n",
       "      <td id=\"T_d054c_row2_col0\" class=\"data row2 col0\" >0.00</td>\n",
       "      <td id=\"T_d054c_row2_col1\" class=\"data row2 col1\" >0.00</td>\n",
       "      <td id=\"T_d054c_row2_col2\" class=\"data row2 col2\" >0.00</td>\n",
       "      <td id=\"T_d054c_row2_col3\" class=\"data row2 col3\" >0.00</td>\n",
       "    </tr>\n",
       "    <tr>\n",
       "      <th id=\"T_d054c_level0_row3\" class=\"row_heading level0 row3\" >mean</th>\n",
       "      <td id=\"T_d054c_row3_col0\" class=\"data row3 col0\" >11,864,457.83</td>\n",
       "      <td id=\"T_d054c_row3_col1\" class=\"data row3 col1\" >48,980,988.89</td>\n",
       "      <td id=\"T_d054c_row3_col2\" class=\"data row3 col2\" >127,229,716.68</td>\n",
       "      <td id=\"T_d054c_row3_col3\" class=\"data row3 col3\" >76,551,328.80</td>\n",
       "    </tr>\n",
       "    <tr>\n",
       "      <th id=\"T_d054c_level0_row4\" class=\"row_heading level0 row4\" >median</th>\n",
       "      <td id=\"T_d054c_row4_col0\" class=\"data row4 col0\" >0.00</td>\n",
       "      <td id=\"T_d054c_row4_col1\" class=\"data row4 col1\" >30,000,000.00</td>\n",
       "      <td id=\"T_d054c_row4_col2\" class=\"data row4 col2\" >68,649,916.00</td>\n",
       "      <td id=\"T_d054c_row4_col3\" class=\"data row4 col3\" >2,338,049.90</td>\n",
       "    </tr>\n",
       "    <tr>\n",
       "      <th id=\"T_d054c_level0_row5\" class=\"row_heading level0 row5\" >max</th>\n",
       "      <td id=\"T_d054c_row5_col0\" class=\"data row5 col0\" >180,000,000.00</td>\n",
       "      <td id=\"T_d054c_row5_col1\" class=\"data row5 col1\" >400,000,000.00</td>\n",
       "      <td id=\"T_d054c_row5_col2\" class=\"data row5 col2\" >2,305,074,303.00</td>\n",
       "      <td id=\"T_d054c_row5_col3\" class=\"data row5 col3\" >3,073,568,690.79</td>\n",
       "    </tr>\n",
       "  </tbody>\n",
       "</table>\n"
      ],
      "text/plain": [
       "<pandas.io.formats.style.Styler at 0x1be80441fd0>"
      ]
     },
     "execution_count": 26,
     "metadata": {},
     "output_type": "execute_result"
    }
   ],
   "source": [
    "# сводная таблица параметров\n",
    "(\n",
    "    data[['refundable_support', 'nonrefundable_support', 'budget', 'box_office']]\n",
    "    .apply(['count', 'std', 'min', 'mean', 'median', 'max'])   \n",
    "    .style.format(\"{:,.2f}\")\n",
    ")"
   ]
  },
  {
   "cell_type": "markdown",
   "id": "51e147d8-f61b-41c1-9880-8075a745e771",
   "metadata": {},
   "source": [
    "По таблице ясно, что среднее и медианное значение сборов в рублях после проката в России ниже бюджета фильма. Также количество денег, которое не вернется государству превышает возвратные средства. Есть важный момент, в общий бюджет включена сумма возвратных и невозвратных средств. Проверим, есть ли фильмы не попадающие под это условие."
   ]
  },
  {
   "cell_type": "code",
   "execution_count": 27,
   "id": "2632b2de-c13f-4c1d-90a0-f3da9d4bd83e",
   "metadata": {},
   "outputs": [
    {
     "name": "stdout",
     "output_type": "stream",
     "text": [
      "17\n"
     ]
    },
    {
     "data": {
      "text/html": [
       "<div>\n",
       "<style scoped>\n",
       "    .dataframe tbody tr th:only-of-type {\n",
       "        vertical-align: middle;\n",
       "    }\n",
       "\n",
       "    .dataframe tbody tr th {\n",
       "        vertical-align: top;\n",
       "    }\n",
       "\n",
       "    .dataframe thead th {\n",
       "        text-align: right;\n",
       "    }\n",
       "</style>\n",
       "<table border=\"1\" class=\"dataframe\">\n",
       "  <thead>\n",
       "    <tr style=\"text-align: right;\">\n",
       "      <th></th>\n",
       "      <th>title</th>\n",
       "      <th>pu_number</th>\n",
       "      <th>show_start_date</th>\n",
       "      <th>type</th>\n",
       "      <th>film_studio</th>\n",
       "      <th>production_country</th>\n",
       "      <th>director</th>\n",
       "      <th>producer</th>\n",
       "      <th>age_restriction</th>\n",
       "      <th>refundable_support</th>\n",
       "      <th>nonrefundable_support</th>\n",
       "      <th>budget</th>\n",
       "      <th>financing_source</th>\n",
       "      <th>ratings</th>\n",
       "      <th>genres</th>\n",
       "      <th>box_office</th>\n",
       "    </tr>\n",
       "  </thead>\n",
       "  <tbody>\n",
       "    <tr>\n",
       "      <th>35</th>\n",
       "      <td>Дуxless 2</td>\n",
       "      <td>111000415</td>\n",
       "      <td>2015-01-26 12:00:00+00:00</td>\n",
       "      <td>Художественный</td>\n",
       "      <td>ООО \"Киностудия \"Слово\", ООО \"Арт Пикчерс Студия\"</td>\n",
       "      <td>Россия</td>\n",
       "      <td>Р.Прыгунов</td>\n",
       "      <td>П.Ануров, Ф.Бондарчук, Д.Рудовский</td>\n",
       "      <td>«16+» - для детей старше 16 лет</td>\n",
       "      <td>0.0</td>\n",
       "      <td>75000000.0</td>\n",
       "      <td>0.0</td>\n",
       "      <td>Фонд кино</td>\n",
       "      <td>6.6</td>\n",
       "      <td>драма</td>\n",
       "      <td>446163511.0</td>\n",
       "    </tr>\n",
       "  </tbody>\n",
       "</table>\n",
       "</div>"
      ],
      "text/plain": [
       "        title  pu_number           show_start_date            type  \\\n",
       "35  Дуxless 2  111000415 2015-01-26 12:00:00+00:00  Художественный   \n",
       "\n",
       "                                          film_studio production_country  \\\n",
       "35  ООО \"Киностудия \"Слово\", ООО \"Арт Пикчерс Студия\"             Россия   \n",
       "\n",
       "      director                            producer  \\\n",
       "35  Р.Прыгунов  П.Ануров, Ф.Бондарчук, Д.Рудовский   \n",
       "\n",
       "                    age_restriction  refundable_support  \\\n",
       "35  «16+» - для детей старше 16 лет                 0.0   \n",
       "\n",
       "    nonrefundable_support  budget financing_source  ratings genres  \\\n",
       "35             75000000.0     0.0        Фонд кино      6.6  драма   \n",
       "\n",
       "     box_office  \n",
       "35  446163511.0  "
      ]
     },
     "execution_count": 27,
     "metadata": {},
     "output_type": "execute_result"
    }
   ],
   "source": [
    "# количество строк\n",
    "print(len(data[((data.refundable_support + data.nonrefundable_support) >= data.budget)]))\n",
    "data[(data.refundable_support + data.nonrefundable_support) >= data.budget].head(1)"
   ]
  },
  {
   "cell_type": "markdown",
   "id": "0a573e9b-80b3-400c-a612-5ec68bd08e50",
   "metadata": {},
   "source": [
    "Присутствуют фильмы, с нулевым бюджетом. Исключим эти строки из общего датафрейма."
   ]
  },
  {
   "cell_type": "code",
   "execution_count": 28,
   "id": "315f0610-9245-4fb8-ba07-f5de6fececb4",
   "metadata": {},
   "outputs": [],
   "source": [
    "data = data[~((data.refundable_support + data.nonrefundable_support) >= data.budget)]"
   ]
  },
  {
   "cell_type": "markdown",
   "id": "8ea691e1-0e42-4df4-b1f6-b52efe0ca869",
   "metadata": {},
   "source": [
    "### Добавим новые столбцы"
   ]
  },
  {
   "cell_type": "markdown",
   "id": "904adc67-3238-4bf1-9184-cccebeb45e12",
   "metadata": {},
   "source": [
    "Создадим столбец с информацией о годе проката, выделим год из даты премьеры фильма."
   ]
  },
  {
   "cell_type": "code",
   "execution_count": 29,
   "id": "d145ae3f-da0a-4052-9800-2ef55b15115d",
   "metadata": {
    "scrolled": true
   },
   "outputs": [],
   "source": [
    "data['year_premiere'] = data.show_start_date.dt.year"
   ]
  },
  {
   "cell_type": "markdown",
   "id": "a14052a2-4fe2-4e57-be72-6b6aa24c7c34",
   "metadata": {},
   "source": [
    "Создадим два столбца: с именем и фамилией главного режиссёра и основным жанром фильма. В столбцы войдут первые значения из списка режиссёров и жанров соответственно."
   ]
  },
  {
   "cell_type": "code",
   "execution_count": 30,
   "id": "599e58bd-bf1d-430a-b487-657a9414e4db",
   "metadata": {},
   "outputs": [],
   "source": [
    "# создадим собственную функцию\n",
    "def split(row):\n",
    "    row_split = row.split(',')\n",
    "    return row_split[0]"
   ]
  },
  {
   "cell_type": "code",
   "execution_count": 31,
   "id": "cce69fa8-4408-41ca-ab62-ed0cd1b6a724",
   "metadata": {},
   "outputs": [],
   "source": [
    "# столбец main_director\n",
    "data['main_director'] = data.director.apply(split)\n",
    "\n",
    "# столбец main_genre\n",
    "data['main_genre'] = data.genres.apply(split)"
   ]
  },
  {
   "cell_type": "markdown",
   "id": "45bded8f-5f7b-459a-82c6-7858b8645f85",
   "metadata": {},
   "source": [
    "Посчитаем, какую долю от общего бюджета фильма составляет государственная поддержка."
   ]
  },
  {
   "cell_type": "code",
   "execution_count": 32,
   "id": "771c2e0c-ef53-4164-b4ce-ccf0450821bc",
   "metadata": {},
   "outputs": [],
   "source": [
    "data['decimal_gov_sup'] = ((data.refundable_support + data.nonrefundable_support) / data.budget * 100).round(1)"
   ]
  },
  {
   "cell_type": "markdown",
   "id": "8e899da3-8f18-486b-8d29-12e976bf775b",
   "metadata": {},
   "source": [
    "Посчитаем средства государственной поддержки."
   ]
  },
  {
   "cell_type": "code",
   "execution_count": 33,
   "id": "ab68ec68-3681-4b91-aeb4-b73226ce0a6c",
   "metadata": {},
   "outputs": [],
   "source": [
    "data['money_gov_sup'] = data.refundable_support + data.nonrefundable_support"
   ]
  },
  {
   "cell_type": "code",
   "execution_count": 34,
   "id": "cc29c64a-9ab5-4bfc-832c-673aa9af93da",
   "metadata": {},
   "outputs": [
    {
     "data": {
      "text/plain": [
       "0.5878423513694031"
      ]
     },
     "execution_count": 34,
     "metadata": {},
     "output_type": "execute_result"
    }
   ],
   "source": [
    "# количество потерь после фильтрации и предобработки\n",
    "100 - (len(data) / data_len_stock) * 100"
   ]
  },
  {
   "cell_type": "markdown",
   "id": "fad07833-02b1-44f8-84ce-68695e5ed5ba",
   "metadata": {},
   "source": [
    "### Исправим аномалии"
   ]
  },
  {
   "cell_type": "markdown",
   "id": "9601783d-d6dc-4275-b67c-33f56ccc9b24",
   "metadata": {},
   "source": [
    "После преобразования столбца *genres* в стрковый формат образовались аномалии в виде `nan`. Заменим их заглушкой `unknown`."
   ]
  },
  {
   "cell_type": "code",
   "execution_count": 35,
   "id": "24c3cae1-b017-4c3e-bf9e-570167374184",
   "metadata": {},
   "outputs": [],
   "source": [
    "data.genres = data.genres.replace({'nan': 'unknown'})"
   ]
  },
  {
   "cell_type": "markdown",
   "id": "8d2470d6-9fa0-4222-8bfb-72614461a7eb",
   "metadata": {},
   "source": [
    "### Вывод"
   ]
  },
  {
   "cell_type": "markdown",
   "id": "6db461ef-5ab1-4a72-8ee0-ed4c12f0826b",
   "metadata": {},
   "source": [
    "- изменили формат данных для удобного использования;\n",
    "- удалили 0,3% из данных в столбцах *film_studio, production_country, director*;\n",
    "- заполнили 7% пропусков в столбце *producer* запичью unknow, чтобы сохранить данные;\n",
    "- в столбцах *refundable_support, nonrefundable_support, budget, financing_source, ratings, box_office, genres* есть пропуски, физически заменить такие пропуски очень сложно, Оставим как есть;\n",
    "- присутствуют дупликаты из-за того, что существуют фильмы с одинаковыми названиями;\n",
    "- исключили строки с дупликатами, которые появились из-за опечатки;\n",
    "- предположим, что проблема в категориальных столбцах, это большое количество уникальных значений;\n",
    "- исключили фильмы, с нулевым бюджетом;\n",
    "- добавили столбцы, для детального анализы данных;\n",
    "- количество потерь после фильтрации и предобработки пределах нормы, 0,6%."
   ]
  },
  {
   "cell_type": "markdown",
   "id": "d39148a5-0348-4693-8689-4e6fc7988a9e",
   "metadata": {},
   "source": [
    "## Исследовательский анализ данных"
   ]
  },
  {
   "cell_type": "markdown",
   "id": "e6d42e82-f279-4835-94b5-000b8b3d859f",
   "metadata": {},
   "source": [
    "Исследовательский анализ данных является важным этапом в аналитике, который позволяет лучше понять данные и выявить основные характеристики и закономерности."
   ]
  },
  {
   "cell_type": "markdown",
   "id": "e5aa7813-d616-488f-badb-8f279db85950",
   "metadata": {},
   "source": [
    "### Количество фильмов в год"
   ]
  },
  {
   "cell_type": "markdown",
   "id": "92082731-c259-437a-bcd0-298a6837d411",
   "metadata": {},
   "source": [
    "Посмотрим, сколько фильмов выходило в прокат каждый год."
   ]
  },
  {
   "cell_type": "code",
   "execution_count": 36,
   "id": "25149eb9-9da7-4909-8957-8020ac98b395",
   "metadata": {},
   "outputs": [
    {
     "data": {
      "text/html": [
       "<div>\n",
       "<style scoped>\n",
       "    .dataframe tbody tr th:only-of-type {\n",
       "        vertical-align: middle;\n",
       "    }\n",
       "\n",
       "    .dataframe tbody tr th {\n",
       "        vertical-align: top;\n",
       "    }\n",
       "\n",
       "    .dataframe thead th {\n",
       "        text-align: right;\n",
       "    }\n",
       "</style>\n",
       "<table border=\"1\" class=\"dataframe\">\n",
       "  <thead>\n",
       "    <tr style=\"text-align: right;\">\n",
       "      <th></th>\n",
       "      <th>count_film_premiere</th>\n",
       "      <th>count_box_office</th>\n",
       "    </tr>\n",
       "    <tr>\n",
       "      <th>year_premiere</th>\n",
       "      <th></th>\n",
       "      <th></th>\n",
       "    </tr>\n",
       "  </thead>\n",
       "  <tbody>\n",
       "    <tr>\n",
       "      <th>2010</th>\n",
       "      <td>980</td>\n",
       "      <td>105</td>\n",
       "    </tr>\n",
       "    <tr>\n",
       "      <th>2011</th>\n",
       "      <td>620</td>\n",
       "      <td>109</td>\n",
       "    </tr>\n",
       "    <tr>\n",
       "      <th>2012</th>\n",
       "      <td>592</td>\n",
       "      <td>127</td>\n",
       "    </tr>\n",
       "    <tr>\n",
       "      <th>2013</th>\n",
       "      <td>629</td>\n",
       "      <td>184</td>\n",
       "    </tr>\n",
       "    <tr>\n",
       "      <th>2014</th>\n",
       "      <td>804</td>\n",
       "      <td>278</td>\n",
       "    </tr>\n",
       "    <tr>\n",
       "      <th>2015</th>\n",
       "      <td>699</td>\n",
       "      <td>459</td>\n",
       "    </tr>\n",
       "    <tr>\n",
       "      <th>2016</th>\n",
       "      <td>814</td>\n",
       "      <td>522</td>\n",
       "    </tr>\n",
       "    <tr>\n",
       "      <th>2017</th>\n",
       "      <td>503</td>\n",
       "      <td>355</td>\n",
       "    </tr>\n",
       "    <tr>\n",
       "      <th>2018</th>\n",
       "      <td>875</td>\n",
       "      <td>470</td>\n",
       "    </tr>\n",
       "    <tr>\n",
       "      <th>2019</th>\n",
       "      <td>925</td>\n",
       "      <td>529</td>\n",
       "    </tr>\n",
       "  </tbody>\n",
       "</table>\n",
       "</div>"
      ],
      "text/plain": [
       "               count_film_premiere  count_box_office\n",
       "year_premiere                                       \n",
       "2010                           980               105\n",
       "2011                           620               109\n",
       "2012                           592               127\n",
       "2013                           629               184\n",
       "2014                           804               278\n",
       "2015                           699               459\n",
       "2016                           814               522\n",
       "2017                           503               355\n",
       "2018                           875               470\n",
       "2019                           925               529"
      ]
     },
     "execution_count": 36,
     "metadata": {},
     "output_type": "execute_result"
    }
   ],
   "source": [
    "# сводная таблица количества фильмов\n",
    "year_premiere = (data.groupby('year_premiere', as_index=False)\n",
    " .agg(count_film_premiere = ('title', 'count'),\n",
    "     count_box_office = ('box_office', 'count'))\n",
    " .set_index('year_premiere')\n",
    ")\n",
    "year_premiere"
   ]
  },
  {
   "cell_type": "code",
   "execution_count": 37,
   "id": "d74a7d39-ea91-4c0a-a6b5-7e795de38b29",
   "metadata": {},
   "outputs": [
    {
     "data": {
      "image/png": "[encoded data removed]",
      "text/plain": [
       "<Figure size 600x300 with 1 Axes>"
      ]
     },
     "metadata": {},
     "output_type": "display_data"
    }
   ],
   "source": [
    "# визуализация\n",
    "year_premiere.plot(y=['count_film_premiere', 'count_box_office'], figsize=(6, 3), grid=True, marker='o', linewidth=2, markersize=8)\n",
    "plt.title('Годовой прокат')\n",
    "plt.xlabel('Год')\n",
    "plt.ylabel('Количество фильмов')\n",
    "plt.show()"
   ]
  },
  {
   "cell_type": "markdown",
   "id": "a2eb5c5c-bc1e-4b9d-802a-2134261fc4b7",
   "metadata": {},
   "source": [
    "В 2010 году вышло максимальное количество фильмов"
   ]
  },
  {
   "cell_type": "code",
   "execution_count": 38,
   "id": "ea64956d-35bd-4309-a378-5b0472d339f9",
   "metadata": {},
   "outputs": [
    {
     "data": {
      "image/png": "[encoded data removed]",
      "text/plain": [
       "<Figure size 600x300 with 1 Axes>"
      ]
     },
     "metadata": {},
     "output_type": "display_data"
    }
   ],
   "source": [
    "# доля в прокате\n",
    "year_premiere['decimal, %'] = (year_premiere.count_box_office / year_premiere.count_film_premiere * 100).astype('int32')\n",
    "year_premiere.plot(y='decimal, %', figsize=(6, 3), grid=True, kind='bar', color='deepskyblue', edgecolor='darkblue')\n",
    "plt.title('Доля с информацией о прокате')\n",
    "plt.xlabel('Год')\n",
    "plt.ylabel('Доля, %')\n",
    "plt.show()"
   ]
  },
  {
   "cell_type": "markdown",
   "id": "bfa90543-2813-4b19-b31d-9fa010316dd5",
   "metadata": {},
   "source": [
    "В 2017 году максимальная доля с информацией о прокате фильмов, но минимальное количество премьер."
   ]
  },
  {
   "cell_type": "markdown",
   "id": "1aa175ac-ca08-4324-a7dd-2023bfa59e50",
   "metadata": {},
   "source": [
    "### Динамика проката по годам"
   ]
  },
  {
   "cell_type": "markdown",
   "id": "6f063d9b-3250-4139-aa39-53e79aaa1ff7",
   "metadata": {},
   "source": [
    "Изучим, как менялась динамика проката по годам."
   ]
  },
  {
   "cell_type": "code",
   "execution_count": 39,
   "id": "ef1606d0-905e-445e-80c2-aeb53942e0ca",
   "metadata": {},
   "outputs": [
    {
     "data": {
      "text/html": [
       "<div>\n",
       "<style scoped>\n",
       "    .dataframe tbody tr th:only-of-type {\n",
       "        vertical-align: middle;\n",
       "    }\n",
       "\n",
       "    .dataframe tbody tr th {\n",
       "        vertical-align: top;\n",
       "    }\n",
       "\n",
       "    .dataframe thead th {\n",
       "        text-align: right;\n",
       "    }\n",
       "</style>\n",
       "<table border=\"1\" class=\"dataframe\">\n",
       "  <thead>\n",
       "    <tr style=\"text-align: right;\">\n",
       "      <th></th>\n",
       "      <th>count_film_premiere</th>\n",
       "      <th>count_box_office</th>\n",
       "      <th>decimal, %</th>\n",
       "      <th>box_sum</th>\n",
       "    </tr>\n",
       "    <tr>\n",
       "      <th>year_premiere</th>\n",
       "      <th></th>\n",
       "      <th></th>\n",
       "      <th></th>\n",
       "      <th></th>\n",
       "    </tr>\n",
       "  </thead>\n",
       "  <tbody>\n",
       "    <tr>\n",
       "      <th>2010</th>\n",
       "      <td>980</td>\n",
       "      <td>105</td>\n",
       "      <td>10</td>\n",
       "      <td>2428654</td>\n",
       "    </tr>\n",
       "    <tr>\n",
       "      <th>2011</th>\n",
       "      <td>620</td>\n",
       "      <td>109</td>\n",
       "      <td>17</td>\n",
       "      <td>14102765</td>\n",
       "    </tr>\n",
       "    <tr>\n",
       "      <th>2012</th>\n",
       "      <td>592</td>\n",
       "      <td>127</td>\n",
       "      <td>21</td>\n",
       "      <td>6911073</td>\n",
       "    </tr>\n",
       "    <tr>\n",
       "      <th>2013</th>\n",
       "      <td>629</td>\n",
       "      <td>184</td>\n",
       "      <td>29</td>\n",
       "      <td>29799706</td>\n",
       "    </tr>\n",
       "    <tr>\n",
       "      <th>2014</th>\n",
       "      <td>804</td>\n",
       "      <td>278</td>\n",
       "      <td>34</td>\n",
       "      <td>7434717843</td>\n",
       "    </tr>\n",
       "    <tr>\n",
       "      <th>2015</th>\n",
       "      <td>699</td>\n",
       "      <td>459</td>\n",
       "      <td>65</td>\n",
       "      <td>38527827199</td>\n",
       "    </tr>\n",
       "    <tr>\n",
       "      <th>2016</th>\n",
       "      <td>814</td>\n",
       "      <td>522</td>\n",
       "      <td>64</td>\n",
       "      <td>46742121742</td>\n",
       "    </tr>\n",
       "    <tr>\n",
       "      <th>2017</th>\n",
       "      <td>503</td>\n",
       "      <td>355</td>\n",
       "      <td>70</td>\n",
       "      <td>48458147253</td>\n",
       "    </tr>\n",
       "    <tr>\n",
       "      <th>2018</th>\n",
       "      <td>875</td>\n",
       "      <td>470</td>\n",
       "      <td>53</td>\n",
       "      <td>49251950180</td>\n",
       "    </tr>\n",
       "    <tr>\n",
       "      <th>2019</th>\n",
       "      <td>925</td>\n",
       "      <td>529</td>\n",
       "      <td>57</td>\n",
       "      <td>48278101953</td>\n",
       "    </tr>\n",
       "  </tbody>\n",
       "</table>\n",
       "</div>"
      ],
      "text/plain": [
       "               count_film_premiere  count_box_office  decimal, %      box_sum\n",
       "year_premiere                                                                \n",
       "2010                           980               105          10      2428654\n",
       "2011                           620               109          17     14102765\n",
       "2012                           592               127          21      6911073\n",
       "2013                           629               184          29     29799706\n",
       "2014                           804               278          34   7434717843\n",
       "2015                           699               459          65  38527827199\n",
       "2016                           814               522          64  46742121742\n",
       "2017                           503               355          70  48458147253\n",
       "2018                           875               470          53  49251950180\n",
       "2019                           925               529          57  48278101953"
      ]
     },
     "execution_count": 39,
     "metadata": {},
     "output_type": "execute_result"
    }
   ],
   "source": [
    "# добавим столбец box_sum\n",
    "year_premiere['box_sum'] = (data.groupby('year_premiere')['box_office'].agg('sum')).astype('int64')\n",
    "year_premiere"
   ]
  },
  {
   "cell_type": "code",
   "execution_count": 40,
   "id": "b5b5d1b8-9860-4e57-a3b5-ab802769376e",
   "metadata": {},
   "outputs": [
    {
     "data": {
      "image/png": "[encoded data removed]",
      "text/plain": [
       "<Figure size 600x300 with 1 Axes>"
      ]
     },
     "metadata": {},
     "output_type": "display_data"
    }
   ],
   "source": [
    "# визуализация\n",
    "year_premiere.plot(y='box_sum', figsize=(6, 3), grid=True, kind='bar', color='sandybrown', edgecolor='teal')\n",
    "plt.title('Динамика проката по годам')\n",
    "plt.xlabel('Год')\n",
    "plt.ylabel('Сумма сборов')\n",
    "plt.show()"
   ]
  },
  {
   "cell_type": "markdown",
   "id": "20ef11f0-a9a8-4481-905d-0124878603a5",
   "metadata": {},
   "source": [
    "Минимальная сумма сборов в 2010 году, максимальная в 2018 году.\n"
   ]
  },
  {
   "cell_type": "markdown",
   "id": "47af154d-990b-4657-aa29-f51845d42228",
   "metadata": {},
   "source": [
    "### Средняя и медиана для каждого года"
   ]
  },
  {
   "cell_type": "markdown",
   "id": "1993332a-c9bb-4de8-8502-f70303496c21",
   "metadata": {},
   "source": [
    "Посчитаем среднюю и медианную сумму сборов для каждого года"
   ]
  },
  {
   "cell_type": "code",
   "execution_count": 41,
   "id": "9b5bb007-aade-4d75-8150-543293796ec7",
   "metadata": {},
   "outputs": [
    {
     "data": {
      "text/html": [
       "<div>\n",
       "<style scoped>\n",
       "    .dataframe tbody tr th:only-of-type {\n",
       "        vertical-align: middle;\n",
       "    }\n",
       "\n",
       "    .dataframe tbody tr th {\n",
       "        vertical-align: top;\n",
       "    }\n",
       "\n",
       "    .dataframe thead th {\n",
       "        text-align: right;\n",
       "    }\n",
       "</style>\n",
       "<table border=\"1\" class=\"dataframe\">\n",
       "  <thead>\n",
       "    <tr style=\"text-align: right;\">\n",
       "      <th></th>\n",
       "      <th>count_film_premiere</th>\n",
       "      <th>count_box_office</th>\n",
       "      <th>decimal, %</th>\n",
       "      <th>box_sum</th>\n",
       "      <th>box_mean</th>\n",
       "      <th>box_median</th>\n",
       "    </tr>\n",
       "    <tr>\n",
       "      <th>year_premiere</th>\n",
       "      <th></th>\n",
       "      <th></th>\n",
       "      <th></th>\n",
       "      <th></th>\n",
       "      <th></th>\n",
       "      <th></th>\n",
       "    </tr>\n",
       "  </thead>\n",
       "  <tbody>\n",
       "    <tr>\n",
       "      <th>2010</th>\n",
       "      <td>980</td>\n",
       "      <td>105</td>\n",
       "      <td>10</td>\n",
       "      <td>2428654</td>\n",
       "      <td>23130</td>\n",
       "      <td>1700</td>\n",
       "    </tr>\n",
       "    <tr>\n",
       "      <th>2011</th>\n",
       "      <td>620</td>\n",
       "      <td>109</td>\n",
       "      <td>17</td>\n",
       "      <td>14102765</td>\n",
       "      <td>129383</td>\n",
       "      <td>3000</td>\n",
       "    </tr>\n",
       "    <tr>\n",
       "      <th>2012</th>\n",
       "      <td>592</td>\n",
       "      <td>127</td>\n",
       "      <td>21</td>\n",
       "      <td>6911073</td>\n",
       "      <td>54417</td>\n",
       "      <td>5560</td>\n",
       "    </tr>\n",
       "    <tr>\n",
       "      <th>2013</th>\n",
       "      <td>629</td>\n",
       "      <td>184</td>\n",
       "      <td>29</td>\n",
       "      <td>29799706</td>\n",
       "      <td>161954</td>\n",
       "      <td>3522</td>\n",
       "    </tr>\n",
       "    <tr>\n",
       "      <th>2014</th>\n",
       "      <td>804</td>\n",
       "      <td>278</td>\n",
       "      <td>34</td>\n",
       "      <td>7434717843</td>\n",
       "      <td>26743589</td>\n",
       "      <td>18137</td>\n",
       "    </tr>\n",
       "    <tr>\n",
       "      <th>2015</th>\n",
       "      <td>699</td>\n",
       "      <td>459</td>\n",
       "      <td>65</td>\n",
       "      <td>38527827199</td>\n",
       "      <td>83938621</td>\n",
       "      <td>4784781</td>\n",
       "    </tr>\n",
       "    <tr>\n",
       "      <th>2016</th>\n",
       "      <td>814</td>\n",
       "      <td>522</td>\n",
       "      <td>64</td>\n",
       "      <td>46742121742</td>\n",
       "      <td>89544294</td>\n",
       "      <td>3777202</td>\n",
       "    </tr>\n",
       "    <tr>\n",
       "      <th>2017</th>\n",
       "      <td>503</td>\n",
       "      <td>355</td>\n",
       "      <td>70</td>\n",
       "      <td>48458147253</td>\n",
       "      <td>136501823</td>\n",
       "      <td>9919415</td>\n",
       "    </tr>\n",
       "    <tr>\n",
       "      <th>2018</th>\n",
       "      <td>875</td>\n",
       "      <td>470</td>\n",
       "      <td>53</td>\n",
       "      <td>49251950180</td>\n",
       "      <td>104791383</td>\n",
       "      <td>8821498</td>\n",
       "    </tr>\n",
       "    <tr>\n",
       "      <th>2019</th>\n",
       "      <td>925</td>\n",
       "      <td>529</td>\n",
       "      <td>57</td>\n",
       "      <td>48278101953</td>\n",
       "      <td>91262952</td>\n",
       "      <td>4601033</td>\n",
       "    </tr>\n",
       "  </tbody>\n",
       "</table>\n",
       "</div>"
      ],
      "text/plain": [
       "               count_film_premiere  count_box_office  decimal, %      box_sum  \\\n",
       "year_premiere                                                                   \n",
       "2010                           980               105          10      2428654   \n",
       "2011                           620               109          17     14102765   \n",
       "2012                           592               127          21      6911073   \n",
       "2013                           629               184          29     29799706   \n",
       "2014                           804               278          34   7434717843   \n",
       "2015                           699               459          65  38527827199   \n",
       "2016                           814               522          64  46742121742   \n",
       "2017                           503               355          70  48458147253   \n",
       "2018                           875               470          53  49251950180   \n",
       "2019                           925               529          57  48278101953   \n",
       "\n",
       "                box_mean  box_median  \n",
       "year_premiere                         \n",
       "2010               23130        1700  \n",
       "2011              129383        3000  \n",
       "2012               54417        5560  \n",
       "2013              161954        3522  \n",
       "2014            26743589       18137  \n",
       "2015            83938621     4784781  \n",
       "2016            89544294     3777202  \n",
       "2017           136501823     9919415  \n",
       "2018           104791383     8821498  \n",
       "2019            91262952     4601033  "
      ]
     },
     "execution_count": 41,
     "metadata": {},
     "output_type": "execute_result"
    }
   ],
   "source": [
    "# добавим столбцы в сводную таблицу \n",
    "year_premiere['box_mean'] = (data.groupby('year_premiere')['box_office'].agg('mean')).astype('int64')\n",
    "year_premiere['box_median'] = (data.groupby('year_premiere')['box_office'].agg('median')).astype('int64')\n",
    "year_premiere"
   ]
  },
  {
   "cell_type": "code",
   "execution_count": 42,
   "id": "05451170-ad7b-4b5d-9657-90416c10579b",
   "metadata": {},
   "outputs": [
    {
     "data": {
      "image/png": "[encoded data removed]",
      "text/plain": [
       "<Figure size 600x300 with 1 Axes>"
      ]
     },
     "metadata": {},
     "output_type": "display_data"
    }
   ],
   "source": [
    "# визуализация\n",
    "year_premiere.plot(y=['box_mean', 'box_median'], figsize=(6, 3), grid=True, marker='o', linewidth=2, markersize=8)\n",
    "plt.title('Медиана и среднее сборов')\n",
    "plt.xlabel('Год')\n",
    "plt.ylabel('Сумма сборов')\n",
    "plt.show()"
   ]
  },
  {
   "cell_type": "markdown",
   "id": "783845eb-fbd0-400b-92be-d3b7c356ae34",
   "metadata": {},
   "source": [
    "Причина большой разница между средним и медианой заключается в выбросах, то есть присутствуют фильмы с большими сборами.\n"
   ]
  },
  {
   "cell_type": "markdown",
   "id": "e7ac72bb-fb1c-4df2-87d4-ec4d0d0838e1",
   "metadata": {},
   "source": [
    "### Возрастное ограничение аудитории"
   ]
  },
  {
   "cell_type": "markdown",
   "id": "326630a4-360b-41c2-8acb-82277a079778",
   "metadata": {},
   "source": [
    "Определим, влияет ли возрастное ограничение аудитории («6+», «12+», «16+», «18+» и т. д.) на сборы фильма в прокате в период с 2015 по 2019 год? Фильмы с каким возрастным ограничением собрали больше всего денег в прокате? Меняется ли картина в зависимости от года? Если да, предположим, с чем это может быть связано.\n"
   ]
  },
  {
   "cell_type": "code",
   "execution_count": 43,
   "id": "d98874da-496c-4a7d-98fa-8e543ad5f0bb",
   "metadata": {},
   "outputs": [
    {
     "data": {
      "text/html": [
       "<div>\n",
       "<style scoped>\n",
       "    .dataframe tbody tr th:only-of-type {\n",
       "        vertical-align: middle;\n",
       "    }\n",
       "\n",
       "    .dataframe tbody tr th {\n",
       "        vertical-align: top;\n",
       "    }\n",
       "\n",
       "    .dataframe thead th {\n",
       "        text-align: right;\n",
       "    }\n",
       "</style>\n",
       "<table border=\"1\" class=\"dataframe\">\n",
       "  <thead>\n",
       "    <tr style=\"text-align: right;\">\n",
       "      <th>year_premiere</th>\n",
       "      <th>2015</th>\n",
       "      <th>2016</th>\n",
       "      <th>2017</th>\n",
       "      <th>2018</th>\n",
       "      <th>2019</th>\n",
       "    </tr>\n",
       "    <tr>\n",
       "      <th>age_restriction</th>\n",
       "      <th></th>\n",
       "      <th></th>\n",
       "      <th></th>\n",
       "      <th></th>\n",
       "      <th></th>\n",
       "    </tr>\n",
       "  </thead>\n",
       "  <tbody>\n",
       "    <tr>\n",
       "      <th>«0+» - для любой зрительской аудитории</th>\n",
       "      <td>379054578</td>\n",
       "      <td>150034321</td>\n",
       "      <td>229598930</td>\n",
       "      <td>32449002</td>\n",
       "      <td>17746066</td>\n",
       "    </tr>\n",
       "    <tr>\n",
       "      <th>«12+» - для детей старше 12 лет</th>\n",
       "      <td>13419509570</td>\n",
       "      <td>11150762103</td>\n",
       "      <td>7851427660</td>\n",
       "      <td>14267250435</td>\n",
       "      <td>12680198773</td>\n",
       "    </tr>\n",
       "    <tr>\n",
       "      <th>«16+» - для детей старше 16 лет</th>\n",
       "      <td>10781600601</td>\n",
       "      <td>16594249489</td>\n",
       "      <td>18694590951</td>\n",
       "      <td>16278405946</td>\n",
       "      <td>12753418984</td>\n",
       "    </tr>\n",
       "    <tr>\n",
       "      <th>«18+» - запрещено для детей</th>\n",
       "      <td>5430350628</td>\n",
       "      <td>6793929818</td>\n",
       "      <td>9651495581</td>\n",
       "      <td>8760085501</td>\n",
       "      <td>10121796303</td>\n",
       "    </tr>\n",
       "    <tr>\n",
       "      <th>«6+» - для детей старше 6 лет</th>\n",
       "      <td>8517311820</td>\n",
       "      <td>12053146008</td>\n",
       "      <td>12031034131</td>\n",
       "      <td>9913759294</td>\n",
       "      <td>12704941824</td>\n",
       "    </tr>\n",
       "  </tbody>\n",
       "</table>\n",
       "</div>"
      ],
      "text/plain": [
       "year_premiere                                  2015         2016         2017  \\\n",
       "age_restriction                                                                 \n",
       "«0+» - для любой зрительской аудитории    379054578    150034321    229598930   \n",
       "«12+» - для детей старше 12 лет         13419509570  11150762103   7851427660   \n",
       "«16+» - для детей старше 16 лет         10781600601  16594249489  18694590951   \n",
       "«18+» - запрещено для детей              5430350628   6793929818   9651495581   \n",
       "«6+» - для детей старше 6 лет            8517311820  12053146008  12031034131   \n",
       "\n",
       "year_premiere                                  2018         2019  \n",
       "age_restriction                                                   \n",
       "«0+» - для любой зрительской аудитории     32449002     17746066  \n",
       "«12+» - для детей старше 12 лет         14267250435  12680198773  \n",
       "«16+» - для детей старше 16 лет         16278405946  12753418984  \n",
       "«18+» - запрещено для детей              8760085501  10121796303  \n",
       "«6+» - для детей старше 6 лет            9913759294  12704941824  "
      ]
     },
     "execution_count": 43,
     "metadata": {},
     "output_type": "execute_result"
    }
   ],
   "source": [
    "# сводная таблица\n",
    "box_age_restriction = (data.query('year_premiere >= 2015')\n",
    "                       .pivot_table(index='year_premiere', values='box_office', columns='age_restriction', aggfunc='sum')\n",
    "                       .astype('int64')\n",
    "                      )\n",
    "box_age_restriction.T"
   ]
  },
  {
   "cell_type": "code",
   "execution_count": 44,
   "id": "bf801bdb-7f23-4198-9679-e33068b8911f",
   "metadata": {},
   "outputs": [
    {
     "data": {
      "image/png": "[encoded data removed]",
      "text/plain": [
       "<Figure size 1000x1000 with 1 Axes>"
      ]
     },
     "metadata": {},
     "output_type": "display_data"
    }
   ],
   "source": [
    "# визуализация\n",
    "box_age_restriction.plot(figsize=(10, 10), grid=True, marker='o')\n",
    "plt.title('Сборы по возрастным категориям')\n",
    "plt.xlabel('Год')\n",
    "plt.ylabel('Сумма сборов')\n",
    "plt.show()"
   ]
  },
  {
   "cell_type": "markdown",
   "id": "02e899ce-eeaf-4c83-bad5-172728ec38fd",
   "metadata": {},
   "source": [
    "Возрастное ограничение аудитории влияет на количество сборов, пик в 2017 году по категории 16+. \n"
   ]
  },
  {
   "cell_type": "code",
   "execution_count": 45,
   "id": "f4204285-9f8d-47f4-9170-be78a8cfa024",
   "metadata": {},
   "outputs": [
    {
     "data": {
      "text/html": [
       "<div>\n",
       "<style scoped>\n",
       "    .dataframe tbody tr th:only-of-type {\n",
       "        vertical-align: middle;\n",
       "    }\n",
       "\n",
       "    .dataframe tbody tr th {\n",
       "        vertical-align: top;\n",
       "    }\n",
       "\n",
       "    .dataframe thead th {\n",
       "        text-align: right;\n",
       "    }\n",
       "</style>\n",
       "<table border=\"1\" class=\"dataframe\">\n",
       "  <thead>\n",
       "    <tr style=\"text-align: right;\">\n",
       "      <th></th>\n",
       "      <th>count_film_premiere</th>\n",
       "    </tr>\n",
       "    <tr>\n",
       "      <th>main_genre</th>\n",
       "      <th></th>\n",
       "    </tr>\n",
       "  </thead>\n",
       "  <tbody>\n",
       "    <tr>\n",
       "      <th>nan</th>\n",
       "      <td>494</td>\n",
       "    </tr>\n",
       "    <tr>\n",
       "      <th>драма</th>\n",
       "      <td>466</td>\n",
       "    </tr>\n",
       "    <tr>\n",
       "      <th>комедия</th>\n",
       "      <td>214</td>\n",
       "    </tr>\n",
       "    <tr>\n",
       "      <th>ужасы</th>\n",
       "      <td>167</td>\n",
       "    </tr>\n",
       "    <tr>\n",
       "      <th>мультфильм</th>\n",
       "      <td>163</td>\n",
       "    </tr>\n",
       "  </tbody>\n",
       "</table>\n",
       "</div>"
      ],
      "text/plain": [
       "            count_film_premiere\n",
       "main_genre                     \n",
       "nan                         494\n",
       "драма                       466\n",
       "комедия                     214\n",
       "ужасы                       167\n",
       "мультфильм                  163"
      ]
     },
     "execution_count": 45,
     "metadata": {},
     "output_type": "execute_result"
    }
   ],
   "source": [
    "# сводная таблица по жанрам в 2017 году\n",
    "(data\n",
    " .query('year_premiere >= 2017')\n",
    " .groupby('main_genre', as_index=False)\n",
    " .agg(count_film_premiere = ('title', 'count'),)\n",
    " .set_index('main_genre')\n",
    " .sort_values(by='count_film_premiere', ascending=False)\n",
    " .head()\n",
    ")"
   ]
  },
  {
   "cell_type": "markdown",
   "id": "b73d9c14-b20f-4791-9012-4bd5f458ea7a",
   "metadata": {},
   "source": [
    "Пик в 2017 году по категории 16+ обусловлен выходом большого количества фильмов в категории драма.\n"
   ]
  },
  {
   "cell_type": "code",
   "execution_count": 46,
   "id": "356fa6ce",
   "metadata": {},
   "outputs": [
    {
     "data": {
      "image/png": "[encoded data removed]",
      "text/plain": [
       "<Figure size 800x800 with 1 Axes>"
      ]
     },
     "metadata": {},
     "output_type": "display_data"
    }
   ],
   "source": [
    "temp = data.copy()\n",
    "\n",
    "# для удобства укоротим названия категорий\n",
    "# функция для выбора первого элемента из перечисления\n",
    "def get_first_value(s, sep = ','):  \n",
    "    value_lst = s.split(sep=sep)\n",
    "    return value_lst[0]\n",
    "\n",
    "temp['age_restriction'] = temp['age_restriction'].apply(lambda x: get_first_value(x, sep='-'))\n",
    "\n",
    "# сохраним маску для среза по годам\n",
    "year_mask = temp['year_premiere'] >= 2015\n",
    "\n",
    "plt.figure(figsize=(8, 8))\n",
    "(sns.boxplot(data = temp.loc[year_mask], y = 'box_office', x='age_restriction', showfliers=False, showmeans=True)\n",
    "    .set(title = 'Кассовые сборы в зависимости от возрастной категории', \n",
    "         xlabel = 'Возрастные категории', ylabel = 'Кассовый сбор'))\n",
    "plt.text(0, 3.2e8,'Треугольник показывает среднее значение')\n",
    "plt.show()"
   ]
  },
  {
   "cell_type": "markdown",
   "id": "7cfeed84-dc3a-426c-ad2c-bc7d5e88cc47",
   "metadata": {},
   "source": [
    "### Вывод"
   ]
  },
  {
   "cell_type": "markdown",
   "id": "32309004-ae6e-493a-94df-cd4d6d8232d1",
   "metadata": {},
   "source": [
    "- в 2010 году вышло максимальное количество фильмов;\n",
    "- в 2017 году максимальная доля с информацией о прокате фильмов, но минимальное количество премьер;\n",
    "- минимальная сумма сборов в 2010 году, максимальная в 2018 году;\n",
    "- причина большой разница между средним и медианой заключается в выбросах, то есть присутствуют фильмы с большими сборами;\n",
    "- возрастное ограничение аудитории сильно влияет на количество сборов. Пик в 2017 году по категории 16+ обусловлен выходом большого количества фильмов в категории драма."
   ]
  },
  {
   "cell_type": "markdown",
   "id": "a929f28f-a222-40bd-85ae-58df6aee38bb",
   "metadata": {},
   "source": [
    "## Исследуем фильмы, которые получили государственную поддержку"
   ]
  },
  {
   "cell_type": "markdown",
   "id": "a24fdb04-c247-4a07-9b91-919c1538851b",
   "metadata": {},
   "source": [
    "### Средства на поддержку кино"
   ]
  },
  {
   "cell_type": "code",
   "execution_count": 47,
   "id": "26d7c515-64ab-400d-b7e6-8ab5f2225649",
   "metadata": {},
   "outputs": [
    {
     "data": {
      "text/html": [
       "<div>\n",
       "<style scoped>\n",
       "    .dataframe tbody tr th:only-of-type {\n",
       "        vertical-align: middle;\n",
       "    }\n",
       "\n",
       "    .dataframe tbody tr th {\n",
       "        vertical-align: top;\n",
       "    }\n",
       "\n",
       "    .dataframe thead th {\n",
       "        text-align: right;\n",
       "    }\n",
       "</style>\n",
       "<table border=\"1\" class=\"dataframe\">\n",
       "  <thead>\n",
       "    <tr style=\"text-align: right;\">\n",
       "      <th></th>\n",
       "      <th>money_gov_sup</th>\n",
       "      <th>sum_box_office</th>\n",
       "      <th>sum_budget</th>\n",
       "      <th>rating_genre</th>\n",
       "    </tr>\n",
       "    <tr>\n",
       "      <th>main_genre</th>\n",
       "      <th></th>\n",
       "      <th></th>\n",
       "      <th></th>\n",
       "      <th></th>\n",
       "    </tr>\n",
       "  </thead>\n",
       "  <tbody>\n",
       "    <tr>\n",
       "      <th>драма</th>\n",
       "      <td>5239.406632</td>\n",
       "      <td>9044680590</td>\n",
       "      <td>11051886688</td>\n",
       "      <td>6.42</td>\n",
       "    </tr>\n",
       "    <tr>\n",
       "      <th>комедия</th>\n",
       "      <td>2983.282945</td>\n",
       "      <td>12201549025</td>\n",
       "      <td>5915586880</td>\n",
       "      <td>5.52</td>\n",
       "    </tr>\n",
       "    <tr>\n",
       "      <th>мультфильм</th>\n",
       "      <td>1931.520000</td>\n",
       "      <td>5044931112</td>\n",
       "      <td>5285499467</td>\n",
       "      <td>5.91</td>\n",
       "    </tr>\n",
       "    <tr>\n",
       "      <th>фантастика</th>\n",
       "      <td>1156.000000</td>\n",
       "      <td>679882790</td>\n",
       "      <td>2193100815</td>\n",
       "      <td>6.20</td>\n",
       "    </tr>\n",
       "    <tr>\n",
       "      <th>фэнтези</th>\n",
       "      <td>1032.900000</td>\n",
       "      <td>995836607</td>\n",
       "      <td>2340123765</td>\n",
       "      <td>6.09</td>\n",
       "    </tr>\n",
       "    <tr>\n",
       "      <th>история</th>\n",
       "      <td>1020.000000</td>\n",
       "      <td>1455468234</td>\n",
       "      <td>2145062206</td>\n",
       "      <td>5.35</td>\n",
       "    </tr>\n",
       "    <tr>\n",
       "      <th>триллер</th>\n",
       "      <td>709.645285</td>\n",
       "      <td>475253790</td>\n",
       "      <td>1290960940</td>\n",
       "      <td>5.70</td>\n",
       "    </tr>\n",
       "    <tr>\n",
       "      <th>приключения</th>\n",
       "      <td>696.000000</td>\n",
       "      <td>1205596976</td>\n",
       "      <td>3374742189</td>\n",
       "      <td>5.87</td>\n",
       "    </tr>\n",
       "    <tr>\n",
       "      <th>nan</th>\n",
       "      <td>550.000000</td>\n",
       "      <td>1480414025</td>\n",
       "      <td>942961454</td>\n",
       "      <td>NaN</td>\n",
       "    </tr>\n",
       "    <tr>\n",
       "      <th>детектив</th>\n",
       "      <td>485.000000</td>\n",
       "      <td>138547511</td>\n",
       "      <td>1198222297</td>\n",
       "      <td>6.76</td>\n",
       "    </tr>\n",
       "    <tr>\n",
       "      <th>спорт</th>\n",
       "      <td>455.000000</td>\n",
       "      <td>2967768387</td>\n",
       "      <td>710468965</td>\n",
       "      <td>6.93</td>\n",
       "    </tr>\n",
       "    <tr>\n",
       "      <th>военный</th>\n",
       "      <td>422.000866</td>\n",
       "      <td>1017670471</td>\n",
       "      <td>1285906825</td>\n",
       "      <td>6.47</td>\n",
       "    </tr>\n",
       "    <tr>\n",
       "      <th>мелодрама</th>\n",
       "      <td>375.000000</td>\n",
       "      <td>44554950</td>\n",
       "      <td>918005334</td>\n",
       "      <td>5.91</td>\n",
       "    </tr>\n",
       "    <tr>\n",
       "      <th>ужасы</th>\n",
       "      <td>355.000000</td>\n",
       "      <td>710123189</td>\n",
       "      <td>563877625</td>\n",
       "      <td>5.20</td>\n",
       "    </tr>\n",
       "    <tr>\n",
       "      <th>семейный</th>\n",
       "      <td>339.000000</td>\n",
       "      <td>584424749</td>\n",
       "      <td>636799787</td>\n",
       "      <td>5.41</td>\n",
       "    </tr>\n",
       "    <tr>\n",
       "      <th>криминал</th>\n",
       "      <td>280.000000</td>\n",
       "      <td>239793863</td>\n",
       "      <td>426594781</td>\n",
       "      <td>7.50</td>\n",
       "    </tr>\n",
       "    <tr>\n",
       "      <th>боевик</th>\n",
       "      <td>254.000000</td>\n",
       "      <td>399356496</td>\n",
       "      <td>603436808</td>\n",
       "      <td>6.34</td>\n",
       "    </tr>\n",
       "    <tr>\n",
       "      <th>мюзикл</th>\n",
       "      <td>240.453119</td>\n",
       "      <td>101705004</td>\n",
       "      <td>564197472</td>\n",
       "      <td>6.55</td>\n",
       "    </tr>\n",
       "    <tr>\n",
       "      <th>детский</th>\n",
       "      <td>119.000000</td>\n",
       "      <td>3013652</td>\n",
       "      <td>183898004</td>\n",
       "      <td>7.12</td>\n",
       "    </tr>\n",
       "    <tr>\n",
       "      <th>биография</th>\n",
       "      <td>112.510000</td>\n",
       "      <td>516883037</td>\n",
       "      <td>528933637</td>\n",
       "      <td>6.90</td>\n",
       "    </tr>\n",
       "    <tr>\n",
       "      <th>реальное ТВ</th>\n",
       "      <td>53.000000</td>\n",
       "      <td>32721103</td>\n",
       "      <td>80000000</td>\n",
       "      <td>5.60</td>\n",
       "    </tr>\n",
       "  </tbody>\n",
       "</table>\n",
       "</div>"
      ],
      "text/plain": [
       "             money_gov_sup  sum_box_office   sum_budget  rating_genre\n",
       "main_genre                                                           \n",
       "драма          5239.406632      9044680590  11051886688          6.42\n",
       "комедия        2983.282945     12201549025   5915586880          5.52\n",
       "мультфильм     1931.520000      5044931112   5285499467          5.91\n",
       "фантастика     1156.000000       679882790   2193100815          6.20\n",
       "фэнтези        1032.900000       995836607   2340123765          6.09\n",
       "история        1020.000000      1455468234   2145062206          5.35\n",
       "триллер         709.645285       475253790   1290960940          5.70\n",
       "приключения     696.000000      1205596976   3374742189          5.87\n",
       "nan             550.000000      1480414025    942961454           NaN\n",
       "детектив        485.000000       138547511   1198222297          6.76\n",
       "спорт           455.000000      2967768387    710468965          6.93\n",
       "военный         422.000866      1017670471   1285906825          6.47\n",
       "мелодрама       375.000000        44554950    918005334          5.91\n",
       "ужасы           355.000000       710123189    563877625          5.20\n",
       "семейный        339.000000       584424749    636799787          5.41\n",
       "криминал        280.000000       239793863    426594781          7.50\n",
       "боевик          254.000000       399356496    603436808          6.34\n",
       "мюзикл          240.453119       101705004    564197472          6.55\n",
       "детский         119.000000         3013652    183898004          7.12\n",
       "биография       112.510000       516883037    528933637          6.90\n",
       "реальное ТВ      53.000000        32721103     80000000          5.60"
      ]
     },
     "execution_count": 47,
     "metadata": {},
     "output_type": "execute_result"
    }
   ],
   "source": [
    "# сводная таблица по жанрам\n",
    "box_genre = data[data['money_gov_sup'].notna()]\n",
    "box_genre = (box_genre\n",
    "             .query('money_gov_sup > 0')\n",
    "             .groupby('main_genre', as_index=False)\n",
    "             .agg(money_gov_sup = ('money_gov_sup', 'sum'),\n",
    "                  sum_box_office = ('box_office', 'sum'),\n",
    "                  sum_budget = ('budget', 'sum'),\n",
    "                  rating_genre = ('ratings', 'mean'))\n",
    "             .set_index('main_genre')\n",
    "             .sort_values(by='money_gov_sup', ascending=False)\n",
    "             .round(2)\n",
    "            )\n",
    "box_genre[['money_gov_sup','sum_box_office','sum_budget']] = box_genre\\\n",
    "[['money_gov_sup','sum_box_office','sum_budget']].astype('int64')\n",
    "box_genre['money_gov_sup'] /= 1000000\n",
    "#box_genre = box_genre[box_genre['rating_genre'].notna()]\n",
    "box_genre"
   ]
  },
  {
   "cell_type": "markdown",
   "id": "5a711d5e-cdd0-4bff-9b41-72578da12a18",
   "metadata": {},
   "source": [
    "Жанр драма лидирует в государственной поддержке, реальное ТВ хуже всего спонсируют.\n"
   ]
  },
  {
   "cell_type": "markdown",
   "id": "4ed5bae2-4f62-485e-a9f2-11fcda4a534c",
   "metadata": {},
   "source": [
    "### Окупаемость фильмов"
   ]
  },
  {
   "cell_type": "markdown",
   "id": "12a95322-40eb-4c3e-ad3f-e6c0cddc50b3",
   "metadata": {},
   "source": [
    "Проверим, хорошо ли окупаются такие фильмы.\n"
   ]
  },
  {
   "cell_type": "code",
   "execution_count": 48,
   "id": "80e449c4-ddf8-4917-bd03-f0b488af9e05",
   "metadata": {},
   "outputs": [
    {
     "data": {
      "text/html": [
       "<div>\n",
       "<style scoped>\n",
       "    .dataframe tbody tr th:only-of-type {\n",
       "        vertical-align: middle;\n",
       "    }\n",
       "\n",
       "    .dataframe tbody tr th {\n",
       "        vertical-align: top;\n",
       "    }\n",
       "\n",
       "    .dataframe thead th {\n",
       "        text-align: right;\n",
       "    }\n",
       "</style>\n",
       "<table border=\"1\" class=\"dataframe\">\n",
       "  <thead>\n",
       "    <tr style=\"text-align: right;\">\n",
       "      <th></th>\n",
       "      <th>money_gov_sup</th>\n",
       "      <th>sum_box_office</th>\n",
       "      <th>sum_budget</th>\n",
       "      <th>rating_genre</th>\n",
       "      <th>ratio</th>\n",
       "    </tr>\n",
       "    <tr>\n",
       "      <th>main_genre</th>\n",
       "      <th></th>\n",
       "      <th></th>\n",
       "      <th></th>\n",
       "      <th></th>\n",
       "      <th></th>\n",
       "    </tr>\n",
       "  </thead>\n",
       "  <tbody>\n",
       "    <tr>\n",
       "      <th>спорт</th>\n",
       "      <td>455.000000</td>\n",
       "      <td>2967768387</td>\n",
       "      <td>710468965</td>\n",
       "      <td>6.93</td>\n",
       "      <td>4.2</td>\n",
       "    </tr>\n",
       "    <tr>\n",
       "      <th>комедия</th>\n",
       "      <td>2983.282945</td>\n",
       "      <td>12201549025</td>\n",
       "      <td>5915586880</td>\n",
       "      <td>5.52</td>\n",
       "      <td>2.1</td>\n",
       "    </tr>\n",
       "    <tr>\n",
       "      <th>nan</th>\n",
       "      <td>550.000000</td>\n",
       "      <td>1480414025</td>\n",
       "      <td>942961454</td>\n",
       "      <td>NaN</td>\n",
       "      <td>1.6</td>\n",
       "    </tr>\n",
       "    <tr>\n",
       "      <th>ужасы</th>\n",
       "      <td>355.000000</td>\n",
       "      <td>710123189</td>\n",
       "      <td>563877625</td>\n",
       "      <td>5.20</td>\n",
       "      <td>1.3</td>\n",
       "    </tr>\n",
       "    <tr>\n",
       "      <th>мультфильм</th>\n",
       "      <td>1931.520000</td>\n",
       "      <td>5044931112</td>\n",
       "      <td>5285499467</td>\n",
       "      <td>5.91</td>\n",
       "      <td>1.0</td>\n",
       "    </tr>\n",
       "    <tr>\n",
       "      <th>биография</th>\n",
       "      <td>112.510000</td>\n",
       "      <td>516883037</td>\n",
       "      <td>528933637</td>\n",
       "      <td>6.90</td>\n",
       "      <td>1.0</td>\n",
       "    </tr>\n",
       "    <tr>\n",
       "      <th>семейный</th>\n",
       "      <td>339.000000</td>\n",
       "      <td>584424749</td>\n",
       "      <td>636799787</td>\n",
       "      <td>5.41</td>\n",
       "      <td>0.9</td>\n",
       "    </tr>\n",
       "    <tr>\n",
       "      <th>военный</th>\n",
       "      <td>422.000866</td>\n",
       "      <td>1017670471</td>\n",
       "      <td>1285906825</td>\n",
       "      <td>6.47</td>\n",
       "      <td>0.8</td>\n",
       "    </tr>\n",
       "    <tr>\n",
       "      <th>драма</th>\n",
       "      <td>5239.406632</td>\n",
       "      <td>9044680590</td>\n",
       "      <td>11051886688</td>\n",
       "      <td>6.42</td>\n",
       "      <td>0.8</td>\n",
       "    </tr>\n",
       "    <tr>\n",
       "      <th>история</th>\n",
       "      <td>1020.000000</td>\n",
       "      <td>1455468234</td>\n",
       "      <td>2145062206</td>\n",
       "      <td>5.35</td>\n",
       "      <td>0.7</td>\n",
       "    </tr>\n",
       "    <tr>\n",
       "      <th>боевик</th>\n",
       "      <td>254.000000</td>\n",
       "      <td>399356496</td>\n",
       "      <td>603436808</td>\n",
       "      <td>6.34</td>\n",
       "      <td>0.7</td>\n",
       "    </tr>\n",
       "    <tr>\n",
       "      <th>криминал</th>\n",
       "      <td>280.000000</td>\n",
       "      <td>239793863</td>\n",
       "      <td>426594781</td>\n",
       "      <td>7.50</td>\n",
       "      <td>0.6</td>\n",
       "    </tr>\n",
       "    <tr>\n",
       "      <th>приключения</th>\n",
       "      <td>696.000000</td>\n",
       "      <td>1205596976</td>\n",
       "      <td>3374742189</td>\n",
       "      <td>5.87</td>\n",
       "      <td>0.4</td>\n",
       "    </tr>\n",
       "    <tr>\n",
       "      <th>триллер</th>\n",
       "      <td>709.645285</td>\n",
       "      <td>475253790</td>\n",
       "      <td>1290960940</td>\n",
       "      <td>5.70</td>\n",
       "      <td>0.4</td>\n",
       "    </tr>\n",
       "    <tr>\n",
       "      <th>фэнтези</th>\n",
       "      <td>1032.900000</td>\n",
       "      <td>995836607</td>\n",
       "      <td>2340123765</td>\n",
       "      <td>6.09</td>\n",
       "      <td>0.4</td>\n",
       "    </tr>\n",
       "    <tr>\n",
       "      <th>реальное ТВ</th>\n",
       "      <td>53.000000</td>\n",
       "      <td>32721103</td>\n",
       "      <td>80000000</td>\n",
       "      <td>5.60</td>\n",
       "      <td>0.4</td>\n",
       "    </tr>\n",
       "    <tr>\n",
       "      <th>фантастика</th>\n",
       "      <td>1156.000000</td>\n",
       "      <td>679882790</td>\n",
       "      <td>2193100815</td>\n",
       "      <td>6.20</td>\n",
       "      <td>0.3</td>\n",
       "    </tr>\n",
       "    <tr>\n",
       "      <th>мюзикл</th>\n",
       "      <td>240.453119</td>\n",
       "      <td>101705004</td>\n",
       "      <td>564197472</td>\n",
       "      <td>6.55</td>\n",
       "      <td>0.2</td>\n",
       "    </tr>\n",
       "    <tr>\n",
       "      <th>детектив</th>\n",
       "      <td>485.000000</td>\n",
       "      <td>138547511</td>\n",
       "      <td>1198222297</td>\n",
       "      <td>6.76</td>\n",
       "      <td>0.1</td>\n",
       "    </tr>\n",
       "    <tr>\n",
       "      <th>мелодрама</th>\n",
       "      <td>375.000000</td>\n",
       "      <td>44554950</td>\n",
       "      <td>918005334</td>\n",
       "      <td>5.91</td>\n",
       "      <td>0.0</td>\n",
       "    </tr>\n",
       "    <tr>\n",
       "      <th>детский</th>\n",
       "      <td>119.000000</td>\n",
       "      <td>3013652</td>\n",
       "      <td>183898004</td>\n",
       "      <td>7.12</td>\n",
       "      <td>0.0</td>\n",
       "    </tr>\n",
       "  </tbody>\n",
       "</table>\n",
       "</div>"
      ],
      "text/plain": [
       "             money_gov_sup  sum_box_office   sum_budget  rating_genre  ratio\n",
       "main_genre                                                                  \n",
       "спорт           455.000000      2967768387    710468965          6.93    4.2\n",
       "комедия        2983.282945     12201549025   5915586880          5.52    2.1\n",
       "nan             550.000000      1480414025    942961454           NaN    1.6\n",
       "ужасы           355.000000       710123189    563877625          5.20    1.3\n",
       "мультфильм     1931.520000      5044931112   5285499467          5.91    1.0\n",
       "биография       112.510000       516883037    528933637          6.90    1.0\n",
       "семейный        339.000000       584424749    636799787          5.41    0.9\n",
       "военный         422.000866      1017670471   1285906825          6.47    0.8\n",
       "драма          5239.406632      9044680590  11051886688          6.42    0.8\n",
       "история        1020.000000      1455468234   2145062206          5.35    0.7\n",
       "боевик          254.000000       399356496    603436808          6.34    0.7\n",
       "криминал        280.000000       239793863    426594781          7.50    0.6\n",
       "приключения     696.000000      1205596976   3374742189          5.87    0.4\n",
       "триллер         709.645285       475253790   1290960940          5.70    0.4\n",
       "фэнтези        1032.900000       995836607   2340123765          6.09    0.4\n",
       "реальное ТВ      53.000000        32721103     80000000          5.60    0.4\n",
       "фантастика     1156.000000       679882790   2193100815          6.20    0.3\n",
       "мюзикл          240.453119       101705004    564197472          6.55    0.2\n",
       "детектив        485.000000       138547511   1198222297          6.76    0.1\n",
       "мелодрама       375.000000        44554950    918005334          5.91    0.0\n",
       "детский         119.000000         3013652    183898004          7.12    0.0"
      ]
     },
     "execution_count": 48,
     "metadata": {},
     "output_type": "execute_result"
    }
   ],
   "source": [
    "# коэфициен окупаемости\n",
    "box_genre['ratio'] = (box_genre.sum_box_office / box_genre.sum_budget).round(1)\n",
    "box_genre.sort_values(by='ratio', ascending=False)"
   ]
  },
  {
   "cell_type": "markdown",
   "id": "d6b16958-b72a-42c0-8aa2-16ae7351d778",
   "metadata": {},
   "source": [
    "Самый окупаемый жанр спорт, худши для инвестирования жанр детский.\n"
   ]
  },
  {
   "cell_type": "markdown",
   "id": "d6e94c18-3919-4ee3-9f7b-5a0db08cd71c",
   "metadata": {},
   "source": [
    "### Рейтинг"
   ]
  },
  {
   "cell_type": "markdown",
   "id": "c11a7617-bea4-4a4f-97c6-aea67589d58b",
   "metadata": {},
   "source": [
    "Какой рейтинг у спонсируемых государством фильмов.\n",
    "\n"
   ]
  },
  {
   "cell_type": "code",
   "execution_count": 49,
   "id": "6de754dd-7d0e-4f2d-a88f-9e585d39b6f3",
   "metadata": {},
   "outputs": [
    {
     "data": {
      "text/html": [
       "<div>\n",
       "<style scoped>\n",
       "    .dataframe tbody tr th:only-of-type {\n",
       "        vertical-align: middle;\n",
       "    }\n",
       "\n",
       "    .dataframe tbody tr th {\n",
       "        vertical-align: top;\n",
       "    }\n",
       "\n",
       "    .dataframe thead th {\n",
       "        text-align: right;\n",
       "    }\n",
       "</style>\n",
       "<table border=\"1\" class=\"dataframe\">\n",
       "  <thead>\n",
       "    <tr style=\"text-align: right;\">\n",
       "      <th></th>\n",
       "      <th>money_gov_sup</th>\n",
       "      <th>sum_box_office</th>\n",
       "      <th>sum_budget</th>\n",
       "      <th>rating_genre</th>\n",
       "      <th>ratio</th>\n",
       "    </tr>\n",
       "    <tr>\n",
       "      <th>main_genre</th>\n",
       "      <th></th>\n",
       "      <th></th>\n",
       "      <th></th>\n",
       "      <th></th>\n",
       "      <th></th>\n",
       "    </tr>\n",
       "  </thead>\n",
       "  <tbody>\n",
       "    <tr>\n",
       "      <th>криминал</th>\n",
       "      <td>280.000000</td>\n",
       "      <td>239793863</td>\n",
       "      <td>426594781</td>\n",
       "      <td>7.50</td>\n",
       "      <td>0.6</td>\n",
       "    </tr>\n",
       "    <tr>\n",
       "      <th>детский</th>\n",
       "      <td>119.000000</td>\n",
       "      <td>3013652</td>\n",
       "      <td>183898004</td>\n",
       "      <td>7.12</td>\n",
       "      <td>0.0</td>\n",
       "    </tr>\n",
       "    <tr>\n",
       "      <th>спорт</th>\n",
       "      <td>455.000000</td>\n",
       "      <td>2967768387</td>\n",
       "      <td>710468965</td>\n",
       "      <td>6.93</td>\n",
       "      <td>4.2</td>\n",
       "    </tr>\n",
       "    <tr>\n",
       "      <th>биография</th>\n",
       "      <td>112.510000</td>\n",
       "      <td>516883037</td>\n",
       "      <td>528933637</td>\n",
       "      <td>6.90</td>\n",
       "      <td>1.0</td>\n",
       "    </tr>\n",
       "    <tr>\n",
       "      <th>детектив</th>\n",
       "      <td>485.000000</td>\n",
       "      <td>138547511</td>\n",
       "      <td>1198222297</td>\n",
       "      <td>6.76</td>\n",
       "      <td>0.1</td>\n",
       "    </tr>\n",
       "    <tr>\n",
       "      <th>мюзикл</th>\n",
       "      <td>240.453119</td>\n",
       "      <td>101705004</td>\n",
       "      <td>564197472</td>\n",
       "      <td>6.55</td>\n",
       "      <td>0.2</td>\n",
       "    </tr>\n",
       "    <tr>\n",
       "      <th>военный</th>\n",
       "      <td>422.000866</td>\n",
       "      <td>1017670471</td>\n",
       "      <td>1285906825</td>\n",
       "      <td>6.47</td>\n",
       "      <td>0.8</td>\n",
       "    </tr>\n",
       "    <tr>\n",
       "      <th>драма</th>\n",
       "      <td>5239.406632</td>\n",
       "      <td>9044680590</td>\n",
       "      <td>11051886688</td>\n",
       "      <td>6.42</td>\n",
       "      <td>0.8</td>\n",
       "    </tr>\n",
       "    <tr>\n",
       "      <th>боевик</th>\n",
       "      <td>254.000000</td>\n",
       "      <td>399356496</td>\n",
       "      <td>603436808</td>\n",
       "      <td>6.34</td>\n",
       "      <td>0.7</td>\n",
       "    </tr>\n",
       "    <tr>\n",
       "      <th>фантастика</th>\n",
       "      <td>1156.000000</td>\n",
       "      <td>679882790</td>\n",
       "      <td>2193100815</td>\n",
       "      <td>6.20</td>\n",
       "      <td>0.3</td>\n",
       "    </tr>\n",
       "    <tr>\n",
       "      <th>фэнтези</th>\n",
       "      <td>1032.900000</td>\n",
       "      <td>995836607</td>\n",
       "      <td>2340123765</td>\n",
       "      <td>6.09</td>\n",
       "      <td>0.4</td>\n",
       "    </tr>\n",
       "    <tr>\n",
       "      <th>мелодрама</th>\n",
       "      <td>375.000000</td>\n",
       "      <td>44554950</td>\n",
       "      <td>918005334</td>\n",
       "      <td>5.91</td>\n",
       "      <td>0.0</td>\n",
       "    </tr>\n",
       "    <tr>\n",
       "      <th>мультфильм</th>\n",
       "      <td>1931.520000</td>\n",
       "      <td>5044931112</td>\n",
       "      <td>5285499467</td>\n",
       "      <td>5.91</td>\n",
       "      <td>1.0</td>\n",
       "    </tr>\n",
       "    <tr>\n",
       "      <th>приключения</th>\n",
       "      <td>696.000000</td>\n",
       "      <td>1205596976</td>\n",
       "      <td>3374742189</td>\n",
       "      <td>5.87</td>\n",
       "      <td>0.4</td>\n",
       "    </tr>\n",
       "    <tr>\n",
       "      <th>триллер</th>\n",
       "      <td>709.645285</td>\n",
       "      <td>475253790</td>\n",
       "      <td>1290960940</td>\n",
       "      <td>5.70</td>\n",
       "      <td>0.4</td>\n",
       "    </tr>\n",
       "    <tr>\n",
       "      <th>реальное ТВ</th>\n",
       "      <td>53.000000</td>\n",
       "      <td>32721103</td>\n",
       "      <td>80000000</td>\n",
       "      <td>5.60</td>\n",
       "      <td>0.4</td>\n",
       "    </tr>\n",
       "    <tr>\n",
       "      <th>комедия</th>\n",
       "      <td>2983.282945</td>\n",
       "      <td>12201549025</td>\n",
       "      <td>5915586880</td>\n",
       "      <td>5.52</td>\n",
       "      <td>2.1</td>\n",
       "    </tr>\n",
       "    <tr>\n",
       "      <th>семейный</th>\n",
       "      <td>339.000000</td>\n",
       "      <td>584424749</td>\n",
       "      <td>636799787</td>\n",
       "      <td>5.41</td>\n",
       "      <td>0.9</td>\n",
       "    </tr>\n",
       "    <tr>\n",
       "      <th>история</th>\n",
       "      <td>1020.000000</td>\n",
       "      <td>1455468234</td>\n",
       "      <td>2145062206</td>\n",
       "      <td>5.35</td>\n",
       "      <td>0.7</td>\n",
       "    </tr>\n",
       "    <tr>\n",
       "      <th>ужасы</th>\n",
       "      <td>355.000000</td>\n",
       "      <td>710123189</td>\n",
       "      <td>563877625</td>\n",
       "      <td>5.20</td>\n",
       "      <td>1.3</td>\n",
       "    </tr>\n",
       "    <tr>\n",
       "      <th>nan</th>\n",
       "      <td>550.000000</td>\n",
       "      <td>1480414025</td>\n",
       "      <td>942961454</td>\n",
       "      <td>NaN</td>\n",
       "      <td>1.6</td>\n",
       "    </tr>\n",
       "  </tbody>\n",
       "</table>\n",
       "</div>"
      ],
      "text/plain": [
       "             money_gov_sup  sum_box_office   sum_budget  rating_genre  ratio\n",
       "main_genre                                                                  \n",
       "криминал        280.000000       239793863    426594781          7.50    0.6\n",
       "детский         119.000000         3013652    183898004          7.12    0.0\n",
       "спорт           455.000000      2967768387    710468965          6.93    4.2\n",
       "биография       112.510000       516883037    528933637          6.90    1.0\n",
       "детектив        485.000000       138547511   1198222297          6.76    0.1\n",
       "мюзикл          240.453119       101705004    564197472          6.55    0.2\n",
       "военный         422.000866      1017670471   1285906825          6.47    0.8\n",
       "драма          5239.406632      9044680590  11051886688          6.42    0.8\n",
       "боевик          254.000000       399356496    603436808          6.34    0.7\n",
       "фантастика     1156.000000       679882790   2193100815          6.20    0.3\n",
       "фэнтези        1032.900000       995836607   2340123765          6.09    0.4\n",
       "мелодрама       375.000000        44554950    918005334          5.91    0.0\n",
       "мультфильм     1931.520000      5044931112   5285499467          5.91    1.0\n",
       "приключения     696.000000      1205596976   3374742189          5.87    0.4\n",
       "триллер         709.645285       475253790   1290960940          5.70    0.4\n",
       "реальное ТВ      53.000000        32721103     80000000          5.60    0.4\n",
       "комедия        2983.282945     12201549025   5915586880          5.52    2.1\n",
       "семейный        339.000000       584424749    636799787          5.41    0.9\n",
       "история        1020.000000      1455468234   2145062206          5.35    0.7\n",
       "ужасы           355.000000       710123189    563877625          5.20    1.3\n",
       "nan             550.000000      1480414025    942961454           NaN    1.6"
      ]
     },
     "execution_count": 49,
     "metadata": {},
     "output_type": "execute_result"
    }
   ],
   "source": [
    "box_genre.sort_values(by='rating_genre', ascending=False)"
   ]
  },
  {
   "cell_type": "markdown",
   "id": "ab110d06-9851-41b7-832a-611904779f0e",
   "metadata": {},
   "source": [
    "Самые рейтинговые фильмы в жанре криминал, а ужасы не популярны у зрителей.\n",
    "\n"
   ]
  },
  {
   "cell_type": "markdown",
   "id": "fd37e607-48b1-4162-b8e8-785397756e6c",
   "metadata": {},
   "source": [
    "### Вывод"
   ]
  },
  {
   "cell_type": "code",
   "execution_count": 50,
   "id": "39d70a78-4d00-4a29-a0d8-f59a0c422816",
   "metadata": {},
   "outputs": [
    {
     "data": {
      "image/png": "[encoded data removed]",
      "text/plain": [
       "<Figure size 640x480 with 1 Axes>"
      ]
     },
     "metadata": {},
     "output_type": "display_data"
    }
   ],
   "source": [
    "# визуализация гос поддержки по жанрам\n",
    "sns.scatterplot(data=box_genre, x='money_gov_sup', y='main_genre', size='ratio', legend=True, hue='main_genre', sizes=(20, 500))\n",
    "plt.rcParams['figure.figsize'] = [8, 8]\n",
    "plt.legend(bbox_to_anchor=[1, 1], loc='upper left', ncol=2)\n",
    "plt.title('Визуализация гос поддержки по жанрам')\n",
    "plt.xlabel('Гос поддержка, млн')\n",
    "plt.ylabel('Жанр')\n",
    "plt.show()"
   ]
  },
  {
   "cell_type": "markdown",
   "id": "3b45a419-ee87-4693-9462-6bfffc3826c4",
   "metadata": {},
   "source": [
    "- жанр драма лидирует в государственной поддержке, жанр реальное ТВ хуже всего спонсируют;\n",
    "- самый окупаемый жанр спорт, худши в для инвестирования жанр детский;\n",
    "- самые рейтинговые фильмы в жанре криминал, а ужасы не популярны у зрителей.\n",
    "\n"
   ]
  },
  {
   "cell_type": "markdown",
   "id": "95877e60-2060-46c5-8e92-343d3d1b49ef",
   "metadata": {},
   "source": [
    "## Общий вывод"
   ]
  },
  {
   "cell_type": "markdown",
   "id": "4f22017b-e9d2-4aa0-94b7-35db000d6056",
   "metadata": {},
   "source": [
    "В данном проекте выполнили следующие шаги.\n",
    "\n",
    "Провели предобработку данных:\n",
    "\n",
    "- все объекты датасета mkrf_movies вошли в объединенный датафрейм data;\n",
    "- изменили формат данных для удобного использования;\n",
    "- удалили 0,3% из данных в столбцах *film_studio, production_country, director*;\n",
    "- заполнили 7% пропусков в столбце *producer* записью unknow, чтобы сохранить данные;\n",
    "- в столбцах *refundable_support, nonrefundable_support, budget, financing_source, ratings, box_office, genres* есть пропуски, физически заменить такие пропуски очень сложно, Оставим как есть;\n",
    "- присутствуют дупликаты из-за того, что существуют фильмы с одинаковыми названиями;\n",
    "- исключили строки с дупликатами, которые появились из-за опечатки;\n",
    "- предположим, что проблема в категориальных столбцах, это большое количество уникальных значений;\n",
    "- исключили фильмы, с нулевым бюджетом;\n",
    "- добавили столбцы, для детального анализы данных;\n",
    "- количество потерь после фильтрации и предобработки пределах нормы, 0,6%.\n",
    "\n",
    "Провели сследовательский анализ данных:\n",
    "\n",
    "- в 2010 году вышло максимальное количество фильмов. Близкое к максимуму количество примьер;\n",
    "- в 2017 году максимальная доля с информацией о прокате фильмов, но минимальное количество премьер;\n",
    "- минимальная сумма сборов в 2010 году, максимальная в 2018 году;\n",
    "- причина большой разница между средним и медианой заключается в выбросах, то есть присутствуют фильмы с большими сборами;\n",
    "- возрастное ограничение аудитории сильно влияет на количество сборов. Пик в 2017 году по категории 16+ обусловлен выходом большого количества фильмов в категории драма.\n",
    "\n",
    "Исследовали фильмы, которые получили государственную поддержку:\n",
    "\n",
    "- жанр драма лидирует в государственной поддержке, жанр реальное ТВ хуже всего спонсируют;\n",
    "- самый окупаемый жанр спорт, худши в для инвестирования жанр детский;\n",
    "- самые рейтинговые фильмы в жанре криминал, а ужасы не популярны у зрителей.\n"
   ]
  }
 ],
 "metadata": {
  "ExecuteTimeLog": [
   {
    "duration": 1326,
    "start_time": "2024-07-03T08:12:13.326Z"
   },
   {
    "duration": 348,
    "start_time": "2024-07-03T08:12:14.654Z"
   },
   {
    "duration": 22,
    "start_time": "2024-07-03T08:12:15.004Z"
   },
   {
    "duration": 33,
    "start_time": "2024-07-03T08:12:15.027Z"
   },
   {
    "duration": 19,
    "start_time": "2024-07-03T08:12:15.062Z"
   },
   {
    "duration": 15,
    "start_time": "2024-07-03T08:12:15.082Z"
   },
   {
    "duration": 42,
    "start_time": "2024-07-03T08:12:15.099Z"
   },
   {
    "duration": 615,
    "start_time": "2024-07-03T08:12:15.142Z"
   },
   {
    "duration": 4,
    "start_time": "2024-07-03T08:12:15.759Z"
   },
   {
    "duration": 14,
    "start_time": "2024-07-03T08:12:15.764Z"
   },
   {
    "duration": 14,
    "start_time": "2024-07-03T08:12:15.780Z"
   },
   {
    "duration": 11,
    "start_time": "2024-07-03T08:12:15.796Z"
   },
   {
    "duration": 38,
    "start_time": "2024-07-03T08:12:15.808Z"
   },
   {
    "duration": 3,
    "start_time": "2024-07-03T08:12:15.850Z"
   },
   {
    "duration": 222,
    "start_time": "2024-07-03T08:12:15.855Z"
   },
   {
    "duration": 9,
    "start_time": "2024-07-03T08:12:16.078Z"
   },
   {
    "duration": 5,
    "start_time": "2024-07-03T08:12:16.088Z"
   },
   {
    "duration": 10,
    "start_time": "2024-07-03T08:12:16.095Z"
   },
   {
    "duration": 4,
    "start_time": "2024-07-03T08:12:16.106Z"
   },
   {
    "duration": 30,
    "start_time": "2024-07-03T08:12:16.112Z"
   },
   {
    "duration": 14,
    "start_time": "2024-07-03T08:12:16.144Z"
   },
   {
    "duration": 50,
    "start_time": "2024-07-03T08:12:16.159Z"
   },
   {
    "duration": 31,
    "start_time": "2024-07-03T08:12:16.211Z"
   },
   {
    "duration": 16,
    "start_time": "2024-07-03T08:12:16.244Z"
   },
   {
    "duration": 9,
    "start_time": "2024-07-03T08:12:16.261Z"
   },
   {
    "duration": 5,
    "start_time": "2024-07-03T08:12:16.271Z"
   },
   {
    "duration": 10,
    "start_time": "2024-07-03T08:12:16.277Z"
   },
   {
    "duration": 5,
    "start_time": "2024-07-03T08:12:16.288Z"
   },
   {
    "duration": 8,
    "start_time": "2024-07-03T08:12:16.294Z"
   },
   {
    "duration": 15,
    "start_time": "2024-07-03T08:12:16.303Z"
   },
   {
    "duration": 154,
    "start_time": "2024-07-03T08:12:16.320Z"
   },
   {
    "duration": 165,
    "start_time": "2024-07-03T08:12:16.475Z"
   },
   {
    "duration": 9,
    "start_time": "2024-07-03T08:12:16.642Z"
   },
   {
    "duration": 163,
    "start_time": "2024-07-03T08:12:16.652Z"
   },
   {
    "duration": 20,
    "start_time": "2024-07-03T08:12:16.817Z"
   },
   {
    "duration": 225,
    "start_time": "2024-07-03T08:12:16.838Z"
   },
   {
    "duration": 22,
    "start_time": "2024-07-03T08:12:17.064Z"
   },
   {
    "duration": 319,
    "start_time": "2024-07-03T08:12:17.088Z"
   },
   {
    "duration": 17,
    "start_time": "2024-07-03T08:12:17.408Z"
   },
   {
    "duration": 33,
    "start_time": "2024-07-03T08:12:17.427Z"
   },
   {
    "duration": 20,
    "start_time": "2024-07-03T08:12:17.464Z"
   },
   {
    "duration": 77,
    "start_time": "2024-07-03T08:12:17.485Z"
   },
   {
    "duration": 892,
    "start_time": "2024-07-03T08:12:17.565Z"
   },
   {
    "duration": 7,
    "start_time": "2024-07-03T09:44:50.681Z"
   },
   {
    "duration": 1099,
    "start_time": "2024-07-03T09:45:02.141Z"
   },
   {
    "duration": 406,
    "start_time": "2024-07-03T09:45:03.241Z"
   },
   {
    "duration": 21,
    "start_time": "2024-07-03T09:45:03.648Z"
   },
   {
    "duration": 8,
    "start_time": "2024-07-03T09:45:03.671Z"
   },
   {
    "duration": 65,
    "start_time": "2024-07-03T09:45:03.681Z"
   },
   {
    "duration": 15,
    "start_time": "2024-07-03T09:45:03.748Z"
   },
   {
    "duration": 17,
    "start_time": "2024-07-03T09:45:03.764Z"
   },
   {
    "duration": 1250,
    "start_time": "2024-07-03T09:45:03.782Z"
   },
   {
    "duration": 4,
    "start_time": "2024-07-03T09:45:05.034Z"
   },
   {
    "duration": 13,
    "start_time": "2024-07-03T09:45:05.040Z"
   },
   {
    "duration": 41,
    "start_time": "2024-07-03T09:45:05.054Z"
   },
   {
    "duration": 9,
    "start_time": "2024-07-03T09:45:05.096Z"
   },
   {
    "duration": 9,
    "start_time": "2024-07-03T09:45:05.106Z"
   },
   {
    "duration": 11,
    "start_time": "2024-07-03T09:45:05.118Z"
   },
   {
    "duration": 4,
    "start_time": "2024-07-03T09:45:05.131Z"
   },
   {
    "duration": 211,
    "start_time": "2024-07-03T09:45:05.136Z"
   },
   {
    "duration": 8,
    "start_time": "2024-07-03T09:45:05.349Z"
   },
   {
    "duration": 4,
    "start_time": "2024-07-03T09:45:05.359Z"
   },
   {
    "duration": 12,
    "start_time": "2024-07-03T09:45:05.364Z"
   },
   {
    "duration": 5,
    "start_time": "2024-07-03T09:45:05.377Z"
   },
   {
    "duration": 11,
    "start_time": "2024-07-03T09:45:05.383Z"
   },
   {
    "duration": 51,
    "start_time": "2024-07-03T09:45:05.395Z"
   },
   {
    "duration": 58,
    "start_time": "2024-07-03T09:45:05.448Z"
   },
   {
    "duration": 18,
    "start_time": "2024-07-03T09:45:05.507Z"
   },
   {
    "duration": 9,
    "start_time": "2024-07-03T09:45:05.537Z"
   },
   {
    "duration": 6,
    "start_time": "2024-07-03T09:45:05.547Z"
   },
   {
    "duration": 11,
    "start_time": "2024-07-03T09:45:05.554Z"
   },
   {
    "duration": 11,
    "start_time": "2024-07-03T09:45:05.567Z"
   },
   {
    "duration": 5,
    "start_time": "2024-07-03T09:45:05.579Z"
   },
   {
    "duration": 13,
    "start_time": "2024-07-03T09:45:05.586Z"
   },
   {
    "duration": 19,
    "start_time": "2024-07-03T09:45:05.600Z"
   },
   {
    "duration": 155,
    "start_time": "2024-07-03T09:45:05.621Z"
   },
   {
    "duration": 170,
    "start_time": "2024-07-03T09:45:05.778Z"
   },
   {
    "duration": 10,
    "start_time": "2024-07-03T09:45:05.950Z"
   },
   {
    "duration": 169,
    "start_time": "2024-07-03T09:45:05.962Z"
   },
   {
    "duration": 13,
    "start_time": "2024-07-03T09:45:06.133Z"
   },
   {
    "duration": 224,
    "start_time": "2024-07-03T09:45:06.148Z"
   },
   {
    "duration": 24,
    "start_time": "2024-07-03T09:45:06.374Z"
   },
   {
    "duration": 292,
    "start_time": "2024-07-03T09:45:06.399Z"
   },
   {
    "duration": 18,
    "start_time": "2024-07-03T09:45:06.692Z"
   },
   {
    "duration": 30,
    "start_time": "2024-07-03T09:45:06.713Z"
   },
   {
    "duration": 12,
    "start_time": "2024-07-03T09:45:06.744Z"
   },
   {
    "duration": 23,
    "start_time": "2024-07-03T09:45:06.758Z"
   },
   {
    "duration": 932,
    "start_time": "2024-07-03T09:45:06.782Z"
   },
   {
    "duration": 1128,
    "start_time": "2024-07-03T09:47:56.155Z"
   },
   {
    "duration": 27,
    "start_time": "2024-07-03T09:48:27.728Z"
   },
   {
    "duration": 4,
    "start_time": "2024-07-03T09:48:39.752Z"
   },
   {
    "duration": 28,
    "start_time": "2024-07-03T09:59:26.820Z"
   },
   {
    "duration": 5,
    "start_time": "2024-07-03T09:59:59.067Z"
   },
   {
    "duration": 12,
    "start_time": "2024-07-03T10:02:25.360Z"
   },
   {
    "duration": 9,
    "start_time": "2024-07-03T10:02:48.692Z"
   },
   {
    "duration": 28,
    "start_time": "2024-07-03T10:13:36.890Z"
   },
   {
    "duration": 10,
    "start_time": "2024-07-03T10:13:51.247Z"
   },
   {
    "duration": 7,
    "start_time": "2024-07-03T10:14:10.449Z"
   },
   {
    "duration": 1100,
    "start_time": "2024-07-03T10:14:58.119Z"
   },
   {
    "duration": 427,
    "start_time": "2024-07-03T10:14:59.221Z"
   },
   {
    "duration": 21,
    "start_time": "2024-07-03T10:14:59.649Z"
   },
   {
    "duration": 8,
    "start_time": "2024-07-03T10:14:59.672Z"
   },
   {
    "duration": 60,
    "start_time": "2024-07-03T10:14:59.682Z"
   },
   {
    "duration": 13,
    "start_time": "2024-07-03T10:14:59.744Z"
   },
   {
    "duration": 22,
    "start_time": "2024-07-03T10:14:59.759Z"
   },
   {
    "duration": 999,
    "start_time": "2024-07-03T10:14:59.782Z"
   },
   {
    "duration": 4,
    "start_time": "2024-07-03T10:15:00.782Z"
   },
   {
    "duration": 45,
    "start_time": "2024-07-03T10:15:00.788Z"
   },
   {
    "duration": 64,
    "start_time": "2024-07-03T10:15:00.834Z"
   },
   {
    "duration": 75,
    "start_time": "2024-07-03T10:15:00.899Z"
   },
   {
    "duration": 134,
    "start_time": "2024-07-03T10:15:00.975Z"
   },
   {
    "duration": 170,
    "start_time": "2024-07-03T10:15:01.112Z"
   },
   {
    "duration": 89,
    "start_time": "2024-07-03T10:15:01.283Z"
   },
   {
    "duration": 81,
    "start_time": "2024-07-03T10:15:01.373Z"
   },
   {
    "duration": 75,
    "start_time": "2024-07-03T10:15:01.456Z"
   },
   {
    "duration": 241,
    "start_time": "2024-07-03T10:15:01.532Z"
   },
   {
    "duration": 8,
    "start_time": "2024-07-03T10:15:01.774Z"
   },
   {
    "duration": 32,
    "start_time": "2024-07-03T10:15:01.784Z"
   },
   {
    "duration": 65,
    "start_time": "2024-07-03T10:15:01.818Z"
   },
   {
    "duration": 160,
    "start_time": "2024-07-03T10:15:01.884Z"
   },
   {
    "duration": 54,
    "start_time": "2024-07-03T10:15:02.046Z"
   },
   {
    "duration": 44,
    "start_time": "2024-07-03T10:15:02.102Z"
   },
   {
    "duration": 45,
    "start_time": "2024-07-03T10:15:02.147Z"
   },
   {
    "duration": 16,
    "start_time": "2024-07-03T10:15:02.194Z"
   },
   {
    "duration": 5,
    "start_time": "2024-07-03T10:15:02.212Z"
   },
   {
    "duration": 19,
    "start_time": "2024-07-03T10:15:02.218Z"
   },
   {
    "duration": 4,
    "start_time": "2024-07-03T10:15:02.239Z"
   },
   {
    "duration": 18,
    "start_time": "2024-07-03T10:15:02.244Z"
   },
   {
    "duration": 34,
    "start_time": "2024-07-03T10:15:02.264Z"
   },
   {
    "duration": 12,
    "start_time": "2024-07-03T10:15:02.300Z"
   },
   {
    "duration": 37,
    "start_time": "2024-07-03T10:15:02.313Z"
   },
   {
    "duration": 139,
    "start_time": "2024-07-03T10:15:02.351Z"
   },
   {
    "duration": 166,
    "start_time": "2024-07-03T10:15:02.491Z"
   },
   {
    "duration": 9,
    "start_time": "2024-07-03T10:15:02.659Z"
   },
   {
    "duration": 198,
    "start_time": "2024-07-03T10:15:02.669Z"
   },
   {
    "duration": 12,
    "start_time": "2024-07-03T10:15:02.868Z"
   },
   {
    "duration": 248,
    "start_time": "2024-07-03T10:15:02.881Z"
   },
   {
    "duration": 22,
    "start_time": "2024-07-03T10:15:03.131Z"
   },
   {
    "duration": 307,
    "start_time": "2024-07-03T10:15:03.156Z"
   },
   {
    "duration": 10,
    "start_time": "2024-07-03T10:15:03.464Z"
   },
   {
    "duration": 32,
    "start_time": "2024-07-03T10:15:03.475Z"
   },
   {
    "duration": 38,
    "start_time": "2024-07-03T10:15:03.509Z"
   },
   {
    "duration": 22,
    "start_time": "2024-07-03T10:15:03.548Z"
   },
   {
    "duration": 19,
    "start_time": "2024-07-03T10:15:03.571Z"
   },
   {
    "duration": 861,
    "start_time": "2024-07-03T10:15:03.591Z"
   },
   {
    "duration": 1124,
    "start_time": "2024-07-03T10:18:39.037Z"
   },
   {
    "duration": 228,
    "start_time": "2024-07-03T10:18:40.164Z"
   },
   {
    "duration": 34,
    "start_time": "2024-07-03T10:18:40.394Z"
   },
   {
    "duration": 8,
    "start_time": "2024-07-03T10:18:40.430Z"
   },
   {
    "duration": 17,
    "start_time": "2024-07-03T10:18:40.440Z"
   },
   {
    "duration": 14,
    "start_time": "2024-07-03T10:18:40.458Z"
   },
   {
    "duration": 22,
    "start_time": "2024-07-03T10:18:40.474Z"
   },
   {
    "duration": 683,
    "start_time": "2024-07-03T10:18:40.498Z"
   },
   {
    "duration": 4,
    "start_time": "2024-07-03T10:18:41.182Z"
   },
   {
    "duration": 5,
    "start_time": "2024-07-03T10:18:41.188Z"
   },
   {
    "duration": 27,
    "start_time": "2024-07-03T10:18:41.194Z"
   },
   {
    "duration": 14,
    "start_time": "2024-07-03T10:18:41.223Z"
   },
   {
    "duration": 4,
    "start_time": "2024-07-03T10:18:41.239Z"
   },
   {
    "duration": 9,
    "start_time": "2024-07-03T10:18:41.244Z"
   },
   {
    "duration": 4,
    "start_time": "2024-07-03T10:18:41.254Z"
   },
   {
    "duration": 220,
    "start_time": "2024-07-03T10:18:41.259Z"
   },
   {
    "duration": 11,
    "start_time": "2024-07-03T10:18:41.481Z"
   },
   {
    "duration": 5,
    "start_time": "2024-07-03T10:18:41.494Z"
   },
   {
    "duration": 14,
    "start_time": "2024-07-03T10:18:41.501Z"
   },
   {
    "duration": 4,
    "start_time": "2024-07-03T10:18:41.537Z"
   },
   {
    "duration": 7,
    "start_time": "2024-07-03T10:18:41.543Z"
   },
   {
    "duration": 22,
    "start_time": "2024-07-03T10:18:41.552Z"
   },
   {
    "duration": 95,
    "start_time": "2024-07-03T10:18:41.576Z"
   },
   {
    "duration": 70,
    "start_time": "2024-07-03T10:18:41.672Z"
   },
   {
    "duration": 6,
    "start_time": "2024-07-03T10:18:41.743Z"
   },
   {
    "duration": 5,
    "start_time": "2024-07-03T10:18:41.750Z"
   },
   {
    "duration": 3,
    "start_time": "2024-07-03T10:18:41.757Z"
   },
   {
    "duration": 73,
    "start_time": "2024-07-03T10:18:41.765Z"
   },
   {
    "duration": 6,
    "start_time": "2024-07-03T10:18:41.840Z"
   },
   {
    "duration": 8,
    "start_time": "2024-07-03T10:18:41.848Z"
   },
   {
    "duration": 24,
    "start_time": "2024-07-03T10:18:41.858Z"
   },
   {
    "duration": 292,
    "start_time": "2024-07-03T10:18:41.884Z"
   },
   {
    "duration": 400,
    "start_time": "2024-07-03T10:18:42.177Z"
   },
   {
    "duration": 61,
    "start_time": "2024-07-03T10:18:42.579Z"
   },
   {
    "duration": 301,
    "start_time": "2024-07-03T10:18:42.641Z"
   },
   {
    "duration": 12,
    "start_time": "2024-07-03T10:18:42.943Z"
   },
   {
    "duration": 349,
    "start_time": "2024-07-03T10:18:42.956Z"
   },
   {
    "duration": 22,
    "start_time": "2024-07-03T10:18:43.306Z"
   },
   {
    "duration": 297,
    "start_time": "2024-07-03T10:18:43.338Z"
   },
   {
    "duration": 18,
    "start_time": "2024-07-03T10:18:43.637Z"
   },
   {
    "duration": 39,
    "start_time": "2024-07-03T10:18:43.656Z"
   },
   {
    "duration": 42,
    "start_time": "2024-07-03T10:18:43.697Z"
   },
   {
    "duration": 18,
    "start_time": "2024-07-03T10:18:43.741Z"
   },
   {
    "duration": 902,
    "start_time": "2024-07-03T10:18:43.761Z"
   },
   {
    "duration": 73,
    "start_time": "2024-07-03T10:23:32.836Z"
   },
   {
    "duration": 11,
    "start_time": "2024-07-03T10:24:34.097Z"
   },
   {
    "duration": 28,
    "start_time": "2024-07-03T10:24:48.808Z"
   },
   {
    "duration": 876,
    "start_time": "2024-07-03T10:28:09.820Z"
   },
   {
    "duration": 856,
    "start_time": "2024-07-03T10:28:27.697Z"
   },
   {
    "duration": 865,
    "start_time": "2024-07-03T10:28:45.720Z"
   },
   {
    "duration": 953,
    "start_time": "2024-07-03T10:28:52.038Z"
   },
   {
    "duration": 1245,
    "start_time": "2024-07-04T00:34:01.747Z"
   },
   {
    "duration": 381,
    "start_time": "2024-07-04T00:34:02.994Z"
   },
   {
    "duration": 21,
    "start_time": "2024-07-04T00:34:03.377Z"
   },
   {
    "duration": 24,
    "start_time": "2024-07-04T00:34:03.400Z"
   },
   {
    "duration": 10,
    "start_time": "2024-07-04T00:34:03.427Z"
   },
   {
    "duration": 46,
    "start_time": "2024-07-04T00:34:03.438Z"
   },
   {
    "duration": 41,
    "start_time": "2024-07-04T00:34:03.486Z"
   },
   {
    "duration": 16,
    "start_time": "2024-07-04T00:34:03.529Z"
   },
   {
    "duration": 532,
    "start_time": "2024-07-04T00:34:03.547Z"
   },
   {
    "duration": 4,
    "start_time": "2024-07-04T00:34:04.081Z"
   },
   {
    "duration": 8,
    "start_time": "2024-07-04T00:34:04.086Z"
   },
   {
    "duration": 16,
    "start_time": "2024-07-04T00:34:04.096Z"
   },
   {
    "duration": 10,
    "start_time": "2024-07-04T00:34:04.114Z"
   },
   {
    "duration": 16,
    "start_time": "2024-07-04T00:34:04.127Z"
   },
   {
    "duration": 38,
    "start_time": "2024-07-04T00:34:04.145Z"
   },
   {
    "duration": 4,
    "start_time": "2024-07-04T00:34:04.184Z"
   },
   {
    "duration": 257,
    "start_time": "2024-07-04T00:34:04.190Z"
   },
   {
    "duration": 11,
    "start_time": "2024-07-04T00:34:04.449Z"
   },
   {
    "duration": 19,
    "start_time": "2024-07-04T00:34:04.462Z"
   },
   {
    "duration": 18,
    "start_time": "2024-07-04T00:34:04.483Z"
   },
   {
    "duration": 13,
    "start_time": "2024-07-04T00:34:04.502Z"
   },
   {
    "duration": 4,
    "start_time": "2024-07-04T00:34:04.517Z"
   },
   {
    "duration": 7,
    "start_time": "2024-07-04T00:34:04.523Z"
   },
   {
    "duration": 53,
    "start_time": "2024-07-04T00:34:04.532Z"
   },
   {
    "duration": 17,
    "start_time": "2024-07-04T00:34:04.587Z"
   },
   {
    "duration": 55,
    "start_time": "2024-07-04T00:34:04.606Z"
   },
   {
    "duration": 20,
    "start_time": "2024-07-04T00:34:04.682Z"
   },
   {
    "duration": 7,
    "start_time": "2024-07-04T00:34:04.704Z"
   },
   {
    "duration": 5,
    "start_time": "2024-07-04T00:34:04.712Z"
   },
   {
    "duration": 4,
    "start_time": "2024-07-04T00:34:04.719Z"
   },
   {
    "duration": 11,
    "start_time": "2024-07-04T00:34:04.725Z"
   },
   {
    "duration": 44,
    "start_time": "2024-07-04T00:34:04.738Z"
   },
   {
    "duration": 5,
    "start_time": "2024-07-04T00:34:04.784Z"
   },
   {
    "duration": 4,
    "start_time": "2024-07-04T00:34:04.791Z"
   },
   {
    "duration": 6,
    "start_time": "2024-07-04T00:34:04.797Z"
   },
   {
    "duration": 18,
    "start_time": "2024-07-04T00:34:04.804Z"
   },
   {
    "duration": 187,
    "start_time": "2024-07-04T00:34:04.824Z"
   },
   {
    "duration": 190,
    "start_time": "2024-07-04T00:34:05.013Z"
   },
   {
    "duration": 11,
    "start_time": "2024-07-04T00:34:05.205Z"
   },
   {
    "duration": 247,
    "start_time": "2024-07-04T00:34:05.218Z"
   },
   {
    "duration": 21,
    "start_time": "2024-07-04T00:34:05.470Z"
   },
   {
    "duration": 173,
    "start_time": "2024-07-04T00:34:05.493Z"
   },
   {
    "duration": 28,
    "start_time": "2024-07-04T00:34:05.668Z"
   },
   {
    "duration": 283,
    "start_time": "2024-07-04T00:34:05.698Z"
   },
   {
    "duration": 18,
    "start_time": "2024-07-04T00:34:05.983Z"
   },
   {
    "duration": 32,
    "start_time": "2024-07-04T00:34:06.003Z"
   },
   {
    "duration": 14,
    "start_time": "2024-07-04T00:34:06.036Z"
   },
   {
    "duration": 41,
    "start_time": "2024-07-04T00:34:06.051Z"
   },
   {
    "duration": 949,
    "start_time": "2024-07-04T00:34:06.094Z"
   },
   {
    "duration": 7,
    "start_time": "2024-07-04T00:40:56.197Z"
   },
   {
    "duration": 21,
    "start_time": "2024-07-04T00:41:42.272Z"
   },
   {
    "duration": 5,
    "start_time": "2024-07-04T00:46:38.940Z"
   },
   {
    "duration": 1563,
    "start_time": "2024-07-04T00:49:13.473Z"
   },
   {
    "duration": 213,
    "start_time": "2024-07-04T00:49:39.912Z"
   }
  ],
  "kernelspec": {
   "display_name": "Python 3 (ipykernel)",
   "language": "python",
   "name": "python3"
  },
  "language_info": {
   "codemirror_mode": {
    "name": "ipython",
    "version": 3
   },
   "file_extension": ".py",
   "mimetype": "text/x-python",
   "name": "python",
   "nbconvert_exporter": "python",
   "pygments_lexer": "ipython3",
   "version": "3.9.19"
  },
  "toc": {
   "base_numbering": 1,
   "nav_menu": {},
   "number_sections": true,
   "sideBar": true,
   "skip_h1_title": true,
   "title_cell": "Table of Contents",
   "title_sidebar": "Contents",
   "toc_cell": false,
   "toc_position": {
    "height": "calc(100% - 180px)",
    "left": "10px",
    "top": "150px",
    "width": "176.477px"
   },
   "toc_section_display": true,
   "toc_window_display": true
  }
 },
 "nbformat": 4,
 "nbformat_minor": 5
}
