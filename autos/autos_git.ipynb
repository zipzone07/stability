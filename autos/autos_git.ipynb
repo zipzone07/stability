{
 "cells": [
  {
   "cell_type": "markdown",
   "id": "0208466c-01a3-4825-b86c-94792b72b16c",
   "metadata": {},
   "source": [
    "**Определение стоимости автомобилей**"
   ]
  },
  {
   "cell_type": "markdown",
   "id": "36395bea-c1e9-41f2-9cbe-7432b413e843",
   "metadata": {},
   "source": [
    "**Описание**\n",
    "\n",
    "Сервис по продаже автомобилей с пробегом «Не бит, не крашен» разрабатывает приложение для привлечения новых клиентов. В нём можно быстро узнать рыночную \n",
    "стоимость своего автомобиля. Есть исторические данные: технические характеристики, комплектации и цены автомобилей. Нужно построить модель для определения стоимости, конкретно модель, которая умеет её определять. Заказчику важны:\n",
    "\n",
    "- качество предсказания;\n",
    "- скорость предсказания;\n",
    "- время обучения.\n",
    "\n",
    "**Цель иследования**\n",
    "- предсказать стоимость автомобиля.\n",
    "\n",
    "**Ход исследования**\n",
    "\n",
    "1. Загрузить данные, путь к файлу: `/datasets/autos.csv`.\n",
    "2. Изучить данные. Заполнить пропущенные значения и обработайте аномалии в столбцах. Если среди признаков имеются неинформативные, удалить их.\n",
    "3. Подготовить выборки для обучения моделей.\n",
    "4. Обучить разные модели, одна из которых — LightGBM, как минимум одна — не бустинг. Для каждой модели попробовать разные гиперпараметры.\n",
    "5. Проанализировать время обучения, время предсказания и качество моделей.\n",
    "6. Опираясь на критерии заказчика, выбрать лучшую модель, проверить её качество на тестовой выборке.\n",
    "\n",
    "**Что важно учесть при выполнении проекта**\n",
    "\n",
    "Как известно данные не идельны. Во время загрузки, преоразования из одного формата в другой могут возникнуть технологические \n",
    "ошибки. Так же во время наполнения базы объявлений сотрудники могли допустить различные опечатки, либо перепутать переменные в столбцах, ведь человеческий фактор присутствует в любой сфере. Поэтому для качественного выполнения проекта необходимо основательно сделать предобработку данных и обратить внимание на следующие моменты:\n",
    "\n",
    "1. описать найденные в данных проблемы,\n",
    "2. применить различные методы: замену типов данных, обработку пропусков случайных, неслучайных и полностью случайных, обработку явных и не явных дубликатов,\n",
    "3. использовать категоризацию данных,\n",
    "4. применить четкую  структуру проекта и придерживаться хорошего стиля при написании кода,\n",
    "5. обозначить выводы по этапам,\n",
    "6. кратко комментировать шаги,\n",
    "7. использовать срезы данных,\n",
    "8. построить графики для решения задич,\n",
    "9. использовать различные методы построения графиков,\n",
    "10. использовать сводные таблицы для вывода данных,\n",
    "11. объяснить, как коррелируют между собой различные величины или показатели. \n"
   ]
  },
  {
   "cell_type": "markdown",
   "id": "a3918839-a43a-4e0e-b48c-74e82b284b85",
   "metadata": {},
   "source": [
    "# Исследовательский анализ данных"
   ]
  },
  {
   "cell_type": "markdown",
   "id": "48fa500d-0cc2-4044-a530-7a37caa303de",
   "metadata": {},
   "source": [
    "Исследовательский анализ данных (Exploratory Data Analysis, EDA) — является важным этапом, который позволяет лучше понять данные и выявить основные характеристики и закономерности. Все выявленные проблемы на данном этапе будут исправлены в шаге предобработки данных."
   ]
  },
  {
   "cell_type": "code",
   "execution_count": 1,
   "id": "6106e44e-de31-44b7-b963-7cda3b33dacb",
   "metadata": {},
   "outputs": [],
   "source": [
    "# !pip install catboost -q\n",
    "# !pip install phik -q \n",
    "# !pip install imblearn -q \n",
    "# pip3 install -U scikit-learn -q\n",
    "# !pip3 install seaborn -q"
   ]
  },
  {
   "cell_type": "code",
   "execution_count": 1,
   "id": "d81acf99-a369-44a6-9e09-b5f141f9ffc8",
   "metadata": {},
   "outputs": [],
   "source": [
    "import pandas as pd\n",
    "import numpy as np\n",
    "import matplotlib.pyplot as plt\n",
    "from matplotlib.ticker import MaxNLocator\n",
    "import random\n",
    "import time\n",
    "import seaborn as sns\n",
    "from scipy import stats as st\n",
    "from catboost import (\n",
    "    Pool, \n",
    "    CatBoostRegressor,\n",
    "    cv\n",
    ")\n",
    "from lightgbm import LGBMRegressor\n",
    "from sklearn.ensemble import RandomForestRegressor\n",
    "from sklearn.model_selection import (\n",
    "    train_test_split,\n",
    "    cross_val_score\n",
    ")\n",
    "from sklearn.impute import SimpleImputer\n",
    "from sklearn.pipeline import Pipeline\n",
    "from sklearn.compose import ColumnTransformer\n",
    "from sklearn.base import BaseEstimator, TransformerMixin\n",
    "from sklearn.preprocessing import (\n",
    "    MinMaxScaler,\n",
    "    LabelEncoder,\n",
    "    FunctionTransformer\n",
    ")\n",
    "from sklearn.metrics import ( \n",
    "    mean_squared_error\n",
    ")\n",
    "import warnings\n",
    "from imblearn.combine import SMOTETomek\n",
    "from phik import phik_matrix\n",
    "from phik.report import plot_correlation_matrix\n",
    "\n",
    "# вывод всех столбцов и строк, независимо от их количества.\n",
    "pd.set_option('display.max_columns', None)\n",
    "\n",
    "# отключаем предупреждение\n",
    "pd.options.mode.chained_assignment = None\n",
    "warnings.simplefilter(action='ignore', category=FutureWarning)"
   ]
  },
  {
   "cell_type": "markdown",
   "id": "0c44b36f-5558-486e-a435-ed342f32a78d",
   "metadata": {},
   "source": [
    "## Загрузка данных"
   ]
  },
  {
   "cell_type": "code",
   "execution_count": 2,
   "id": "d6554723-8a26-4349-b298-1f314c7af2d9",
   "metadata": {},
   "outputs": [],
   "source": [
    "try:\n",
    "    data = pd.read_csv('.../autos.csv')\n",
    "    \n",
    "except:\n",
    "    data = pd.read_csv('.../autos.csv')"
   ]
  },
  {
   "cell_type": "code",
   "execution_count": 4,
   "id": "1804f607-8ed4-4900-bb3e-8c292b04a577",
   "metadata": {},
   "outputs": [
    {
     "data": {
      "text/html": [
       "<div>\n",
       "<style scoped>\n",
       "    .dataframe tbody tr th:only-of-type {\n",
       "        vertical-align: middle;\n",
       "    }\n",
       "\n",
       "    .dataframe tbody tr th {\n",
       "        vertical-align: top;\n",
       "    }\n",
       "\n",
       "    .dataframe thead th {\n",
       "        text-align: right;\n",
       "    }\n",
       "</style>\n",
       "<table border=\"1\" class=\"dataframe\">\n",
       "  <thead>\n",
       "    <tr style=\"text-align: right;\">\n",
       "      <th></th>\n",
       "      <th>DateCrawled</th>\n",
       "      <th>Price</th>\n",
       "      <th>VehicleType</th>\n",
       "      <th>RegistrationYear</th>\n",
       "      <th>Gearbox</th>\n",
       "      <th>Power</th>\n",
       "      <th>Model</th>\n",
       "      <th>Kilometer</th>\n",
       "      <th>RegistrationMonth</th>\n",
       "      <th>FuelType</th>\n",
       "      <th>Brand</th>\n",
       "      <th>Repaired</th>\n",
       "      <th>DateCreated</th>\n",
       "      <th>NumberOfPictures</th>\n",
       "      <th>PostalCode</th>\n",
       "      <th>LastSeen</th>\n",
       "    </tr>\n",
       "  </thead>\n",
       "  <tbody>\n",
       "    <tr>\n",
       "      <th>0</th>\n",
       "      <td>2016-03-24 11:52:17</td>\n",
       "      <td>480</td>\n",
       "      <td>NaN</td>\n",
       "      <td>1993</td>\n",
       "      <td>manual</td>\n",
       "      <td>0</td>\n",
       "      <td>golf</td>\n",
       "      <td>150000</td>\n",
       "      <td>0</td>\n",
       "      <td>petrol</td>\n",
       "      <td>volkswagen</td>\n",
       "      <td>NaN</td>\n",
       "      <td>2016-03-24 00:00:00</td>\n",
       "      <td>0</td>\n",
       "      <td>70435</td>\n",
       "      <td>2016-04-07 03:16:57</td>\n",
       "    </tr>\n",
       "    <tr>\n",
       "      <th>1</th>\n",
       "      <td>2016-03-24 10:58:45</td>\n",
       "      <td>18300</td>\n",
       "      <td>coupe</td>\n",
       "      <td>2011</td>\n",
       "      <td>manual</td>\n",
       "      <td>190</td>\n",
       "      <td>NaN</td>\n",
       "      <td>125000</td>\n",
       "      <td>5</td>\n",
       "      <td>gasoline</td>\n",
       "      <td>audi</td>\n",
       "      <td>yes</td>\n",
       "      <td>2016-03-24 00:00:00</td>\n",
       "      <td>0</td>\n",
       "      <td>66954</td>\n",
       "      <td>2016-04-07 01:46:50</td>\n",
       "    </tr>\n",
       "    <tr>\n",
       "      <th>2</th>\n",
       "      <td>2016-03-14 12:52:21</td>\n",
       "      <td>9800</td>\n",
       "      <td>suv</td>\n",
       "      <td>2004</td>\n",
       "      <td>auto</td>\n",
       "      <td>163</td>\n",
       "      <td>grand</td>\n",
       "      <td>125000</td>\n",
       "      <td>8</td>\n",
       "      <td>gasoline</td>\n",
       "      <td>jeep</td>\n",
       "      <td>NaN</td>\n",
       "      <td>2016-03-14 00:00:00</td>\n",
       "      <td>0</td>\n",
       "      <td>90480</td>\n",
       "      <td>2016-04-05 12:47:46</td>\n",
       "    </tr>\n",
       "    <tr>\n",
       "      <th>3</th>\n",
       "      <td>2016-03-17 16:54:04</td>\n",
       "      <td>1500</td>\n",
       "      <td>small</td>\n",
       "      <td>2001</td>\n",
       "      <td>manual</td>\n",
       "      <td>75</td>\n",
       "      <td>golf</td>\n",
       "      <td>150000</td>\n",
       "      <td>6</td>\n",
       "      <td>petrol</td>\n",
       "      <td>volkswagen</td>\n",
       "      <td>no</td>\n",
       "      <td>2016-03-17 00:00:00</td>\n",
       "      <td>0</td>\n",
       "      <td>91074</td>\n",
       "      <td>2016-03-17 17:40:17</td>\n",
       "    </tr>\n",
       "    <tr>\n",
       "      <th>4</th>\n",
       "      <td>2016-03-31 17:25:20</td>\n",
       "      <td>3600</td>\n",
       "      <td>small</td>\n",
       "      <td>2008</td>\n",
       "      <td>manual</td>\n",
       "      <td>69</td>\n",
       "      <td>fabia</td>\n",
       "      <td>90000</td>\n",
       "      <td>7</td>\n",
       "      <td>gasoline</td>\n",
       "      <td>skoda</td>\n",
       "      <td>no</td>\n",
       "      <td>2016-03-31 00:00:00</td>\n",
       "      <td>0</td>\n",
       "      <td>60437</td>\n",
       "      <td>2016-04-06 10:17:21</td>\n",
       "    </tr>\n",
       "  </tbody>\n",
       "</table>\n",
       "</div>"
      ],
      "text/plain": [
       "           DateCrawled  Price VehicleType  RegistrationYear Gearbox  Power  \\\n",
       "0  2016-03-24 11:52:17    480         NaN              1993  manual      0   \n",
       "1  2016-03-24 10:58:45  18300       coupe              2011  manual    190   \n",
       "2  2016-03-14 12:52:21   9800         suv              2004    auto    163   \n",
       "3  2016-03-17 16:54:04   1500       small              2001  manual     75   \n",
       "4  2016-03-31 17:25:20   3600       small              2008  manual     69   \n",
       "\n",
       "   Model  Kilometer  RegistrationMonth  FuelType       Brand Repaired  \\\n",
       "0   golf     150000                  0    petrol  volkswagen      NaN   \n",
       "1    NaN     125000                  5  gasoline        audi      yes   \n",
       "2  grand     125000                  8  gasoline        jeep      NaN   \n",
       "3   golf     150000                  6    petrol  volkswagen       no   \n",
       "4  fabia      90000                  7  gasoline       skoda       no   \n",
       "\n",
       "           DateCreated  NumberOfPictures  PostalCode             LastSeen  \n",
       "0  2016-03-24 00:00:00                 0       70435  2016-04-07 03:16:57  \n",
       "1  2016-03-24 00:00:00                 0       66954  2016-04-07 01:46:50  \n",
       "2  2016-03-14 00:00:00                 0       90480  2016-04-05 12:47:46  \n",
       "3  2016-03-17 00:00:00                 0       91074  2016-03-17 17:40:17  \n",
       "4  2016-03-31 00:00:00                 0       60437  2016-04-06 10:17:21  "
      ]
     },
     "metadata": {},
     "output_type": "display_data"
    }
   ],
   "source": [
    "display(data.head())"
   ]
  },
  {
   "cell_type": "code",
   "execution_count": 5,
   "id": "68ad146a-e696-4e0e-9fec-b6c4496ec13b",
   "metadata": {},
   "outputs": [],
   "source": [
    "# сохраним количество сырых данных\n",
    "data_stock = data.shape[0]"
   ]
  },
  {
   "cell_type": "markdown",
   "id": "e943d076-6159-498f-97ca-a52b937f3057",
   "metadata": {},
   "source": [
    "## Соответствие техническому описанию"
   ]
  },
  {
   "cell_type": "markdown",
   "id": "b2a469e0-5b8a-4987-97e6-eb39fd50b4d2",
   "metadata": {},
   "source": [
    "Для этой задачи заказчик предоставил данные с признаками:\n",
    "\n",
    "- _DateCrawled_ — дата скачивания анкеты из базы\n",
    "- _VehicleType_ — тип автомобильного кузова\n",
    "- _RegistrationYear_ — год регистрации автомобиля\n",
    "- _Gearbox_ — тип коробки передач\n",
    "- _Power_ — мощность (л. с.)\n",
    "- _Model_ — модель автомобиля\n",
    "- _Kilometer_ — пробег (км)\n",
    "- _RegistrationMonth_ — месяц регистрации автомобиля\n",
    "- _FuelType_ — тип топлива\n",
    "- _Brand_ — марка автомобиля\n",
    "- _Repaired_ — была машина в ремонте или нет\n",
    "- _DateCreated_ — дата создания анкеты\n",
    "- _NumberOfPictures_ — количество фотографий автомобиля\n",
    "- _PostalCode_ — почтовый индекс владельца анкеты (пользователя)\n",
    "- _LastSeen_ — дата последней активности пользователя"
   ]
  },
  {
   "cell_type": "code",
   "execution_count": 6,
   "id": "4484b0af-6803-4686-8d93-6465ed9250f2",
   "metadata": {},
   "outputs": [
    {
     "name": "stdout",
     "output_type": "stream",
     "text": [
      "<class 'pandas.core.frame.DataFrame'>\n",
      "RangeIndex: 354369 entries, 0 to 354368\n",
      "Data columns (total 16 columns):\n",
      " #   Column             Non-Null Count   Dtype \n",
      "---  ------             --------------   ----- \n",
      " 0   DateCrawled        354369 non-null  object\n",
      " 1   Price              354369 non-null  int64 \n",
      " 2   VehicleType        316879 non-null  object\n",
      " 3   RegistrationYear   354369 non-null  int64 \n",
      " 4   Gearbox            334536 non-null  object\n",
      " 5   Power              354369 non-null  int64 \n",
      " 6   Model              334664 non-null  object\n",
      " 7   Kilometer          354369 non-null  int64 \n",
      " 8   RegistrationMonth  354369 non-null  int64 \n",
      " 9   FuelType           321474 non-null  object\n",
      " 10  Brand              354369 non-null  object\n",
      " 11  Repaired           283215 non-null  object\n",
      " 12  DateCreated        354369 non-null  object\n",
      " 13  NumberOfPictures   354369 non-null  int64 \n",
      " 14  PostalCode         354369 non-null  int64 \n",
      " 15  LastSeen           354369 non-null  object\n",
      "dtypes: int64(7), object(9)\n",
      "memory usage: 43.3+ MB\n"
     ]
    }
   ],
   "source": [
    "data.info()"
   ]
  },
  {
   "cell_type": "markdown",
   "id": "f606c565-c4c1-40bc-a5f4-ec79d32c2816",
   "metadata": {},
   "source": [
    "Таблицы соответствуют техническому описанию, присутствуют пропуски в столбцах:\n",
    "\n",
    "- VehicleType\n",
    "- Gearbox\n",
    "- Model\n",
    "- FuelType\n",
    "- Repaired\n",
    "\n",
    "Измениним формат данных в следующих столбцах для быстродействия:\n",
    "- Price - int32\n",
    "- RegistrationYear - int16\n",
    "- Power - int16\n",
    "- Kilometer - int32\n",
    "- RegistrationMonth - int32\n",
    "- NumberOfPictures - int8\n",
    "\n",
    "Исключим следующие не информативные столбцы из исследования:\n",
    "- DateCrawled\n",
    "- DateCreated\n",
    "- NumberOfPictures\n",
    "- PostalCode\n",
    "- LastSeen\n"
   ]
  },
  {
   "cell_type": "code",
   "execution_count": 7,
   "id": "6ec81e61-1a44-4ccc-8a83-bcfd9095843e",
   "metadata": {
    "scrolled": true
   },
   "outputs": [],
   "source": [
    "data = data.drop(['DateCrawled', 'DateCreated', 'NumberOfPictures', 'PostalCode', 'LastSeen', 'RegistrationMonth'], axis=1)"
   ]
  },
  {
   "cell_type": "markdown",
   "id": "42424dac-3f09-4690-bb41-e599fd716cbe",
   "metadata": {},
   "source": [
    "## Дубликаты"
   ]
  },
  {
   "cell_type": "code",
   "execution_count": 8,
   "id": "42558e91-2e96-443c-8e2f-ae08544fc0fc",
   "metadata": {
    "scrolled": true
   },
   "outputs": [
    {
     "data": {
      "text/plain": [
       "45040"
      ]
     },
     "execution_count": 8,
     "metadata": {},
     "output_type": "execute_result"
    }
   ],
   "source": [
    "data.duplicated().sum()"
   ]
  },
  {
   "cell_type": "code",
   "execution_count": 9,
   "id": "110253d3-6ad6-4abf-85d3-0987b48cbe65",
   "metadata": {},
   "outputs": [
    {
     "data": {
      "text/plain": [
       "76590"
      ]
     },
     "execution_count": 9,
     "metadata": {},
     "output_type": "execute_result"
    }
   ],
   "source": [
    "data.duplicated(keep=False).sum()"
   ]
  },
  {
   "cell_type": "code",
   "execution_count": 10,
   "id": "08945a4d-87a8-496a-89ef-daa5e150d732",
   "metadata": {},
   "outputs": [],
   "source": [
    "def count_duplicates(df):\n",
    "    # Создаем список для хранения результатов\n",
    "    duplicates_summary = []\n",
    "\n",
    "    # Проходим по каждому столбцу DataFrame\n",
    "    for column in df.columns:\n",
    "        # Проверяем дубликаты в текущем столбце\n",
    "        duplicate_count = df[column].duplicated(keep=False).sum()\n",
    "        \n",
    "        # Добавляем результат в список\n",
    "        duplicates_summary.append({'Column': column, 'Duplicate Count': duplicate_count})\n",
    "\n",
    "    # Преобразуем список в DataFrame\n",
    "    duplicates_summary = pd.DataFrame(duplicates_summary)\n",
    "\n",
    "    # Сортируем по количеству дубликатов\n",
    "    duplicates_summary = (\n",
    "        duplicates_summary\n",
    "        .sort_values(by='Duplicate Count', ascending=False)\n",
    "        .set_index('Column')\n",
    "        .T\n",
    "    )\n",
    "\n",
    "    # Выводим итоговую таблицу\n",
    "    display(duplicates_summary)"
   ]
  },
  {
   "cell_type": "code",
   "execution_count": 11,
   "id": "46042c94-973e-4273-bd21-b9dfee664f30",
   "metadata": {},
   "outputs": [
    {
     "data": {
      "text/html": [
       "<div>\n",
       "<style scoped>\n",
       "    .dataframe tbody tr th:only-of-type {\n",
       "        vertical-align: middle;\n",
       "    }\n",
       "\n",
       "    .dataframe tbody tr th {\n",
       "        vertical-align: top;\n",
       "    }\n",
       "\n",
       "    .dataframe thead th {\n",
       "        text-align: right;\n",
       "    }\n",
       "</style>\n",
       "<table border=\"1\" class=\"dataframe\">\n",
       "  <thead>\n",
       "    <tr style=\"text-align: right;\">\n",
       "      <th>Column</th>\n",
       "      <th>VehicleType</th>\n",
       "      <th>Gearbox</th>\n",
       "      <th>Model</th>\n",
       "      <th>Kilometer</th>\n",
       "      <th>FuelType</th>\n",
       "      <th>Brand</th>\n",
       "      <th>Repaired</th>\n",
       "      <th>RegistrationYear</th>\n",
       "      <th>Power</th>\n",
       "      <th>Price</th>\n",
       "    </tr>\n",
       "  </thead>\n",
       "  <tbody>\n",
       "    <tr>\n",
       "      <th>Duplicate Count</th>\n",
       "      <td>354369</td>\n",
       "      <td>354369</td>\n",
       "      <td>354369</td>\n",
       "      <td>354369</td>\n",
       "      <td>354369</td>\n",
       "      <td>354369</td>\n",
       "      <td>354369</td>\n",
       "      <td>354329</td>\n",
       "      <td>354116</td>\n",
       "      <td>352979</td>\n",
       "    </tr>\n",
       "  </tbody>\n",
       "</table>\n",
       "</div>"
      ],
      "text/plain": [
       "Column           VehicleType  Gearbox   Model  Kilometer  FuelType   Brand  \\\n",
       "Duplicate Count       354369   354369  354369     354369    354369  354369   \n",
       "\n",
       "Column           Repaired  RegistrationYear   Power   Price  \n",
       "Duplicate Count    354369            354329  354116  352979  "
      ]
     },
     "metadata": {},
     "output_type": "display_data"
    }
   ],
   "source": [
    "count_duplicates(data)"
   ]
  },
  {
   "cell_type": "code",
   "execution_count": 12,
   "id": "4da9119c-ccf7-4972-993b-fd341fb1cc49",
   "metadata": {},
   "outputs": [
    {
     "data": {
      "text/plain": [
       "array(['petrol', 'gasoline', nan, 'lpg', 'other', 'hybrid', 'cng',\n",
       "       'electric'], dtype=object)"
      ]
     },
     "execution_count": 12,
     "metadata": {},
     "output_type": "execute_result"
    }
   ],
   "source": [
    "data.FuelType.unique()"
   ]
  },
  {
   "cell_type": "markdown",
   "id": "f8071d56-c511-4c38-b2cc-a3bf3ffaf65c",
   "metadata": {},
   "source": [
    "В столбце **FuelType** присутствуют не явные дубликаты. Слова petrol и gasoline по сути являются синонимами, которые обозначают слово бензин, но в разных странах. "
   ]
  },
  {
   "cell_type": "markdown",
   "id": "af76e344-f575-439c-ab23-1b24ec2440ac",
   "metadata": {},
   "source": [
    "## Статистический анализ"
   ]
  },
  {
   "cell_type": "code",
   "execution_count": 13,
   "id": "b6b1daee-cb95-4732-9d17-2b9ee6af2246",
   "metadata": {},
   "outputs": [
    {
     "data": {
      "text/html": [
       "<style  type=\"text/css\" >\n",
       "</style><table id=\"T_45b88_\" ><thead>    <tr>        <th class=\"blank level0\" ></th>        <th class=\"col_heading level0 col0\" >Price</th>        <th class=\"col_heading level0 col1\" >RegistrationYear</th>        <th class=\"col_heading level0 col2\" >Power</th>        <th class=\"col_heading level0 col3\" >Kilometer</th>    </tr></thead><tbody>\n",
       "                <tr>\n",
       "                        <th id=\"T_45b88_level0_row0\" class=\"row_heading level0 row0\" >count</th>\n",
       "                        <td id=\"T_45b88_row0_col0\" class=\"data row0 col0\" >354,369.00</td>\n",
       "                        <td id=\"T_45b88_row0_col1\" class=\"data row0 col1\" >354,369.00</td>\n",
       "                        <td id=\"T_45b88_row0_col2\" class=\"data row0 col2\" >354,369.00</td>\n",
       "                        <td id=\"T_45b88_row0_col3\" class=\"data row0 col3\" >354,369.00</td>\n",
       "            </tr>\n",
       "            <tr>\n",
       "                        <th id=\"T_45b88_level0_row1\" class=\"row_heading level0 row1\" >mean</th>\n",
       "                        <td id=\"T_45b88_row1_col0\" class=\"data row1 col0\" >4,416.66</td>\n",
       "                        <td id=\"T_45b88_row1_col1\" class=\"data row1 col1\" >2,004.23</td>\n",
       "                        <td id=\"T_45b88_row1_col2\" class=\"data row1 col2\" >110.09</td>\n",
       "                        <td id=\"T_45b88_row1_col3\" class=\"data row1 col3\" >128,211.17</td>\n",
       "            </tr>\n",
       "            <tr>\n",
       "                        <th id=\"T_45b88_level0_row2\" class=\"row_heading level0 row2\" >std</th>\n",
       "                        <td id=\"T_45b88_row2_col0\" class=\"data row2 col0\" >4,514.16</td>\n",
       "                        <td id=\"T_45b88_row2_col1\" class=\"data row2 col1\" >90.23</td>\n",
       "                        <td id=\"T_45b88_row2_col2\" class=\"data row2 col2\" >189.85</td>\n",
       "                        <td id=\"T_45b88_row2_col3\" class=\"data row2 col3\" >37,905.34</td>\n",
       "            </tr>\n",
       "            <tr>\n",
       "                        <th id=\"T_45b88_level0_row3\" class=\"row_heading level0 row3\" >min</th>\n",
       "                        <td id=\"T_45b88_row3_col0\" class=\"data row3 col0\" >0.00</td>\n",
       "                        <td id=\"T_45b88_row3_col1\" class=\"data row3 col1\" >1,000.00</td>\n",
       "                        <td id=\"T_45b88_row3_col2\" class=\"data row3 col2\" >0.00</td>\n",
       "                        <td id=\"T_45b88_row3_col3\" class=\"data row3 col3\" >5,000.00</td>\n",
       "            </tr>\n",
       "            <tr>\n",
       "                        <th id=\"T_45b88_level0_row4\" class=\"row_heading level0 row4\" >25%</th>\n",
       "                        <td id=\"T_45b88_row4_col0\" class=\"data row4 col0\" >1,050.00</td>\n",
       "                        <td id=\"T_45b88_row4_col1\" class=\"data row4 col1\" >1,999.00</td>\n",
       "                        <td id=\"T_45b88_row4_col2\" class=\"data row4 col2\" >69.00</td>\n",
       "                        <td id=\"T_45b88_row4_col3\" class=\"data row4 col3\" >125,000.00</td>\n",
       "            </tr>\n",
       "            <tr>\n",
       "                        <th id=\"T_45b88_level0_row5\" class=\"row_heading level0 row5\" >50%</th>\n",
       "                        <td id=\"T_45b88_row5_col0\" class=\"data row5 col0\" >2,700.00</td>\n",
       "                        <td id=\"T_45b88_row5_col1\" class=\"data row5 col1\" >2,003.00</td>\n",
       "                        <td id=\"T_45b88_row5_col2\" class=\"data row5 col2\" >105.00</td>\n",
       "                        <td id=\"T_45b88_row5_col3\" class=\"data row5 col3\" >150,000.00</td>\n",
       "            </tr>\n",
       "            <tr>\n",
       "                        <th id=\"T_45b88_level0_row6\" class=\"row_heading level0 row6\" >75%</th>\n",
       "                        <td id=\"T_45b88_row6_col0\" class=\"data row6 col0\" >6,400.00</td>\n",
       "                        <td id=\"T_45b88_row6_col1\" class=\"data row6 col1\" >2,008.00</td>\n",
       "                        <td id=\"T_45b88_row6_col2\" class=\"data row6 col2\" >143.00</td>\n",
       "                        <td id=\"T_45b88_row6_col3\" class=\"data row6 col3\" >150,000.00</td>\n",
       "            </tr>\n",
       "            <tr>\n",
       "                        <th id=\"T_45b88_level0_row7\" class=\"row_heading level0 row7\" >max</th>\n",
       "                        <td id=\"T_45b88_row7_col0\" class=\"data row7 col0\" >20,000.00</td>\n",
       "                        <td id=\"T_45b88_row7_col1\" class=\"data row7 col1\" >9,999.00</td>\n",
       "                        <td id=\"T_45b88_row7_col2\" class=\"data row7 col2\" >20,000.00</td>\n",
       "                        <td id=\"T_45b88_row7_col3\" class=\"data row7 col3\" >150,000.00</td>\n",
       "            </tr>\n",
       "    </tbody></table>"
      ],
      "text/plain": [
       "<pandas.io.formats.style.Styler at 0x7fd7cd168430>"
      ]
     },
     "execution_count": 13,
     "metadata": {},
     "output_type": "execute_result"
    }
   ],
   "source": [
    "(\n",
    "    data\n",
    "    .select_dtypes(include='number')\n",
    "    .describe()\n",
    "    .style.format('{:,.2f}')\n",
    ")"
   ]
  },
  {
   "cell_type": "markdown",
   "id": "c588a5d8-c676-4faa-8693-9eae5cd5d4b0",
   "metadata": {},
   "source": [
    "Присутствуют нулевые значения в столбце Price. Необходимо фильтровать данные, так как эти значения для предсказания \n",
    "цены не имеет практической пользы."
   ]
  },
  {
   "cell_type": "code",
   "execution_count": 14,
   "id": "0462d598-d9fc-4f47-879d-bb81bbf6ddd5",
   "metadata": {},
   "outputs": [
    {
     "data": {
      "text/plain": [
       "array([1000, 1001, 1039, 1111, 1200, 1234, 1253, 1255, 1300, 1400, 1500,\n",
       "       1600, 1602, 1688, 1800, 1910, 1915, 1919, 1920, 1923, 1925, 1927,\n",
       "       1928, 1929, 1930, 1931, 1932, 1933, 1934, 1935, 1936, 1937, 1938,\n",
       "       1940, 1941, 1942, 1943, 1944, 1945, 1946, 1947, 1948, 1949, 1950,\n",
       "       1951, 1952, 1953, 1954, 1955, 1956, 1957, 1958, 1959, 1960, 1961,\n",
       "       1962, 1963, 1964, 1965, 1966, 1967, 1968, 1969, 1970, 1971, 1972,\n",
       "       1973, 1974, 1975, 1976, 1977, 1978, 1979, 1980, 1981, 1982, 1983,\n",
       "       1984, 1985, 1986, 1987, 1988, 1989, 1990, 1991, 1992, 1993, 1994,\n",
       "       1995, 1996, 1997, 1998, 1999, 2000, 2001, 2002, 2003, 2004, 2005,\n",
       "       2006, 2007, 2008, 2009, 2010, 2011, 2012, 2013, 2014, 2015, 2016,\n",
       "       2017, 2018, 2019, 2066, 2200, 2222, 2290, 2500, 2800, 2900, 3000,\n",
       "       3200, 3500, 3700, 3800, 4000, 4100, 4500, 4800, 5000, 5300, 5555,\n",
       "       5600, 5900, 5911, 6000, 6500, 7000, 7100, 7500, 7800, 8000, 8200,\n",
       "       8455, 8500, 8888, 9000, 9229, 9450, 9996, 9999])"
      ]
     },
     "execution_count": 14,
     "metadata": {},
     "output_type": "execute_result"
    }
   ],
   "source": [
    "np.sort(data.RegistrationYear.unique())"
   ]
  },
  {
   "cell_type": "markdown",
   "id": "9169b884-8328-440a-b236-b05cbab2dcf9",
   "metadata": {},
   "source": [
    "В столбце **RegistrationYear** присутствуют аномальные зачения, фильтруем по году от 1950 до 2019. Автомобили старше 1950 года являются раритетными и требуют специальной оценки. В нашем случае задача состоит в определении стоимости наиболее массовых автомобилей."
   ]
  },
  {
   "cell_type": "code",
   "execution_count": 15,
   "id": "ada08b1f-1389-4b33-a5a2-4731b355c7dd",
   "metadata": {},
   "outputs": [
    {
     "data": {
      "text/plain": [
       "array([    0,     1,     2,     3,     4,     5,     6,     7,     8,\n",
       "           9,    10,    11,    12,    13,    14,    15,    16,    17,\n",
       "          18,    19,    20,    21,    22,    23,    24,    25,    26,\n",
       "          27,    28,    29,    30,    31,    32,    33,    34,    35,\n",
       "          36,    37,    38,    39,    40,    41,    42,    43,    44,\n",
       "          45,    46,    47,    48,    49,    50,    51,    52,    53,\n",
       "          54,    55,    56,    57,    58,    59,    60,    61,    62,\n",
       "          63,    64,    65,    66,    67,    68,    69,    70,    71,\n",
       "          72,    73,    74,    75,    76,    77,    78,    79,    80,\n",
       "          81,    82,    83,    84,    85,    86,    87,    88,    89,\n",
       "          90,    91,    92,    93,    94,    95,    96,    97,    98,\n",
       "          99,   100,   101,   102,   103,   104,   105,   106,   107,\n",
       "         108,   109,   110,   111,   112,   113,   114,   115,   116,\n",
       "         117,   118,   119,   120,   121,   122,   123,   124,   125,\n",
       "         126,   127,   128,   129,   130,   131,   132,   133,   134,\n",
       "         135,   136,   137,   138,   139,   140,   141,   142,   143,\n",
       "         144,   145,   146,   147,   148,   149,   150,   151,   152,\n",
       "         153,   154,   155,   156,   157,   158,   159,   160,   161,\n",
       "         162,   163,   164,   165,   166,   167,   168,   169,   170,\n",
       "         171,   172,   173,   174,   175,   176,   177,   178,   179,\n",
       "         180,   181,   182,   183,   184,   185,   186,   187,   188,\n",
       "         189,   190,   191,   192,   193,   194,   195,   196,   197,\n",
       "         198,   199,   200,   201,   202,   203,   204,   205,   206,\n",
       "         207,   208,   209,   210,   211,   212,   213,   214,   215,\n",
       "         216,   217,   218,   219,   220,   221,   222,   223,   224,\n",
       "         225,   226,   227,   228,   229,   230,   231,   232,   233,\n",
       "         234,   235,   236,   237,   238,   239,   240,   241,   242,\n",
       "         243,   244,   245,   246,   247,   248,   249,   250,   251,\n",
       "         252,   253,   254,   255,   256,   257,   258,   259,   260,\n",
       "         261,   262,   264,   265,   266,   267,   268,   269,   270,\n",
       "         271,   272,   273,   274,   275,   276,   277,   278,   279,\n",
       "         280,   281,   282,   283,   284,   285,   286,   287,   288,\n",
       "         289,   290,   292,   293,   294,   295,   296,   297,   298,\n",
       "         299,   300,   301,   303,   304,   305,   306,   307,   308,\n",
       "         309,   310,   311,   313,   314,   315,   316,   317,   318,\n",
       "         320,   321,   322,   323,   324,   325,   326,   327,   328,\n",
       "         329,   330,   331,   332,   333,   334,   335,   336,   337,\n",
       "         338,   339,   340,   341,   343,   344,   345,   346,   347,\n",
       "         348,   349,   350,   351,   352,   353,   354,   355,   356,\n",
       "         357,   358,   360,   361,   362,   363,   364,   365,   367,\n",
       "         368,   370,   371,   374,   375,   376,   377,   379,   380,\n",
       "         381,   382,   385,   386,   387,   388,   390,   392,   394,\n",
       "         396,   398,   399,   400,   401,   402,   405,   408,   409,\n",
       "         411,   416,   420,   421,   425,   426,   428,   430,   431,\n",
       "         435,   440,   442,   445,   449,   450,   454,   457,   459,\n",
       "         460,   475,   476,   485,   487,   489,   490,   500,   504,\n",
       "         505,   507,   508,   510,   514,   515,   517,   519,   520,\n",
       "         521,   525,   530,   540,   541,   544,   550,   551,   553,\n",
       "         560,   572,   574,   579,   580,   584,   585,   599,   600,\n",
       "         601,   602,   603,   604,   606,   607,   610,   612,   620,\n",
       "         640,   645,   650,   651,   671,   678,   682,   685,   696,\n",
       "         700,   702,   703,   732,   743,   750,   751,   754,   771,\n",
       "         776,   800,   805,   808,   850,   851,   871,   900,   901,\n",
       "         902,   903,   907,   909,   923,   950,   952,   953,   960,\n",
       "         998,   999,  1000,  1001,  1002,  1003,  1004,  1005,  1011,\n",
       "        1012,  1016,  1017,  1021,  1024,  1054,  1055,  1056,  1062,\n",
       "        1079,  1082,  1090,  1100,  1102,  1103,  1105,  1111,  1115,\n",
       "        1120,  1149,  1151,  1158,  1160,  1162,  1164,  1199,  1200,\n",
       "        1202,  1221,  1223,  1230,  1239,  1240,  1241,  1250,  1252,\n",
       "        1256,  1275,  1288,  1299,  1300,  1312,  1317,  1324,  1339,\n",
       "        1351,  1360,  1362,  1363,  1367,  1390,  1394,  1398,  1399,\n",
       "        1400,  1401,  1403,  1405,  1416,  1432,  1433,  1436,  1500,\n",
       "        1501,  1502,  1503,  1506,  1521,  1548,  1595,  1596,  1597,\n",
       "        1598,  1600,  1625,  1631,  1653,  1659,  1689,  1700,  1701,\n",
       "        1703,  1704,  1707,  1753,  1771,  1779,  1780,  1781,  1783,\n",
       "        1793,  1796,  1799,  1800,  1801,  1870,  1895,  1896,  1900,\n",
       "        1910,  1920,  1922,  1933,  1937,  1968,  1986,  1988,  1992,\n",
       "        1993,  1995,  1998,  1999,  2000,  2004,  2005,  2007,  2009,\n",
       "        2016,  2017,  2018,  2172,  2200,  2201,  2331,  2340,  2389,\n",
       "        2402,  2461,  2598,  2729,  2789,  2792,  2799,  3000,  3199,\n",
       "        3454,  3500,  3750,  4400,  4507,  4700,  5000,  5411,  5420,\n",
       "        5575,  5809,  5815,  5867,  6006,  6010,  6011,  6012,  6018,\n",
       "        6045,  6062,  6226,  6512,  6920,  7508,  7511,  7512,  7515,\n",
       "        7518,  7529,  7544,  8011,  8259,  8404,  8500,  9000,  9007,\n",
       "        9010,  9011,  9012,  9013,  9710, 10000, 10110, 10218, 10311,\n",
       "       10317, 10520, 10522, 10710, 10910, 10912, 11011, 11025, 11111,\n",
       "       11509, 11530, 11635, 12012, 12510, 12512, 12684, 13616, 13636,\n",
       "       14009, 15001, 15016, 15017, 15020, 15033, 16011, 16051, 16311,\n",
       "       16312, 17011, 17019, 17410, 17700, 17932, 19208, 19211, 19312,\n",
       "       20000])"
      ]
     },
     "execution_count": 15,
     "metadata": {},
     "output_type": "execute_result"
    }
   ],
   "source": [
    "np.sort(data.Power.unique())"
   ]
  },
  {
   "cell_type": "markdown",
   "id": "01380670-4179-4444-aacd-4822bc4175b1",
   "metadata": {},
   "source": [
    "В столбце **Power** присутствуют аномальые зачения."
   ]
  },
  {
   "cell_type": "markdown",
   "id": "eee34ecb-5dd2-4ecc-b77f-96994c05b746",
   "metadata": {},
   "source": [
    "## Визуализация"
   ]
  },
  {
   "cell_type": "markdown",
   "id": "586cd2cb-9348-418c-8e88-4564820ea417",
   "metadata": {},
   "source": [
    "### Количественные признаки"
   ]
  },
  {
   "cell_type": "code",
   "execution_count": 24,
   "id": "6ac64fc5-9e2d-48a6-b5ff-2a6f94e7492f",
   "metadata": {},
   "outputs": [
    {
     "data": {
      "image/png": "[encoded data removed]",
      "text/plain": [
       "<Figure size 600x400 with 1 Axes>"
      ]
     },
     "metadata": {},
     "output_type": "display_data"
    },
    {
     "data": {
      "image/png": "[encoded data removed]",
      "text/plain": [
       "<Figure size 600x400 with 1 Axes>"
      ]
     },
     "metadata": {},
     "output_type": "display_data"
    }
   ],
   "source": [
    "# распределение целевого признака Price\n",
    "plt.rcParams[\"figure.figsize\"] = (6, 4)\n",
    "bins = plt.hist(\n",
    "    data['Price'], \n",
    "    bins=356, \n",
    "    color='darkslateblue'\n",
    ")\n",
    "plt.vlines(\n",
    "    x=data['Price'].mean(),\n",
    "    colors='red', \n",
    "    ymin=bins[0].min(), \n",
    "    ymax=bins[0].max(), \n",
    "    label='Среднее'\n",
    ")\n",
    "plt.vlines(\n",
    "    x=data['Price'].median(), \n",
    "    colors='red', \n",
    "    ymin=bins[0].min(), \n",
    "    ymax=bins[0].max(), \n",
    "    linestyles='--', \n",
    "    label='Медиана'\n",
    ")\n",
    "plt.title('Гистограмма распределения целевого признака')\n",
    "plt.xlabel('Цена, €')\n",
    "plt.ylabel('Количество автомобилей')\n",
    "plt.legend()\n",
    "plt.show()\n",
    "\n",
    "# ящик с усами целевого признака\n",
    "plt.title('Ящик с усами целевого признака')\n",
    "plt.boxplot(x=data['Price'], vert=False)\n",
    "plt.xlabel('Цена, €')\n",
    "plt.show()"
   ]
  },
  {
   "cell_type": "markdown",
   "id": "83397437-fd88-428d-af6b-b36775014c72",
   "metadata": {},
   "source": [
    "Целевой признак имеет экспоненциальное распределение. В количественных столбцах есть выбросы, фильтруем их на этапе предобработки."
   ]
  },
  {
   "cell_type": "markdown",
   "id": "c6621d7c",
   "metadata": {},
   "source": [
    "### Категориальные признаки"
   ]
  },
  {
   "cell_type": "code",
   "execution_count": 20,
   "id": "80317241",
   "metadata": {},
   "outputs": [],
   "source": [
    "def hist_countolot(data, x, xlabel, **kwargs):\n",
    "    \"\"\"\n",
    "    data - датафрейм\n",
    "    x - ость, по которой распределяются значения количественного признака\n",
    "    xlabel, ylabel - название осей\n",
    "    **kwargs:\n",
    "     - loc=('loc', 'best') - если он был задан, использовать значение по умолчанию 'best' либо\n",
    "       upper right и т.д.\n",
    "    \"\"\"\n",
    "    \n",
    "    # создаем случайные цвета\n",
    "    def random_color():\n",
    "        return \"#{:06x}\".format(random.randint(0, 0xFFFFFF))\n",
    "\n",
    "    # уникальные категории\n",
    "    categories = data.VehicleType.unique()\n",
    "\n",
    "    # случайные цвета для каждой категории\n",
    "    colors_hist = {cat: random_color() for cat in categories}\n",
    "\n",
    "    # гистограмма\n",
    "    plt.figure(figsize=(10, 4))\n",
    "    ax = sns.countplot(\n",
    "        data=data,\n",
    "        x=x, \n",
    "        palette=colors_hist,\n",
    "        hue='VehicleType', \n",
    "        stat='percent'\n",
    "    )\n",
    "    ax.set_title('График распределения категориального признака', fontsize=9)\n",
    "\n",
    "    # Настраиваем ось Y для отображения целых чисел\n",
    "    ax.yaxis.set_major_locator(MaxNLocator(integer=True))\n",
    "    \n",
    "    plt.title('График распределения категориального признака', fontsize=12)\n",
    "    plt.xlabel(xlabel)\n",
    "    plt.ylabel('Количество')\n",
    "    \n",
    "    # Исправленный вызов legend\n",
    "    plt.legend(title='Тип автомобильного кузова', loc=kwargs.get('loc', 'best'), **kwargs)\n",
    "\n",
    "    plt.show()\n"
   ]
  },
  {
   "cell_type": "code",
   "execution_count": 21,
   "id": "e5b3116d-4dd8-4873-9682-89b925bbd3c5",
   "metadata": {},
   "outputs": [
    {
     "data": {
      "image/png": "[encoded data removed]",
      "text/plain": [
       "<Figure size 1000x400 with 1 Axes>"
      ]
     },
     "metadata": {},
     "output_type": "display_data"
    }
   ],
   "source": [
    "# Gearbox\n",
    "hist_countolot(\n",
    "    data, \n",
    "    'Gearbox', \n",
    "    'Тип коробки передач'\n",
    ") "
   ]
  },
  {
   "cell_type": "code",
   "execution_count": 23,
   "id": "56500922-8023-4a4d-ab78-11f4d9647e10",
   "metadata": {},
   "outputs": [
    {
     "data": {
      "image/png": "[encoded data removed]",
      "text/plain": [
       "<Figure size 1000x400 with 1 Axes>"
      ]
     },
     "metadata": {},
     "output_type": "display_data"
    }
   ],
   "source": [
    "# FuelType\n",
    "hist_countolot(\n",
    "    data, \n",
    "    'FuelType', \n",
    "    'Тип топлива'\n",
    ") "
   ]
  },
  {
   "cell_type": "code",
   "execution_count": 22,
   "id": "ecf687cf-c0e9-41ae-b29b-e1c7b9f30aea",
   "metadata": {},
   "outputs": [
    {
     "data": {
      "image/png": "[encoded data removed]",
      "text/plain": [
       "<Figure size 1000x400 with 1 Axes>"
      ]
     },
     "metadata": {},
     "output_type": "display_data"
    }
   ],
   "source": [
    "# Repaired\n",
    "hist_countolot(\n",
    "    data, \n",
    "    'Repaired', \n",
    "    'Была машина в ремонте или нет'\n",
    ") "
   ]
  },
  {
   "cell_type": "markdown",
   "id": "dc670d3e-7a3d-40d0-b854-4fe245327ae6",
   "metadata": {},
   "source": [
    "### Корреляционный анализ"
   ]
  },
  {
   "cell_type": "code",
   "execution_count": 21,
   "id": "df8d61e1-8db4-4a43-a909-707ab7bd128d",
   "metadata": {},
   "outputs": [
    {
     "data": {
      "image/png": "[encoded data removed]",
      "text/plain": [
       "<Figure size 632x180 with 3 Axes>"
      ]
     },
     "metadata": {
      "needs_background": "light"
     },
     "output_type": "display_data"
    },
    {
     "data": {
      "image/png": "[encoded data removed]",
      "text/plain": [
       "<Figure size 613.5x180 with 3 Axes>"
      ]
     },
     "metadata": {
      "needs_background": "light"
     },
     "output_type": "display_data"
    },
    {
     "data": {
      "image/png": "[encoded data removed]",
      "text/plain": [
       "<Figure size 618x180 with 3 Axes>"
      ]
     },
     "metadata": {
      "needs_background": "light"
     },
     "output_type": "display_data"
    },
    {
     "data": {
      "image/png": "[encoded data removed]",
      "text/plain": [
       "<Figure size 593.25x180 with 3 Axes>"
      ]
     },
     "metadata": {
      "needs_background": "light"
     },
     "output_type": "display_data"
    }
   ],
   "source": [
    "cat = ['VehicleType', 'Gearbox', 'FuelType', 'Repaired']\n",
    "#data.select_dtypes(exclude='number').drop(['Model', 'Brand'], axis=1).columns\n",
    "for category in cat:\n",
    "    g = sns.PairGrid(\n",
    "        data.sample(frac=0.3, random_state=42), \n",
    "        hue=category, \n",
    "        x_vars=(\n",
    "            data\n",
    "            .select_dtypes(include='number')\n",
    "            .drop(['Price'], axis=1)\n",
    "            .columns\n",
    "        ),\n",
    "        y_vars='Price'\n",
    "    )\n",
    "    g.map(sns.scatterplot)\n",
    "    g.add_legend()\n",
    "    plt.show()"
   ]
  },
  {
   "cell_type": "markdown",
   "id": "d999e65b-5cd3-48cc-9817-f95c9b4895a6",
   "metadata": {},
   "source": [
    "На диаграммах нет четкой тенденции распрелеления данных - корреляция между целевым и количественными признаками отсутствует."
   ]
  },
  {
   "cell_type": "code",
   "execution_count": 22,
   "id": "ffb67ff4-360f-4ab1-8ba6-f10c9a2ea32e",
   "metadata": {
    "jp-MarkdownHeadingCollapsed": true
   },
   "outputs": [
    {
     "data": {
      "text/plain": [
       "(10, 10)"
      ]
     },
     "execution_count": 22,
     "metadata": {},
     "output_type": "execute_result"
    }
   ],
   "source": [
    "# считаем корреляцию\n",
    "phik_overview = phik_matrix(\n",
    "    data,\n",
    "    interval_cols=(\n",
    "        data\n",
    "        .select_dtypes(include='number')\n",
    "        .columns\n",
    "    ) \n",
    ")\n",
    "\n",
    "# размер матрицы\n",
    "phik_overview.shape"
   ]
  },
  {
   "cell_type": "code",
   "execution_count": 23,
   "id": "2034813c-7ea8-4b73-8dc5-be1566eafbd6",
   "metadata": {},
   "outputs": [
    {
     "data": {
      "image/png": "[encoded data removed]",
      "text/plain": [
       "<Figure size 1440x1080 with 2 Axes>"
      ]
     },
     "metadata": {
      "needs_background": "light"
     },
     "output_type": "display_data"
    }
   ],
   "source": [
    "plot_correlation_matrix(\n",
    "    phik_overview.values,\n",
    "    x_labels=phik_overview.columns,\n",
    "    y_labels=phik_overview.index,\n",
    "    vmin=0, vmax=1, color_map='Greens',\n",
    "    title=r'correlation $\\phi_K$',\n",
    "    fontsize_factor=1.5,\n",
    "    figsize=(20, 15)\n",
    ")"
   ]
  },
  {
   "cell_type": "markdown",
   "id": "8071e16e-49ed-49da-aebc-0e8e7933d09c",
   "metadata": {},
   "source": [
    "Присутствует мультикорреляция между Brand - Model и VehicleType - Model. При обучении модели необходимо использовать методы регуляризации, такие как Lasso (L1-регуляризация) или Ridge (L2-регуляризация), так как они могут уменьшить влияние коррелирующих признаков на модель."
   ]
  },
  {
   "cell_type": "markdown",
   "id": "1dd8d527-88ed-4057-b193-8ecc1d2beb7c",
   "metadata": {},
   "source": [
    "# Предобработка данных"
   ]
  },
  {
   "cell_type": "markdown",
   "id": "fb165d64-0218-4237-9115-cea9d6452dbc",
   "metadata": {},
   "source": [
    "Подготовка данных для анализа называется предобработкой. Нужно оценить масштаб найденных проблем и устранить их. Предобработка следует принципу GIGO (от англ. garbage in — garbage out, буквально «мусор на входе — мусор на выходе»). Это значит, что при ошибках во входных данных даже правильный алгоритм работы приведёт к неверным результатам. Так же нужно помнить об законе экономии, который называется Бри́тва О́ккама. В нем говорится следующее: Не следует множить сущее без необходимости. Суть принципа: совершенство должно быть простым. Если какого-то результата можно достичь с привлечением сущностей A, B и C либо другим путём с привлечением A, B, С и D — надо выбирать первый путь. В плане программирования это значит, что не следут создавать промежуточные переменные, которые не пригодяться в дальнейшем."
   ]
  },
  {
   "cell_type": "markdown",
   "id": "242ab516-fff0-4477-afe2-41eee9e9ffa2",
   "metadata": {},
   "source": [
    "Кастомный трансформер предобработки"
   ]
  },
  {
   "cell_type": "code",
   "execution_count": 24,
   "id": "7fa20fef-41e1-4e0c-92e1-19a8897b8833",
   "metadata": {},
   "outputs": [],
   "source": [
    "class CustomTransformer(BaseEstimator, TransformerMixin):\n",
    "    def __init__(self, thresholds={'Price': 1.5, 'RegistrationYear': 1.5, 'Power': 1.5}):\n",
    "        self.thresholds = thresholds\n",
    "\n",
    "    def fit(self, X, y=None):\n",
    "        # Сохраним медианы для замены выбросов\n",
    "        self.median_power = X['Power'].median()  # Медиана для 'Power'\n",
    "        self.median_registration_year = X['RegistrationYear'].median()  # Медиана для 'RegistrationYear'\n",
    "        self.median_kilometer = X['Kilometer'].median()  # Для 'Kilometer'\n",
    "        self.median_price = X['Price'].median()  # Медиана для 'Price'\n",
    "        return self\n",
    "\n",
    "    def transform(self, X):\n",
    "        X_len_stock = X.shape[0]\n",
    "\n",
    "        # Категориальные признаки\n",
    "        # Исправить не явные дубликаты в столбце\n",
    "        X['FuelType'] = X['FuelType'].replace('petrol', 'gasoline')\n",
    "        \n",
    "        # Заполнить пропуски в столбцах\n",
    "        vehicle_type = X.groupby('Model')['VehicleType'].agg(lambda x: x.mode()[0] if not x.mode().empty else None)\n",
    "        gearbox = X.groupby('Model')['Gearbox'].agg(lambda x: x.mode()[0] if not x.mode().empty else None)\n",
    "        fuel_type = X.groupby('Model')['FuelType'].agg(lambda x: x.mode()[0] if not x.mode().empty else None)\n",
    "\n",
    "        X['VehicleType'] = X['VehicleType'].fillna(X['Model'].map(vehicle_type))\n",
    "        X['Gearbox'] = X['Gearbox'].fillna(X['Model'].map(gearbox))\n",
    "        X['FuelType'] = X['FuelType'].fillna(X['Model'].map(fuel_type))\n",
    "\n",
    "        # Заменить оставшиеся пропуски на значение unknown\n",
    "        X[['VehicleType', 'Gearbox', 'FuelType', 'Repaired']] = X[['VehicleType', 'Gearbox', 'FuelType', 'Repaired']].fillna('unknown')\n",
    "\n",
    "        # Заполнить пропуски в столбце Model\n",
    "        mask = X['Model'].isna()\n",
    "        missing_models = X[mask]\n",
    "        merged = missing_models.merge(\n",
    "            X[['VehicleType', 'Gearbox', 'FuelType', 'RegistrationYear', 'Model']],\n",
    "            on=['VehicleType', 'Gearbox', 'FuelType', 'RegistrationYear'],\n",
    "            how='left',\n",
    "            suffixes=('', '_matched')\n",
    "        )\n",
    "        X.loc[mask, 'Model'] = merged['Model_matched']\n",
    "\n",
    "        # Заполнить оставшиеся пропуски на значение unknown\n",
    "        X['Model'] = X['Model'].fillna('unknown')\n",
    "\n",
    "        # Числовые признаки\n",
    "        # Преобразование строковых значений в NaN в числовых столбцах\n",
    "        for col in X.select_dtypes(include=['float64', 'int64']).columns:\n",
    "            X[col] = pd.to_numeric(X[col], errors='coerce')\n",
    "\n",
    "        # Заполнить пропуски в 'RegistrationYear', 'Power' и 'Kilometer' медианами\n",
    "        X['Power'].fillna(self.median_power, inplace=True)\n",
    "        X['RegistrationYear'].fillna(self.median_registration_year, inplace=True)\n",
    "        X['Kilometer'].fillna(self.median_kilometer, inplace=True)\n",
    "        \n",
    "        # Исключить строки с нулем из столбца Price\n",
    "        X = X[X['Price'] != 0]\n",
    "\n",
    "        # Создадим DataFrame для хранения границ выбросов\n",
    "        outlier_info = pd.DataFrame(columns=['Feature', 'Threshold', 'Lower Bound', 'Upper Bound'])\n",
    "        \n",
    "        # Убрать выбросы (аномалии) из количественных признаков RegistrationYear и Power\n",
    "        for column in ['Price', 'RegistrationYear', 'Power']:\n",
    "            thresholds = self.thresholds[column]\n",
    "            lower_bound = (\n",
    "                X[column].quantile(0.25) * thresholds# - thresholds * (X[column].quantile(0.75) - X[column].quantile(0.25))\n",
    "            )\n",
    "            upper_bound = (\n",
    "                X[column].quantile(0.75) + thresholds * (X[column].quantile(0.75) - X[column].quantile(0.25))\n",
    "            )\n",
    "\n",
    "            # Добавляем информацию о выбросах в DataFrame\n",
    "            outlier_info = pd.concat([\n",
    "                outlier_info,\n",
    "                pd.DataFrame([{\n",
    "                    'Feature': column,\n",
    "                    'Threshold': thresholds,\n",
    "                    'Lower Bound': lower_bound,\n",
    "                    'Upper Bound': upper_bound\n",
    "                }])\n",
    "            ], ignore_index=True)\n",
    "\n",
    "            \n",
    "            median_value = self.median_price if column == 'Price' else self.median_power\n",
    "            X[column] = np.where((X[column] < lower_bound) | (X[column] > upper_bound), median_value, X[column])\n",
    "                \n",
    "        # Выводим таблицу с информацией о выбросах\n",
    "        display(outlier_info.set_index('Feature').T)\n",
    "\n",
    "        # Изменить формат данных в столбцах\n",
    "        X[['Price', 'Kilometer']] = X[['Price', 'Kilometer']].astype('int32')\n",
    "        X[['RegistrationYear', 'Power']] = X[['RegistrationYear', 'Power']].astype('int16')\n",
    "\n",
    "        # Cравнить количество оставшихся строк с оригиналом\n",
    "        print(f\"Исходное количество строк: {X_len_stock}\")\n",
    "        print(f\"Количество строк после предобработки: {X.shape[0]}\")\n",
    "        print(f\"Потеря данных: {round((100 - (X.shape[0] / X_len_stock) * 100), 2)}%\")\n",
    "\n",
    "        return X"
   ]
  },
  {
   "cell_type": "code",
   "execution_count": 25,
   "id": "bddbcda4-b0e2-4a62-9c94-97322ff531d4",
   "metadata": {},
   "outputs": [
    {
     "data": {
      "text/html": [
       "<div>\n",
       "<style scoped>\n",
       "    .dataframe tbody tr th:only-of-type {\n",
       "        vertical-align: middle;\n",
       "    }\n",
       "\n",
       "    .dataframe tbody tr th {\n",
       "        vertical-align: top;\n",
       "    }\n",
       "\n",
       "    .dataframe thead th {\n",
       "        text-align: right;\n",
       "    }\n",
       "</style>\n",
       "<table border=\"1\" class=\"dataframe\">\n",
       "  <thead>\n",
       "    <tr style=\"text-align: right;\">\n",
       "      <th>Feature</th>\n",
       "      <th>Price</th>\n",
       "      <th>RegistrationYear</th>\n",
       "      <th>Power</th>\n",
       "    </tr>\n",
       "  </thead>\n",
       "  <tbody>\n",
       "    <tr>\n",
       "      <th>Threshold</th>\n",
       "      <td>0.15</td>\n",
       "      <td>0.98</td>\n",
       "      <td>1.0</td>\n",
       "    </tr>\n",
       "    <tr>\n",
       "      <th>Lower Bound</th>\n",
       "      <td>180.00</td>\n",
       "      <td>1959.02</td>\n",
       "      <td>69.0</td>\n",
       "    </tr>\n",
       "    <tr>\n",
       "      <th>Upper Bound</th>\n",
       "      <td>7295.00</td>\n",
       "      <td>2016.82</td>\n",
       "      <td>217.0</td>\n",
       "    </tr>\n",
       "  </tbody>\n",
       "</table>\n",
       "</div>"
      ],
      "text/plain": [
       "Feature        Price  RegistrationYear  Power\n",
       "Threshold       0.15              0.98    1.0\n",
       "Lower Bound   180.00           1959.02   69.0\n",
       "Upper Bound  7295.00           2016.82  217.0"
      ]
     },
     "metadata": {},
     "output_type": "display_data"
    },
    {
     "name": "stdout",
     "output_type": "stream",
     "text": [
      "Исходное количество строк: 354369\n",
      "Количество строк после предобработки: 343597\n",
      "Потеря данных: 3.04%\n"
     ]
    }
   ],
   "source": [
    "pipe_pre = Pipeline(\n",
    "    [\n",
    "        ('custom_transformer', CustomTransformer(thresholds={'Price': 0.15, 'RegistrationYear': 0.98, 'Power': 1}))\n",
    "    ]\n",
    ")\n",
    "data_pre = pipe_pre.fit_transform(data)"
   ]
  },
  {
   "cell_type": "markdown",
   "id": "ea90f334-85fc-48a8-93c8-bc5e1328abae",
   "metadata": {},
   "source": [
    "# Обучение модей"
   ]
  },
  {
   "cell_type": "markdown",
   "id": "ae44a36c-8bfa-4d6f-aa45-a92ade52d7db",
   "metadata": {},
   "source": [
    "Для решения задачи линейной регрессии обучим три модели: CatBoostRegressor, LGBMRegressor и RandomForestRegressor."
   ]
  },
  {
   "cell_type": "code",
   "execution_count": 36,
   "id": "b69352e4-bb90-4528-a52c-6cdd0e120dfb",
   "metadata": {
    "jupyter": {
     "source_hidden": true
    }
   },
   "outputs": [],
   "source": [
    "# label_encoders = {}\n",
    "# for column in cat_columns:\n",
    "    # le = LabelEncoder()\n",
    "    # data_random[column] = le.fit_transform(data_random[column])"
   ]
  },
  {
   "cell_type": "code",
   "execution_count": 37,
   "id": "0a31a760-a3a1-4e71-8170-31a330b6944b",
   "metadata": {
    "jupyter": {
     "source_hidden": true
    }
   },
   "outputs": [],
   "source": [
    "# X_train_rf, X_valid_rf, y_train_rf, y_valid_rf = (\n",
    "    # train_test_split(\n",
    "        # data_random.drop(['Price'],axis=1),\n",
    "        # data_random.Price,\n",
    "        # test_size = VALID_SIZE,\n",
    "        # random_state = RANDOM_STATE\n",
    "    # )\n",
    "# )"
   ]
  },
  {
   "cell_type": "code",
   "execution_count": 38,
   "id": "76a6f9ba-4471-4512-b895-d4b70faf0f02",
   "metadata": {
    "jupyter": {
     "source_hidden": true
    }
   },
   "outputs": [],
   "source": [
    "# Настройка RandomForestRegressor\n",
    "# rf_model = RandomForestRegressor(\n",
    "    # n_estimators=100,\n",
    "    # max_depth=None,\n",
    "    # min_samples_split=2,\n",
    "    # min_samples_leaf=1,\n",
    "    # random_state=42\n",
    "# )"
   ]
  },
  {
   "cell_type": "code",
   "execution_count": 39,
   "id": "28e566f9-a2d0-4cbf-bae3-438642f67db8",
   "metadata": {
    "jupyter": {
     "source_hidden": true
    }
   },
   "outputs": [],
   "source": [
    "# rf_learn_time = time.time()\n",
    "# rf_model.fit(X_train_rf, y_train_rf)\n",
    "# rf_learn_end = round((time.time() - rf_learn_time), 1)\n",
    "# print(f'Wall time: {rf_learn_end} seconds')"
   ]
  },
  {
   "cell_type": "code",
   "execution_count": 40,
   "id": "c99684c1-ea5d-4aed-9b5a-5c2534fadf4b",
   "metadata": {
    "jupyter": {
     "source_hidden": true
    }
   },
   "outputs": [],
   "source": [
    "# rf_pred_time = time.time()\n",
    "# rf_preds = rf_model.predict(X_valid_rf)\n",
    "# rf_rmse = int(np.sqrt(mean_squared_error(y_valid_rf, rf_preds)))\n",
    "# rf_pred_end = round((time.time() - rf_pred_time), 1)\n",
    "# print(f'Random Forest RMSE: {rf_rmse}')"
   ]
  },
  {
   "cell_type": "code",
   "execution_count": 41,
   "id": "37dca26e-7656-469b-97af-f1f58e7abdbf",
   "metadata": {},
   "outputs": [],
   "source": [
    "RANDOM_STATE = 42 \n",
    "TEST_SIZE = 0.25\n",
    "\n",
    "X_train, X_test, y_train, y_test = (\n",
    "    train_test_split(\n",
    "        data_pre.drop(['Price'],axis=1),\n",
    "        data_pre.Price,\n",
    "        test_size = TEST_SIZE,\n",
    "        random_state = RANDOM_STATE\n",
    "    )\n",
    ")\n",
    "\n",
    "cat_columns = ['VehicleType', 'Gearbox', 'Model', 'FuelType', 'Brand', 'Repaired']\n",
    "\n",
    "# Преобразуем категориальные признаки в тип category\n",
    "for col in cat_columns:\n",
    "    X_train[col] = X_train[col].astype('category')\n",
    "    X_test[col] = X_test[col].astype('category')"
   ]
  },
  {
   "cell_type": "code",
   "execution_count": 42,
   "id": "3ac7a54a-b13c-47b6-aa4d-dcfe7cb34d54",
   "metadata": {},
   "outputs": [],
   "source": [
    "# CatBoostRegressor\n",
    "pool = Pool(data=X_train, label=y_train, cat_features=cat_columns)\n",
    "params = {\n",
    "    'loss_function': 'RMSE',\n",
    "    'iterations': 500,\n",
    "    'learning_rate': 0.5,\n",
    "    'depth': 6,\n",
    "    'l2_leaf_reg': 3,\n",
    "    'eval_metric': 'RMSE',\n",
    "    'verbose': 100,\n",
    "    'random_seed': RANDOM_STATE\n",
    "}\n",
    "\n",
    "cat_learn_time = time.time()\n",
    "cat_cv = cv(\n",
    "    params=params,\n",
    "    pool=pool,\n",
    "    fold_count=5,\n",
    "    partition_random_seed=RANDOM_STATE,\n",
    "    #verbose=False,\n",
    "    logging_level='Silent'\n",
    ")\n",
    "cat_learn_end = round((time.time() - cat_learn_time), 1)\n",
    "cat_rmse = int(cat_cv['test-RMSE-mean'].mean())"
   ]
  },
  {
   "cell_type": "code",
   "execution_count": 43,
   "id": "436c2c12-efed-4c4b-bdca-0f3ff3902008",
   "metadata": {
    "scrolled": true
   },
   "outputs": [],
   "source": [
    "# LGBMRegressor\n",
    "lgbm_model = LGBMRegressor(\n",
    "    n_estimators=1000,\n",
    "    learning_rate=0.1,\n",
    "    num_leaves=31,\n",
    "    max_depth=-1,\n",
    "    reg_alpha=0.1,\n",
    "    reg_lambda=0.1,\n",
    "    random_state=RANDOM_STATE\n",
    ")\n",
    "\n",
    "lgbm_learn_time = time.time()\n",
    "lgbm_cv = cross_val_score(\n",
    "    lgbm_model,\n",
    "    X_train,\n",
    "    y_train,\n",
    "    cv=5,\n",
    "    scoring='neg_root_mean_squared_error'\n",
    ")\n",
    "lgbm_learn_end = round((time.time() - lgbm_learn_time), 1)\n",
    "lgbm_rmse = int(np.mean(-lgbm_cv))"
   ]
  },
  {
   "cell_type": "code",
   "execution_count": 44,
   "id": "a37998d7-2fcb-4a00-aed4-20c77d00404b",
   "metadata": {},
   "outputs": [],
   "source": [
    "# RandomForestRegressor\n",
    "data_random = data_pre.copy()\n",
    "label_encoders = {}\n",
    "\n",
    "for column in cat_columns:\n",
    "    le = LabelEncoder()\n",
    "    data_random[column] = le.fit_transform(data_random[column])\n",
    "    \n",
    "X_train_rf, X_test_rf, y_train_rf, y_test_rf = (\n",
    "    train_test_split(\n",
    "        data_random.drop(['Price'],axis=1),\n",
    "        data_random.Price,\n",
    "        test_size = TEST_SIZE,\n",
    "        random_state = RANDOM_STATE\n",
    "    )\n",
    ")\n",
    "\n",
    "rf_model = RandomForestRegressor(\n",
    "    n_estimators=100,\n",
    "    max_depth=None,\n",
    "    min_samples_split=2,\n",
    "    min_samples_leaf=1,\n",
    "    random_state=42\n",
    ")\n",
    "\n",
    "rf_learn_time = time.time()\n",
    "rf_cv = cross_val_score(\n",
    "    rf_model,\n",
    "    X_train_rf,\n",
    "    y_train_rf,\n",
    "    cv=5,\n",
    "    scoring='neg_root_mean_squared_error'\n",
    ")\n",
    "rf_learn_end = round((time.time() - rf_learn_time), 1)\n",
    "rf_rmse = int(np.mean(-rf_cv))"
   ]
  },
  {
   "cell_type": "markdown",
   "id": "de7d8855-c6d7-4e5c-aac4-8908ad43ec7b",
   "metadata": {},
   "source": [
    "# Анализ результатов обучения"
   ]
  },
  {
   "cell_type": "code",
   "execution_count": 45,
   "id": "fa3537a2-0299-439f-b295-6ee1291e7b3c",
   "metadata": {},
   "outputs": [
    {
     "data": {
      "text/html": [
       "<div>\n",
       "<style scoped>\n",
       "    .dataframe tbody tr th:only-of-type {\n",
       "        vertical-align: middle;\n",
       "    }\n",
       "\n",
       "    .dataframe tbody tr th {\n",
       "        vertical-align: top;\n",
       "    }\n",
       "\n",
       "    .dataframe thead th {\n",
       "        text-align: right;\n",
       "    }\n",
       "</style>\n",
       "<table border=\"1\" class=\"dataframe\">\n",
       "  <thead>\n",
       "    <tr style=\"text-align: right;\">\n",
       "      <th>Тип модели</th>\n",
       "      <th>CatBoostRegressor</th>\n",
       "      <th>LGBMRegressor</th>\n",
       "      <th>RandomForestRegressor</th>\n",
       "    </tr>\n",
       "  </thead>\n",
       "  <tbody>\n",
       "    <tr>\n",
       "      <th>Время обучения</th>\n",
       "      <td>589.9</td>\n",
       "      <td>187.2</td>\n",
       "      <td>261.9</td>\n",
       "    </tr>\n",
       "    <tr>\n",
       "      <th>Значение метрики RMSE</th>\n",
       "      <td>1077.0</td>\n",
       "      <td>1032.0</td>\n",
       "      <td>1064.0</td>\n",
       "    </tr>\n",
       "  </tbody>\n",
       "</table>\n",
       "</div>"
      ],
      "text/plain": [
       "Тип модели             CatBoostRegressor  LGBMRegressor  RandomForestRegressor\n",
       "Время обучения                     589.9          187.2                  261.9\n",
       "Значение метрики RMSE             1077.0         1032.0                 1064.0"
      ]
     },
     "execution_count": 45,
     "metadata": {},
     "output_type": "execute_result"
    }
   ],
   "source": [
    "(\n",
    "    pd.DataFrame({\n",
    "        'Тип модели': ['CatBoostRegressor', 'LGBMRegressor', 'RandomForestRegressor'],\n",
    "        'Время обучения': [cat_learn_end, lgbm_learn_end, rf_learn_end],\n",
    "        'Значение метрики RMSE': [cat_rmse, lgbm_rmse, rf_rmse],\n",
    "        })\n",
    "    .set_index('Тип модели')\n",
    "    .T\n",
    "    )\n"
   ]
  },
  {
   "cell_type": "markdown",
   "id": "5e8602be-7878-4b09-9688-0b49c2af79c3",
   "metadata": {},
   "source": [
    "Опираясь на критерии, которые важны заказчику, определяем лучшую модель - LGBMRegressor. Выполним передсказание на лучшей модели"
   ]
  },
  {
   "cell_type": "code",
   "execution_count": 46,
   "id": "0f0060c0-09d2-4592-a87c-49e4a6602df8",
   "metadata": {},
   "outputs": [
    {
     "name": "stderr",
     "output_type": "stream",
     "text": [
      "/opt/conda/lib/python3.9/site-packages/lightgbm/basic.py:2065: UserWarning: Using categorical_feature in Dataset.\n",
      "  _log_warning('Using categorical_feature in Dataset.')\n"
     ]
    },
    {
     "data": {
      "text/html": [
       "<style>#sk-container-id-1 {\n",
       "  /* Definition of color scheme common for light and dark mode */\n",
       "  --sklearn-color-text: #000;\n",
       "  --sklearn-color-text-muted: #666;\n",
       "  --sklearn-color-line: gray;\n",
       "  /* Definition of color scheme for unfitted estimators */\n",
       "  --sklearn-color-unfitted-level-0: #fff5e6;\n",
       "  --sklearn-color-unfitted-level-1: #f6e4d2;\n",
       "  --sklearn-color-unfitted-level-2: #ffe0b3;\n",
       "  --sklearn-color-unfitted-level-3: chocolate;\n",
       "  /* Definition of color scheme for fitted estimators */\n",
       "  --sklearn-color-fitted-level-0: #f0f8ff;\n",
       "  --sklearn-color-fitted-level-1: #d4ebff;\n",
       "  --sklearn-color-fitted-level-2: #b3dbfd;\n",
       "  --sklearn-color-fitted-level-3: cornflowerblue;\n",
       "\n",
       "  /* Specific color for light theme */\n",
       "  --sklearn-color-text-on-default-background: var(--sg-text-color, var(--theme-code-foreground, var(--jp-content-font-color1, black)));\n",
       "  --sklearn-color-background: var(--sg-background-color, var(--theme-background, var(--jp-layout-color0, white)));\n",
       "  --sklearn-color-border-box: var(--sg-text-color, var(--theme-code-foreground, var(--jp-content-font-color1, black)));\n",
       "  --sklearn-color-icon: #696969;\n",
       "\n",
       "  @media (prefers-color-scheme: dark) {\n",
       "    /* Redefinition of color scheme for dark theme */\n",
       "    --sklearn-color-text-on-default-background: var(--sg-text-color, var(--theme-code-foreground, var(--jp-content-font-color1, white)));\n",
       "    --sklearn-color-background: var(--sg-background-color, var(--theme-background, var(--jp-layout-color0, #111)));\n",
       "    --sklearn-color-border-box: var(--sg-text-color, var(--theme-code-foreground, var(--jp-content-font-color1, white)));\n",
       "    --sklearn-color-icon: #878787;\n",
       "  }\n",
       "}\n",
       "\n",
       "#sk-container-id-1 {\n",
       "  color: var(--sklearn-color-text);\n",
       "}\n",
       "\n",
       "#sk-container-id-1 pre {\n",
       "  padding: 0;\n",
       "}\n",
       "\n",
       "#sk-container-id-1 input.sk-hidden--visually {\n",
       "  border: 0;\n",
       "  clip: rect(1px 1px 1px 1px);\n",
       "  clip: rect(1px, 1px, 1px, 1px);\n",
       "  height: 1px;\n",
       "  margin: -1px;\n",
       "  overflow: hidden;\n",
       "  padding: 0;\n",
       "  position: absolute;\n",
       "  width: 1px;\n",
       "}\n",
       "\n",
       "#sk-container-id-1 div.sk-dashed-wrapped {\n",
       "  border: 1px dashed var(--sklearn-color-line);\n",
       "  margin: 0 0.4em 0.5em 0.4em;\n",
       "  box-sizing: border-box;\n",
       "  padding-bottom: 0.4em;\n",
       "  background-color: var(--sklearn-color-background);\n",
       "}\n",
       "\n",
       "#sk-container-id-1 div.sk-container {\n",
       "  /* jupyter's `normalize.less` sets `[hidden] { display: none; }`\n",
       "     but bootstrap.min.css set `[hidden] { display: none !important; }`\n",
       "     so we also need the `!important` here to be able to override the\n",
       "     default hidden behavior on the sphinx rendered scikit-learn.org.\n",
       "     See: https://github.com/scikit-learn/scikit-learn/issues/21755 */\n",
       "  display: inline-block !important;\n",
       "  position: relative;\n",
       "}\n",
       "\n",
       "#sk-container-id-1 div.sk-text-repr-fallback {\n",
       "  display: none;\n",
       "}\n",
       "\n",
       "div.sk-parallel-item,\n",
       "div.sk-serial,\n",
       "div.sk-item {\n",
       "  /* draw centered vertical line to link estimators */\n",
       "  background-image: linear-gradient(var(--sklearn-color-text-on-default-background), var(--sklearn-color-text-on-default-background));\n",
       "  background-size: 2px 100%;\n",
       "  background-repeat: no-repeat;\n",
       "  background-position: center center;\n",
       "}\n",
       "\n",
       "/* Parallel-specific style estimator block */\n",
       "\n",
       "#sk-container-id-1 div.sk-parallel-item::after {\n",
       "  content: \"\";\n",
       "  width: 100%;\n",
       "  border-bottom: 2px solid var(--sklearn-color-text-on-default-background);\n",
       "  flex-grow: 1;\n",
       "}\n",
       "\n",
       "#sk-container-id-1 div.sk-parallel {\n",
       "  display: flex;\n",
       "  align-items: stretch;\n",
       "  justify-content: center;\n",
       "  background-color: var(--sklearn-color-background);\n",
       "  position: relative;\n",
       "}\n",
       "\n",
       "#sk-container-id-1 div.sk-parallel-item {\n",
       "  display: flex;\n",
       "  flex-direction: column;\n",
       "}\n",
       "\n",
       "#sk-container-id-1 div.sk-parallel-item:first-child::after {\n",
       "  align-self: flex-end;\n",
       "  width: 50%;\n",
       "}\n",
       "\n",
       "#sk-container-id-1 div.sk-parallel-item:last-child::after {\n",
       "  align-self: flex-start;\n",
       "  width: 50%;\n",
       "}\n",
       "\n",
       "#sk-container-id-1 div.sk-parallel-item:only-child::after {\n",
       "  width: 0;\n",
       "}\n",
       "\n",
       "/* Serial-specific style estimator block */\n",
       "\n",
       "#sk-container-id-1 div.sk-serial {\n",
       "  display: flex;\n",
       "  flex-direction: column;\n",
       "  align-items: center;\n",
       "  background-color: var(--sklearn-color-background);\n",
       "  padding-right: 1em;\n",
       "  padding-left: 1em;\n",
       "}\n",
       "\n",
       "\n",
       "/* Toggleable style: style used for estimator/Pipeline/ColumnTransformer box that is\n",
       "clickable and can be expanded/collapsed.\n",
       "- Pipeline and ColumnTransformer use this feature and define the default style\n",
       "- Estimators will overwrite some part of the style using the `sk-estimator` class\n",
       "*/\n",
       "\n",
       "/* Pipeline and ColumnTransformer style (default) */\n",
       "\n",
       "#sk-container-id-1 div.sk-toggleable {\n",
       "  /* Default theme specific background. It is overwritten whether we have a\n",
       "  specific estimator or a Pipeline/ColumnTransformer */\n",
       "  background-color: var(--sklearn-color-background);\n",
       "}\n",
       "\n",
       "/* Toggleable label */\n",
       "#sk-container-id-1 label.sk-toggleable__label {\n",
       "  cursor: pointer;\n",
       "  display: flex;\n",
       "  width: 100%;\n",
       "  margin-bottom: 0;\n",
       "  padding: 0.5em;\n",
       "  box-sizing: border-box;\n",
       "  text-align: center;\n",
       "  align-items: start;\n",
       "  justify-content: space-between;\n",
       "  gap: 0.5em;\n",
       "}\n",
       "\n",
       "#sk-container-id-1 label.sk-toggleable__label .caption {\n",
       "  font-size: 0.6rem;\n",
       "  font-weight: lighter;\n",
       "  color: var(--sklearn-color-text-muted);\n",
       "}\n",
       "\n",
       "#sk-container-id-1 label.sk-toggleable__label-arrow:before {\n",
       "  /* Arrow on the left of the label */\n",
       "  content: \"▸\";\n",
       "  float: left;\n",
       "  margin-right: 0.25em;\n",
       "  color: var(--sklearn-color-icon);\n",
       "}\n",
       "\n",
       "#sk-container-id-1 label.sk-toggleable__label-arrow:hover:before {\n",
       "  color: var(--sklearn-color-text);\n",
       "}\n",
       "\n",
       "/* Toggleable content - dropdown */\n",
       "\n",
       "#sk-container-id-1 div.sk-toggleable__content {\n",
       "  max-height: 0;\n",
       "  max-width: 0;\n",
       "  overflow: hidden;\n",
       "  text-align: left;\n",
       "  /* unfitted */\n",
       "  background-color: var(--sklearn-color-unfitted-level-0);\n",
       "}\n",
       "\n",
       "#sk-container-id-1 div.sk-toggleable__content.fitted {\n",
       "  /* fitted */\n",
       "  background-color: var(--sklearn-color-fitted-level-0);\n",
       "}\n",
       "\n",
       "#sk-container-id-1 div.sk-toggleable__content pre {\n",
       "  margin: 0.2em;\n",
       "  border-radius: 0.25em;\n",
       "  color: var(--sklearn-color-text);\n",
       "  /* unfitted */\n",
       "  background-color: var(--sklearn-color-unfitted-level-0);\n",
       "}\n",
       "\n",
       "#sk-container-id-1 div.sk-toggleable__content.fitted pre {\n",
       "  /* unfitted */\n",
       "  background-color: var(--sklearn-color-fitted-level-0);\n",
       "}\n",
       "\n",
       "#sk-container-id-1 input.sk-toggleable__control:checked~div.sk-toggleable__content {\n",
       "  /* Expand drop-down */\n",
       "  max-height: 200px;\n",
       "  max-width: 100%;\n",
       "  overflow: auto;\n",
       "}\n",
       "\n",
       "#sk-container-id-1 input.sk-toggleable__control:checked~label.sk-toggleable__label-arrow:before {\n",
       "  content: \"▾\";\n",
       "}\n",
       "\n",
       "/* Pipeline/ColumnTransformer-specific style */\n",
       "\n",
       "#sk-container-id-1 div.sk-label input.sk-toggleable__control:checked~label.sk-toggleable__label {\n",
       "  color: var(--sklearn-color-text);\n",
       "  background-color: var(--sklearn-color-unfitted-level-2);\n",
       "}\n",
       "\n",
       "#sk-container-id-1 div.sk-label.fitted input.sk-toggleable__control:checked~label.sk-toggleable__label {\n",
       "  background-color: var(--sklearn-color-fitted-level-2);\n",
       "}\n",
       "\n",
       "/* Estimator-specific style */\n",
       "\n",
       "/* Colorize estimator box */\n",
       "#sk-container-id-1 div.sk-estimator input.sk-toggleable__control:checked~label.sk-toggleable__label {\n",
       "  /* unfitted */\n",
       "  background-color: var(--sklearn-color-unfitted-level-2);\n",
       "}\n",
       "\n",
       "#sk-container-id-1 div.sk-estimator.fitted input.sk-toggleable__control:checked~label.sk-toggleable__label {\n",
       "  /* fitted */\n",
       "  background-color: var(--sklearn-color-fitted-level-2);\n",
       "}\n",
       "\n",
       "#sk-container-id-1 div.sk-label label.sk-toggleable__label,\n",
       "#sk-container-id-1 div.sk-label label {\n",
       "  /* The background is the default theme color */\n",
       "  color: var(--sklearn-color-text-on-default-background);\n",
       "}\n",
       "\n",
       "/* On hover, darken the color of the background */\n",
       "#sk-container-id-1 div.sk-label:hover label.sk-toggleable__label {\n",
       "  color: var(--sklearn-color-text);\n",
       "  background-color: var(--sklearn-color-unfitted-level-2);\n",
       "}\n",
       "\n",
       "/* Label box, darken color on hover, fitted */\n",
       "#sk-container-id-1 div.sk-label.fitted:hover label.sk-toggleable__label.fitted {\n",
       "  color: var(--sklearn-color-text);\n",
       "  background-color: var(--sklearn-color-fitted-level-2);\n",
       "}\n",
       "\n",
       "/* Estimator label */\n",
       "\n",
       "#sk-container-id-1 div.sk-label label {\n",
       "  font-family: monospace;\n",
       "  font-weight: bold;\n",
       "  display: inline-block;\n",
       "  line-height: 1.2em;\n",
       "}\n",
       "\n",
       "#sk-container-id-1 div.sk-label-container {\n",
       "  text-align: center;\n",
       "}\n",
       "\n",
       "/* Estimator-specific */\n",
       "#sk-container-id-1 div.sk-estimator {\n",
       "  font-family: monospace;\n",
       "  border: 1px dotted var(--sklearn-color-border-box);\n",
       "  border-radius: 0.25em;\n",
       "  box-sizing: border-box;\n",
       "  margin-bottom: 0.5em;\n",
       "  /* unfitted */\n",
       "  background-color: var(--sklearn-color-unfitted-level-0);\n",
       "}\n",
       "\n",
       "#sk-container-id-1 div.sk-estimator.fitted {\n",
       "  /* fitted */\n",
       "  background-color: var(--sklearn-color-fitted-level-0);\n",
       "}\n",
       "\n",
       "/* on hover */\n",
       "#sk-container-id-1 div.sk-estimator:hover {\n",
       "  /* unfitted */\n",
       "  background-color: var(--sklearn-color-unfitted-level-2);\n",
       "}\n",
       "\n",
       "#sk-container-id-1 div.sk-estimator.fitted:hover {\n",
       "  /* fitted */\n",
       "  background-color: var(--sklearn-color-fitted-level-2);\n",
       "}\n",
       "\n",
       "/* Specification for estimator info (e.g. \"i\" and \"?\") */\n",
       "\n",
       "/* Common style for \"i\" and \"?\" */\n",
       "\n",
       ".sk-estimator-doc-link,\n",
       "a:link.sk-estimator-doc-link,\n",
       "a:visited.sk-estimator-doc-link {\n",
       "  float: right;\n",
       "  font-size: smaller;\n",
       "  line-height: 1em;\n",
       "  font-family: monospace;\n",
       "  background-color: var(--sklearn-color-background);\n",
       "  border-radius: 1em;\n",
       "  height: 1em;\n",
       "  width: 1em;\n",
       "  text-decoration: none !important;\n",
       "  margin-left: 0.5em;\n",
       "  text-align: center;\n",
       "  /* unfitted */\n",
       "  border: var(--sklearn-color-unfitted-level-1) 1pt solid;\n",
       "  color: var(--sklearn-color-unfitted-level-1);\n",
       "}\n",
       "\n",
       ".sk-estimator-doc-link.fitted,\n",
       "a:link.sk-estimator-doc-link.fitted,\n",
       "a:visited.sk-estimator-doc-link.fitted {\n",
       "  /* fitted */\n",
       "  border: var(--sklearn-color-fitted-level-1) 1pt solid;\n",
       "  color: var(--sklearn-color-fitted-level-1);\n",
       "}\n",
       "\n",
       "/* On hover */\n",
       "div.sk-estimator:hover .sk-estimator-doc-link:hover,\n",
       ".sk-estimator-doc-link:hover,\n",
       "div.sk-label-container:hover .sk-estimator-doc-link:hover,\n",
       ".sk-estimator-doc-link:hover {\n",
       "  /* unfitted */\n",
       "  background-color: var(--sklearn-color-unfitted-level-3);\n",
       "  color: var(--sklearn-color-background);\n",
       "  text-decoration: none;\n",
       "}\n",
       "\n",
       "div.sk-estimator.fitted:hover .sk-estimator-doc-link.fitted:hover,\n",
       ".sk-estimator-doc-link.fitted:hover,\n",
       "div.sk-label-container:hover .sk-estimator-doc-link.fitted:hover,\n",
       ".sk-estimator-doc-link.fitted:hover {\n",
       "  /* fitted */\n",
       "  background-color: var(--sklearn-color-fitted-level-3);\n",
       "  color: var(--sklearn-color-background);\n",
       "  text-decoration: none;\n",
       "}\n",
       "\n",
       "/* Span, style for the box shown on hovering the info icon */\n",
       ".sk-estimator-doc-link span {\n",
       "  display: none;\n",
       "  z-index: 9999;\n",
       "  position: relative;\n",
       "  font-weight: normal;\n",
       "  right: .2ex;\n",
       "  padding: .5ex;\n",
       "  margin: .5ex;\n",
       "  width: min-content;\n",
       "  min-width: 20ex;\n",
       "  max-width: 50ex;\n",
       "  color: var(--sklearn-color-text);\n",
       "  box-shadow: 2pt 2pt 4pt #999;\n",
       "  /* unfitted */\n",
       "  background: var(--sklearn-color-unfitted-level-0);\n",
       "  border: .5pt solid var(--sklearn-color-unfitted-level-3);\n",
       "}\n",
       "\n",
       ".sk-estimator-doc-link.fitted span {\n",
       "  /* fitted */\n",
       "  background: var(--sklearn-color-fitted-level-0);\n",
       "  border: var(--sklearn-color-fitted-level-3);\n",
       "}\n",
       "\n",
       ".sk-estimator-doc-link:hover span {\n",
       "  display: block;\n",
       "}\n",
       "\n",
       "/* \"?\"-specific style due to the `<a>` HTML tag */\n",
       "\n",
       "#sk-container-id-1 a.estimator_doc_link {\n",
       "  float: right;\n",
       "  font-size: 1rem;\n",
       "  line-height: 1em;\n",
       "  font-family: monospace;\n",
       "  background-color: var(--sklearn-color-background);\n",
       "  border-radius: 1rem;\n",
       "  height: 1rem;\n",
       "  width: 1rem;\n",
       "  text-decoration: none;\n",
       "  /* unfitted */\n",
       "  color: var(--sklearn-color-unfitted-level-1);\n",
       "  border: var(--sklearn-color-unfitted-level-1) 1pt solid;\n",
       "}\n",
       "\n",
       "#sk-container-id-1 a.estimator_doc_link.fitted {\n",
       "  /* fitted */\n",
       "  border: var(--sklearn-color-fitted-level-1) 1pt solid;\n",
       "  color: var(--sklearn-color-fitted-level-1);\n",
       "}\n",
       "\n",
       "/* On hover */\n",
       "#sk-container-id-1 a.estimator_doc_link:hover {\n",
       "  /* unfitted */\n",
       "  background-color: var(--sklearn-color-unfitted-level-3);\n",
       "  color: var(--sklearn-color-background);\n",
       "  text-decoration: none;\n",
       "}\n",
       "\n",
       "#sk-container-id-1 a.estimator_doc_link.fitted:hover {\n",
       "  /* fitted */\n",
       "  background-color: var(--sklearn-color-fitted-level-3);\n",
       "}\n",
       "</style><div id=\"sk-container-id-1\" class=\"sk-top-container\"><div class=\"sk-text-repr-fallback\"><pre>LGBMRegressor(n_estimators=1000, random_state=42, reg_alpha=0.1, reg_lambda=0.1)</pre><b>In a Jupyter environment, please rerun this cell to show the HTML representation or trust the notebook. <br />On GitHub, the HTML representation is unable to render, please try loading this page with nbviewer.org.</b></div><div class=\"sk-container\" hidden><div class=\"sk-item\"><div class=\"sk-estimator fitted sk-toggleable\"><input class=\"sk-toggleable__control sk-hidden--visually\" id=\"sk-estimator-id-1\" type=\"checkbox\" checked><label for=\"sk-estimator-id-1\" class=\"sk-toggleable__label fitted sk-toggleable__label-arrow\"><div><div>LGBMRegressor</div></div><div><span class=\"sk-estimator-doc-link fitted\">i<span>Fitted</span></span></div></label><div class=\"sk-toggleable__content fitted\"><pre>LGBMRegressor(n_estimators=1000, random_state=42, reg_alpha=0.1, reg_lambda=0.1)</pre></div> </div></div></div></div>"
      ],
      "text/plain": [
       "LGBMRegressor(n_estimators=1000, random_state=42, reg_alpha=0.1, reg_lambda=0.1)"
      ]
     },
     "execution_count": 46,
     "metadata": {},
     "output_type": "execute_result"
    }
   ],
   "source": [
    "lgbm_model.fit(X_train, y_train, categorical_feature=cat_columns)"
   ]
  },
  {
   "cell_type": "code",
   "execution_count": 47,
   "id": "9fa709bf-f085-4239-8d94-fb4c0975bae4",
   "metadata": {},
   "outputs": [
    {
     "name": "stdout",
     "output_type": "stream",
     "text": [
      "Wall time: 8.8 seconds\n"
     ]
    }
   ],
   "source": [
    "lgbm_pred_time = time.time()\n",
    "lgbm_preds = lgbm_model.predict(X_test)\n",
    "lgbm_pred_end = round((time.time() - lgbm_pred_time), 1) \n",
    "print(f\"Wall time: {lgbm_pred_end} seconds\")"
   ]
  }
 ],
 "metadata": {
  "ExecuteTimeLog": [
   {
    "duration": 3,
    "start_time": "2025-02-02T22:14:54.827Z"
   },
   {
    "duration": 2072,
    "start_time": "2025-02-02T22:14:54.832Z"
   },
   {
    "duration": 0,
    "start_time": "2025-02-02T22:14:56.907Z"
   },
   {
    "duration": 1,
    "start_time": "2025-02-02T22:14:56.909Z"
   },
   {
    "duration": 0,
    "start_time": "2025-02-02T22:14:56.911Z"
   },
   {
    "duration": 0,
    "start_time": "2025-02-02T22:14:56.913Z"
   },
   {
    "duration": 0,
    "start_time": "2025-02-02T22:14:56.914Z"
   },
   {
    "duration": 0,
    "start_time": "2025-02-02T22:14:56.916Z"
   },
   {
    "duration": 0,
    "start_time": "2025-02-02T22:14:56.917Z"
   },
   {
    "duration": 0,
    "start_time": "2025-02-02T22:14:56.919Z"
   },
   {
    "duration": 0,
    "start_time": "2025-02-02T22:14:56.920Z"
   },
   {
    "duration": 0,
    "start_time": "2025-02-02T22:14:56.921Z"
   },
   {
    "duration": 0,
    "start_time": "2025-02-02T22:14:56.923Z"
   },
   {
    "duration": 0,
    "start_time": "2025-02-02T22:14:56.924Z"
   },
   {
    "duration": 0,
    "start_time": "2025-02-02T22:14:56.926Z"
   },
   {
    "duration": 0,
    "start_time": "2025-02-02T22:14:56.927Z"
   },
   {
    "duration": 0,
    "start_time": "2025-02-02T22:14:56.929Z"
   },
   {
    "duration": 0,
    "start_time": "2025-02-02T22:14:56.930Z"
   },
   {
    "duration": 0,
    "start_time": "2025-02-02T22:14:56.931Z"
   },
   {
    "duration": 0,
    "start_time": "2025-02-02T22:14:56.933Z"
   },
   {
    "duration": 0,
    "start_time": "2025-02-02T22:14:56.934Z"
   },
   {
    "duration": 0,
    "start_time": "2025-02-02T22:14:56.936Z"
   },
   {
    "duration": 0,
    "start_time": "2025-02-02T22:14:56.937Z"
   },
   {
    "duration": 0,
    "start_time": "2025-02-02T22:14:56.938Z"
   },
   {
    "duration": 0,
    "start_time": "2025-02-02T22:14:56.940Z"
   },
   {
    "duration": 0,
    "start_time": "2025-02-02T22:14:56.941Z"
   },
   {
    "duration": 0,
    "start_time": "2025-02-02T22:14:56.943Z"
   },
   {
    "duration": 0,
    "start_time": "2025-02-02T22:14:56.944Z"
   },
   {
    "duration": 0,
    "start_time": "2025-02-02T22:14:56.945Z"
   },
   {
    "duration": 0,
    "start_time": "2025-02-02T22:14:56.947Z"
   },
   {
    "duration": 0,
    "start_time": "2025-02-02T22:14:56.948Z"
   },
   {
    "duration": 0,
    "start_time": "2025-02-02T22:14:56.950Z"
   },
   {
    "duration": 0,
    "start_time": "2025-02-02T22:14:57.009Z"
   },
   {
    "duration": 0,
    "start_time": "2025-02-02T22:14:57.012Z"
   },
   {
    "duration": 0,
    "start_time": "2025-02-02T22:14:57.014Z"
   },
   {
    "duration": 0,
    "start_time": "2025-02-02T22:14:57.015Z"
   },
   {
    "duration": 0,
    "start_time": "2025-02-02T22:14:57.017Z"
   },
   {
    "duration": 0,
    "start_time": "2025-02-02T22:14:57.018Z"
   },
   {
    "duration": 0,
    "start_time": "2025-02-02T22:14:57.019Z"
   },
   {
    "duration": 0,
    "start_time": "2025-02-02T22:14:57.021Z"
   },
   {
    "duration": 0,
    "start_time": "2025-02-02T22:14:57.023Z"
   },
   {
    "duration": 0,
    "start_time": "2025-02-02T22:14:57.024Z"
   },
   {
    "duration": 0,
    "start_time": "2025-02-02T22:14:57.026Z"
   },
   {
    "duration": 0,
    "start_time": "2025-02-02T22:14:57.027Z"
   },
   {
    "duration": 3,
    "start_time": "2025-02-03T07:28:00.069Z"
   },
   {
    "duration": 1765,
    "start_time": "2025-02-03T07:28:00.074Z"
   },
   {
    "duration": 0,
    "start_time": "2025-02-03T07:28:01.843Z"
   },
   {
    "duration": 0,
    "start_time": "2025-02-03T07:28:01.844Z"
   },
   {
    "duration": 0,
    "start_time": "2025-02-03T07:28:01.846Z"
   },
   {
    "duration": 0,
    "start_time": "2025-02-03T07:28:01.847Z"
   },
   {
    "duration": 0,
    "start_time": "2025-02-03T07:28:01.848Z"
   },
   {
    "duration": 0,
    "start_time": "2025-02-03T07:28:01.849Z"
   },
   {
    "duration": 0,
    "start_time": "2025-02-03T07:28:01.851Z"
   },
   {
    "duration": 0,
    "start_time": "2025-02-03T07:28:01.852Z"
   },
   {
    "duration": 0,
    "start_time": "2025-02-03T07:28:01.854Z"
   },
   {
    "duration": 0,
    "start_time": "2025-02-03T07:28:01.855Z"
   },
   {
    "duration": 0,
    "start_time": "2025-02-03T07:28:01.856Z"
   },
   {
    "duration": 0,
    "start_time": "2025-02-03T07:28:01.858Z"
   },
   {
    "duration": 0,
    "start_time": "2025-02-03T07:28:01.859Z"
   },
   {
    "duration": 0,
    "start_time": "2025-02-03T07:28:01.860Z"
   },
   {
    "duration": 0,
    "start_time": "2025-02-03T07:28:01.862Z"
   },
   {
    "duration": 0,
    "start_time": "2025-02-03T07:28:01.863Z"
   },
   {
    "duration": 0,
    "start_time": "2025-02-03T07:28:01.864Z"
   },
   {
    "duration": 0,
    "start_time": "2025-02-03T07:28:01.866Z"
   },
   {
    "duration": 0,
    "start_time": "2025-02-03T07:28:01.868Z"
   },
   {
    "duration": 0,
    "start_time": "2025-02-03T07:28:01.869Z"
   },
   {
    "duration": 0,
    "start_time": "2025-02-03T07:28:01.871Z"
   },
   {
    "duration": 0,
    "start_time": "2025-02-03T07:28:01.872Z"
   },
   {
    "duration": 0,
    "start_time": "2025-02-03T07:28:01.875Z"
   },
   {
    "duration": 0,
    "start_time": "2025-02-03T07:28:01.876Z"
   },
   {
    "duration": 0,
    "start_time": "2025-02-03T07:28:01.877Z"
   },
   {
    "duration": 0,
    "start_time": "2025-02-03T07:28:01.878Z"
   },
   {
    "duration": 0,
    "start_time": "2025-02-03T07:28:01.880Z"
   },
   {
    "duration": 0,
    "start_time": "2025-02-03T07:28:01.881Z"
   },
   {
    "duration": 0,
    "start_time": "2025-02-03T07:28:01.884Z"
   },
   {
    "duration": 0,
    "start_time": "2025-02-03T07:28:01.948Z"
   },
   {
    "duration": 0,
    "start_time": "2025-02-03T07:28:01.950Z"
   },
   {
    "duration": 0,
    "start_time": "2025-02-03T07:28:01.952Z"
   },
   {
    "duration": 0,
    "start_time": "2025-02-03T07:28:01.953Z"
   },
   {
    "duration": 0,
    "start_time": "2025-02-03T07:28:01.954Z"
   },
   {
    "duration": 0,
    "start_time": "2025-02-03T07:28:01.955Z"
   },
   {
    "duration": 0,
    "start_time": "2025-02-03T07:28:01.957Z"
   },
   {
    "duration": 0,
    "start_time": "2025-02-03T07:28:01.958Z"
   },
   {
    "duration": 0,
    "start_time": "2025-02-03T07:28:01.960Z"
   },
   {
    "duration": 0,
    "start_time": "2025-02-03T07:28:01.961Z"
   },
   {
    "duration": 0,
    "start_time": "2025-02-03T07:28:01.963Z"
   },
   {
    "duration": 0,
    "start_time": "2025-02-03T07:28:01.964Z"
   },
   {
    "duration": 0,
    "start_time": "2025-02-03T07:28:01.966Z"
   },
   {
    "duration": 1751,
    "start_time": "2025-02-03T12:22:00.242Z"
   },
   {
    "duration": 4200,
    "start_time": "2025-02-03T12:22:48.213Z"
   },
   {
    "duration": 1068,
    "start_time": "2025-02-03T12:24:00.487Z"
   },
   {
    "duration": 19,
    "start_time": "2025-02-03T12:24:39.699Z"
   },
   {
    "duration": 7389,
    "start_time": "2025-02-03T12:25:19.030Z"
   },
   {
    "duration": 24,
    "start_time": "2025-02-03T12:25:26.975Z"
   },
   {
    "duration": 82,
    "start_time": "2025-02-03T12:27:28.021Z"
   },
   {
    "duration": 3001,
    "start_time": "2025-02-03T12:27:32.779Z"
   },
   {
    "duration": 22,
    "start_time": "2025-02-03T12:27:51.562Z"
   },
   {
    "duration": 2999,
    "start_time": "2025-02-03T12:29:56.818Z"
   },
   {
    "duration": 1399,
    "start_time": "2025-02-03T12:29:59.820Z"
   },
   {
    "duration": 1651,
    "start_time": "2025-02-03T12:30:01.221Z"
   },
   {
    "duration": 18,
    "start_time": "2025-02-03T12:30:02.875Z"
   },
   {
    "duration": 47,
    "start_time": "2025-02-03T12:30:02.895Z"
   },
   {
    "duration": 169,
    "start_time": "2025-02-03T12:30:02.944Z"
   },
   {
    "duration": 50,
    "start_time": "2025-02-03T12:30:03.115Z"
   },
   {
    "duration": 33,
    "start_time": "2025-02-03T12:30:03.167Z"
   },
   {
    "duration": 121,
    "start_time": "2025-02-03T12:30:03.201Z"
   },
   {
    "duration": 6,
    "start_time": "2025-02-03T12:30:03.324Z"
   },
   {
    "duration": 31,
    "start_time": "2025-02-03T12:30:03.331Z"
   },
   {
    "duration": 6,
    "start_time": "2025-02-03T12:30:03.363Z"
   },
   {
    "duration": 926,
    "start_time": "2025-02-03T12:30:03.370Z"
   },
   {
    "duration": 8,
    "start_time": "2025-02-03T12:30:04.298Z"
   },
   {
    "duration": 4761,
    "start_time": "2025-02-03T12:30:04.308Z"
   },
   {
    "duration": 0,
    "start_time": "2025-02-03T12:30:09.071Z"
   },
   {
    "duration": 0,
    "start_time": "2025-02-03T12:30:09.073Z"
   },
   {
    "duration": 0,
    "start_time": "2025-02-03T12:30:09.074Z"
   },
   {
    "duration": 0,
    "start_time": "2025-02-03T12:30:09.075Z"
   },
   {
    "duration": 0,
    "start_time": "2025-02-03T12:30:09.076Z"
   },
   {
    "duration": 0,
    "start_time": "2025-02-03T12:30:09.077Z"
   },
   {
    "duration": 0,
    "start_time": "2025-02-03T12:30:09.078Z"
   },
   {
    "duration": 0,
    "start_time": "2025-02-03T12:30:09.079Z"
   },
   {
    "duration": 0,
    "start_time": "2025-02-03T12:30:09.080Z"
   },
   {
    "duration": 0,
    "start_time": "2025-02-03T12:30:09.081Z"
   },
   {
    "duration": 0,
    "start_time": "2025-02-03T12:30:09.082Z"
   },
   {
    "duration": 0,
    "start_time": "2025-02-03T12:30:09.084Z"
   },
   {
    "duration": 1,
    "start_time": "2025-02-03T12:30:09.084Z"
   },
   {
    "duration": 0,
    "start_time": "2025-02-03T12:30:09.086Z"
   },
   {
    "duration": 0,
    "start_time": "2025-02-03T12:30:09.087Z"
   },
   {
    "duration": 0,
    "start_time": "2025-02-03T12:30:09.088Z"
   },
   {
    "duration": 0,
    "start_time": "2025-02-03T12:30:09.089Z"
   },
   {
    "duration": 0,
    "start_time": "2025-02-03T12:30:09.090Z"
   },
   {
    "duration": 0,
    "start_time": "2025-02-03T12:30:09.091Z"
   },
   {
    "duration": 0,
    "start_time": "2025-02-03T12:30:09.092Z"
   },
   {
    "duration": 0,
    "start_time": "2025-02-03T12:30:09.093Z"
   },
   {
    "duration": 0,
    "start_time": "2025-02-03T12:30:09.094Z"
   },
   {
    "duration": 0,
    "start_time": "2025-02-03T12:30:09.095Z"
   },
   {
    "duration": 0,
    "start_time": "2025-02-03T12:30:09.096Z"
   },
   {
    "duration": 0,
    "start_time": "2025-02-03T12:30:09.097Z"
   },
   {
    "duration": 1,
    "start_time": "2025-02-03T12:30:09.098Z"
   },
   {
    "duration": 0,
    "start_time": "2025-02-03T12:30:09.100Z"
   },
   {
    "duration": 0,
    "start_time": "2025-02-03T12:30:09.101Z"
   },
   {
    "duration": 0,
    "start_time": "2025-02-03T12:30:09.102Z"
   },
   {
    "duration": 3081,
    "start_time": "2025-02-03T12:32:04.403Z"
   },
   {
    "duration": 1438,
    "start_time": "2025-02-03T12:32:07.486Z"
   },
   {
    "duration": 1785,
    "start_time": "2025-02-03T12:32:08.926Z"
   },
   {
    "duration": 16,
    "start_time": "2025-02-03T12:32:10.713Z"
   },
   {
    "duration": 52,
    "start_time": "2025-02-03T12:32:10.730Z"
   },
   {
    "duration": 160,
    "start_time": "2025-02-03T12:32:10.783Z"
   },
   {
    "duration": 50,
    "start_time": "2025-02-03T12:32:10.944Z"
   },
   {
    "duration": 23,
    "start_time": "2025-02-03T12:32:10.996Z"
   },
   {
    "duration": 141,
    "start_time": "2025-02-03T12:32:11.020Z"
   },
   {
    "duration": 7,
    "start_time": "2025-02-03T12:32:11.164Z"
   },
   {
    "duration": 9,
    "start_time": "2025-02-03T12:32:11.173Z"
   },
   {
    "duration": 7,
    "start_time": "2025-02-03T12:32:11.184Z"
   },
   {
    "duration": 919,
    "start_time": "2025-02-03T12:32:11.192Z"
   },
   {
    "duration": 8,
    "start_time": "2025-02-03T12:32:12.113Z"
   },
   {
    "duration": 4719,
    "start_time": "2025-02-03T12:32:12.122Z"
   },
   {
    "duration": 0,
    "start_time": "2025-02-03T12:32:16.843Z"
   },
   {
    "duration": 0,
    "start_time": "2025-02-03T12:32:16.844Z"
   },
   {
    "duration": 0,
    "start_time": "2025-02-03T12:32:16.845Z"
   },
   {
    "duration": 0,
    "start_time": "2025-02-03T12:32:16.846Z"
   },
   {
    "duration": 0,
    "start_time": "2025-02-03T12:32:16.847Z"
   },
   {
    "duration": 0,
    "start_time": "2025-02-03T12:32:16.850Z"
   },
   {
    "duration": 0,
    "start_time": "2025-02-03T12:32:16.851Z"
   },
   {
    "duration": 0,
    "start_time": "2025-02-03T12:32:16.852Z"
   },
   {
    "duration": 0,
    "start_time": "2025-02-03T12:32:16.853Z"
   },
   {
    "duration": 0,
    "start_time": "2025-02-03T12:32:16.854Z"
   },
   {
    "duration": 0,
    "start_time": "2025-02-03T12:32:16.855Z"
   },
   {
    "duration": 0,
    "start_time": "2025-02-03T12:32:16.856Z"
   },
   {
    "duration": 0,
    "start_time": "2025-02-03T12:32:16.857Z"
   },
   {
    "duration": 0,
    "start_time": "2025-02-03T12:32:16.857Z"
   },
   {
    "duration": 0,
    "start_time": "2025-02-03T12:32:16.858Z"
   },
   {
    "duration": 0,
    "start_time": "2025-02-03T12:32:16.859Z"
   },
   {
    "duration": 0,
    "start_time": "2025-02-03T12:32:16.860Z"
   },
   {
    "duration": 0,
    "start_time": "2025-02-03T12:32:16.861Z"
   },
   {
    "duration": 0,
    "start_time": "2025-02-03T12:32:16.862Z"
   },
   {
    "duration": 0,
    "start_time": "2025-02-03T12:32:16.863Z"
   },
   {
    "duration": 0,
    "start_time": "2025-02-03T12:32:16.864Z"
   },
   {
    "duration": 0,
    "start_time": "2025-02-03T12:32:16.865Z"
   },
   {
    "duration": 0,
    "start_time": "2025-02-03T12:32:16.866Z"
   },
   {
    "duration": 0,
    "start_time": "2025-02-03T12:32:16.866Z"
   },
   {
    "duration": 0,
    "start_time": "2025-02-03T12:32:16.867Z"
   },
   {
    "duration": 0,
    "start_time": "2025-02-03T12:32:16.869Z"
   },
   {
    "duration": 0,
    "start_time": "2025-02-03T12:32:16.870Z"
   },
   {
    "duration": 0,
    "start_time": "2025-02-03T12:32:16.871Z"
   },
   {
    "duration": 0,
    "start_time": "2025-02-03T12:32:16.872Z"
   },
   {
    "duration": 3049,
    "start_time": "2025-02-03T12:32:31.736Z"
   },
   {
    "duration": 1437,
    "start_time": "2025-02-03T12:32:34.787Z"
   },
   {
    "duration": 1473,
    "start_time": "2025-02-03T12:32:36.226Z"
   },
   {
    "duration": 17,
    "start_time": "2025-02-03T12:32:37.702Z"
   },
   {
    "duration": 14,
    "start_time": "2025-02-03T12:32:37.721Z"
   },
   {
    "duration": 166,
    "start_time": "2025-02-03T12:32:37.736Z"
   },
   {
    "duration": 57,
    "start_time": "2025-02-03T12:32:37.904Z"
   },
   {
    "duration": 67,
    "start_time": "2025-02-03T12:32:37.963Z"
   },
   {
    "duration": 128,
    "start_time": "2025-02-03T12:32:38.032Z"
   },
   {
    "duration": 6,
    "start_time": "2025-02-03T12:32:38.162Z"
   },
   {
    "duration": 7,
    "start_time": "2025-02-03T12:32:38.169Z"
   },
   {
    "duration": 5,
    "start_time": "2025-02-03T12:32:38.177Z"
   },
   {
    "duration": 922,
    "start_time": "2025-02-03T12:32:38.183Z"
   },
   {
    "duration": 10,
    "start_time": "2025-02-03T12:32:39.107Z"
   },
   {
    "duration": 4686,
    "start_time": "2025-02-03T12:32:39.119Z"
   },
   {
    "duration": 0,
    "start_time": "2025-02-03T12:32:43.807Z"
   },
   {
    "duration": 0,
    "start_time": "2025-02-03T12:32:43.808Z"
   },
   {
    "duration": 0,
    "start_time": "2025-02-03T12:32:43.809Z"
   },
   {
    "duration": 0,
    "start_time": "2025-02-03T12:32:43.810Z"
   },
   {
    "duration": 0,
    "start_time": "2025-02-03T12:32:43.810Z"
   },
   {
    "duration": 0,
    "start_time": "2025-02-03T12:32:43.812Z"
   },
   {
    "duration": 0,
    "start_time": "2025-02-03T12:32:43.813Z"
   },
   {
    "duration": 0,
    "start_time": "2025-02-03T12:32:43.814Z"
   },
   {
    "duration": 0,
    "start_time": "2025-02-03T12:32:43.815Z"
   },
   {
    "duration": 0,
    "start_time": "2025-02-03T12:32:43.816Z"
   },
   {
    "duration": 0,
    "start_time": "2025-02-03T12:32:43.817Z"
   },
   {
    "duration": 0,
    "start_time": "2025-02-03T12:32:43.818Z"
   },
   {
    "duration": 0,
    "start_time": "2025-02-03T12:32:43.819Z"
   },
   {
    "duration": 0,
    "start_time": "2025-02-03T12:32:43.820Z"
   },
   {
    "duration": 0,
    "start_time": "2025-02-03T12:32:43.821Z"
   },
   {
    "duration": 0,
    "start_time": "2025-02-03T12:32:43.822Z"
   },
   {
    "duration": 0,
    "start_time": "2025-02-03T12:32:43.823Z"
   },
   {
    "duration": 0,
    "start_time": "2025-02-03T12:32:43.824Z"
   },
   {
    "duration": 0,
    "start_time": "2025-02-03T12:32:43.825Z"
   },
   {
    "duration": 0,
    "start_time": "2025-02-03T12:32:43.826Z"
   },
   {
    "duration": 0,
    "start_time": "2025-02-03T12:32:43.827Z"
   },
   {
    "duration": 0,
    "start_time": "2025-02-03T12:32:43.828Z"
   },
   {
    "duration": 0,
    "start_time": "2025-02-03T12:32:43.828Z"
   },
   {
    "duration": 0,
    "start_time": "2025-02-03T12:32:43.830Z"
   },
   {
    "duration": 0,
    "start_time": "2025-02-03T12:32:43.854Z"
   },
   {
    "duration": 0,
    "start_time": "2025-02-03T12:32:43.855Z"
   },
   {
    "duration": 0,
    "start_time": "2025-02-03T12:32:43.858Z"
   },
   {
    "duration": 0,
    "start_time": "2025-02-03T12:32:43.859Z"
   },
   {
    "duration": 0,
    "start_time": "2025-02-03T12:32:43.864Z"
   },
   {
    "duration": 7,
    "start_time": "2025-02-03T12:44:28.700Z"
   },
   {
    "duration": 4931,
    "start_time": "2025-02-03T12:44:34.426Z"
   },
   {
    "duration": 2984,
    "start_time": "2025-02-03T12:45:45.248Z"
   },
   {
    "duration": 1452,
    "start_time": "2025-02-03T12:45:48.234Z"
   },
   {
    "duration": 1794,
    "start_time": "2025-02-03T12:45:49.688Z"
   },
   {
    "duration": 17,
    "start_time": "2025-02-03T12:45:51.485Z"
   },
   {
    "duration": 4,
    "start_time": "2025-02-03T12:45:51.504Z"
   },
   {
    "duration": 163,
    "start_time": "2025-02-03T12:45:51.509Z"
   },
   {
    "duration": 50,
    "start_time": "2025-02-03T12:45:51.674Z"
   },
   {
    "duration": 36,
    "start_time": "2025-02-03T12:45:51.726Z"
   },
   {
    "duration": 126,
    "start_time": "2025-02-03T12:45:51.763Z"
   },
   {
    "duration": 8,
    "start_time": "2025-02-03T12:45:51.892Z"
   },
   {
    "duration": 7,
    "start_time": "2025-02-03T12:45:51.902Z"
   },
   {
    "duration": 18,
    "start_time": "2025-02-03T12:45:51.911Z"
   },
   {
    "duration": 939,
    "start_time": "2025-02-03T12:45:51.930Z"
   },
   {
    "duration": 9,
    "start_time": "2025-02-03T12:45:52.871Z"
   },
   {
    "duration": 4827,
    "start_time": "2025-02-03T12:45:52.882Z"
   },
   {
    "duration": 9553,
    "start_time": "2025-02-03T12:45:57.711Z"
   },
   {
    "duration": 6217,
    "start_time": "2025-02-03T12:46:07.265Z"
   },
   {
    "duration": 4223,
    "start_time": "2025-02-03T12:46:13.484Z"
   },
   {
    "duration": 6,
    "start_time": "2025-02-03T12:46:17.708Z"
   },
   {
    "duration": 157,
    "start_time": "2025-02-03T12:46:17.715Z"
   },
   {
    "duration": 0,
    "start_time": "2025-02-03T12:46:17.874Z"
   },
   {
    "duration": 0,
    "start_time": "2025-02-03T12:46:17.875Z"
   },
   {
    "duration": 0,
    "start_time": "2025-02-03T12:46:17.876Z"
   },
   {
    "duration": 0,
    "start_time": "2025-02-03T12:46:17.877Z"
   },
   {
    "duration": 0,
    "start_time": "2025-02-03T12:46:17.878Z"
   },
   {
    "duration": 0,
    "start_time": "2025-02-03T12:46:17.878Z"
   },
   {
    "duration": 0,
    "start_time": "2025-02-03T12:46:17.880Z"
   },
   {
    "duration": 0,
    "start_time": "2025-02-03T12:46:17.880Z"
   },
   {
    "duration": 0,
    "start_time": "2025-02-03T12:46:17.881Z"
   },
   {
    "duration": 0,
    "start_time": "2025-02-03T12:46:17.882Z"
   },
   {
    "duration": 0,
    "start_time": "2025-02-03T12:46:17.883Z"
   },
   {
    "duration": 0,
    "start_time": "2025-02-03T12:46:17.884Z"
   },
   {
    "duration": 0,
    "start_time": "2025-02-03T12:46:17.885Z"
   },
   {
    "duration": 0,
    "start_time": "2025-02-03T12:46:17.886Z"
   },
   {
    "duration": 0,
    "start_time": "2025-02-03T12:46:17.887Z"
   },
   {
    "duration": 0,
    "start_time": "2025-02-03T12:46:17.888Z"
   },
   {
    "duration": 0,
    "start_time": "2025-02-03T12:46:17.889Z"
   },
   {
    "duration": 0,
    "start_time": "2025-02-03T12:46:17.890Z"
   },
   {
    "duration": 0,
    "start_time": "2025-02-03T12:46:17.892Z"
   },
   {
    "duration": 1,
    "start_time": "2025-02-03T12:46:17.892Z"
   },
   {
    "duration": 0,
    "start_time": "2025-02-03T12:46:17.893Z"
   },
   {
    "duration": 0,
    "start_time": "2025-02-03T12:46:17.894Z"
   },
   {
    "duration": 0,
    "start_time": "2025-02-03T12:46:17.895Z"
   },
   {
    "duration": 0,
    "start_time": "2025-02-03T12:46:17.896Z"
   },
   {
    "duration": 8438,
    "start_time": "2025-02-03T15:36:50.962Z"
   },
   {
    "duration": 1695,
    "start_time": "2025-02-03T15:36:59.402Z"
   },
   {
    "duration": 0,
    "start_time": "2025-02-03T15:37:01.101Z"
   },
   {
    "duration": 0,
    "start_time": "2025-02-03T15:37:01.102Z"
   },
   {
    "duration": 0,
    "start_time": "2025-02-03T15:37:01.103Z"
   },
   {
    "duration": 0,
    "start_time": "2025-02-03T15:37:01.105Z"
   },
   {
    "duration": 0,
    "start_time": "2025-02-03T15:37:01.106Z"
   },
   {
    "duration": 0,
    "start_time": "2025-02-03T15:37:01.107Z"
   },
   {
    "duration": 0,
    "start_time": "2025-02-03T15:37:01.108Z"
   },
   {
    "duration": 0,
    "start_time": "2025-02-03T15:37:01.110Z"
   },
   {
    "duration": 0,
    "start_time": "2025-02-03T15:37:01.111Z"
   },
   {
    "duration": 0,
    "start_time": "2025-02-03T15:37:01.113Z"
   },
   {
    "duration": 0,
    "start_time": "2025-02-03T15:37:01.114Z"
   },
   {
    "duration": 0,
    "start_time": "2025-02-03T15:37:01.116Z"
   },
   {
    "duration": 0,
    "start_time": "2025-02-03T15:37:01.117Z"
   },
   {
    "duration": 0,
    "start_time": "2025-02-03T15:37:01.118Z"
   },
   {
    "duration": 0,
    "start_time": "2025-02-03T15:37:01.119Z"
   },
   {
    "duration": 0,
    "start_time": "2025-02-03T15:37:01.120Z"
   },
   {
    "duration": 0,
    "start_time": "2025-02-03T15:37:01.121Z"
   },
   {
    "duration": 0,
    "start_time": "2025-02-03T15:37:01.122Z"
   },
   {
    "duration": 0,
    "start_time": "2025-02-03T15:37:01.123Z"
   },
   {
    "duration": 0,
    "start_time": "2025-02-03T15:37:01.124Z"
   },
   {
    "duration": 0,
    "start_time": "2025-02-03T15:37:01.125Z"
   },
   {
    "duration": 0,
    "start_time": "2025-02-03T15:37:01.125Z"
   },
   {
    "duration": 0,
    "start_time": "2025-02-03T15:37:01.127Z"
   },
   {
    "duration": 0,
    "start_time": "2025-02-03T15:37:01.128Z"
   },
   {
    "duration": 0,
    "start_time": "2025-02-03T15:37:01.129Z"
   },
   {
    "duration": 0,
    "start_time": "2025-02-03T15:37:01.129Z"
   },
   {
    "duration": 0,
    "start_time": "2025-02-03T15:37:01.130Z"
   },
   {
    "duration": 0,
    "start_time": "2025-02-03T15:37:01.175Z"
   },
   {
    "duration": 0,
    "start_time": "2025-02-03T15:37:01.176Z"
   },
   {
    "duration": 0,
    "start_time": "2025-02-03T15:37:01.177Z"
   },
   {
    "duration": 0,
    "start_time": "2025-02-03T15:37:01.178Z"
   },
   {
    "duration": 0,
    "start_time": "2025-02-03T15:37:01.179Z"
   },
   {
    "duration": 0,
    "start_time": "2025-02-03T15:37:01.180Z"
   },
   {
    "duration": 0,
    "start_time": "2025-02-03T15:37:01.181Z"
   },
   {
    "duration": 0,
    "start_time": "2025-02-03T15:37:01.182Z"
   },
   {
    "duration": 0,
    "start_time": "2025-02-03T15:37:01.183Z"
   },
   {
    "duration": 0,
    "start_time": "2025-02-03T15:37:01.184Z"
   },
   {
    "duration": 0,
    "start_time": "2025-02-03T15:37:01.185Z"
   },
   {
    "duration": 0,
    "start_time": "2025-02-03T15:37:01.186Z"
   },
   {
    "duration": 0,
    "start_time": "2025-02-03T15:37:01.187Z"
   },
   {
    "duration": 0,
    "start_time": "2025-02-03T15:37:01.188Z"
   },
   {
    "duration": 0,
    "start_time": "2025-02-03T15:37:01.189Z"
   },
   {
    "duration": 3033,
    "start_time": "2025-02-03T15:37:58.455Z"
   },
   {
    "duration": 1447,
    "start_time": "2025-02-03T15:38:01.490Z"
   },
   {
    "duration": 0,
    "start_time": "2025-02-03T15:38:02.940Z"
   },
   {
    "duration": 1,
    "start_time": "2025-02-03T15:38:02.940Z"
   },
   {
    "duration": 0,
    "start_time": "2025-02-03T15:38:02.941Z"
   },
   {
    "duration": 0,
    "start_time": "2025-02-03T15:38:02.942Z"
   },
   {
    "duration": 0,
    "start_time": "2025-02-03T15:38:02.943Z"
   },
   {
    "duration": 0,
    "start_time": "2025-02-03T15:38:02.944Z"
   },
   {
    "duration": 0,
    "start_time": "2025-02-03T15:38:02.945Z"
   },
   {
    "duration": 0,
    "start_time": "2025-02-03T15:38:02.946Z"
   },
   {
    "duration": 0,
    "start_time": "2025-02-03T15:38:02.947Z"
   },
   {
    "duration": 0,
    "start_time": "2025-02-03T15:38:02.948Z"
   },
   {
    "duration": 0,
    "start_time": "2025-02-03T15:38:02.949Z"
   },
   {
    "duration": 0,
    "start_time": "2025-02-03T15:38:02.950Z"
   },
   {
    "duration": 0,
    "start_time": "2025-02-03T15:38:02.951Z"
   },
   {
    "duration": 0,
    "start_time": "2025-02-03T15:38:02.975Z"
   },
   {
    "duration": 0,
    "start_time": "2025-02-03T15:38:02.976Z"
   },
   {
    "duration": 0,
    "start_time": "2025-02-03T15:38:02.977Z"
   },
   {
    "duration": 0,
    "start_time": "2025-02-03T15:38:02.978Z"
   },
   {
    "duration": 0,
    "start_time": "2025-02-03T15:38:02.979Z"
   },
   {
    "duration": 0,
    "start_time": "2025-02-03T15:38:02.980Z"
   },
   {
    "duration": 0,
    "start_time": "2025-02-03T15:38:02.981Z"
   },
   {
    "duration": 0,
    "start_time": "2025-02-03T15:38:02.982Z"
   },
   {
    "duration": 0,
    "start_time": "2025-02-03T15:38:02.983Z"
   },
   {
    "duration": 0,
    "start_time": "2025-02-03T15:38:02.984Z"
   },
   {
    "duration": 0,
    "start_time": "2025-02-03T15:38:02.985Z"
   },
   {
    "duration": 0,
    "start_time": "2025-02-03T15:38:02.986Z"
   },
   {
    "duration": 0,
    "start_time": "2025-02-03T15:38:02.987Z"
   },
   {
    "duration": 0,
    "start_time": "2025-02-03T15:38:02.987Z"
   },
   {
    "duration": 0,
    "start_time": "2025-02-03T15:38:02.988Z"
   },
   {
    "duration": 0,
    "start_time": "2025-02-03T15:38:02.989Z"
   },
   {
    "duration": 0,
    "start_time": "2025-02-03T15:38:02.990Z"
   },
   {
    "duration": 0,
    "start_time": "2025-02-03T15:38:02.991Z"
   },
   {
    "duration": 0,
    "start_time": "2025-02-03T15:38:02.992Z"
   },
   {
    "duration": 0,
    "start_time": "2025-02-03T15:38:02.993Z"
   },
   {
    "duration": 0,
    "start_time": "2025-02-03T15:38:02.994Z"
   },
   {
    "duration": 0,
    "start_time": "2025-02-03T15:38:02.995Z"
   },
   {
    "duration": 0,
    "start_time": "2025-02-03T15:38:02.996Z"
   },
   {
    "duration": 0,
    "start_time": "2025-02-03T15:38:02.997Z"
   },
   {
    "duration": 0,
    "start_time": "2025-02-03T15:38:02.999Z"
   },
   {
    "duration": 0,
    "start_time": "2025-02-03T15:38:03.000Z"
   },
   {
    "duration": 0,
    "start_time": "2025-02-03T15:38:03.001Z"
   },
   {
    "duration": 0,
    "start_time": "2025-02-03T15:38:03.002Z"
   },
   {
    "duration": 0,
    "start_time": "2025-02-03T15:38:03.002Z"
   },
   {
    "duration": 6404,
    "start_time": "2025-02-03T15:38:13.476Z"
   },
   {
    "duration": 13277,
    "start_time": "2025-02-03T15:38:26.313Z"
   },
   {
    "duration": 10421,
    "start_time": "2025-02-03T15:38:51.008Z"
   },
   {
    "duration": 1407,
    "start_time": "2025-02-03T15:39:01.432Z"
   },
   {
    "duration": 1628,
    "start_time": "2025-02-03T15:39:02.841Z"
   },
   {
    "duration": 16,
    "start_time": "2025-02-03T15:39:04.471Z"
   },
   {
    "duration": 2,
    "start_time": "2025-02-03T15:39:04.489Z"
   },
   {
    "duration": 204,
    "start_time": "2025-02-03T15:39:04.492Z"
   },
   {
    "duration": 47,
    "start_time": "2025-02-03T15:39:04.697Z"
   },
   {
    "duration": 50,
    "start_time": "2025-02-03T15:39:04.745Z"
   },
   {
    "duration": 125,
    "start_time": "2025-02-03T15:39:04.796Z"
   },
   {
    "duration": 6,
    "start_time": "2025-02-03T15:39:04.924Z"
   },
   {
    "duration": 17,
    "start_time": "2025-02-03T15:39:04.931Z"
   },
   {
    "duration": 13,
    "start_time": "2025-02-03T15:39:04.949Z"
   },
   {
    "duration": 950,
    "start_time": "2025-02-03T15:39:04.963Z"
   },
   {
    "duration": 8,
    "start_time": "2025-02-03T15:39:05.915Z"
   },
   {
    "duration": 4924,
    "start_time": "2025-02-03T15:39:05.924Z"
   },
   {
    "duration": 9818,
    "start_time": "2025-02-03T15:39:10.849Z"
   },
   {
    "duration": 6355,
    "start_time": "2025-02-03T15:39:20.669Z"
   },
   {
    "duration": 4349,
    "start_time": "2025-02-03T15:39:27.026Z"
   },
   {
    "duration": 6,
    "start_time": "2025-02-03T15:39:31.377Z"
   },
   {
    "duration": 206,
    "start_time": "2025-02-03T15:39:31.385Z"
   },
   {
    "duration": 0,
    "start_time": "2025-02-03T15:39:31.593Z"
   },
   {
    "duration": 0,
    "start_time": "2025-02-03T15:39:31.595Z"
   },
   {
    "duration": 0,
    "start_time": "2025-02-03T15:39:31.595Z"
   },
   {
    "duration": 0,
    "start_time": "2025-02-03T15:39:31.597Z"
   },
   {
    "duration": 0,
    "start_time": "2025-02-03T15:39:31.598Z"
   },
   {
    "duration": 0,
    "start_time": "2025-02-03T15:39:31.599Z"
   },
   {
    "duration": 0,
    "start_time": "2025-02-03T15:39:31.600Z"
   },
   {
    "duration": 0,
    "start_time": "2025-02-03T15:39:31.601Z"
   },
   {
    "duration": 0,
    "start_time": "2025-02-03T15:39:31.602Z"
   },
   {
    "duration": 0,
    "start_time": "2025-02-03T15:39:31.603Z"
   },
   {
    "duration": 0,
    "start_time": "2025-02-03T15:39:31.605Z"
   },
   {
    "duration": 0,
    "start_time": "2025-02-03T15:39:31.606Z"
   },
   {
    "duration": 0,
    "start_time": "2025-02-03T15:39:31.608Z"
   },
   {
    "duration": 0,
    "start_time": "2025-02-03T15:39:31.610Z"
   },
   {
    "duration": 0,
    "start_time": "2025-02-03T15:39:31.611Z"
   },
   {
    "duration": 0,
    "start_time": "2025-02-03T15:39:31.614Z"
   },
   {
    "duration": 0,
    "start_time": "2025-02-03T15:39:31.615Z"
   },
   {
    "duration": 0,
    "start_time": "2025-02-03T15:39:31.617Z"
   },
   {
    "duration": 0,
    "start_time": "2025-02-03T15:39:31.618Z"
   },
   {
    "duration": 0,
    "start_time": "2025-02-03T15:39:31.619Z"
   },
   {
    "duration": 0,
    "start_time": "2025-02-03T15:39:31.621Z"
   },
   {
    "duration": 0,
    "start_time": "2025-02-03T15:39:31.623Z"
   },
   {
    "duration": 0,
    "start_time": "2025-02-03T15:39:31.624Z"
   },
   {
    "duration": 0,
    "start_time": "2025-02-03T15:39:31.626Z"
   },
   {
    "duration": 37,
    "start_time": "2025-02-03T15:39:47.559Z"
   },
   {
    "duration": 10240,
    "start_time": "2025-02-03T15:42:45.898Z"
   },
   {
    "duration": 1406,
    "start_time": "2025-02-03T15:42:56.141Z"
   },
   {
    "duration": 1607,
    "start_time": "2025-02-03T15:42:57.548Z"
   },
   {
    "duration": 20,
    "start_time": "2025-02-03T15:42:59.157Z"
   },
   {
    "duration": 2,
    "start_time": "2025-02-03T15:42:59.179Z"
   },
   {
    "duration": 153,
    "start_time": "2025-02-03T15:42:59.183Z"
   },
   {
    "duration": 56,
    "start_time": "2025-02-03T15:42:59.337Z"
   },
   {
    "duration": 23,
    "start_time": "2025-02-03T15:42:59.394Z"
   },
   {
    "duration": 134,
    "start_time": "2025-02-03T15:42:59.418Z"
   },
   {
    "duration": 6,
    "start_time": "2025-02-03T15:42:59.553Z"
   },
   {
    "duration": 16,
    "start_time": "2025-02-03T15:42:59.561Z"
   },
   {
    "duration": 5,
    "start_time": "2025-02-03T15:42:59.579Z"
   },
   {
    "duration": 64361,
    "start_time": "2025-02-03T15:42:59.586Z"
   },
   {
    "duration": 6161,
    "start_time": "2025-02-03T15:44:03.950Z"
   },
   {
    "duration": 1372,
    "start_time": "2025-02-03T15:44:10.112Z"
   },
   {
    "duration": 11,
    "start_time": "2025-02-03T15:44:11.486Z"
   },
   {
    "duration": 2156,
    "start_time": "2025-02-03T15:44:11.498Z"
   },
   {
    "duration": 23,
    "start_time": "2025-02-03T15:44:13.655Z"
   },
   {
    "duration": 77,
    "start_time": "2025-02-03T15:44:13.680Z"
   },
   {
    "duration": 172,
    "start_time": "2025-02-03T15:44:13.759Z"
   },
   {
    "duration": 148,
    "start_time": "2025-02-03T15:44:13.933Z"
   },
   {
    "duration": 4,
    "start_time": "2025-02-03T15:44:14.083Z"
   },
   {
    "duration": 301614,
    "start_time": "2025-02-03T15:44:14.088Z"
   },
   {
    "duration": 787,
    "start_time": "2025-02-03T15:49:15.704Z"
   },
   {
    "duration": 3,
    "start_time": "2025-02-03T15:49:16.493Z"
   },
   {
    "duration": 36396,
    "start_time": "2025-02-03T15:49:16.497Z"
   },
   {
    "duration": 9033,
    "start_time": "2025-02-03T15:49:52.975Z"
   },
   {
    "duration": 478,
    "start_time": "2025-02-03T15:50:02.010Z"
   },
   {
    "duration": 60,
    "start_time": "2025-02-03T15:50:02.490Z"
   },
   {
    "duration": 3,
    "start_time": "2025-02-03T15:50:02.552Z"
   },
   {
    "duration": 87573,
    "start_time": "2025-02-03T15:50:02.557Z"
   },
   {
    "duration": 4999,
    "start_time": "2025-02-03T15:51:30.132Z"
   },
   {
    "duration": 11,
    "start_time": "2025-02-03T15:51:35.133Z"
   },
   {
    "duration": 4,
    "start_time": "2025-02-06T17:16:09.383Z"
   },
   {
    "duration": 1752,
    "start_time": "2025-02-06T17:16:09.389Z"
   },
   {
    "duration": 0,
    "start_time": "2025-02-06T17:16:11.144Z"
   },
   {
    "duration": 0,
    "start_time": "2025-02-06T17:16:11.146Z"
   },
   {
    "duration": 0,
    "start_time": "2025-02-06T17:16:11.147Z"
   },
   {
    "duration": 0,
    "start_time": "2025-02-06T17:16:11.149Z"
   },
   {
    "duration": 0,
    "start_time": "2025-02-06T17:16:11.151Z"
   },
   {
    "duration": 0,
    "start_time": "2025-02-06T17:16:11.152Z"
   },
   {
    "duration": 0,
    "start_time": "2025-02-06T17:16:11.153Z"
   },
   {
    "duration": 0,
    "start_time": "2025-02-06T17:16:11.155Z"
   },
   {
    "duration": 0,
    "start_time": "2025-02-06T17:16:11.156Z"
   },
   {
    "duration": 0,
    "start_time": "2025-02-06T17:16:11.157Z"
   },
   {
    "duration": 0,
    "start_time": "2025-02-06T17:16:11.159Z"
   },
   {
    "duration": 0,
    "start_time": "2025-02-06T17:16:11.160Z"
   },
   {
    "duration": 0,
    "start_time": "2025-02-06T17:16:11.162Z"
   },
   {
    "duration": 0,
    "start_time": "2025-02-06T17:16:11.163Z"
   },
   {
    "duration": 0,
    "start_time": "2025-02-06T17:16:11.165Z"
   },
   {
    "duration": 0,
    "start_time": "2025-02-06T17:16:11.202Z"
   },
   {
    "duration": 0,
    "start_time": "2025-02-06T17:16:11.204Z"
   },
   {
    "duration": 0,
    "start_time": "2025-02-06T17:16:11.205Z"
   },
   {
    "duration": 0,
    "start_time": "2025-02-06T17:16:11.207Z"
   },
   {
    "duration": 0,
    "start_time": "2025-02-06T17:16:11.208Z"
   },
   {
    "duration": 0,
    "start_time": "2025-02-06T17:16:11.210Z"
   },
   {
    "duration": 0,
    "start_time": "2025-02-06T17:16:11.212Z"
   },
   {
    "duration": 0,
    "start_time": "2025-02-06T17:16:11.213Z"
   },
   {
    "duration": 0,
    "start_time": "2025-02-06T17:16:11.215Z"
   },
   {
    "duration": 0,
    "start_time": "2025-02-06T17:16:11.216Z"
   },
   {
    "duration": 0,
    "start_time": "2025-02-06T17:16:11.217Z"
   },
   {
    "duration": 0,
    "start_time": "2025-02-06T17:16:11.218Z"
   },
   {
    "duration": 0,
    "start_time": "2025-02-06T17:16:11.220Z"
   },
   {
    "duration": 0,
    "start_time": "2025-02-06T17:16:11.223Z"
   },
   {
    "duration": 0,
    "start_time": "2025-02-06T17:16:11.224Z"
   },
   {
    "duration": 0,
    "start_time": "2025-02-06T17:16:11.226Z"
   },
   {
    "duration": 0,
    "start_time": "2025-02-06T17:16:11.227Z"
   },
   {
    "duration": 0,
    "start_time": "2025-02-06T17:16:11.228Z"
   },
   {
    "duration": 0,
    "start_time": "2025-02-06T17:16:11.230Z"
   },
   {
    "duration": 0,
    "start_time": "2025-02-06T17:16:11.231Z"
   },
   {
    "duration": 0,
    "start_time": "2025-02-06T17:16:11.233Z"
   },
   {
    "duration": 0,
    "start_time": "2025-02-06T17:16:11.234Z"
   },
   {
    "duration": 0,
    "start_time": "2025-02-06T17:16:11.235Z"
   },
   {
    "duration": 0,
    "start_time": "2025-02-06T17:16:11.237Z"
   },
   {
    "duration": 0,
    "start_time": "2025-02-06T17:16:11.238Z"
   },
   {
    "duration": 0,
    "start_time": "2025-02-06T17:16:11.240Z"
   },
   {
    "duration": 0,
    "start_time": "2025-02-06T17:16:11.241Z"
   },
   {
    "duration": 0,
    "start_time": "2025-02-06T17:16:11.242Z"
   },
   {
    "duration": 0,
    "start_time": "2025-02-06T17:16:11.242Z"
   },
   {
    "duration": 0,
    "start_time": "2025-02-06T17:16:11.243Z"
   },
   {
    "duration": 16432,
    "start_time": "2025-02-06T17:17:05.628Z"
   },
   {
    "duration": 1423,
    "start_time": "2025-02-06T17:17:22.062Z"
   },
   {
    "duration": 1785,
    "start_time": "2025-02-06T17:17:23.487Z"
   },
   {
    "duration": 18,
    "start_time": "2025-02-06T17:17:25.274Z"
   },
   {
    "duration": 4,
    "start_time": "2025-02-06T17:17:25.302Z"
   },
   {
    "duration": 175,
    "start_time": "2025-02-06T17:17:25.308Z"
   },
   {
    "duration": 54,
    "start_time": "2025-02-06T17:17:25.485Z"
   },
   {
    "duration": 225,
    "start_time": "2025-02-06T17:17:25.541Z"
   },
   {
    "duration": 220,
    "start_time": "2025-02-06T17:17:25.768Z"
   },
   {
    "duration": 11,
    "start_time": "2025-02-06T17:17:25.992Z"
   },
   {
    "duration": 155,
    "start_time": "2025-02-06T17:17:26.005Z"
   },
   {
    "duration": 23,
    "start_time": "2025-02-06T17:17:26.162Z"
   },
   {
    "duration": 179,
    "start_time": "2025-02-06T17:17:26.201Z"
   },
   {
    "duration": 6,
    "start_time": "2025-02-06T17:17:26.382Z"
   },
   {
    "duration": 14,
    "start_time": "2025-02-06T17:17:26.389Z"
   },
   {
    "duration": 886,
    "start_time": "2025-02-06T17:17:26.405Z"
   },
   {
    "duration": 14,
    "start_time": "2025-02-06T17:17:27.293Z"
   },
   {
    "duration": 4674,
    "start_time": "2025-02-06T17:17:27.309Z"
   },
   {
    "duration": 0,
    "start_time": "2025-02-06T17:17:31.985Z"
   },
   {
    "duration": 0,
    "start_time": "2025-02-06T17:17:31.986Z"
   },
   {
    "duration": 0,
    "start_time": "2025-02-06T17:17:31.987Z"
   },
   {
    "duration": 1,
    "start_time": "2025-02-06T17:17:31.988Z"
   },
   {
    "duration": 0,
    "start_time": "2025-02-06T17:17:31.990Z"
   },
   {
    "duration": 0,
    "start_time": "2025-02-06T17:17:31.991Z"
   },
   {
    "duration": 0,
    "start_time": "2025-02-06T17:17:31.992Z"
   },
   {
    "duration": 0,
    "start_time": "2025-02-06T17:17:32.002Z"
   },
   {
    "duration": 0,
    "start_time": "2025-02-06T17:17:32.003Z"
   },
   {
    "duration": 0,
    "start_time": "2025-02-06T17:17:32.004Z"
   },
   {
    "duration": 0,
    "start_time": "2025-02-06T17:17:32.005Z"
   },
   {
    "duration": 0,
    "start_time": "2025-02-06T17:17:32.006Z"
   },
   {
    "duration": 0,
    "start_time": "2025-02-06T17:17:32.007Z"
   },
   {
    "duration": 0,
    "start_time": "2025-02-06T17:17:32.009Z"
   },
   {
    "duration": 0,
    "start_time": "2025-02-06T17:17:32.010Z"
   },
   {
    "duration": 0,
    "start_time": "2025-02-06T17:17:32.011Z"
   },
   {
    "duration": 0,
    "start_time": "2025-02-06T17:17:32.012Z"
   },
   {
    "duration": 0,
    "start_time": "2025-02-06T17:17:32.014Z"
   },
   {
    "duration": 0,
    "start_time": "2025-02-06T17:17:32.015Z"
   },
   {
    "duration": 0,
    "start_time": "2025-02-06T17:17:32.016Z"
   },
   {
    "duration": 0,
    "start_time": "2025-02-06T17:17:32.017Z"
   },
   {
    "duration": 0,
    "start_time": "2025-02-06T17:17:32.018Z"
   },
   {
    "duration": 0,
    "start_time": "2025-02-06T17:17:32.019Z"
   },
   {
    "duration": 0,
    "start_time": "2025-02-06T17:17:32.020Z"
   },
   {
    "duration": 0,
    "start_time": "2025-02-06T17:17:32.021Z"
   },
   {
    "duration": 0,
    "start_time": "2025-02-06T17:17:32.022Z"
   },
   {
    "duration": 0,
    "start_time": "2025-02-06T17:17:32.023Z"
   },
   {
    "duration": 0,
    "start_time": "2025-02-06T17:17:32.024Z"
   },
   {
    "duration": 0,
    "start_time": "2025-02-06T17:17:32.026Z"
   },
   {
    "duration": 13003,
    "start_time": "2025-02-06T17:23:36.723Z"
   },
   {
    "duration": 4843,
    "start_time": "2025-02-06T17:23:59.261Z"
   },
   {
    "duration": 9,
    "start_time": "2025-02-06T17:26:43.015Z"
   },
   {
    "duration": 4830,
    "start_time": "2025-02-06T17:26:44.893Z"
   },
   {
    "duration": 9,
    "start_time": "2025-02-06T17:32:09.184Z"
   },
   {
    "duration": 4818,
    "start_time": "2025-02-06T17:32:12.433Z"
   },
   {
    "duration": 3,
    "start_time": "2025-02-06T17:38:14.926Z"
   },
   {
    "duration": 6,
    "start_time": "2025-02-06T17:39:29.645Z"
   },
   {
    "duration": 36,
    "start_time": "2025-02-06T17:39:41.195Z"
   },
   {
    "duration": 3,
    "start_time": "2025-02-06T17:40:23.215Z"
   },
   {
    "duration": 13216,
    "start_time": "2025-02-06T17:43:20.172Z"
   },
   {
    "duration": 1542,
    "start_time": "2025-02-06T17:43:33.390Z"
   },
   {
    "duration": 1527,
    "start_time": "2025-02-06T17:43:34.934Z"
   },
   {
    "duration": 18,
    "start_time": "2025-02-06T17:43:36.463Z"
   },
   {
    "duration": 29,
    "start_time": "2025-02-06T17:43:36.483Z"
   },
   {
    "duration": 165,
    "start_time": "2025-02-06T17:43:36.514Z"
   },
   {
    "duration": 50,
    "start_time": "2025-02-06T17:43:36.680Z"
   },
   {
    "duration": 237,
    "start_time": "2025-02-06T17:43:36.732Z"
   },
   {
    "duration": 225,
    "start_time": "2025-02-06T17:43:36.971Z"
   },
   {
    "duration": 5,
    "start_time": "2025-02-06T17:43:37.201Z"
   },
   {
    "duration": 138,
    "start_time": "2025-02-06T17:43:37.207Z"
   },
   {
    "duration": 24,
    "start_time": "2025-02-06T17:43:37.347Z"
   },
   {
    "duration": 109,
    "start_time": "2025-02-06T17:43:37.372Z"
   },
   {
    "duration": 5,
    "start_time": "2025-02-06T17:43:37.483Z"
   },
   {
    "duration": 18,
    "start_time": "2025-02-06T17:43:37.490Z"
   },
   {
    "duration": 923,
    "start_time": "2025-02-06T17:43:37.509Z"
   },
   {
    "duration": 8,
    "start_time": "2025-02-06T17:43:38.434Z"
   },
   {
    "duration": 4,
    "start_time": "2025-02-06T17:43:38.444Z"
   },
   {
    "duration": 18,
    "start_time": "2025-02-06T17:43:38.450Z"
   },
   {
    "duration": 20,
    "start_time": "2025-02-06T17:43:38.470Z"
   },
   {
    "duration": 52029,
    "start_time": "2025-02-06T17:43:38.491Z"
   },
   {
    "duration": 5454,
    "start_time": "2025-02-06T17:44:30.522Z"
   },
   {
    "duration": 1256,
    "start_time": "2025-02-06T17:44:35.978Z"
   },
   {
    "duration": 14,
    "start_time": "2025-02-06T17:44:37.236Z"
   },
   {
    "duration": 12956,
    "start_time": "2025-02-06T17:44:37.252Z"
   },
   {
    "duration": 3,
    "start_time": "2025-02-06T17:44:50.209Z"
   },
   {
    "duration": 100,
    "start_time": "2025-02-06T17:44:50.213Z"
   },
   {
    "duration": 74,
    "start_time": "2025-02-06T17:44:50.316Z"
   },
   {
    "duration": 23,
    "start_time": "2025-02-06T17:44:50.392Z"
   },
   {
    "duration": 24,
    "start_time": "2025-02-06T17:44:50.416Z"
   },
   {
    "duration": 36,
    "start_time": "2025-02-06T17:44:50.442Z"
   },
   {
    "duration": 17,
    "start_time": "2025-02-06T17:44:50.480Z"
   },
   {
    "duration": 6,
    "start_time": "2025-02-06T17:44:50.498Z"
   },
   {
    "duration": 24,
    "start_time": "2025-02-06T17:44:50.506Z"
   },
   {
    "duration": 22,
    "start_time": "2025-02-06T17:44:50.532Z"
   },
   {
    "duration": 30,
    "start_time": "2025-02-06T17:44:50.556Z"
   },
   {
    "duration": 34,
    "start_time": "2025-02-06T17:44:50.588Z"
   },
   {
    "duration": 29,
    "start_time": "2025-02-06T17:44:50.624Z"
   },
   {
    "duration": 29,
    "start_time": "2025-02-06T17:44:50.654Z"
   },
   {
    "duration": 13,
    "start_time": "2025-02-06T17:44:50.685Z"
   },
   {
    "duration": 254,
    "start_time": "2025-02-06T17:44:50.699Z"
   },
   {
    "duration": 590005,
    "start_time": "2025-02-06T17:44:50.955Z"
   },
   {
    "duration": 187240,
    "start_time": "2025-02-06T17:54:40.962Z"
   },
   {
    "duration": 262362,
    "start_time": "2025-02-06T17:57:48.204Z"
   },
   {
    "duration": 11,
    "start_time": "2025-02-06T18:02:10.568Z"
   },
   {
    "duration": 35234,
    "start_time": "2025-02-06T18:02:10.581Z"
   },
   {
    "duration": 8838,
    "start_time": "2025-02-06T18:02:45.817Z"
   }
  ],
  "kernelspec": {
   "display_name": "Python 3 (ipykernel)",
   "language": "python",
   "name": "python3"
  },
  "language_info": {
   "codemirror_mode": {
    "name": "ipython",
    "version": 3
   },
   "file_extension": ".py",
   "mimetype": "text/x-python",
   "name": "python",
   "nbconvert_exporter": "python",
   "pygments_lexer": "ipython3",
   "version": "3.12.2"
  },
  "toc": {
   "base_numbering": 1,
   "nav_menu": {},
   "number_sections": true,
   "sideBar": true,
   "skip_h1_title": true,
   "title_cell": "Table of Contents",
   "title_sidebar": "Contents",
   "toc_cell": false,
   "toc_position": {},
   "toc_section_display": true,
   "toc_window_display": false
  }
 },
 "nbformat": 4,
 "nbformat_minor": 5
}
