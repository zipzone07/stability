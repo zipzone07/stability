{
 "cells": [
  {
   "cell_type": "markdown",
   "id": "b45039b2",
   "metadata": {},
   "source": [
    "**Анализ данных сервиса аренды самокатов**"
   ]
  },
  {
   "cell_type": "markdown",
   "id": "459e041e",
   "metadata": {},
   "source": [
    "# Цель исследования"
   ]
  },
  {
   "cell_type": "markdown",
   "id": "fcbb425f",
   "metadata": {},
   "source": [
    "Проанализировать данные и проверить некоторые гипотезы, которые могут помочь бизнесу вырасти."
   ]
  },
  {
   "cell_type": "markdown",
   "id": "c84424e8",
   "metadata": {},
   "source": [
    "# Загрузка и обзор данных"
   ]
  },
  {
   "cell_type": "markdown",
   "id": "7fe4152b",
   "metadata": {},
   "source": [
    "## Считаем CSV-файлы с данными"
   ]
  },
  {
   "cell_type": "code",
   "execution_count": 62,
   "id": "034e7800",
   "metadata": {},
   "outputs": [],
   "source": [
    "import pandas as pd\n",
    "import numpy as np\n",
    "import matplotlib.pyplot as plt\n",
    "from matplotlib import rcParams\n",
    "from scipy import stats as st\n",
    "from sklearn.model_selection import train_test_split\n",
    "\n",
    "# вывод всех столбцов и строк, независимо от их количества.\n",
    "pd.set_option('display.max_columns', None)\n",
    "\n",
    "# отключаем предупреждение\n",
    "pd.options.mode.chained_assignment = None"
   ]
  },
  {
   "cell_type": "code",
   "execution_count": 2,
   "id": "02f2d1de",
   "metadata": {},
   "outputs": [],
   "source": [
    "try:\n",
    "    users_go = pd.read_csv(\n",
    "        r'...\\users_go.csv',\n",
    "    )\n",
    "    rides_go = pd.read_csv(\n",
    "        r'...\\rides_go.csv'\n",
    "    )\n",
    "    subscriptions_go = pd.read_csv(\n",
    "        r'...\\subscriptions_go.csv'\n",
    "    )\n",
    "except:\n",
    "    users_go = pd.read_csv('.../users_go.csv')\n",
    "    rides_go = pd.read_csv('.../rides_go.csv')\n",
    "    subscriptions_go = pd.read_csv('.../subscriptions_go.csv')"
   ]
  },
  {
   "cell_type": "markdown",
   "id": "e5f7849f",
   "metadata": {},
   "source": [
    "## Выведем первые строки каждого набора данных"
   ]
  },
  {
   "cell_type": "code",
   "execution_count": 3,
   "id": "8998d764",
   "metadata": {},
   "outputs": [
    {
     "name": "stdout",
     "output_type": "stream",
     "text": [
      "Данные по users_go\n"
     ]
    },
    {
     "data": {
      "text/html": [
       "<div>\n",
       "<style scoped>\n",
       "    .dataframe tbody tr th:only-of-type {\n",
       "        vertical-align: middle;\n",
       "    }\n",
       "\n",
       "    .dataframe tbody tr th {\n",
       "        vertical-align: top;\n",
       "    }\n",
       "\n",
       "    .dataframe thead th {\n",
       "        text-align: right;\n",
       "    }\n",
       "</style>\n",
       "<table border=\"1\" class=\"dataframe\">\n",
       "  <thead>\n",
       "    <tr style=\"text-align: right;\">\n",
       "      <th></th>\n",
       "      <th>user_id</th>\n",
       "      <th>name</th>\n",
       "      <th>age</th>\n",
       "      <th>city</th>\n",
       "      <th>subscription_type</th>\n",
       "    </tr>\n",
       "  </thead>\n",
       "  <tbody>\n",
       "    <tr>\n",
       "      <th>0</th>\n",
       "      <td>1</td>\n",
       "      <td>Кира</td>\n",
       "      <td>22</td>\n",
       "      <td>Тюмень</td>\n",
       "      <td>ultra</td>\n",
       "    </tr>\n",
       "    <tr>\n",
       "      <th>1</th>\n",
       "      <td>2</td>\n",
       "      <td>Станислав</td>\n",
       "      <td>31</td>\n",
       "      <td>Омск</td>\n",
       "      <td>ultra</td>\n",
       "    </tr>\n",
       "    <tr>\n",
       "      <th>2</th>\n",
       "      <td>3</td>\n",
       "      <td>Алексей</td>\n",
       "      <td>20</td>\n",
       "      <td>Москва</td>\n",
       "      <td>ultra</td>\n",
       "    </tr>\n",
       "    <tr>\n",
       "      <th>3</th>\n",
       "      <td>4</td>\n",
       "      <td>Константин</td>\n",
       "      <td>26</td>\n",
       "      <td>Ростов-на-Дону</td>\n",
       "      <td>ultra</td>\n",
       "    </tr>\n",
       "    <tr>\n",
       "      <th>4</th>\n",
       "      <td>5</td>\n",
       "      <td>Адель</td>\n",
       "      <td>28</td>\n",
       "      <td>Омск</td>\n",
       "      <td>ultra</td>\n",
       "    </tr>\n",
       "  </tbody>\n",
       "</table>\n",
       "</div>"
      ],
      "text/plain": [
       "   user_id        name  age            city subscription_type\n",
       "0        1        Кира   22          Тюмень             ultra\n",
       "1        2   Станислав   31            Омск             ultra\n",
       "2        3     Алексей   20          Москва             ultra\n",
       "3        4  Константин   26  Ростов-на-Дону             ultra\n",
       "4        5       Адель   28            Омск             ultra"
      ]
     },
     "metadata": {},
     "output_type": "display_data"
    },
    {
     "name": "stdout",
     "output_type": "stream",
     "text": [
      "Данные по rides_go\n"
     ]
    },
    {
     "data": {
      "text/html": [
       "<div>\n",
       "<style scoped>\n",
       "    .dataframe tbody tr th:only-of-type {\n",
       "        vertical-align: middle;\n",
       "    }\n",
       "\n",
       "    .dataframe tbody tr th {\n",
       "        vertical-align: top;\n",
       "    }\n",
       "\n",
       "    .dataframe thead th {\n",
       "        text-align: right;\n",
       "    }\n",
       "</style>\n",
       "<table border=\"1\" class=\"dataframe\">\n",
       "  <thead>\n",
       "    <tr style=\"text-align: right;\">\n",
       "      <th></th>\n",
       "      <th>user_id</th>\n",
       "      <th>distance</th>\n",
       "      <th>duration</th>\n",
       "      <th>date</th>\n",
       "    </tr>\n",
       "  </thead>\n",
       "  <tbody>\n",
       "    <tr>\n",
       "      <th>0</th>\n",
       "      <td>1</td>\n",
       "      <td>4409.919140</td>\n",
       "      <td>25.599769</td>\n",
       "      <td>2021-01-01</td>\n",
       "    </tr>\n",
       "    <tr>\n",
       "      <th>1</th>\n",
       "      <td>1</td>\n",
       "      <td>2617.592153</td>\n",
       "      <td>15.816871</td>\n",
       "      <td>2021-01-18</td>\n",
       "    </tr>\n",
       "    <tr>\n",
       "      <th>2</th>\n",
       "      <td>1</td>\n",
       "      <td>754.159807</td>\n",
       "      <td>6.232113</td>\n",
       "      <td>2021-04-20</td>\n",
       "    </tr>\n",
       "    <tr>\n",
       "      <th>3</th>\n",
       "      <td>1</td>\n",
       "      <td>2694.783254</td>\n",
       "      <td>18.511000</td>\n",
       "      <td>2021-08-11</td>\n",
       "    </tr>\n",
       "    <tr>\n",
       "      <th>4</th>\n",
       "      <td>1</td>\n",
       "      <td>4028.687306</td>\n",
       "      <td>26.265803</td>\n",
       "      <td>2021-08-28</td>\n",
       "    </tr>\n",
       "  </tbody>\n",
       "</table>\n",
       "</div>"
      ],
      "text/plain": [
       "   user_id     distance   duration        date\n",
       "0        1  4409.919140  25.599769  2021-01-01\n",
       "1        1  2617.592153  15.816871  2021-01-18\n",
       "2        1   754.159807   6.232113  2021-04-20\n",
       "3        1  2694.783254  18.511000  2021-08-11\n",
       "4        1  4028.687306  26.265803  2021-08-28"
      ]
     },
     "metadata": {},
     "output_type": "display_data"
    },
    {
     "name": "stdout",
     "output_type": "stream",
     "text": [
      "Данные по rides_go\n"
     ]
    },
    {
     "data": {
      "text/html": [
       "<div>\n",
       "<style scoped>\n",
       "    .dataframe tbody tr th:only-of-type {\n",
       "        vertical-align: middle;\n",
       "    }\n",
       "\n",
       "    .dataframe tbody tr th {\n",
       "        vertical-align: top;\n",
       "    }\n",
       "\n",
       "    .dataframe thead th {\n",
       "        text-align: right;\n",
       "    }\n",
       "</style>\n",
       "<table border=\"1\" class=\"dataframe\">\n",
       "  <thead>\n",
       "    <tr style=\"text-align: right;\">\n",
       "      <th></th>\n",
       "      <th>subscription_type</th>\n",
       "      <th>minute_price</th>\n",
       "      <th>start_ride_price</th>\n",
       "      <th>subscription_fee</th>\n",
       "    </tr>\n",
       "  </thead>\n",
       "  <tbody>\n",
       "    <tr>\n",
       "      <th>0</th>\n",
       "      <td>free</td>\n",
       "      <td>8</td>\n",
       "      <td>50</td>\n",
       "      <td>0</td>\n",
       "    </tr>\n",
       "    <tr>\n",
       "      <th>1</th>\n",
       "      <td>ultra</td>\n",
       "      <td>6</td>\n",
       "      <td>0</td>\n",
       "      <td>199</td>\n",
       "    </tr>\n",
       "  </tbody>\n",
       "</table>\n",
       "</div>"
      ],
      "text/plain": [
       "  subscription_type  minute_price  start_ride_price  subscription_fee\n",
       "0              free             8                50                 0\n",
       "1             ultra             6                 0               199"
      ]
     },
     "metadata": {},
     "output_type": "display_data"
    }
   ],
   "source": [
    "print('Данные по users_go')\n",
    "display(users_go.head())\n",
    "print('Данные по rides_go')\n",
    "display(rides_go.head())\n",
    "print('Данные по rides_go')\n",
    "display(subscriptions_go.head())"
   ]
  },
  {
   "cell_type": "markdown",
   "id": "27266179",
   "metadata": {},
   "source": [
    "## Изучим общую информацию о каждом датафрейме"
   ]
  },
  {
   "cell_type": "code",
   "execution_count": 4,
   "id": "d0aa30fd",
   "metadata": {},
   "outputs": [
    {
     "name": "stdout",
     "output_type": "stream",
     "text": [
      "<class 'pandas.core.frame.DataFrame'>\n",
      "RangeIndex: 1565 entries, 0 to 1564\n",
      "Data columns (total 5 columns):\n",
      " #   Column             Non-Null Count  Dtype \n",
      "---  ------             --------------  ----- \n",
      " 0   user_id            1565 non-null   int64 \n",
      " 1   name               1565 non-null   object\n",
      " 2   age                1565 non-null   int64 \n",
      " 3   city               1565 non-null   object\n",
      " 4   subscription_type  1565 non-null   object\n",
      "dtypes: int64(2), object(3)\n",
      "memory usage: 61.3+ KB\n"
     ]
    }
   ],
   "source": [
    "users_go.info()"
   ]
  },
  {
   "cell_type": "code",
   "execution_count": 5,
   "id": "a9bdb963",
   "metadata": {},
   "outputs": [
    {
     "name": "stdout",
     "output_type": "stream",
     "text": [
      "<class 'pandas.core.frame.DataFrame'>\n",
      "RangeIndex: 18068 entries, 0 to 18067\n",
      "Data columns (total 4 columns):\n",
      " #   Column    Non-Null Count  Dtype  \n",
      "---  ------    --------------  -----  \n",
      " 0   user_id   18068 non-null  int64  \n",
      " 1   distance  18068 non-null  float64\n",
      " 2   duration  18068 non-null  float64\n",
      " 3   date      18068 non-null  object \n",
      "dtypes: float64(2), int64(1), object(1)\n",
      "memory usage: 564.8+ KB\n"
     ]
    }
   ],
   "source": [
    "rides_go.info()"
   ]
  },
  {
   "cell_type": "code",
   "execution_count": 6,
   "id": "ec568739",
   "metadata": {},
   "outputs": [
    {
     "name": "stdout",
     "output_type": "stream",
     "text": [
      "<class 'pandas.core.frame.DataFrame'>\n",
      "RangeIndex: 2 entries, 0 to 1\n",
      "Data columns (total 4 columns):\n",
      " #   Column             Non-Null Count  Dtype \n",
      "---  ------             --------------  ----- \n",
      " 0   subscription_type  2 non-null      object\n",
      " 1   minute_price       2 non-null      int64 \n",
      " 2   start_ride_price   2 non-null      int64 \n",
      " 3   subscription_fee   2 non-null      int64 \n",
      "dtypes: int64(3), object(1)\n",
      "memory usage: 192.0+ bytes\n"
     ]
    }
   ],
   "source": [
    "subscriptions_go.info()"
   ]
  },
  {
   "cell_type": "markdown",
   "id": "fccdc3d0",
   "metadata": {},
   "source": [
    "<div style=\"background-color:dark; color:#black; text-align:left; padding:2%\">\n",
    "\n",
    "В представленных датафреймах есть столбцы, которые имеют следующее значение:\n",
    "```\n",
    "user_id\t- уникальный идентификатор пользователя;\n",
    "name - имя пользователя;\n",
    "age - возраст;\n",
    "city - город;\n",
    "subscription_type - тип подписки (free, ultra);\n",
    "distance - расстояние, которое пользователь проехал в текущей сессии (в метрах);\n",
    "duration - продолжительность сессии (в минутах) — время с того момента, как пользователь нажал кнопку «Начать поездку» до момента, как он нажал кнопку «Завершить поездку»;\n",
    "date - дата совершения поездки;\n",
    "subscription_type - тип подписки;\n",
    "minute_price - стоимость одной минуты поездки по данной подписке;\n",
    "start_ride_price - стоимость начала поездки;\n",
    "subscription_fee - стоимость ежемесячного платежа.\n",
    "```\n",
    "\n",
    "</div>"
   ]
  },
  {
   "cell_type": "markdown",
   "id": "829a0280",
   "metadata": {},
   "source": [
    "## Вывод"
   ]
  },
  {
   "cell_type": "markdown",
   "id": "f53cf6fb",
   "metadata": {},
   "source": [
    "<div style=\"background-color:dark; color:#black; text-align:left; padding:2%\">\n",
    "\n",
    "После изучения общей информации о данных ясно следующее:\n",
    "\n",
    "- в столбце *distance, duration* значения можно округлить до одной десятой;\n",
    "- данные в столбце *subscription_type* предствленны в виде `object`, можно преобразовать в категориальный тип `category`;\n",
    "- в столбце *date* данные представлены в виде `object`, а должны быть в формате даты;\n",
    "- количество записей в столбцах датафреймов совпадате, пропуски отсутствуют.\n",
    "\n",
    "</div>"
   ]
  },
  {
   "cell_type": "markdown",
   "id": "1f926a0d",
   "metadata": {},
   "source": [
    "# Предобработка данных"
   ]
  },
  {
   "cell_type": "markdown",
   "id": "c107fb20",
   "metadata": {},
   "source": [
    "<div style=\"background-color:dark; color:#black; text-align:left; padding:2%\">\n",
    "    \n",
    "Подготовка данных для анализа называется предобработкой. Нужно оценить масштаб найденных проблем и \n",
    "устранить их. Предобработка следует принципу GIGO (от англ. garbage in — garbage out, буквально «мусор на входе — мусор на выходе»). Это значит, что при ошибках во входных данных даже правильный алгоритм работы приведёт к неверным результатам. Так же нужно помнить об законе экономии, который называется **Бри́тва О́ккама**. В нем говорится следующее: *Не следует множить сущее без необходимости.* Суть принципа: совершенство должно быть простым. Если какого-то результата можно достичь с привлечением сущностей A, B и C либо другим путём с привлечением A, B, С и D — надо выбирать первый путь. В плане программирования это значит, что не следут создавать промежуточные переменные, которые не пригодяться в дальнейшем.\n",
    "\n",
    "</div>"
   ]
  },
  {
   "cell_type": "markdown",
   "id": "8ff904e0",
   "metadata": {},
   "source": [
    "## Рассмотрим типы данных в каждом столбце"
   ]
  },
  {
   "cell_type": "markdown",
   "id": "07f43672",
   "metadata": {},
   "source": [
    "<div style=\"background-color:dark; color:#black; text-align:left; padding:2%\">\n",
    "    \n",
    "Для комфортной работы с данными на этапе предобработки необходимо отформатировать данные в нужный нам тип. В шаге 5.3 мы выяснили, в каких столбцах есть проблемы с форматом данных. Это столбцы: \n",
    "\n",
    "- в столбце *distance, duration* значения можно округлить до одной десятой;\n",
    "- данные в столбце *subscription_type* предствленны в виде `object`, можно преобразовать в категориальный тип `category`;\n",
    "- в столбце *date* данные представлены в виде `object`, а должны быть в формате даты.\n",
    "\n",
    "</div>"
   ]
  },
  {
   "cell_type": "markdown",
   "id": "353106f9",
   "metadata": {},
   "source": [
    "### Столбцы *distance* и *duration*"
   ]
  },
  {
   "cell_type": "code",
   "execution_count": 7,
   "id": "41a274f7",
   "metadata": {},
   "outputs": [],
   "source": [
    "# округлим значения distance\n",
    "rides_go['distance'] = rides_go['distance'].round(1)\n",
    "\n",
    "# округлим значения duration\n",
    "rides_go['duration'] = np.ceil(rides_go['duration']).astype(int)"
   ]
  },
  {
   "cell_type": "markdown",
   "id": "7a66e67e",
   "metadata": {},
   "source": [
    "### Столбец *subscription_type*"
   ]
  },
  {
   "cell_type": "code",
   "execution_count": 8,
   "id": "7c73e860",
   "metadata": {},
   "outputs": [],
   "source": [
    "# используем метод astype\n",
    "users_go.subscription_type = users_go['subscription_type'].astype('category')\n",
    "subscriptions_go.subscription_type = subscriptions_go['subscription_type'].astype('category')"
   ]
  },
  {
   "cell_type": "markdown",
   "id": "5e3d20e3",
   "metadata": {},
   "source": [
    "### Приведем столбец *date* к типу даты pandas"
   ]
  },
  {
   "cell_type": "code",
   "execution_count": 9,
   "id": "57809c86",
   "metadata": {},
   "outputs": [],
   "source": [
    "rides_go.date = pd.to_datetime(rides_go.date)"
   ]
  },
  {
   "cell_type": "markdown",
   "id": "42b81a4f",
   "metadata": {},
   "source": [
    "### Создадим новый столбец с номером месяца на основе столбца *date*"
   ]
  },
  {
   "cell_type": "code",
   "execution_count": 10,
   "id": "e60958e3",
   "metadata": {},
   "outputs": [],
   "source": [
    "rides_go['month'] = rides_go.date.dt.month"
   ]
  },
  {
   "cell_type": "markdown",
   "id": "5b763089",
   "metadata": {},
   "source": [
    "<div style=\"background-color:dark; color:#black; text-align:left; padding:2%\">\n",
    "    \n",
    "В дальнейшем по ходу проекта мы будем считать выручку за каждый месяц. Поэтому нужно проверить данные и убедиться, что информация представленна за один год.\n",
    "\n",
    "</div>"
   ]
  },
  {
   "cell_type": "code",
   "execution_count": 11,
   "id": "43b8f1e2",
   "metadata": {},
   "outputs": [
    {
     "data": {
      "text/plain": [
       "1"
      ]
     },
     "execution_count": 11,
     "metadata": {},
     "output_type": "execute_result"
    }
   ],
   "source": [
    "# уникальные значения по дате\n",
    "rides_go.date.dt.year.nunique()"
   ]
  },
  {
   "cell_type": "markdown",
   "id": "1dd26759",
   "metadata": {},
   "source": [
    "## Проверим наличие пропущенных значений и дубликатов."
   ]
  },
  {
   "cell_type": "markdown",
   "id": "5fe7207c",
   "metadata": {},
   "source": [
    "### Определим, в каких столбцах есть пропуски\n"
   ]
  },
  {
   "cell_type": "code",
   "execution_count": 12,
   "id": "560e0d4d",
   "metadata": {},
   "outputs": [],
   "source": [
    "# сохраним количество сырых данных\n",
    "user_len_stock = users_go.shape[0]\n",
    "rides_len_stock = rides_go.shape[0]"
   ]
  },
  {
   "cell_type": "code",
   "execution_count": 13,
   "id": "a208de2e",
   "metadata": {},
   "outputs": [
    {
     "name": "stdout",
     "output_type": "stream",
     "text": [
      "user_id              0\n",
      "name                 0\n",
      "age                  0\n",
      "city                 0\n",
      "subscription_type    0\n",
      "dtype: int64\n"
     ]
    },
    {
     "data": {
      "text/plain": [
       "user_id     0\n",
       "distance    0\n",
       "duration    0\n",
       "date        0\n",
       "month       0\n",
       "dtype: int64"
      ]
     },
     "execution_count": 13,
     "metadata": {},
     "output_type": "execute_result"
    }
   ],
   "source": [
    "# количество пропущенных значений, комбинируя 2 метода\n",
    "print(users_go.isna().sum())\n",
    "rides_go.isna().sum()"
   ]
  },
  {
   "cell_type": "markdown",
   "id": "4c381af9",
   "metadata": {},
   "source": [
    "### Проверим дупликаты"
   ]
  },
  {
   "cell_type": "code",
   "execution_count": 14,
   "id": "97711590",
   "metadata": {},
   "outputs": [
    {
     "data": {
      "text/html": [
       "<div>\n",
       "<style scoped>\n",
       "    .dataframe tbody tr th:only-of-type {\n",
       "        vertical-align: middle;\n",
       "    }\n",
       "\n",
       "    .dataframe tbody tr th {\n",
       "        vertical-align: top;\n",
       "    }\n",
       "\n",
       "    .dataframe thead th {\n",
       "        text-align: right;\n",
       "    }\n",
       "</style>\n",
       "<table border=\"1\" class=\"dataframe\">\n",
       "  <thead>\n",
       "    <tr style=\"text-align: right;\">\n",
       "      <th></th>\n",
       "      <th>user_id</th>\n",
       "      <th>name</th>\n",
       "      <th>age</th>\n",
       "      <th>city</th>\n",
       "      <th>subscription_type</th>\n",
       "    </tr>\n",
       "  </thead>\n",
       "  <tbody>\n",
       "    <tr>\n",
       "      <th>15</th>\n",
       "      <td>16</td>\n",
       "      <td>Амалия</td>\n",
       "      <td>27</td>\n",
       "      <td>Краснодар</td>\n",
       "      <td>ultra</td>\n",
       "    </tr>\n",
       "    <tr>\n",
       "      <th>1535</th>\n",
       "      <td>16</td>\n",
       "      <td>Амалия</td>\n",
       "      <td>27</td>\n",
       "      <td>Краснодар</td>\n",
       "      <td>ultra</td>\n",
       "    </tr>\n",
       "    <tr>\n",
       "      <th>42</th>\n",
       "      <td>43</td>\n",
       "      <td>Стефания</td>\n",
       "      <td>22</td>\n",
       "      <td>Омск</td>\n",
       "      <td>ultra</td>\n",
       "    </tr>\n",
       "    <tr>\n",
       "      <th>1539</th>\n",
       "      <td>43</td>\n",
       "      <td>Стефания</td>\n",
       "      <td>22</td>\n",
       "      <td>Омск</td>\n",
       "      <td>ultra</td>\n",
       "    </tr>\n",
       "    <tr>\n",
       "      <th>1563</th>\n",
       "      <td>47</td>\n",
       "      <td>Юрий</td>\n",
       "      <td>28</td>\n",
       "      <td>Тюмень</td>\n",
       "      <td>ultra</td>\n",
       "    </tr>\n",
       "    <tr>\n",
       "      <th>...</th>\n",
       "      <td>...</td>\n",
       "      <td>...</td>\n",
       "      <td>...</td>\n",
       "      <td>...</td>\n",
       "      <td>...</td>\n",
       "    </tr>\n",
       "    <tr>\n",
       "      <th>1554</th>\n",
       "      <td>1198</td>\n",
       "      <td>Демид</td>\n",
       "      <td>29</td>\n",
       "      <td>Ростов-на-Дону</td>\n",
       "      <td>free</td>\n",
       "    </tr>\n",
       "    <tr>\n",
       "      <th>1558</th>\n",
       "      <td>1237</td>\n",
       "      <td>Евгения</td>\n",
       "      <td>23</td>\n",
       "      <td>Тюмень</td>\n",
       "      <td>free</td>\n",
       "    </tr>\n",
       "    <tr>\n",
       "      <th>1236</th>\n",
       "      <td>1237</td>\n",
       "      <td>Евгения</td>\n",
       "      <td>23</td>\n",
       "      <td>Тюмень</td>\n",
       "      <td>free</td>\n",
       "    </tr>\n",
       "    <tr>\n",
       "      <th>1544</th>\n",
       "      <td>1245</td>\n",
       "      <td>Регина</td>\n",
       "      <td>27</td>\n",
       "      <td>Пятигорск</td>\n",
       "      <td>free</td>\n",
       "    </tr>\n",
       "    <tr>\n",
       "      <th>1244</th>\n",
       "      <td>1245</td>\n",
       "      <td>Регина</td>\n",
       "      <td>27</td>\n",
       "      <td>Пятигорск</td>\n",
       "      <td>free</td>\n",
       "    </tr>\n",
       "  </tbody>\n",
       "</table>\n",
       "<p>62 rows × 5 columns</p>\n",
       "</div>"
      ],
      "text/plain": [
       "      user_id      name  age            city subscription_type\n",
       "15         16    Амалия   27       Краснодар             ultra\n",
       "1535       16    Амалия   27       Краснодар             ultra\n",
       "42         43  Стефания   22            Омск             ultra\n",
       "1539       43  Стефания   22            Омск             ultra\n",
       "1563       47      Юрий   28          Тюмень             ultra\n",
       "...       ...       ...  ...             ...               ...\n",
       "1554     1198     Демид   29  Ростов-на-Дону              free\n",
       "1558     1237   Евгения   23          Тюмень              free\n",
       "1236     1237   Евгения   23          Тюмень              free\n",
       "1544     1245    Регина   27       Пятигорск              free\n",
       "1244     1245    Регина   27       Пятигорск              free\n",
       "\n",
       "[62 rows x 5 columns]"
      ]
     },
     "execution_count": 14,
     "metadata": {},
     "output_type": "execute_result"
    }
   ],
   "source": [
    "# проверим столбец user_id\n",
    "users_go[users_go['user_id'].duplicated(keep=False)].sort_values(by='user_id')"
   ]
  },
  {
   "cell_type": "code",
   "execution_count": 15,
   "id": "80f08a9f",
   "metadata": {},
   "outputs": [
    {
     "data": {
      "text/html": [
       "<div>\n",
       "<style scoped>\n",
       "    .dataframe tbody tr th:only-of-type {\n",
       "        vertical-align: middle;\n",
       "    }\n",
       "\n",
       "    .dataframe tbody tr th {\n",
       "        vertical-align: top;\n",
       "    }\n",
       "\n",
       "    .dataframe thead th {\n",
       "        text-align: right;\n",
       "    }\n",
       "</style>\n",
       "<table border=\"1\" class=\"dataframe\">\n",
       "  <thead>\n",
       "    <tr style=\"text-align: right;\">\n",
       "      <th></th>\n",
       "      <th>user_id</th>\n",
       "      <th>name</th>\n",
       "      <th>age</th>\n",
       "      <th>city</th>\n",
       "      <th>subscription_type</th>\n",
       "    </tr>\n",
       "  </thead>\n",
       "  <tbody>\n",
       "    <tr>\n",
       "      <th>15</th>\n",
       "      <td>16</td>\n",
       "      <td>Амалия</td>\n",
       "      <td>27</td>\n",
       "      <td>Краснодар</td>\n",
       "      <td>ultra</td>\n",
       "    </tr>\n",
       "    <tr>\n",
       "      <th>1535</th>\n",
       "      <td>16</td>\n",
       "      <td>Амалия</td>\n",
       "      <td>27</td>\n",
       "      <td>Краснодар</td>\n",
       "      <td>ultra</td>\n",
       "    </tr>\n",
       "    <tr>\n",
       "      <th>42</th>\n",
       "      <td>43</td>\n",
       "      <td>Стефания</td>\n",
       "      <td>22</td>\n",
       "      <td>Омск</td>\n",
       "      <td>ultra</td>\n",
       "    </tr>\n",
       "    <tr>\n",
       "      <th>1539</th>\n",
       "      <td>43</td>\n",
       "      <td>Стефания</td>\n",
       "      <td>22</td>\n",
       "      <td>Омск</td>\n",
       "      <td>ultra</td>\n",
       "    </tr>\n",
       "    <tr>\n",
       "      <th>1563</th>\n",
       "      <td>47</td>\n",
       "      <td>Юрий</td>\n",
       "      <td>28</td>\n",
       "      <td>Тюмень</td>\n",
       "      <td>ultra</td>\n",
       "    </tr>\n",
       "    <tr>\n",
       "      <th>...</th>\n",
       "      <td>...</td>\n",
       "      <td>...</td>\n",
       "      <td>...</td>\n",
       "      <td>...</td>\n",
       "      <td>...</td>\n",
       "    </tr>\n",
       "    <tr>\n",
       "      <th>1554</th>\n",
       "      <td>1198</td>\n",
       "      <td>Демид</td>\n",
       "      <td>29</td>\n",
       "      <td>Ростов-на-Дону</td>\n",
       "      <td>free</td>\n",
       "    </tr>\n",
       "    <tr>\n",
       "      <th>1558</th>\n",
       "      <td>1237</td>\n",
       "      <td>Евгения</td>\n",
       "      <td>23</td>\n",
       "      <td>Тюмень</td>\n",
       "      <td>free</td>\n",
       "    </tr>\n",
       "    <tr>\n",
       "      <th>1236</th>\n",
       "      <td>1237</td>\n",
       "      <td>Евгения</td>\n",
       "      <td>23</td>\n",
       "      <td>Тюмень</td>\n",
       "      <td>free</td>\n",
       "    </tr>\n",
       "    <tr>\n",
       "      <th>1544</th>\n",
       "      <td>1245</td>\n",
       "      <td>Регина</td>\n",
       "      <td>27</td>\n",
       "      <td>Пятигорск</td>\n",
       "      <td>free</td>\n",
       "    </tr>\n",
       "    <tr>\n",
       "      <th>1244</th>\n",
       "      <td>1245</td>\n",
       "      <td>Регина</td>\n",
       "      <td>27</td>\n",
       "      <td>Пятигорск</td>\n",
       "      <td>free</td>\n",
       "    </tr>\n",
       "  </tbody>\n",
       "</table>\n",
       "<p>62 rows × 5 columns</p>\n",
       "</div>"
      ],
      "text/plain": [
       "      user_id      name  age            city subscription_type\n",
       "15         16    Амалия   27       Краснодар             ultra\n",
       "1535       16    Амалия   27       Краснодар             ultra\n",
       "42         43  Стефания   22            Омск             ultra\n",
       "1539       43  Стефания   22            Омск             ultra\n",
       "1563       47      Юрий   28          Тюмень             ultra\n",
       "...       ...       ...  ...             ...               ...\n",
       "1554     1198     Демид   29  Ростов-на-Дону              free\n",
       "1558     1237   Евгения   23          Тюмень              free\n",
       "1236     1237   Евгения   23          Тюмень              free\n",
       "1544     1245    Регина   27       Пятигорск              free\n",
       "1244     1245    Регина   27       Пятигорск              free\n",
       "\n",
       "[62 rows x 5 columns]"
      ]
     },
     "execution_count": 15,
     "metadata": {},
     "output_type": "execute_result"
    }
   ],
   "source": [
    "# скрытые дупликаты\n",
    "users_go[users_go['user_id'].duplicated(keep=False)].sort_values(by='user_id')"
   ]
  },
  {
   "cell_type": "code",
   "execution_count": 16,
   "id": "a30d54af",
   "metadata": {},
   "outputs": [],
   "source": [
    "# удаляем дупликаты\n",
    "users_go = users_go.drop_duplicates().reset_index(drop=True)"
   ]
  },
  {
   "cell_type": "markdown",
   "id": "4266a2b1",
   "metadata": {},
   "source": [
    "## Количественные значения"
   ]
  },
  {
   "cell_type": "markdown",
   "id": "c9519b99",
   "metadata": {},
   "source": [
    "<div style=\"background-color:dark; color:#black; text-align:left; padding:2%\">\n",
    "    \n",
    "Изучим столбцы, которые хранят количественные значения. Проверим, обнаружились ли в таких столбцах подозрительные данные.\n",
    "\n",
    "</div>"
   ]
  },
  {
   "cell_type": "code",
   "execution_count": 17,
   "id": "168866b9",
   "metadata": {},
   "outputs": [
    {
     "data": {
      "text/plain": [
       "count     1534.000000\n",
       "std          4.572367\n",
       "min         12.000000\n",
       "mean        24.903520\n",
       "median      25.000000\n",
       "max         43.000000\n",
       "Name: age, dtype: float64"
      ]
     },
     "execution_count": 17,
     "metadata": {},
     "output_type": "execute_result"
    }
   ],
   "source": [
    "# сводная таблица параметров users_go\n",
    "users_go['age'].apply(['count', 'std', 'min', 'mean', 'median', 'max'])"
   ]
  },
  {
   "cell_type": "code",
   "execution_count": 18,
   "id": "78346d79",
   "metadata": {},
   "outputs": [
    {
     "data": {
      "text/html": [
       "<style type=\"text/css\">\n",
       "</style>\n",
       "<table id=\"T_0d1fc\">\n",
       "  <thead>\n",
       "    <tr>\n",
       "      <th class=\"blank level0\" >&nbsp;</th>\n",
       "      <th id=\"T_0d1fc_level0_col0\" class=\"col_heading level0 col0\" >distance</th>\n",
       "      <th id=\"T_0d1fc_level0_col1\" class=\"col_heading level0 col1\" >duration</th>\n",
       "    </tr>\n",
       "  </thead>\n",
       "  <tbody>\n",
       "    <tr>\n",
       "      <th id=\"T_0d1fc_level0_row0\" class=\"row_heading level0 row0\" >count</th>\n",
       "      <td id=\"T_0d1fc_row0_col0\" class=\"data row0 col0\" >18,068.00</td>\n",
       "      <td id=\"T_0d1fc_row0_col1\" class=\"data row0 col1\" >18,068.00</td>\n",
       "    </tr>\n",
       "    <tr>\n",
       "      <th id=\"T_0d1fc_level0_row1\" class=\"row_heading level0 row1\" >std</th>\n",
       "      <td id=\"T_0d1fc_row1_col0\" class=\"data row1 col0\" >1,116.83</td>\n",
       "      <td id=\"T_0d1fc_row1_col1\" class=\"data row1 col1\" >6.09</td>\n",
       "    </tr>\n",
       "    <tr>\n",
       "      <th id=\"T_0d1fc_level0_row2\" class=\"row_heading level0 row2\" >min</th>\n",
       "      <td id=\"T_0d1fc_row2_col0\" class=\"data row2 col0\" >0.90</td>\n",
       "      <td id=\"T_0d1fc_row2_col1\" class=\"data row2 col1\" >1.00</td>\n",
       "    </tr>\n",
       "    <tr>\n",
       "      <th id=\"T_0d1fc_level0_row3\" class=\"row_heading level0 row3\" >mean</th>\n",
       "      <td id=\"T_0d1fc_row3_col0\" class=\"data row3 col0\" >3,070.66</td>\n",
       "      <td id=\"T_0d1fc_row3_col1\" class=\"data row3 col1\" >18.30</td>\n",
       "    </tr>\n",
       "    <tr>\n",
       "      <th id=\"T_0d1fc_level0_row4\" class=\"row_heading level0 row4\" >median</th>\n",
       "      <td id=\"T_0d1fc_row4_col0\" class=\"data row4 col0\" >3,133.60</td>\n",
       "      <td id=\"T_0d1fc_row4_col1\" class=\"data row4 col1\" >18.00</td>\n",
       "    </tr>\n",
       "    <tr>\n",
       "      <th id=\"T_0d1fc_level0_row5\" class=\"row_heading level0 row5\" >max</th>\n",
       "      <td id=\"T_0d1fc_row5_col0\" class=\"data row5 col0\" >7,211.00</td>\n",
       "      <td id=\"T_0d1fc_row5_col1\" class=\"data row5 col1\" >41.00</td>\n",
       "    </tr>\n",
       "  </tbody>\n",
       "</table>\n"
      ],
      "text/plain": [
       "<pandas.io.formats.style.Styler at 0x17c36aab430>"
      ]
     },
     "execution_count": 18,
     "metadata": {},
     "output_type": "execute_result"
    }
   ],
   "source": [
    "# сводная таблица параметров rides_go\n",
    "(rides_go[['distance', 'duration']]\n",
    ".apply(['count', 'std', 'min', 'mean', 'median', 'max'])   \n",
    ".style.format(\"{:,.2f}\"))"
   ]
  },
  {
   "cell_type": "markdown",
   "id": "1e82cd9e",
   "metadata": {},
   "source": [
    "<div style=\"background-color:dark; color:#black; text-align:left; padding:2%\">\n",
    "    \n",
    "Все параметры датасете *users_go* выглядят адекватно. Очевидно, что проехать 4-7 км за 30 сек физически не реально. Проехать 90см в течении 10 минут вполне возможно, пользователь мог передумать ехать по какой-либо причине. За эту поездку оплата взята и ее нужно учитывать при расчете выручки. Исключим эти результаты из датафрейма.\n",
    "\n",
    "</div>"
   ]
  },
  {
   "cell_type": "markdown",
   "id": "7da8f083",
   "metadata": {},
   "source": [
    "## Вывод"
   ]
  },
  {
   "cell_type": "markdown",
   "id": "120ef928",
   "metadata": {},
   "source": [
    "<div style=\"background-color:dark; color:#black; text-align:left; padding:2%\">\n",
    "\n",
    "На этапе предобработки данных исправили следующие моменты:\n",
    "\n",
    "- в столбце *distance, duration* округлили значения до одной десятой;\n",
    "- данные в столбце *subscription_type* преобразовали в категориальный тип `category`;\n",
    "- в столбце *date* данные изменили в формат даты;\n",
    "- проверили колонку *date* и убедились, что информация представленна за один год;\n",
    "- исправили 62 дупликата в солбце *iser_id*;\n",
    "- в столбце *distance, duration* округлили значения до одной десятой.\n",
    "\n",
    "</div>"
   ]
  },
  {
   "cell_type": "markdown",
   "id": "db4acdd6",
   "metadata": {},
   "source": [
    "# Исследовательский анализ данных"
   ]
  },
  {
   "cell_type": "markdown",
   "id": "0f81cbbc",
   "metadata": {},
   "source": [
    "<div style=\"background-color:dark; color:#black; text-align:left; padding:2%\">\n",
    "    \n",
    "Исследовательский анализ данных является важным этапом в аналитике, который позволяет лучше понять данные и выявить основные характеристики и закономерности. Опишем и визуализируем общую информацию о пользователях и поездках.\n",
    "\n",
    "</div>"
   ]
  },
  {
   "cell_type": "markdown",
   "id": "bea2bf65",
   "metadata": {},
   "source": [
    "## Частота встречаемости городов"
   ]
  },
  {
   "cell_type": "code",
   "execution_count": 22,
   "id": "765f5bea",
   "metadata": {},
   "outputs": [],
   "source": [
    "city_freq = users_go.city.value_counts().sort_values(ascending=True)"
   ]
  },
  {
   "cell_type": "code",
   "execution_count": 23,
   "id": "fd82ce3c",
   "metadata": {},
   "outputs": [
    {
     "data": {
      "image/png": "[encoded data removed]",
      "text/plain": [
       "<Figure size 600x300 with 1 Axes>"
      ]
     },
     "metadata": {},
     "output_type": "display_data"
    }
   ],
   "source": [
    "# гистограмма городов\n",
    "city_freq.plot(y='count_city', figsize=(6, 3), grid=True, kind='barh', color='deepskyblue', edgecolor='darkblue')\n",
    "plt.title('Частота встречаемости городов')\n",
    "plt.xlabel('Город')\n",
    "plt.ylabel('Количество')\n",
    "plt.show()"
   ]
  },
  {
   "cell_type": "markdown",
   "id": "54f12b85",
   "metadata": {},
   "source": [
    "## Соотношение пользователей с подпиской и без подписки"
   ]
  },
  {
   "cell_type": "code",
   "execution_count": 60,
   "id": "a5451ec2",
   "metadata": {},
   "outputs": [
    {
     "data": {
      "text/html": [
       "<div>\n",
       "<style scoped>\n",
       "    .dataframe tbody tr th:only-of-type {\n",
       "        vertical-align: middle;\n",
       "    }\n",
       "\n",
       "    .dataframe tbody tr th {\n",
       "        vertical-align: top;\n",
       "    }\n",
       "\n",
       "    .dataframe thead th {\n",
       "        text-align: right;\n",
       "    }\n",
       "</style>\n",
       "<table border=\"1\" class=\"dataframe\">\n",
       "  <thead>\n",
       "    <tr style=\"text-align: right;\">\n",
       "      <th></th>\n",
       "      <th>count_user</th>\n",
       "      <th>decimal, %</th>\n",
       "    </tr>\n",
       "    <tr>\n",
       "      <th>subscription_type</th>\n",
       "      <th></th>\n",
       "      <th></th>\n",
       "    </tr>\n",
       "  </thead>\n",
       "  <tbody>\n",
       "    <tr>\n",
       "      <th>ultra</th>\n",
       "      <td>699</td>\n",
       "      <td>45.6</td>\n",
       "    </tr>\n",
       "    <tr>\n",
       "      <th>free</th>\n",
       "      <td>835</td>\n",
       "      <td>54.4</td>\n",
       "    </tr>\n",
       "  </tbody>\n",
       "</table>\n",
       "</div>"
      ],
      "text/plain": [
       "                   count_user  decimal, %\n",
       "subscription_type                        \n",
       "ultra                     699        45.6\n",
       "free                      835        54.4"
      ]
     },
     "execution_count": 60,
     "metadata": {},
     "output_type": "execute_result"
    }
   ],
   "source": [
    "# сводная таблица соотношения пользователей\n",
    "user_ratio = (users_go.groupby('subscription_type', as_index=False, observed=True)\n",
    " .agg(count_user = ('user_id', 'count'))\n",
    " .set_index('subscription_type')\n",
    " .sort_values(by='count_user', ascending=True)\n",
    ")\n",
    "\n",
    "# добавим столбец с долей пользователей\n",
    "user_ratio['decimal, %'] = (\n",
    "    user_ratio.count_user / user_ratio.count_user.sum() * 100\n",
    ").round(1)\n",
    "user_ratio"
   ]
  },
  {
   "cell_type": "code",
   "execution_count": 27,
   "id": "cff59848",
   "metadata": {},
   "outputs": [
    {
     "data": {
      "image/png": "[encoded data removed]",
      "text/plain": [
       "<Figure size 2000x500 with 1 Axes>"
      ]
     },
     "metadata": {},
     "output_type": "display_data"
    }
   ],
   "source": [
    "# диаграмма доли пользователей\n",
    "plt.rcParams[\"figure.figsize\"] = (20,5)\n",
    "labels = 'ultra', 'free'\n",
    "colors = ['lightskyblue', 'palegreen']\n",
    "fig, ax = plt.subplots()\n",
    "ax.pie(user_ratio['decimal, %'], labels=labels, \n",
    "        autopct='%1.1f%%', labeldistance=1.15, \n",
    "        wedgeprops = { 'linewidth' : 3, 'edgecolor' : 'white' }, \n",
    "        colors=colors)\n",
    "plt.title('Соотношения пользователей')\n",
    "plt.show()"
   ]
  },
  {
   "cell_type": "markdown",
   "id": "e1909db4",
   "metadata": {},
   "source": [
    "## Возраст пользователей"
   ]
  },
  {
   "cell_type": "code",
   "execution_count": 28,
   "id": "80602639",
   "metadata": {},
   "outputs": [
    {
     "data": {
      "image/png": "[encoded data removed]",
      "text/plain": [
       "<Figure size 700x300 with 1 Axes>"
      ]
     },
     "metadata": {},
     "output_type": "display_data"
    }
   ],
   "source": [
    "# гистограмма возраста\n",
    "users_go.age.hist(bins=30, figsize=(7, 3))\n",
    "plt.title('Возраст пользователей')\n",
    "plt.xlabel('Возраст, лет')\n",
    "plt.ylabel('Количество поездок')\n",
    "plt.show()"
   ]
  },
  {
   "cell_type": "markdown",
   "id": "51fd3c1d",
   "metadata": {},
   "source": [
    "## Расстояние поездки"
   ]
  },
  {
   "cell_type": "code",
   "execution_count": 29,
   "id": "e51ac46c",
   "metadata": {},
   "outputs": [
    {
     "data": {
      "image/png": "[encoded data removed]",
      "text/plain": [
       "<Figure size 1000x300 with 1 Axes>"
      ]
     },
     "metadata": {},
     "output_type": "display_data"
    }
   ],
   "source": [
    "# гистограмма расстояния\n",
    "rides_go.distance.hist(bins=100, figsize=(10, 3))\n",
    "plt.title('Дистанция маршрута')\n",
    "plt.xlabel('Расстояние, м')\n",
    "plt.ylabel('Количество поездок')\n",
    "plt.show()"
   ]
  },
  {
   "cell_type": "markdown",
   "id": "4265deab",
   "metadata": {},
   "source": [
    "## Продолжительность поездок"
   ]
  },
  {
   "cell_type": "code",
   "execution_count": 30,
   "id": "b7881ff4",
   "metadata": {},
   "outputs": [
    {
     "data": {
      "image/png": "[encoded data removed]",
      "text/plain": [
       "<Figure size 1000x300 with 1 Axes>"
      ]
     },
     "metadata": {},
     "output_type": "display_data"
    }
   ],
   "source": [
    "# гистограмма продолжительности\n",
    "rides_go.duration.hist(bins=100, figsize=(10, 3))\n",
    "plt.title('Время аренды')\n",
    "plt.xlabel('Продолжительность, мин')\n",
    "plt.ylabel('Количество поездок')\n",
    "plt.show()"
   ]
  },
  {
   "cell_type": "markdown",
   "id": "bf6528a5",
   "metadata": {},
   "source": [
    "## Вывод"
   ]
  },
  {
   "cell_type": "markdown",
   "id": "dc0b0939",
   "metadata": {},
   "source": [
    "<div style=\"background-color:dark; color:#black; text-align:left; padding:2%\">\n",
    "\n",
    "После проведения исследовательского анализа данных выяснили следующие моменты:\n",
    "\n",
    "- по разбросу городов следующая статистика лидеров: Пятигорск занимает первое место - 226 раз, Екатеринбург второе - 206 раз, Ростов-на-Дону третье - 202 раза. Худший показатель в Москве - 172 раз;\n",
    "- по процентному соотношению пользователией с подпиской *free* небольшой перевес - 54.1%, против подписки *ultra* 45.9%;\n",
    "\n",
    "Слудующие результаты получены в шаге 6.3:\n",
    "\n",
    "- аренда самокатов популярна у людей в возрасте 25 лет, минимальный возраст - 12 лет, максимальный - 43 года;\n",
    "- минимальное растояние поездки составляет - 2.6 м, среднее рассnояние 3060 м, максимальное - 7066 м;\n",
    "- продолжительность поездки, минимальная - 2 мин, средняя - 18 мин, максимальная - 41 мин.\n",
    "\n",
    "</div>"
   ]
  },
  {
   "cell_type": "markdown",
   "id": "08217d49",
   "metadata": {},
   "source": [
    "# Объединение данных "
   ]
  },
  {
   "cell_type": "markdown",
   "id": "c6bf08b1",
   "metadata": {},
   "source": [
    "## Объединим данные"
   ]
  },
  {
   "cell_type": "code",
   "execution_count": 31,
   "id": "64f19536",
   "metadata": {},
   "outputs": [],
   "source": [
    "# объединим данные\n",
    "data = users_go.merge(rides_go, on='user_id', how='inner')\n",
    "data = data.merge(subscriptions_go, on='subscription_type', how='inner')"
   ]
  },
  {
   "cell_type": "code",
   "execution_count": 32,
   "id": "0b098ece",
   "metadata": {},
   "outputs": [
    {
     "data": {
      "text/plain": [
       "user_id              0\n",
       "name                 0\n",
       "age                  0\n",
       "city                 0\n",
       "subscription_type    0\n",
       "distance             0\n",
       "duration             0\n",
       "date                 0\n",
       "month                0\n",
       "minute_price         0\n",
       "start_ride_price     0\n",
       "subscription_fee     0\n",
       "dtype: int64"
      ]
     },
     "execution_count": 32,
     "metadata": {},
     "output_type": "execute_result"
    }
   ],
   "source": [
    "# проверим пропуски\n",
    "data.isna().sum()"
   ]
  },
  {
   "cell_type": "code",
   "execution_count": 33,
   "id": "8dbe2824",
   "metadata": {},
   "outputs": [
    {
     "name": "stdout",
     "output_type": "stream",
     "text": [
      "Длинна исходного кадра 18068\n",
      "Длинна нового кадра 18068\n"
     ]
    }
   ],
   "source": [
    "print(f'Длинна исходного кадра {rides_go.shape[0]}')\n",
    "print(f'Длинна нового кадра {data.shape[0]}')"
   ]
  },
  {
   "cell_type": "markdown",
   "id": "9c54e796",
   "metadata": {},
   "source": [
    "<div style=\"background-color:dark; color:#black; text-align:left; padding:2%\">\n",
    "\n",
    "После бъединения данных о пользователях пропуски отсутствуют и количество строк в новом датафрейме совпадает с исходным.\n",
    "\n",
    "</div>"
   ]
  },
  {
   "cell_type": "markdown",
   "id": "fe754bab",
   "metadata": {},
   "source": [
    "## Два датафрейма из data"
   ]
  },
  {
   "cell_type": "markdown",
   "id": "a7d6e173",
   "metadata": {},
   "source": [
    "<div style=\"background-color:dark; color:#black; text-align:left; padding:2%\">\n",
    "\n",
    "Создадим ещё два датафрейма из датафрейма, созданного на этапе 8.1:\n",
    "\n",
    "- c данными о пользователях без подписки;\n",
    "- с данными о пользователях с подпиской.\n",
    "\n",
    "</div>"
   ]
  },
  {
   "cell_type": "markdown",
   "id": "6e16454a",
   "metadata": {},
   "source": [
    "### Датафрейм user_free"
   ]
  },
  {
   "cell_type": "code",
   "execution_count": 34,
   "id": "3c3f5e16",
   "metadata": {},
   "outputs": [],
   "source": [
    "# филдьрация методом query\n",
    "user_free = data.query('subscription_type == \"free\"')"
   ]
  },
  {
   "cell_type": "markdown",
   "id": "e863744d",
   "metadata": {},
   "source": [
    "### Датафрейм user_ultra"
   ]
  },
  {
   "cell_type": "code",
   "execution_count": 35,
   "id": "6bb79c82",
   "metadata": {},
   "outputs": [],
   "source": [
    "# филдьрация методом query\n",
    "user_ultra = data.query('subscription_type == \"ultra\"')"
   ]
  },
  {
   "cell_type": "markdown",
   "id": "5b15a506",
   "metadata": {},
   "source": [
    "## Визуализация расстояния и времени поездок"
   ]
  },
  {
   "cell_type": "markdown",
   "id": "7a2ba676",
   "metadata": {},
   "source": [
    "<div style=\"background-color:dark; color:#black; text-align:left; padding:2%\">\n",
    "\n",
    "Визуализируем информацию о расстоянии и времени поездок для пользователей обеих категорий с помощью библиотеки `matplotlib`\n",
    "\n",
    "</div>"
   ]
  },
  {
   "cell_type": "code",
   "execution_count": 36,
   "id": "0ae8b60c",
   "metadata": {},
   "outputs": [
    {
     "data": {
      "image/png": "[encoded data removed]",
      "text/plain": [
       "<Figure size 1300x300 with 1 Axes>"
      ]
     },
     "metadata": {},
     "output_type": "display_data"
    }
   ],
   "source": [
    "# визуализация расстояния\n",
    "rcParams['figure.figsize'] = 13, 3\n",
    "plt.hist(user_free.distance, bins=100, color='mediumaquamarine', edgecolor='darkgreen')\n",
    "plt.hist(user_ultra.distance, bins=100, color='darkviolet', edgecolor='purple', alpha=.5)\n",
    "plt.legend(['Тип подписки free', 'Тип подписки ultra'], loc='upper left')\n",
    "plt.ylim(0, 350)\n",
    "plt.grid(axis='y', alpha=.8)\n",
    "plt.title('Дистанция маршрута')\n",
    "plt.xlabel('Расстояние, м')\n",
    "plt.ylabel('Количество поездок')\n",
    "plt.show()"
   ]
  },
  {
   "cell_type": "code",
   "execution_count": 37,
   "id": "8e42fde3",
   "metadata": {},
   "outputs": [
    {
     "data": {
      "image/png": "[encoded data removed]",
      "text/plain": [
       "<Figure size 1300x300 with 1 Axes>"
      ]
     },
     "metadata": {},
     "output_type": "display_data"
    }
   ],
   "source": [
    "# визуализация времени\n",
    "rcParams['figure.figsize'] = 13, 3\n",
    "plt.hist(user_free.duration, bins=50, color='lightskyblue', edgecolor='royalblue')\n",
    "plt.hist(user_ultra.duration, bins=50, color='hotpink', edgecolor='mediumvioletred', alpha=.5)\n",
    "plt.legend(['Тип подписки free', 'Тип подписки ultra'], loc='upper left')\n",
    "plt.grid(axis='y', alpha=.8)\n",
    "plt.title('Продолжительность аренды')\n",
    "plt.xlabel('Врмя, мин')\n",
    "plt.ylabel('Количество поездок')\n",
    "plt.show()"
   ]
  },
  {
   "cell_type": "markdown",
   "id": "b3cc12ad",
   "metadata": {},
   "source": [
    "## Вывод"
   ]
  },
  {
   "cell_type": "markdown",
   "id": "f26d79bc",
   "metadata": {},
   "source": [
    "<div style=\"background-color:dark; color:#black; text-align:left; padding:2%\">\n",
    "\n",
    "При бъединении данных о пользователях пропуски отсутствуют и количество строк в новом датафрейме совпадает с исходным. Также после объединения данных и визуализации понятно, что пользователи с подпиской *free* ездят дальше и дольше.\n",
    "\n",
    "</div>"
   ]
  },
  {
   "cell_type": "markdown",
   "id": "a6748fd2",
   "metadata": {},
   "source": [
    "# Подсчёт выручки"
   ]
  },
  {
   "cell_type": "markdown",
   "id": "ca0ba91f",
   "metadata": {},
   "source": [
    "## Агрегация данных"
   ]
  },
  {
   "cell_type": "markdown",
   "id": "0136a0f1",
   "metadata": {},
   "source": [
    "<div style=\"background-color:dark; color:#black; text-align:left; padding:2%\">\n",
    "\n",
    "Создадим датафрейм с агрегированными данными о поездках\n",
    "\n",
    "</div>"
   ]
  },
  {
   "cell_type": "code",
   "execution_count": 40,
   "id": "d14b661d",
   "metadata": {},
   "outputs": [],
   "source": [
    "# сводная таблица\n",
    "agg_data_rev = (\n",
    "    data\n",
    "    .groupby(['user_id', 'month'], as_index=False)\n",
    "    .agg({\n",
    "        'subscription_type' : 'first',\n",
    "        'duration' : 'sum', 'distance' : 'sum',\n",
    "        'date' : 'count'\n",
    "    })\n",
    "    .set_index('user_id')\n",
    "    .rename(columns={'date' : 'number_trips'})\n",
    "    )\n",
    "\n",
    "# добавляем данные о тарифах\n",
    "agg_data_rev = agg_data_rev.merge(subscriptions_go, on='subscription_type')\n",
    "\n",
    "# именуем столбец с индексами\n",
    "agg_data_rev.index.name = 'user_id'"
   ]
  },
  {
   "cell_type": "code",
   "execution_count": 68,
   "id": "db89f687-3051-4563-978a-bdf17c577fe2",
   "metadata": {},
   "outputs": [
    {
     "data": {
      "text/html": [
       "<div>\n",
       "<style scoped>\n",
       "    .dataframe tbody tr th:only-of-type {\n",
       "        vertical-align: middle;\n",
       "    }\n",
       "\n",
       "    .dataframe tbody tr th {\n",
       "        vertical-align: top;\n",
       "    }\n",
       "\n",
       "    .dataframe thead th {\n",
       "        text-align: right;\n",
       "    }\n",
       "</style>\n",
       "<table border=\"1\" class=\"dataframe\">\n",
       "  <thead>\n",
       "    <tr style=\"text-align: right;\">\n",
       "      <th></th>\n",
       "      <th>month</th>\n",
       "      <th>subscription_type</th>\n",
       "      <th>duration</th>\n",
       "      <th>distance</th>\n",
       "      <th>number_trips</th>\n",
       "      <th>minute_price</th>\n",
       "      <th>start_ride_price</th>\n",
       "      <th>subscription_fee</th>\n",
       "      <th>revenue</th>\n",
       "    </tr>\n",
       "    <tr>\n",
       "      <th>user_id</th>\n",
       "      <th></th>\n",
       "      <th></th>\n",
       "      <th></th>\n",
       "      <th></th>\n",
       "      <th></th>\n",
       "      <th></th>\n",
       "      <th></th>\n",
       "      <th></th>\n",
       "      <th></th>\n",
       "    </tr>\n",
       "  </thead>\n",
       "  <tbody>\n",
       "    <tr>\n",
       "      <th>0</th>\n",
       "      <td>1</td>\n",
       "      <td>ultra</td>\n",
       "      <td>42</td>\n",
       "      <td>7027.5</td>\n",
       "      <td>2</td>\n",
       "      <td>6</td>\n",
       "      <td>0</td>\n",
       "      <td>199</td>\n",
       "      <td>451</td>\n",
       "    </tr>\n",
       "    <tr>\n",
       "      <th>1</th>\n",
       "      <td>4</td>\n",
       "      <td>ultra</td>\n",
       "      <td>7</td>\n",
       "      <td>754.2</td>\n",
       "      <td>1</td>\n",
       "      <td>6</td>\n",
       "      <td>0</td>\n",
       "      <td>199</td>\n",
       "      <td>241</td>\n",
       "    </tr>\n",
       "    <tr>\n",
       "      <th>2</th>\n",
       "      <td>8</td>\n",
       "      <td>ultra</td>\n",
       "      <td>46</td>\n",
       "      <td>6723.5</td>\n",
       "      <td>2</td>\n",
       "      <td>6</td>\n",
       "      <td>0</td>\n",
       "      <td>199</td>\n",
       "      <td>475</td>\n",
       "    </tr>\n",
       "    <tr>\n",
       "      <th>3</th>\n",
       "      <td>10</td>\n",
       "      <td>ultra</td>\n",
       "      <td>32</td>\n",
       "      <td>5809.9</td>\n",
       "      <td>2</td>\n",
       "      <td>6</td>\n",
       "      <td>0</td>\n",
       "      <td>199</td>\n",
       "      <td>391</td>\n",
       "    </tr>\n",
       "    <tr>\n",
       "      <th>4</th>\n",
       "      <td>11</td>\n",
       "      <td>ultra</td>\n",
       "      <td>56</td>\n",
       "      <td>7003.5</td>\n",
       "      <td>3</td>\n",
       "      <td>6</td>\n",
       "      <td>0</td>\n",
       "      <td>199</td>\n",
       "      <td>535</td>\n",
       "    </tr>\n",
       "  </tbody>\n",
       "</table>\n",
       "</div>"
      ],
      "text/plain": [
       "         month subscription_type  duration  distance  number_trips  \\\n",
       "user_id                                                              \n",
       "0            1             ultra        42    7027.5             2   \n",
       "1            4             ultra         7     754.2             1   \n",
       "2            8             ultra        46    6723.5             2   \n",
       "3           10             ultra        32    5809.9             2   \n",
       "4           11             ultra        56    7003.5             3   \n",
       "\n",
       "         minute_price  start_ride_price  subscription_fee  revenue  \n",
       "user_id                                                             \n",
       "0                   6                 0               199      451  \n",
       "1                   6                 0               199      241  \n",
       "2                   6                 0               199      475  \n",
       "3                   6                 0               199      391  \n",
       "4                   6                 0               199      535  "
      ]
     },
     "metadata": {},
     "output_type": "display_data"
    }
   ],
   "source": [
    "display(agg_data_rev.head())"
   ]
  },
  {
   "cell_type": "markdown",
   "id": "8245d8c6",
   "metadata": {},
   "source": [
    "## Месячная выручка"
   ]
  },
  {
   "cell_type": "markdown",
   "id": "89f395b6",
   "metadata": {},
   "source": [
    "<div style=\"background-color:dark; color:#black; text-align:left; padding:2%\">\n",
    "\n",
    "В этот же датафрейм добавим столбец с помесячной выручкой, которую принёс каждый пользователь.\n",
    "\n",
    "</div>"
   ]
  },
  {
   "cell_type": "code",
   "execution_count": 47,
   "id": "977142b9",
   "metadata": {},
   "outputs": [],
   "source": [
    "# добавим столбец\n",
    "agg_data_rev['revenue'] = ((agg_data_rev.start_ride_price * agg_data_rev.number_trips) + \n",
    "                           (agg_data_rev.minute_price * agg_data_rev.duration) + \n",
    "                           agg_data_rev.subscription_fee)\n",
    "\n",
    "# выручка по группам\n",
    "revenu_free = agg_data_rev.query('subscription_type == \"free\"').revenue\n",
    "revenu_ultra = agg_data_rev.query('subscription_type == \"ultra\"').revenue"
   ]
  },
  {
   "cell_type": "code",
   "execution_count": 48,
   "id": "64f9286c",
   "metadata": {},
   "outputs": [
    {
     "data": {
      "image/png": "[encoded data removed]",
      "text/plain": [
       "<Figure size 1300x300 with 1 Axes>"
      ]
     },
     "metadata": {},
     "output_type": "display_data"
    }
   ],
   "source": [
    "# визуализация выручки\n",
    "rcParams['figure.figsize'] = 13, 3\n",
    "plt.hist(revenu_free, bins=100, color='sandybrown', edgecolor='saddlebrown', alpha=.5)\n",
    "plt.hist(revenu_ultra, bins=80, color='slategray', edgecolor='darkslategray', alpha=.5)\n",
    "plt.legend(['Тип подписки free', 'Тип подписки ultra'], loc='upper center')\n",
    "plt.ylim(0, 480)\n",
    "plt.grid(axis='y', alpha=.8)\n",
    "plt.title('Выручка за месяц')\n",
    "plt.xlabel('Доход, руб')\n",
    "plt.ylabel('Количество поездок')\n",
    "plt.show()"
   ]
  },
  {
   "cell_type": "code",
   "execution_count": 49,
   "id": "67f1fd80",
   "metadata": {},
   "outputs": [
    {
     "name": "stdout",
     "output_type": "stream",
     "text": [
      "Общая без подписки 2234104\n",
      "Общая с подпиской 1644537\n",
      "Разница в процентах 35.9\n"
     ]
    }
   ],
   "source": [
    "print(f'Общая без подписки {revenu_free.sum()}')\n",
    "print(f'Общая с подпиской {revenu_ultra.sum()}')\n",
    "print(f'Разница в процентах {(((revenu_free.sum()/revenu_ultra.sum())-1)*100).round(1)}')"
   ]
  },
  {
   "cell_type": "markdown",
   "id": "51879b7b",
   "metadata": {},
   "source": [
    "## Вывод"
   ]
  },
  {
   "cell_type": "markdown",
   "id": "7c6506e0",
   "metadata": {},
   "source": [
    "<div style=\"background-color:dark; color:#black; text-align:left; padding:2%\">\n",
    "\n",
    "После агрегации и визуализации понятно, что пользователи с подпиской *free* принесли общий доход на 35.9% выше, так как их количество больше, по сравнению с подписчиками.\n",
    "\n",
    "</div>"
   ]
  },
  {
   "cell_type": "markdown",
   "id": "5a7e3340",
   "metadata": {},
   "source": [
    "# Проверка гипотез"
   ]
  },
  {
   "cell_type": "markdown",
   "id": "04f101be",
   "metadata": {},
   "source": [
    "## Гипотеза о средней продолжительности сессии "
   ]
  },
  {
   "cell_type": "markdown",
   "id": "5cee03e1",
   "metadata": {},
   "source": [
    "<div style=\"background-color:dark; color:#black; text-align:left; padding:2%\">\n",
    "\n",
    "Важно понять, тратят ли пользователи с подпиской больше времени на поездки?\n",
    "</div>"
   ]
  },
  {
   "cell_type": "code",
   "execution_count": 50,
   "id": "e0397f66",
   "metadata": {},
   "outputs": [
    {
     "name": "stdout",
     "output_type": "stream",
     "text": [
      "Среднее время на поездку без подписки: 17.9\n",
      "Среднее время на поездку подписчиков: 19.0\n"
     ]
    }
   ],
   "source": [
    "print(f'Среднее время на поездку без подписки: {user_free.duration.mean().round(1)}')\n",
    "print(f'Среднее время на поездку подписчиков: {user_ultra.duration.mean().round(1)}')"
   ]
  },
  {
   "cell_type": "markdown",
   "id": "b513cfdb",
   "metadata": {},
   "source": [
    "<div style=\"background-color:dark; color:#black; text-align:left; padding:2%\">\n",
    "\n",
    "Очевидно, что ользователи с подпиской тратят больше времени на поездки. Поэтому они «выгоднее» для компании. Допустим, разность между средними отличается от нуля, но как понять, что это отличие значимо? Проверим это утверждение с помощью статистического теста и библиотеки `scipy`. \n",
    "\n",
    "Сформулируем нулевую гипотезу так: \n",
    "- среднее значение времени на поездку пользователей с подпиской равно среднему значению времени на поездку без подписки.\n",
    "\n",
    "Альтернативная гипотеза: \n",
    "- среднее значение времени на поездку пользователей с подпиской больше, чем среднее значение времени на поездку без подписки.\n",
    "\n",
    "</div>"
   ]
  },
  {
   "cell_type": "markdown",
   "id": "cd80404f",
   "metadata": {},
   "source": [
    "<div style=\"background-color:dark; color:#black; text-align:left; padding:2%\">\n",
    "\n",
    "Чтобы проверить альтернативную гипотезу, используем метод `ttest_ind()`. В качестве `alternative` нужно указать `greater`, то есть «больше».\n",
    "\n",
    "</div>"
   ]
  },
  {
   "cell_type": "code",
   "execution_count": 52,
   "id": "000257cf",
   "metadata": {},
   "outputs": [
    {
     "name": "stdout",
     "output_type": "stream",
     "text": [
      "p-value: 1.1814679253701353e-36\n",
      "Отвергаем нулевую гипотезу\n"
     ]
    }
   ],
   "source": [
    "# задаём уровень значимости\n",
    "alpha = 0.05\n",
    "\n",
    "# проводим тест, в качестве альтернативной используем одностороннюю гипотезу «больше»\n",
    "results = st.ttest_ind(\n",
    "    user_ultra.duration, \n",
    "    user_free.duration, \n",
    "    equal_var=False, \n",
    "    alternative='greater'\n",
    ")\n",
    "\n",
    "print(f'p-value: {results.pvalue}')\n",
    "\n",
    "# проверяем p-value\n",
    "if results.pvalue < alpha:\n",
    "    print('Отвергаем нулевую гипотезу')\n",
    "else:\n",
    "    print('Нет оснований отвергнуть нулевую гипотезу')"
   ]
  },
  {
   "cell_type": "markdown",
   "id": "2a0adcfa",
   "metadata": {},
   "source": [
    "<div style=\"background-color:dark; color:#black; text-align:left; padding:2%\">\n",
    "\n",
    "С помощью теста мы отвергли нулевую гипотезу о равенстве времени поездки пользователей с подпиской и без в сторону альтернативной.\n",
    "\n",
    "</div>"
   ]
  },
  {
   "cell_type": "markdown",
   "id": "122e4043",
   "metadata": {},
   "source": [
    "## Расстояние одной поездки"
   ]
  },
  {
   "cell_type": "code",
   "execution_count": 53,
   "id": "4c1f7d2a",
   "metadata": {},
   "outputs": [
    {
     "data": {
      "text/plain": [
       "3115.4449846153843"
      ]
     },
     "execution_count": 53,
     "metadata": {},
     "output_type": "execute_result"
    }
   ],
   "source": [
    "user_ultra.distance.mean()"
   ]
  },
  {
   "cell_type": "markdown",
   "id": "c3464b99",
   "metadata": {},
   "source": [
    "<div style=\"background-color:dark; color:#black; text-align:left; padding:2%\">\n",
    "\n",
    "Среднее расстояние, которое проезжают пользователи с подпиской за одну поездку, не превышает 3130 м, это утверждение верно. Проверим гипотезу с помощью статистического теста.\n",
    "\n",
    "Сформулируем нулевую гипотезу так: \n",
    "- среднее расстояние, которое проезжают пользователи с подпиской за одну поездку равно 3130 м.\n",
    "\n",
    "Альтернативная гипотеза: \n",
    "- среднее расстояние, которое проезжают пользователи с подпиской за одну поездку больше 3130 м.\n",
    "\n",
    "</div>"
   ]
  },
  {
   "cell_type": "code",
   "execution_count": 54,
   "id": "c800de3f",
   "metadata": {},
   "outputs": [
    {
     "name": "stdout",
     "output_type": "stream",
     "text": [
      "p-value: 0.9195427368335853\n",
      "Нет оснований отвергнуть нулевую гипотезу\n"
     ]
    }
   ],
   "source": [
    "# оптимальное с точки зрения износа\n",
    "interested_value = 3130\n",
    "\n",
    "# уровень статистической значимости\n",
    "alpha = 0.05\n",
    "\n",
    "# проводим правостороннии тест, в качестве альтернативной используем одностороннюю гипотезу «больше»\n",
    "results = st.ttest_1samp(user_ultra.distance, interested_value, alternative='greater')\n",
    "\n",
    "print(f'p-value: {results.pvalue}')\n",
    "\n",
    "# проверяем p-value\n",
    "if results.pvalue < alpha:\n",
    "    print('Отвергаем нулевую гипотезу')\n",
    "else:\n",
    "    print('Нет оснований отвергнуть нулевую гипотезу')"
   ]
  },
  {
   "cell_type": "markdown",
   "id": "ba61301f",
   "metadata": {},
   "source": [
    "<div style=\"background-color:dark; color:#black; text-align:left; padding:2%\">\n",
    "\n",
    "С помощью теста мы подтвердили нулевую гипотезу\n",
    "\n",
    "</div>"
   ]
  },
  {
   "cell_type": "markdown",
   "id": "fa813a69",
   "metadata": {},
   "source": [
    "## Месячный доход по категориям"
   ]
  },
  {
   "cell_type": "markdown",
   "id": "b7948f29",
   "metadata": {},
   "source": [
    "<div style=\"background-color:dark; color:#black; text-align:left; padding:2%\">\n",
    "\n",
    "Проверим гипотезу о том, будет ли месячная выручка от пользователей с подпиской выше, чем выручка от пользователей без подписки.\n",
    "\n",
    "</div>"
   ]
  },
  {
   "cell_type": "code",
   "execution_count": 56,
   "id": "8313ea61",
   "metadata": {
    "scrolled": true
   },
   "outputs": [
    {
     "name": "stdout",
     "output_type": "stream",
     "text": [
      "Средний месячный доход без подписки: 328.6413651073845\n",
      "Средний месячный доход подписчиков: 362.7921906022502\n"
     ]
    }
   ],
   "source": [
    "print(f'Средний месячный доход без подписки: {revenu_free.mean()}')\n",
    "print(f'Средний месячный доход подписчиков: {revenu_ultra.mean()}')"
   ]
  },
  {
   "cell_type": "markdown",
   "id": "c2c46c36",
   "metadata": {},
   "source": [
    "<div style=\"background-color:dark; color:#black; text-align:left; padding:2%\">\n",
    "\n",
    "Очевидно, что пользователи с подпиской приносят больший доход от поездок в месяц. Проверим это утверждение с помощью статистического теста. \n",
    "\n",
    "Сформулируем нулевую гипотезу так: \n",
    "- средняя выручка от пользователей с подпиской равна, выручке от пользователей без подписки.\n",
    "\n",
    "Альтернативная гипотеза: \n",
    "- средняя выручка от пользователей с подпиской выше, чем выручка от пользователей без подписки.\n",
    "\n",
    "</div>"
   ]
  },
  {
   "cell_type": "code",
   "execution_count": 57,
   "id": "36f07413",
   "metadata": {},
   "outputs": [
    {
     "name": "stdout",
     "output_type": "stream",
     "text": [
      "p-value: 8.874140893976874e-40\n",
      "Отвергаем нулевую гипотезу\n"
     ]
    }
   ],
   "source": [
    "# задаём уровень значимости\n",
    "alpha = 0.05\n",
    "\n",
    "# проводим тест, в качестве альтернативной используем одностороннюю гипотезу «больше»\n",
    "results = st.ttest_ind(revenu_ultra, revenu_free, equal_var=False, alternative='greater')\n",
    "\n",
    "print(f'p-value: {results.pvalue}')\n",
    "\n",
    "# проверяем p-value\n",
    "if results.pvalue < alpha:\n",
    "    print('Отвергаем нулевую гипотезу')\n",
    "else:\n",
    "    print('Нет оснований отвергнуть нулевую гипотезу')"
   ]
  },
  {
   "cell_type": "markdown",
   "id": "8f293f56",
   "metadata": {},
   "source": [
    "<div style=\"background-color:dark; color:#black; text-align:left; padding:2%\">\n",
    "\n",
    "С помощью теста мы отвергли нулевую гипотезу о равенстве выручки от пользователей с подпиской и без, в сторону альтернативно гипотезы.\n",
    "\n",
    "</div>"
   ]
  },
  {
   "cell_type": "markdown",
   "id": "a9a25b44",
   "metadata": {},
   "source": [
    "## Вывод"
   ]
  },
  {
   "cell_type": "markdown",
   "id": "73b3a868",
   "metadata": {},
   "source": [
    "<div style=\"background-color:dark; color:#black; text-align:left; padding:2%\">\n",
    "\n",
    "После проверки гипотез ясно следующее:\n",
    "\n",
    "- отвергли нулевую гипотезу о равенстве времени поездки пользователей с подпиской и без. Тем самым подтвердили, что среднее значение времени на поездку пользователей с подпиской больше, чем среднее значение времени на поездку без подписки;\n",
    "- подтвердили оптимальное расстояние поездки для износа самоката - 3130 м;\n",
    "- отвергли нулевую гипотезу о равенстве выручки от пользователей с подпиской и без, тем самым подтвердили, что средняя выручка от пользователей с подпиской выше, чем выручка от пользователей без подписки в месяц.\n",
    "\n",
    "</div>"
   ]
  },
  {
   "cell_type": "markdown",
   "id": "6cc278ff",
   "metadata": {},
   "source": [
    "# Общий вывод"
   ]
  },
  {
   "cell_type": "markdown",
   "id": "b949ffe8",
   "metadata": {},
   "source": [
    "<div style=\"background-color:dark; color:#black; text-align:left; padding:2%\">\n",
    "\n",
    "В данном исследовании мы провели предобработку данных, проанализировали информацию о пользователях сервиса проката самокатов и проверили некоторые гипотезы, которые могут помочь бизнесу вырасти.\n",
    "\n",
    "После изучения общей информации о данных ясно следующее:\n",
    "\n",
    "- в столбце *distance, duration* значения округлили до одной десятой;\n",
    "- данные в столбце *subscription_type* предствленны в виде `object`, преобразовали их в категориальный тип `category`;\n",
    "- в столбце *date* данные представлены в виде `object`, изменили в формат даты;\n",
    "- количество записей в столбцах датафреймов совпадате, пропуски отсутствуют.\n",
    "\n",
    "На этапе предобработки данных исправили следующие моменты:\n",
    "\n",
    "- в столбце *distance, duration* округлили значения до одной десятой;\n",
    "- данные в столбце *subscription_type* преобразовали в категориальный тип `category`;\n",
    "- в столбце *date* данные изменили в формат даты;\n",
    "- проверили колонку *date* и убедились, что информация представленна за один год;\n",
    "- исправили 62 дупликата в солбце *iser_id*;\n",
    "- в столбце *distance, duration* округлили значения до одной десятой.\n",
    "\n",
    "После проведения исследовательского анализа данных выяснили следующие моменты:\n",
    "\n",
    "- по разбросу и частоте встречаемости городов следующая статистика лидеров: Пятигорск занимает первое место - 226 раз, Екатеринбург второе - 206 раз, Ростов-на-Дону третье - 202 раза. Худший показатель в Москве - 172 раз;\n",
    "- по процентному соотношению пользователией с подпиской *free* небольшой перевес - 54.1%, против подписки *ultra* 45.9%;\n",
    "- аренда самокатов популярна у людей в возрасте 25 лет, минимальный возраст - 12 лет, максимальный - 43 года;\n",
    "- минимальное растояние поездки составляет - 2.6 м, среднее рассnояние 3060 м, максимальное - 7066 м;\n",
    "- продолжительность поездки, минимальная - 2 мин, средняя - 18 мин, максимальная - 41 мин.\n",
    "\n",
    "При бъединении данных о пользователях пропуски отсутствуют и количество строк в новом датафрейме совпадает с исходным. Также после объединения данных и визуализации понятно, что пользователи с подпиской *free* ездят дальше и дольше.\n",
    "\n",
    "После агрегации и визуализации понятно, что пользователи с подпиской *free* принесли доход на 35.9% выше, так как их количество больше, по сравнению с подписчиками.\n",
    "\n",
    "После проверки гипотез понятно следующее:\n",
    "\n",
    "- отвергли нулевую гипотезу о равенстве времени поездки пользователей с подпиской и без. Тем самым подтвердили, что среднее значение времени на поездку пользователей с подпиской больше, чем среднее значение времени на поездку без подписки;\n",
    "- подтвердили оптимальное расстояние поездки для износа самоката - 3130 м;\n",
    "- отвергли нулевую гипотезу о равенстве выручки от пользователей с подпиской и без, тем самым подтвердили, что средняя выручка от пользователей с подпиской выше, чем выручка от пользователей без подписки в месяц.\n",
    "\n",
    "</div>"
   ]
  },
  {
   "cell_type": "code",
   "execution_count": 58,
   "id": "108f763a",
   "metadata": {},
   "outputs": [
    {
     "name": "stdout",
     "output_type": "stream",
     "text": [
      "Средняя выручка в месяц без подписки 328.6413651073845\n",
      "Средняя выручка в месяц с подпиской 362.7921906022502\n",
      "Разница в процентах 10.4\n"
     ]
    }
   ],
   "source": [
    "print(f'Средняя выручка в месяц без подписки {revenu_free.mean()}')\n",
    "print(f'Средняя выручка в месяц с подпиской {revenu_ultra.mean()}')\n",
    "print(f'Разница в процентах {(((revenu_ultra.mean()/revenu_free.mean())-1)*100).round(1)}')"
   ]
  },
  {
   "cell_type": "code",
   "execution_count": null,
   "id": "37b391d9",
   "metadata": {},
   "outputs": [],
   "source": []
  }
 ],
 "metadata": {
  "ExecuteTimeLog": [
   {
    "duration": 2115,
    "start_time": "2024-08-30T09:37:55.749Z"
   },
   {
    "duration": 273,
    "start_time": "2024-08-30T09:37:57.866Z"
   },
   {
    "duration": 17,
    "start_time": "2024-08-30T09:37:58.141Z"
   },
   {
    "duration": 28,
    "start_time": "2024-08-30T09:37:58.160Z"
   },
   {
    "duration": 560,
    "start_time": "2024-08-30T09:37:58.190Z"
   },
   {
    "duration": 5,
    "start_time": "2024-08-30T09:37:58.752Z"
   },
   {
    "duration": 10,
    "start_time": "2024-08-30T09:37:58.759Z"
   },
   {
    "duration": 13,
    "start_time": "2024-08-30T09:37:58.770Z"
   },
   {
    "duration": 26,
    "start_time": "2024-08-30T09:37:58.785Z"
   },
   {
    "duration": 8,
    "start_time": "2024-08-30T09:37:58.814Z"
   },
   {
    "duration": 10,
    "start_time": "2024-08-30T09:37:58.824Z"
   },
   {
    "duration": 18,
    "start_time": "2024-08-30T09:37:58.835Z"
   },
   {
    "duration": 17,
    "start_time": "2024-08-30T09:37:58.855Z"
   },
   {
    "duration": 103,
    "start_time": "2024-08-30T09:37:58.874Z"
   },
   {
    "duration": 13,
    "start_time": "2024-08-30T09:37:58.979Z"
   },
   {
    "duration": 16,
    "start_time": "2024-08-30T09:37:58.994Z"
   },
   {
    "duration": 4,
    "start_time": "2024-08-30T09:37:59.011Z"
   },
   {
    "duration": 20,
    "start_time": "2024-08-30T09:37:59.017Z"
   },
   {
    "duration": 205,
    "start_time": "2024-08-30T09:37:59.039Z"
   },
   {
    "duration": 20,
    "start_time": "2024-08-30T09:37:59.246Z"
   },
   {
    "duration": 135,
    "start_time": "2024-08-30T09:37:59.267Z"
   },
   {
    "duration": 254,
    "start_time": "2024-08-30T09:37:59.404Z"
   },
   {
    "duration": 267,
    "start_time": "2024-08-30T09:37:59.659Z"
   },
   {
    "duration": 269,
    "start_time": "2024-08-30T09:37:59.928Z"
   },
   {
    "duration": 10,
    "start_time": "2024-08-30T09:38:00.199Z"
   },
   {
    "duration": 13,
    "start_time": "2024-08-30T09:38:00.211Z"
   },
   {
    "duration": 29,
    "start_time": "2024-08-30T09:38:00.226Z"
   },
   {
    "duration": 418,
    "start_time": "2024-08-30T09:38:00.258Z"
   },
   {
    "duration": 303,
    "start_time": "2024-08-30T09:38:00.678Z"
   },
   {
    "duration": 31,
    "start_time": "2024-08-30T09:38:00.983Z"
   },
   {
    "duration": 17,
    "start_time": "2024-08-30T09:38:01.015Z"
   },
   {
    "duration": 4,
    "start_time": "2024-08-30T09:38:01.033Z"
   },
   {
    "duration": 115,
    "start_time": "2024-08-30T09:38:01.038Z"
   },
   {
    "duration": 482,
    "start_time": "2024-08-30T09:38:01.154Z"
   },
   {
    "duration": 7,
    "start_time": "2024-08-30T09:38:01.638Z"
   },
   {
    "duration": 12,
    "start_time": "2024-08-30T09:38:01.646Z"
   },
   {
    "duration": 23,
    "start_time": "2024-08-30T09:38:01.660Z"
   },
   {
    "duration": 8,
    "start_time": "2024-08-30T09:38:01.685Z"
   },
   {
    "duration": 20,
    "start_time": "2024-08-30T09:38:01.698Z"
   },
   {
    "duration": 10,
    "start_time": "2024-08-30T09:38:01.720Z"
   },
   {
    "duration": 6,
    "start_time": "2024-08-30T09:38:01.732Z"
   },
   {
    "duration": 7,
    "start_time": "2024-08-30T09:38:01.740Z"
   },
   {
    "duration": 17,
    "start_time": "2024-08-30T09:45:02.778Z"
   },
   {
    "duration": 15,
    "start_time": "2024-08-30T09:45:31.369Z"
   },
   {
    "duration": 177,
    "start_time": "2024-08-30T09:51:10.490Z"
   },
   {
    "duration": 15,
    "start_time": "2024-08-30T09:54:41.855Z"
   },
   {
    "duration": 124,
    "start_time": "2024-08-30T09:55:05.712Z"
   },
   {
    "duration": 9,
    "start_time": "2024-08-30T09:55:08.889Z"
   },
   {
    "duration": 4,
    "start_time": "2024-08-30T09:58:55.955Z"
   },
   {
    "duration": 1878,
    "start_time": "2024-08-30T10:03:36.367Z"
   },
   {
    "duration": 222,
    "start_time": "2024-08-30T10:03:38.247Z"
   },
   {
    "duration": 17,
    "start_time": "2024-08-30T10:03:38.470Z"
   },
   {
    "duration": 26,
    "start_time": "2024-08-30T10:03:38.489Z"
   },
   {
    "duration": 562,
    "start_time": "2024-08-30T10:03:38.517Z"
   },
   {
    "duration": 4,
    "start_time": "2024-08-30T10:03:39.081Z"
   },
   {
    "duration": 14,
    "start_time": "2024-08-30T10:03:39.087Z"
   },
   {
    "duration": 11,
    "start_time": "2024-08-30T10:03:39.102Z"
   },
   {
    "duration": 7,
    "start_time": "2024-08-30T10:03:39.115Z"
   },
   {
    "duration": 6,
    "start_time": "2024-08-30T10:03:39.124Z"
   },
   {
    "duration": 20,
    "start_time": "2024-08-30T10:03:39.131Z"
   },
   {
    "duration": 20,
    "start_time": "2024-08-30T10:03:39.152Z"
   },
   {
    "duration": 35,
    "start_time": "2024-08-30T10:03:39.174Z"
   },
   {
    "duration": 18,
    "start_time": "2024-08-30T10:03:39.210Z"
   },
   {
    "duration": 95,
    "start_time": "2024-08-30T10:03:39.230Z"
   },
   {
    "duration": 14,
    "start_time": "2024-08-30T10:03:39.326Z"
   },
   {
    "duration": 26,
    "start_time": "2024-08-30T10:03:39.342Z"
   },
   {
    "duration": 4,
    "start_time": "2024-08-30T10:03:39.370Z"
   },
   {
    "duration": 33,
    "start_time": "2024-08-30T10:03:39.375Z"
   },
   {
    "duration": 183,
    "start_time": "2024-08-30T10:03:39.409Z"
   },
   {
    "duration": 18,
    "start_time": "2024-08-30T10:03:39.597Z"
   },
   {
    "duration": 137,
    "start_time": "2024-08-30T10:03:39.617Z"
   },
   {
    "duration": 270,
    "start_time": "2024-08-30T10:03:39.756Z"
   },
   {
    "duration": 281,
    "start_time": "2024-08-30T10:03:40.027Z"
   },
   {
    "duration": 278,
    "start_time": "2024-08-30T10:03:40.309Z"
   },
   {
    "duration": 16,
    "start_time": "2024-08-30T10:03:40.588Z"
   },
   {
    "duration": 12,
    "start_time": "2024-08-30T10:03:40.605Z"
   },
   {
    "duration": 16,
    "start_time": "2024-08-30T10:03:40.621Z"
   },
   {
    "duration": 447,
    "start_time": "2024-08-30T10:03:40.639Z"
   },
   {
    "duration": 324,
    "start_time": "2024-08-30T10:03:41.087Z"
   },
   {
    "duration": 19,
    "start_time": "2024-08-30T10:03:41.412Z"
   },
   {
    "duration": 17,
    "start_time": "2024-08-30T10:03:41.432Z"
   },
   {
    "duration": 3,
    "start_time": "2024-08-30T10:03:41.451Z"
   },
   {
    "duration": 163,
    "start_time": "2024-08-30T10:03:41.456Z"
   },
   {
    "duration": 551,
    "start_time": "2024-08-30T10:03:41.621Z"
   },
   {
    "duration": 6,
    "start_time": "2024-08-30T10:03:42.174Z"
   },
   {
    "duration": 40,
    "start_time": "2024-08-30T10:03:42.181Z"
   },
   {
    "duration": 20,
    "start_time": "2024-08-30T10:03:42.222Z"
   },
   {
    "duration": 6,
    "start_time": "2024-08-30T10:03:42.243Z"
   },
   {
    "duration": 12,
    "start_time": "2024-08-30T10:03:42.251Z"
   },
   {
    "duration": 6,
    "start_time": "2024-08-30T10:03:42.265Z"
   },
   {
    "duration": 27,
    "start_time": "2024-08-30T10:03:42.272Z"
   },
   {
    "duration": 8,
    "start_time": "2024-08-30T10:03:42.301Z"
   },
   {
    "duration": 1807,
    "start_time": "2024-08-31T06:14:19.508Z"
   },
   {
    "duration": 243,
    "start_time": "2024-08-31T06:14:21.317Z"
   },
   {
    "duration": 20,
    "start_time": "2024-08-31T06:14:21.561Z"
   },
   {
    "duration": 10,
    "start_time": "2024-08-31T06:14:21.583Z"
   },
   {
    "duration": 13,
    "start_time": "2024-08-31T06:14:21.595Z"
   },
   {
    "duration": 11,
    "start_time": "2024-08-31T06:14:21.610Z"
   },
   {
    "duration": 5,
    "start_time": "2024-08-31T06:14:21.623Z"
   },
   {
    "duration": 4,
    "start_time": "2024-08-31T06:14:21.629Z"
   },
   {
    "duration": 12,
    "start_time": "2024-08-31T06:14:21.634Z"
   },
   {
    "duration": 5,
    "start_time": "2024-08-31T06:14:21.648Z"
   },
   {
    "duration": 3,
    "start_time": "2024-08-31T06:14:21.654Z"
   },
   {
    "duration": 10,
    "start_time": "2024-08-31T06:14:21.658Z"
   },
   {
    "duration": 16,
    "start_time": "2024-08-31T06:14:21.669Z"
   },
   {
    "duration": 41,
    "start_time": "2024-08-31T06:14:21.687Z"
   },
   {
    "duration": 5,
    "start_time": "2024-08-31T06:14:21.730Z"
   },
   {
    "duration": 6,
    "start_time": "2024-08-31T06:14:21.736Z"
   },
   {
    "duration": 44,
    "start_time": "2024-08-31T06:14:21.744Z"
   },
   {
    "duration": 3,
    "start_time": "2024-08-31T06:14:21.789Z"
   },
   {
    "duration": 3,
    "start_time": "2024-08-31T06:14:21.793Z"
   },
   {
    "duration": 28,
    "start_time": "2024-08-31T06:14:21.797Z"
   },
   {
    "duration": 29,
    "start_time": "2024-08-31T06:14:21.827Z"
   },
   {
    "duration": 139,
    "start_time": "2024-08-31T06:14:21.857Z"
   },
   {
    "duration": 16,
    "start_time": "2024-08-31T06:14:21.998Z"
   },
   {
    "duration": 100,
    "start_time": "2024-08-31T06:14:22.015Z"
   },
   {
    "duration": 76,
    "start_time": "2024-08-31T06:14:22.117Z"
   },
   {
    "duration": 166,
    "start_time": "2024-08-31T06:14:22.194Z"
   },
   {
    "duration": 303,
    "start_time": "2024-08-31T06:14:22.361Z"
   },
   {
    "duration": 231,
    "start_time": "2024-08-31T06:14:22.667Z"
   },
   {
    "duration": 15,
    "start_time": "2024-08-31T06:14:22.899Z"
   },
   {
    "duration": 25,
    "start_time": "2024-08-31T06:14:22.915Z"
   },
   {
    "duration": 3,
    "start_time": "2024-08-31T06:14:22.941Z"
   },
   {
    "duration": 9,
    "start_time": "2024-08-31T06:14:22.945Z"
   },
   {
    "duration": 5,
    "start_time": "2024-08-31T06:14:22.955Z"
   },
   {
    "duration": 399,
    "start_time": "2024-08-31T06:14:22.961Z"
   },
   {
    "duration": 258,
    "start_time": "2024-08-31T06:14:23.362Z"
   },
   {
    "duration": 18,
    "start_time": "2024-08-31T06:14:23.621Z"
   },
   {
    "duration": 16,
    "start_time": "2024-08-31T06:14:23.640Z"
   },
   {
    "duration": 2,
    "start_time": "2024-08-31T06:14:23.658Z"
   },
   {
    "duration": 107,
    "start_time": "2024-08-31T06:14:23.662Z"
   },
   {
    "duration": 734,
    "start_time": "2024-08-31T06:14:23.770Z"
   },
   {
    "duration": 326,
    "start_time": "2024-08-31T06:14:24.505Z"
   },
   {
    "duration": 4,
    "start_time": "2024-08-31T06:14:24.833Z"
   },
   {
    "duration": 5,
    "start_time": "2024-08-31T06:14:24.839Z"
   },
   {
    "duration": 6,
    "start_time": "2024-08-31T06:14:24.846Z"
   },
   {
    "duration": 4,
    "start_time": "2024-08-31T06:14:24.854Z"
   },
   {
    "duration": 4,
    "start_time": "2024-08-31T06:14:24.860Z"
   },
   {
    "duration": 4,
    "start_time": "2024-08-31T06:14:24.865Z"
   },
   {
    "duration": 4,
    "start_time": "2024-08-31T06:14:24.871Z"
   },
   {
    "duration": 5,
    "start_time": "2024-08-31T06:14:24.876Z"
   },
   {
    "duration": 5,
    "start_time": "2024-08-31T06:14:24.925Z"
   },
   {
    "duration": 249,
    "start_time": "2024-08-31T06:20:54.994Z"
   },
   {
    "duration": 123,
    "start_time": "2024-08-31T06:21:01.232Z"
   },
   {
    "duration": 4,
    "start_time": "2024-08-31T06:22:21.877Z"
   },
   {
    "duration": 4,
    "start_time": "2024-08-31T06:22:25.483Z"
   },
   {
    "duration": 732,
    "start_time": "2024-08-31T06:24:53.181Z"
   },
   {
    "duration": 18,
    "start_time": "2024-08-31T06:28:53.593Z"
   },
   {
    "duration": 17,
    "start_time": "2024-08-31T06:28:58.311Z"
   },
   {
    "duration": 1746,
    "start_time": "2024-08-31T06:36:58.567Z"
   },
   {
    "duration": 186,
    "start_time": "2024-08-31T06:37:00.315Z"
   },
   {
    "duration": 20,
    "start_time": "2024-08-31T06:37:00.502Z"
   },
   {
    "duration": 11,
    "start_time": "2024-08-31T06:37:00.523Z"
   },
   {
    "duration": 21,
    "start_time": "2024-08-31T06:37:00.535Z"
   },
   {
    "duration": 9,
    "start_time": "2024-08-31T06:37:00.558Z"
   },
   {
    "duration": 12,
    "start_time": "2024-08-31T06:37:00.569Z"
   },
   {
    "duration": 4,
    "start_time": "2024-08-31T06:37:00.583Z"
   },
   {
    "duration": 19,
    "start_time": "2024-08-31T06:37:00.588Z"
   },
   {
    "duration": 7,
    "start_time": "2024-08-31T06:37:00.610Z"
   },
   {
    "duration": 19,
    "start_time": "2024-08-31T06:37:00.619Z"
   },
   {
    "duration": 27,
    "start_time": "2024-08-31T06:37:00.639Z"
   },
   {
    "duration": 21,
    "start_time": "2024-08-31T06:37:00.667Z"
   },
   {
    "duration": 12,
    "start_time": "2024-08-31T06:37:00.689Z"
   },
   {
    "duration": 14,
    "start_time": "2024-08-31T06:37:00.702Z"
   },
   {
    "duration": 11,
    "start_time": "2024-08-31T06:37:00.717Z"
   },
   {
    "duration": 46,
    "start_time": "2024-08-31T06:37:00.729Z"
   },
   {
    "duration": 2,
    "start_time": "2024-08-31T06:37:00.776Z"
   },
   {
    "duration": 5,
    "start_time": "2024-08-31T06:37:00.779Z"
   },
   {
    "duration": 3,
    "start_time": "2024-08-31T06:37:00.785Z"
   },
   {
    "duration": 6,
    "start_time": "2024-08-31T06:37:00.789Z"
   },
   {
    "duration": 156,
    "start_time": "2024-08-31T06:37:00.796Z"
   },
   {
    "duration": 131,
    "start_time": "2024-08-31T06:37:00.953Z"
   },
   {
    "duration": 16,
    "start_time": "2024-08-31T06:37:01.086Z"
   },
   {
    "duration": 110,
    "start_time": "2024-08-31T06:37:01.104Z"
   },
   {
    "duration": 72,
    "start_time": "2024-08-31T06:37:01.215Z"
   },
   {
    "duration": 156,
    "start_time": "2024-08-31T06:37:01.288Z"
   },
   {
    "duration": 293,
    "start_time": "2024-08-31T06:37:01.447Z"
   },
   {
    "duration": 237,
    "start_time": "2024-08-31T06:37:01.741Z"
   },
   {
    "duration": 14,
    "start_time": "2024-08-31T06:37:01.979Z"
   },
   {
    "duration": 7,
    "start_time": "2024-08-31T06:37:01.994Z"
   },
   {
    "duration": 24,
    "start_time": "2024-08-31T06:37:02.003Z"
   },
   {
    "duration": 15,
    "start_time": "2024-08-31T06:37:02.029Z"
   },
   {
    "duration": 5,
    "start_time": "2024-08-31T06:37:02.046Z"
   },
   {
    "duration": 343,
    "start_time": "2024-08-31T06:37:02.052Z"
   },
   {
    "duration": 271,
    "start_time": "2024-08-31T06:37:02.396Z"
   },
   {
    "duration": 16,
    "start_time": "2024-08-31T06:37:02.668Z"
   },
   {
    "duration": 13,
    "start_time": "2024-08-31T06:37:02.686Z"
   },
   {
    "duration": 3,
    "start_time": "2024-08-31T06:37:02.700Z"
   },
   {
    "duration": 125,
    "start_time": "2024-08-31T06:37:02.704Z"
   },
   {
    "duration": 701,
    "start_time": "2024-08-31T06:37:02.830Z"
   },
   {
    "duration": 726,
    "start_time": "2024-08-31T06:37:03.533Z"
   },
   {
    "duration": 414,
    "start_time": "2024-08-31T06:37:04.261Z"
   },
   {
    "duration": 4,
    "start_time": "2024-08-31T06:37:04.677Z"
   },
   {
    "duration": 7,
    "start_time": "2024-08-31T06:37:04.683Z"
   },
   {
    "duration": 6,
    "start_time": "2024-08-31T06:37:04.692Z"
   },
   {
    "duration": 5,
    "start_time": "2024-08-31T06:37:04.699Z"
   },
   {
    "duration": 22,
    "start_time": "2024-08-31T06:37:04.705Z"
   },
   {
    "duration": 5,
    "start_time": "2024-08-31T06:37:04.728Z"
   },
   {
    "duration": 8,
    "start_time": "2024-08-31T06:37:04.734Z"
   },
   {
    "duration": 5,
    "start_time": "2024-08-31T06:37:04.743Z"
   },
   {
    "duration": 4,
    "start_time": "2024-08-31T06:37:04.749Z"
   },
   {
    "duration": 1715,
    "start_time": "2024-08-31T13:51:31.490Z"
   },
   {
    "duration": 224,
    "start_time": "2024-08-31T13:51:33.207Z"
   },
   {
    "duration": 20,
    "start_time": "2024-08-31T13:51:33.433Z"
   },
   {
    "duration": 15,
    "start_time": "2024-08-31T13:51:33.454Z"
   },
   {
    "duration": 26,
    "start_time": "2024-08-31T13:51:33.471Z"
   },
   {
    "duration": 13,
    "start_time": "2024-08-31T13:51:33.498Z"
   },
   {
    "duration": 14,
    "start_time": "2024-08-31T13:51:33.513Z"
   },
   {
    "duration": 10,
    "start_time": "2024-08-31T13:51:33.529Z"
   },
   {
    "duration": 13,
    "start_time": "2024-08-31T13:51:33.541Z"
   },
   {
    "duration": 7,
    "start_time": "2024-08-31T13:51:33.557Z"
   },
   {
    "duration": 6,
    "start_time": "2024-08-31T13:51:33.566Z"
   },
   {
    "duration": 16,
    "start_time": "2024-08-31T13:51:33.573Z"
   },
   {
    "duration": 17,
    "start_time": "2024-08-31T13:51:33.590Z"
   },
   {
    "duration": 14,
    "start_time": "2024-08-31T13:51:33.609Z"
   },
   {
    "duration": 13,
    "start_time": "2024-08-31T13:51:33.625Z"
   },
   {
    "duration": 7,
    "start_time": "2024-08-31T13:51:33.640Z"
   },
   {
    "duration": 7,
    "start_time": "2024-08-31T13:51:33.649Z"
   },
   {
    "duration": 71,
    "start_time": "2024-08-31T13:51:33.657Z"
   },
   {
    "duration": 2,
    "start_time": "2024-08-31T13:51:33.729Z"
   },
   {
    "duration": 4,
    "start_time": "2024-08-31T13:51:33.732Z"
   },
   {
    "duration": 4,
    "start_time": "2024-08-31T13:51:33.737Z"
   },
   {
    "duration": 6,
    "start_time": "2024-08-31T13:51:33.742Z"
   },
   {
    "duration": 145,
    "start_time": "2024-08-31T13:51:33.749Z"
   },
   {
    "duration": 129,
    "start_time": "2024-08-31T13:51:33.896Z"
   },
   {
    "duration": 18,
    "start_time": "2024-08-31T13:51:34.027Z"
   },
   {
    "duration": 114,
    "start_time": "2024-08-31T13:51:34.046Z"
   },
   {
    "duration": 71,
    "start_time": "2024-08-31T13:51:34.162Z"
   },
   {
    "duration": 153,
    "start_time": "2024-08-31T13:51:34.236Z"
   },
   {
    "duration": 283,
    "start_time": "2024-08-31T13:51:34.391Z"
   },
   {
    "duration": 234,
    "start_time": "2024-08-31T13:51:34.675Z"
   },
   {
    "duration": 14,
    "start_time": "2024-08-31T13:51:34.910Z"
   },
   {
    "duration": 7,
    "start_time": "2024-08-31T13:51:34.925Z"
   },
   {
    "duration": 3,
    "start_time": "2024-08-31T13:51:34.933Z"
   },
   {
    "duration": 8,
    "start_time": "2024-08-31T13:51:34.937Z"
   },
   {
    "duration": 5,
    "start_time": "2024-08-31T13:51:34.946Z"
   },
   {
    "duration": 383,
    "start_time": "2024-08-31T13:51:34.952Z"
   },
   {
    "duration": 268,
    "start_time": "2024-08-31T13:51:35.337Z"
   },
   {
    "duration": 3,
    "start_time": "2024-08-31T13:51:35.606Z"
   },
   {
    "duration": 5,
    "start_time": "2024-08-31T13:51:35.611Z"
   },
   {
    "duration": 743,
    "start_time": "2024-08-31T13:51:35.617Z"
   },
   {
    "duration": 2,
    "start_time": "2024-08-31T13:51:36.362Z"
   },
   {
    "duration": 32,
    "start_time": "2024-08-31T13:51:36.365Z"
   },
   {
    "duration": 758,
    "start_time": "2024-08-31T13:51:36.398Z"
   },
   {
    "duration": 3,
    "start_time": "2024-08-31T13:51:37.158Z"
   },
   {
    "duration": 18,
    "start_time": "2024-08-31T13:51:37.162Z"
   },
   {
    "duration": 425,
    "start_time": "2024-08-31T13:51:37.189Z"
   },
   {
    "duration": 4,
    "start_time": "2024-08-31T13:51:37.616Z"
   },
   {
    "duration": 9,
    "start_time": "2024-08-31T13:51:37.621Z"
   },
   {
    "duration": 3,
    "start_time": "2024-08-31T13:51:37.631Z"
   },
   {
    "duration": 6,
    "start_time": "2024-08-31T13:51:37.635Z"
   },
   {
    "duration": 4,
    "start_time": "2024-08-31T13:51:37.643Z"
   },
   {
    "duration": 7,
    "start_time": "2024-08-31T13:51:37.648Z"
   },
   {
    "duration": 125,
    "start_time": "2024-08-31T13:51:37.657Z"
   },
   {
    "duration": 0,
    "start_time": "2024-08-31T13:51:37.784Z"
   },
   {
    "duration": 0,
    "start_time": "2024-08-31T13:51:37.789Z"
   },
   {
    "duration": 754,
    "start_time": "2024-08-31T14:00:28.649Z"
   },
   {
    "duration": 9,
    "start_time": "2024-08-31T14:03:19.528Z"
   },
   {
    "duration": 1730,
    "start_time": "2024-08-31T14:03:57.689Z"
   },
   {
    "duration": 173,
    "start_time": "2024-08-31T14:03:59.421Z"
   },
   {
    "duration": 22,
    "start_time": "2024-08-31T14:03:59.596Z"
   },
   {
    "duration": 9,
    "start_time": "2024-08-31T14:03:59.619Z"
   },
   {
    "duration": 10,
    "start_time": "2024-08-31T14:03:59.629Z"
   },
   {
    "duration": 8,
    "start_time": "2024-08-31T14:03:59.640Z"
   },
   {
    "duration": 5,
    "start_time": "2024-08-31T14:03:59.649Z"
   },
   {
    "duration": 9,
    "start_time": "2024-08-31T14:03:59.655Z"
   },
   {
    "duration": 6,
    "start_time": "2024-08-31T14:03:59.690Z"
   },
   {
    "duration": 7,
    "start_time": "2024-08-31T14:03:59.698Z"
   },
   {
    "duration": 5,
    "start_time": "2024-08-31T14:03:59.706Z"
   },
   {
    "duration": 2,
    "start_time": "2024-08-31T14:03:59.713Z"
   },
   {
    "duration": 8,
    "start_time": "2024-08-31T14:03:59.716Z"
   },
   {
    "duration": 14,
    "start_time": "2024-08-31T14:03:59.725Z"
   },
   {
    "duration": 13,
    "start_time": "2024-08-31T14:03:59.740Z"
   },
   {
    "duration": 39,
    "start_time": "2024-08-31T14:03:59.754Z"
   },
   {
    "duration": 6,
    "start_time": "2024-08-31T14:03:59.795Z"
   },
   {
    "duration": 46,
    "start_time": "2024-08-31T14:03:59.802Z"
   },
   {
    "duration": 2,
    "start_time": "2024-08-31T14:03:59.850Z"
   },
   {
    "duration": 4,
    "start_time": "2024-08-31T14:03:59.853Z"
   },
   {
    "duration": 4,
    "start_time": "2024-08-31T14:03:59.858Z"
   },
   {
    "duration": 28,
    "start_time": "2024-08-31T14:03:59.863Z"
   },
   {
    "duration": 137,
    "start_time": "2024-08-31T14:03:59.893Z"
   },
   {
    "duration": 133,
    "start_time": "2024-08-31T14:04:00.032Z"
   },
   {
    "duration": 25,
    "start_time": "2024-08-31T14:04:00.167Z"
   },
   {
    "duration": 157,
    "start_time": "2024-08-31T14:04:00.193Z"
   },
   {
    "duration": 74,
    "start_time": "2024-08-31T14:04:00.351Z"
   },
   {
    "duration": 151,
    "start_time": "2024-08-31T14:04:00.428Z"
   },
   {
    "duration": 305,
    "start_time": "2024-08-31T14:04:00.589Z"
   },
   {
    "duration": 245,
    "start_time": "2024-08-31T14:04:00.896Z"
   },
   {
    "duration": 14,
    "start_time": "2024-08-31T14:04:01.143Z"
   },
   {
    "duration": 7,
    "start_time": "2024-08-31T14:04:01.159Z"
   },
   {
    "duration": 23,
    "start_time": "2024-08-31T14:04:01.167Z"
   },
   {
    "duration": 27,
    "start_time": "2024-08-31T14:04:01.192Z"
   },
   {
    "duration": 31,
    "start_time": "2024-08-31T14:04:01.220Z"
   },
   {
    "duration": 362,
    "start_time": "2024-08-31T14:04:01.252Z"
   },
   {
    "duration": 276,
    "start_time": "2024-08-31T14:04:01.615Z"
   },
   {
    "duration": 3,
    "start_time": "2024-08-31T14:04:01.893Z"
   },
   {
    "duration": 33,
    "start_time": "2024-08-31T14:04:01.897Z"
   },
   {
    "duration": 768,
    "start_time": "2024-08-31T14:04:01.931Z"
   },
   {
    "duration": 1,
    "start_time": "2024-08-31T14:04:02.701Z"
   },
   {
    "duration": 29,
    "start_time": "2024-08-31T14:04:02.704Z"
   },
   {
    "duration": 765,
    "start_time": "2024-08-31T14:04:02.735Z"
   },
   {
    "duration": 746,
    "start_time": "2024-08-31T14:04:03.501Z"
   },
   {
    "duration": 2,
    "start_time": "2024-08-31T14:04:04.248Z"
   },
   {
    "duration": 37,
    "start_time": "2024-08-31T14:04:04.252Z"
   },
   {
    "duration": 406,
    "start_time": "2024-08-31T14:04:04.290Z"
   },
   {
    "duration": 4,
    "start_time": "2024-08-31T14:04:04.697Z"
   },
   {
    "duration": 19,
    "start_time": "2024-08-31T14:04:04.703Z"
   },
   {
    "duration": 6,
    "start_time": "2024-08-31T14:04:04.724Z"
   },
   {
    "duration": 7,
    "start_time": "2024-08-31T14:04:04.731Z"
   },
   {
    "duration": 4,
    "start_time": "2024-08-31T14:04:04.739Z"
   },
   {
    "duration": 5,
    "start_time": "2024-08-31T14:04:04.744Z"
   },
   {
    "duration": 110,
    "start_time": "2024-08-31T14:04:04.751Z"
   },
   {
    "duration": 0,
    "start_time": "2024-08-31T14:04:04.863Z"
   },
   {
    "duration": 0,
    "start_time": "2024-08-31T14:04:04.864Z"
   },
   {
    "duration": 1789,
    "start_time": "2024-09-01T06:44:31.250Z"
   },
   {
    "duration": 288,
    "start_time": "2024-09-01T06:44:33.041Z"
   },
   {
    "duration": 22,
    "start_time": "2024-09-01T06:44:33.331Z"
   },
   {
    "duration": 16,
    "start_time": "2024-09-01T06:44:33.355Z"
   },
   {
    "duration": 11,
    "start_time": "2024-09-01T06:44:33.373Z"
   },
   {
    "duration": 11,
    "start_time": "2024-09-01T06:44:33.386Z"
   },
   {
    "duration": 6,
    "start_time": "2024-09-01T06:44:33.399Z"
   },
   {
    "duration": 6,
    "start_time": "2024-09-01T06:44:33.406Z"
   },
   {
    "duration": 7,
    "start_time": "2024-09-01T06:44:33.414Z"
   },
   {
    "duration": 37,
    "start_time": "2024-09-01T06:44:33.424Z"
   },
   {
    "duration": 7,
    "start_time": "2024-09-01T06:44:33.462Z"
   },
   {
    "duration": 18,
    "start_time": "2024-09-01T06:44:33.470Z"
   },
   {
    "duration": 28,
    "start_time": "2024-09-01T06:44:33.489Z"
   },
   {
    "duration": 17,
    "start_time": "2024-09-01T06:44:33.518Z"
   },
   {
    "duration": 14,
    "start_time": "2024-09-01T06:44:33.536Z"
   },
   {
    "duration": 15,
    "start_time": "2024-09-01T06:44:33.552Z"
   },
   {
    "duration": 10,
    "start_time": "2024-09-01T06:44:33.569Z"
   },
   {
    "duration": 47,
    "start_time": "2024-09-01T06:44:33.580Z"
   },
   {
    "duration": 2,
    "start_time": "2024-09-01T06:44:33.628Z"
   },
   {
    "duration": 7,
    "start_time": "2024-09-01T06:44:33.632Z"
   },
   {
    "duration": 20,
    "start_time": "2024-09-01T06:44:33.641Z"
   },
   {
    "duration": 13,
    "start_time": "2024-09-01T06:44:33.663Z"
   },
   {
    "duration": 156,
    "start_time": "2024-09-01T06:44:33.678Z"
   },
   {
    "duration": 157,
    "start_time": "2024-09-01T06:44:33.836Z"
   },
   {
    "duration": 21,
    "start_time": "2024-09-01T06:44:33.994Z"
   },
   {
    "duration": 141,
    "start_time": "2024-09-01T06:44:34.016Z"
   },
   {
    "duration": 71,
    "start_time": "2024-09-01T06:44:34.160Z"
   },
   {
    "duration": 171,
    "start_time": "2024-09-01T06:44:34.235Z"
   },
   {
    "duration": 305,
    "start_time": "2024-09-01T06:44:34.407Z"
   },
   {
    "duration": 240,
    "start_time": "2024-09-01T06:44:34.713Z"
   },
   {
    "duration": 19,
    "start_time": "2024-09-01T06:44:34.954Z"
   },
   {
    "duration": 8,
    "start_time": "2024-09-01T06:44:34.974Z"
   },
   {
    "duration": 10,
    "start_time": "2024-09-01T06:44:34.984Z"
   },
   {
    "duration": 14,
    "start_time": "2024-09-01T06:44:34.995Z"
   },
   {
    "duration": 6,
    "start_time": "2024-09-01T06:44:35.010Z"
   },
   {
    "duration": 414,
    "start_time": "2024-09-01T06:44:35.017Z"
   },
   {
    "duration": 271,
    "start_time": "2024-09-01T06:44:35.432Z"
   },
   {
    "duration": 2,
    "start_time": "2024-09-01T06:44:35.705Z"
   },
   {
    "duration": 10,
    "start_time": "2024-09-01T06:44:35.708Z"
   },
   {
    "duration": 811,
    "start_time": "2024-09-01T06:44:35.719Z"
   },
   {
    "duration": 2,
    "start_time": "2024-09-01T06:44:36.532Z"
   },
   {
    "duration": 14,
    "start_time": "2024-09-01T06:44:36.535Z"
   },
   {
    "duration": 770,
    "start_time": "2024-09-01T06:44:36.550Z"
   },
   {
    "duration": 797,
    "start_time": "2024-09-01T06:44:37.322Z"
   },
   {
    "duration": 3,
    "start_time": "2024-09-01T06:44:38.121Z"
   },
   {
    "duration": 36,
    "start_time": "2024-09-01T06:44:38.125Z"
   },
   {
    "duration": 479,
    "start_time": "2024-09-01T06:44:38.162Z"
   },
   {
    "duration": 5,
    "start_time": "2024-09-01T06:44:38.643Z"
   },
   {
    "duration": 20,
    "start_time": "2024-09-01T06:44:38.660Z"
   },
   {
    "duration": 21,
    "start_time": "2024-09-01T06:44:38.682Z"
   },
   {
    "duration": 32,
    "start_time": "2024-09-01T06:44:38.705Z"
   },
   {
    "duration": 20,
    "start_time": "2024-09-01T06:44:38.739Z"
   },
   {
    "duration": 26,
    "start_time": "2024-09-01T06:44:38.761Z"
   },
   {
    "duration": 27,
    "start_time": "2024-09-01T06:44:38.789Z"
   },
   {
    "duration": 16,
    "start_time": "2024-09-01T06:44:38.818Z"
   },
   {
    "duration": 29,
    "start_time": "2024-09-01T06:44:38.835Z"
   },
   {
    "duration": 40,
    "start_time": "2024-09-01T06:44:38.865Z"
   }
  ],
  "kernelspec": {
   "display_name": "Python 3 (ipykernel)",
   "language": "python",
   "name": "python3"
  },
  "language_info": {
   "codemirror_mode": {
    "name": "ipython",
    "version": 3
   },
   "file_extension": ".py",
   "mimetype": "text/x-python",
   "name": "python",
   "nbconvert_exporter": "python",
   "pygments_lexer": "ipython3",
   "version": "3.9.19"
  },
  "toc": {
   "base_numbering": 1,
   "nav_menu": {},
   "number_sections": true,
   "sideBar": true,
   "skip_h1_title": true,
   "title_cell": "Table of Contents",
   "title_sidebar": "Contents",
   "toc_cell": false,
   "toc_position": {},
   "toc_section_display": true,
   "toc_window_display": true
  }
 },
 "nbformat": 4,
 "nbformat_minor": 5
}
