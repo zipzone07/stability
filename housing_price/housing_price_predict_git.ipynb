{
 "cells": [
  {
   "cell_type": "markdown",
   "id": "GEqQaHzsZ_bA",
   "metadata": {
    "id": "GEqQaHzsZ_bA"
   },
   "source": [
    "**Предсказание стоимости жилья**\n",
    "\n",
    "В проекте нужно обучить модель линейной регрессии на данных о жилье в Калифорнии в 1990 году. На основе данных нужно предсказать медианную стоимость дома в жилом массиве. Обучим модель и сделаем предсказания на тестовой выборке. Для оценки качества модели используем метрики RMSE, MAE и R2."
   ]
  },
  {
   "cell_type": "markdown",
   "id": "53871372",
   "metadata": {
    "id": "53871372"
   },
   "source": [
    "# Подготовка данных"
   ]
  },
  {
   "cell_type": "code",
   "execution_count": 1,
   "id": "c399bf5e",
   "metadata": {},
   "outputs": [],
   "source": [
    "import pandas as pd \n",
    "import numpy as np\n",
    "import pyspark\n",
    "from pyspark.sql import SparkSession\n",
    "from pyspark.sql.types import *\n",
    "import pyspark.sql.functions as F\n",
    "from pyspark.ml.feature import StringIndexer, VectorAssembler, StandardScaler\n",
    "from pyspark.ml.classification import LogisticRegression\n",
    "from pyspark.ml.regression import LinearRegression\n",
    "from pyspark.ml.evaluation import (\n",
    "    BinaryClassificationEvaluator, \n",
    "    MulticlassClassificationEvaluator,\n",
    "    RegressionEvaluator\n",
    ")\n",
    "pyspark_version = pyspark.__version__\n",
    "if int(pyspark_version[:1]) == 3:\n",
    "    from pyspark.ml.feature import OneHotEncoder    \n",
    "elif int(pyspark_version[:1]) == 2:\n",
    "    from pyspark.ml.feature import OneHotEncodeEstimator"
   ]
  },
  {
   "cell_type": "code",
   "execution_count": 2,
   "id": "df92e3ec",
   "metadata": {
    "id": "df92e3ec"
   },
   "outputs": [
    {
     "name": "stderr",
     "output_type": "stream",
     "text": [
      "[Stage 1:>                                                          (0 + 1) / 1]\r"
     ]
    },
    {
     "name": "stdout",
     "output_type": "stream",
     "text": [
      "root\n",
      " |-- longitude: double (nullable = true)\n",
      " |-- latitude: double (nullable = true)\n",
      " |-- housing_median_age: double (nullable = true)\n",
      " |-- total_rooms: double (nullable = true)\n",
      " |-- total_bedrooms: double (nullable = true)\n",
      " |-- population: double (nullable = true)\n",
      " |-- households: double (nullable = true)\n",
      " |-- median_income: double (nullable = true)\n",
      " |-- median_house_value: double (nullable = true)\n",
      " |-- ocean_proximity: string (nullable = true)\n",
      "\n"
     ]
    },
    {
     "name": "stderr",
     "output_type": "stream",
     "text": [
      "                                                                                \r"
     ]
    }
   ],
   "source": [
    "RANDOM_SEED = 2022\n",
    "\n",
    "spark = (\n",
    "    SparkSession\n",
    "    .builder\n",
    "    .master(\"local\")\n",
    "    .appName(\"Learning :inearRegression\")\n",
    "    .getOrCreate() \n",
    ")\n",
    "\n",
    "data = spark.read.option('header', 'true').csv('housing.csv', inferSchema = True)\n",
    "data.printSchema()"
   ]
  },
  {
   "cell_type": "code",
   "execution_count": 3,
   "id": "abe64c65",
   "metadata": {},
   "outputs": [],
   "source": [
    "# все данные\n",
    "housing = data.select(\n",
    "    'longitude', 'latitude',\n",
    "    'housing_median_age', 'total_rooms', 'total_bedrooms',\n",
    "    'population', 'households', 'median_income', \n",
    "    'median_house_value', 'ocean_proximity'\n",
    "    )\n",
    "\n",
    "# только чсловые признаки\n",
    "housing_no_cat = data.select(\n",
    "    'longitude', 'latitude',\n",
    "    'housing_median_age', 'total_rooms', 'total_bedrooms',\n",
    "    'population', 'households', 'median_income', \n",
    "    'median_house_value'\n",
    "    )"
   ]
  },
  {
   "cell_type": "code",
   "execution_count": 4,
   "id": "f69d4cc1",
   "metadata": {},
   "outputs": [
    {
     "name": "stdout",
     "output_type": "stream",
     "text": [
      "+---------+--------+------------------+-----------+--------------+----------+----------+-------------+------------------+---------------+\n",
      "|longitude|latitude|housing_median_age|total_rooms|total_bedrooms|population|households|median_income|median_house_value|ocean_proximity|\n",
      "+---------+--------+------------------+-----------+--------------+----------+----------+-------------+------------------+---------------+\n",
      "|  -122.23|   37.88|              41.0|      880.0|         129.0|     322.0|     126.0|       8.3252|          452600.0|       NEAR BAY|\n",
      "|  -122.22|   37.86|              21.0|     7099.0|        1106.0|    2401.0|    1138.0|       8.3014|          358500.0|       NEAR BAY|\n",
      "|  -122.24|   37.85|              52.0|     1467.0|         190.0|     496.0|     177.0|       7.2574|          352100.0|       NEAR BAY|\n",
      "+---------+--------+------------------+-----------+--------------+----------+----------+-------------+------------------+---------------+\n",
      "only showing top 3 rows\n",
      "\n"
     ]
    }
   ],
   "source": [
    "# обзор данных\n",
    "housing.show(3)"
   ]
  },
  {
   "cell_type": "code",
   "execution_count": 5,
   "id": "2a746d7e",
   "metadata": {},
   "outputs": [
    {
     "name": "stderr",
     "output_type": "stream",
     "text": [
      "                                                                                \r"
     ]
    },
    {
     "data": {
      "text/html": [
       "<div>\n",
       "<style scoped>\n",
       "    .dataframe tbody tr th:only-of-type {\n",
       "        vertical-align: middle;\n",
       "    }\n",
       "\n",
       "    .dataframe tbody tr th {\n",
       "        vertical-align: top;\n",
       "    }\n",
       "\n",
       "    .dataframe thead th {\n",
       "        text-align: right;\n",
       "    }\n",
       "</style>\n",
       "<table border=\"1\" class=\"dataframe\">\n",
       "  <thead>\n",
       "    <tr style=\"text-align: right;\">\n",
       "      <th></th>\n",
       "      <th>summary</th>\n",
       "      <th>longitude</th>\n",
       "      <th>latitude</th>\n",
       "      <th>housing_median_age</th>\n",
       "      <th>total_rooms</th>\n",
       "      <th>total_bedrooms</th>\n",
       "      <th>population</th>\n",
       "      <th>households</th>\n",
       "      <th>median_income</th>\n",
       "      <th>median_house_value</th>\n",
       "      <th>ocean_proximity</th>\n",
       "    </tr>\n",
       "  </thead>\n",
       "  <tbody>\n",
       "    <tr>\n",
       "      <th>0</th>\n",
       "      <td>count</td>\n",
       "      <td>20640</td>\n",
       "      <td>20640</td>\n",
       "      <td>20640</td>\n",
       "      <td>20640</td>\n",
       "      <td>20433</td>\n",
       "      <td>20640</td>\n",
       "      <td>20640</td>\n",
       "      <td>20640</td>\n",
       "      <td>20640</td>\n",
       "      <td>20640</td>\n",
       "    </tr>\n",
       "    <tr>\n",
       "      <th>1</th>\n",
       "      <td>mean</td>\n",
       "      <td>-119.56970445736148</td>\n",
       "      <td>35.6318614341087</td>\n",
       "      <td>28.639486434108527</td>\n",
       "      <td>2635.7630813953488</td>\n",
       "      <td>537.8705525375618</td>\n",
       "      <td>1425.4767441860465</td>\n",
       "      <td>499.5396802325581</td>\n",
       "      <td>3.8706710029070246</td>\n",
       "      <td>206855.81690891474</td>\n",
       "      <td>None</td>\n",
       "    </tr>\n",
       "    <tr>\n",
       "      <th>2</th>\n",
       "      <td>stddev</td>\n",
       "      <td>2.003531723502584</td>\n",
       "      <td>2.135952397457101</td>\n",
       "      <td>12.58555761211163</td>\n",
       "      <td>2181.6152515827944</td>\n",
       "      <td>421.38507007403115</td>\n",
       "      <td>1132.46212176534</td>\n",
       "      <td>382.3297528316098</td>\n",
       "      <td>1.899821717945263</td>\n",
       "      <td>115395.61587441359</td>\n",
       "      <td>None</td>\n",
       "    </tr>\n",
       "    <tr>\n",
       "      <th>3</th>\n",
       "      <td>min</td>\n",
       "      <td>-124.35</td>\n",
       "      <td>32.54</td>\n",
       "      <td>1.0</td>\n",
       "      <td>2.0</td>\n",
       "      <td>1.0</td>\n",
       "      <td>3.0</td>\n",
       "      <td>1.0</td>\n",
       "      <td>0.4999</td>\n",
       "      <td>14999.0</td>\n",
       "      <td>&lt;1H OCEAN</td>\n",
       "    </tr>\n",
       "    <tr>\n",
       "      <th>4</th>\n",
       "      <td>max</td>\n",
       "      <td>-114.31</td>\n",
       "      <td>41.95</td>\n",
       "      <td>52.0</td>\n",
       "      <td>39320.0</td>\n",
       "      <td>6445.0</td>\n",
       "      <td>35682.0</td>\n",
       "      <td>6082.0</td>\n",
       "      <td>15.0001</td>\n",
       "      <td>500001.0</td>\n",
       "      <td>NEAR OCEAN</td>\n",
       "    </tr>\n",
       "  </tbody>\n",
       "</table>\n",
       "</div>"
      ],
      "text/plain": [
       "  summary            longitude           latitude  housing_median_age  \\\n",
       "0   count                20640              20640               20640   \n",
       "1    mean  -119.56970445736148   35.6318614341087  28.639486434108527   \n",
       "2  stddev    2.003531723502584  2.135952397457101   12.58555761211163   \n",
       "3     min              -124.35              32.54                 1.0   \n",
       "4     max              -114.31              41.95                52.0   \n",
       "\n",
       "          total_rooms      total_bedrooms          population  \\\n",
       "0               20640               20433               20640   \n",
       "1  2635.7630813953488   537.8705525375618  1425.4767441860465   \n",
       "2  2181.6152515827944  421.38507007403115    1132.46212176534   \n",
       "3                 2.0                 1.0                 3.0   \n",
       "4             39320.0              6445.0             35682.0   \n",
       "\n",
       "          households       median_income  median_house_value ocean_proximity  \n",
       "0              20640               20640               20640           20640  \n",
       "1  499.5396802325581  3.8706710029070246  206855.81690891474            None  \n",
       "2  382.3297528316098   1.899821717945263  115395.61587441359            None  \n",
       "3                1.0              0.4999             14999.0       <1H OCEAN  \n",
       "4             6082.0             15.0001            500001.0      NEAR OCEAN  "
      ]
     },
     "execution_count": 5,
     "metadata": {},
     "output_type": "execute_result"
    }
   ],
   "source": [
    "# базовые статистики\n",
    "housing.describe().toPandas()"
   ]
  },
  {
   "cell_type": "code",
   "execution_count": 6,
   "id": "8a937b90",
   "metadata": {},
   "outputs": [
    {
     "data": {
      "text/html": [
       "<div>\n",
       "<style scoped>\n",
       "    .dataframe tbody tr th:only-of-type {\n",
       "        vertical-align: middle;\n",
       "    }\n",
       "\n",
       "    .dataframe tbody tr th {\n",
       "        vertical-align: top;\n",
       "    }\n",
       "\n",
       "    .dataframe thead th {\n",
       "        text-align: right;\n",
       "    }\n",
       "</style>\n",
       "<table border=\"1\" class=\"dataframe\">\n",
       "  <thead>\n",
       "    <tr style=\"text-align: right;\">\n",
       "      <th></th>\n",
       "      <th>longitude</th>\n",
       "      <th>latitude</th>\n",
       "      <th>housing_median_age</th>\n",
       "      <th>total_rooms</th>\n",
       "      <th>total_bedrooms</th>\n",
       "      <th>population</th>\n",
       "      <th>households</th>\n",
       "      <th>median_income</th>\n",
       "      <th>median_house_value</th>\n",
       "      <th>ocean_proximity</th>\n",
       "    </tr>\n",
       "  </thead>\n",
       "  <tbody>\n",
       "    <tr>\n",
       "      <th>0</th>\n",
       "      <td>0</td>\n",
       "      <td>0</td>\n",
       "      <td>0</td>\n",
       "      <td>0</td>\n",
       "      <td>207</td>\n",
       "      <td>0</td>\n",
       "      <td>0</td>\n",
       "      <td>0</td>\n",
       "      <td>0</td>\n",
       "      <td>0</td>\n",
       "    </tr>\n",
       "  </tbody>\n",
       "</table>\n",
       "</div>"
      ],
      "text/plain": [
       "   longitude  latitude  housing_median_age  total_rooms  total_bedrooms  \\\n",
       "0          0         0                   0            0             207   \n",
       "\n",
       "   population  households  median_income  median_house_value  ocean_proximity  \n",
       "0           0           0              0                   0                0  "
      ]
     },
     "execution_count": 6,
     "metadata": {},
     "output_type": "execute_result"
    }
   ],
   "source": [
    "# количество пропусков\n",
    "(\n",
    "    housing\n",
    "    .select(\n",
    "        [F.count(F.when(F.col(c).isNull(), c)).alias(c) for c in housing.columns]\n",
    "    )\n",
    "    .toPandas()\n",
    ")"
   ]
  },
  {
   "cell_type": "code",
   "execution_count": 7,
   "id": "2bf99a2a",
   "metadata": {},
   "outputs": [],
   "source": [
    "# заполним пропуски медианным значением\n",
    "housing = (\n",
    "    housing\n",
    "    .fillna(\n",
    "        {\n",
    "            'total_bedrooms': housing.agg(F.mean('total_bedrooms'))\n",
    "            .first()[0]\n",
    "        }\n",
    "    )\n",
    ")\n",
    "\n",
    "housing_no_cat = (\n",
    "    housing_no_cat\n",
    "    .fillna(\n",
    "        {\n",
    "            'total_bedrooms': housing.agg(F.mean('total_bedrooms'))\n",
    "            .first()[0]\n",
    "        }\n",
    "    )\n",
    ")"
   ]
  },
  {
   "cell_type": "code",
   "execution_count": 8,
   "id": "38165c57",
   "metadata": {},
   "outputs": [],
   "source": [
    "# три типа признаков, категориальные,числовые и целевой\n",
    "categorical_cols = ['ocean_proximity']\n",
    "numerical_cols  = [\n",
    "    'longitude', 'latitude',\n",
    "    'housing_median_age', 'total_rooms', 'total_bedrooms',\n",
    "    'population', 'households', 'median_income'\n",
    "]\n",
    "target = \"median_house_value\" "
   ]
  },
  {
   "cell_type": "markdown",
   "id": "1fb8f134",
   "metadata": {},
   "source": [
    "## Разделение на выборки и обработка признаков"
   ]
  },
  {
   "cell_type": "code",
   "execution_count": 9,
   "id": "de473a91",
   "metadata": {},
   "outputs": [
    {
     "name": "stderr",
     "output_type": "stream",
     "text": [
      "                                                                                \r"
     ]
    }
   ],
   "source": [
    "# полный набор данных\n",
    "train_data, test_data = housing.randomSplit([.8,.2], seed=RANDOM_SEED)\n",
    "\n",
    "# без категорий\n",
    "train_data_no_cat, test_data_no_cat = housing_no_cat.randomSplit([.8,.2], seed=RANDOM_SEED)\n",
    "\n",
    "# трансформатор категориальных признаков\n",
    "indexer = StringIndexer(\n",
    "    inputCols=categorical_cols,\n",
    "    outputCols=[c+'_idx' for c in categorical_cols],\n",
    "    handleInvalid = 'keep'\n",
    ")\n",
    "model_indexer = indexer.fit(train_data)\n",
    "train_data = model_indexer.transform(train_data)\n",
    "test_data = model_indexer.transform(test_data)\n",
    "\n",
    "# OHE-трансформатор категориальных признаков\n",
    "encoder = OneHotEncoder(\n",
    "    inputCols=[c+'_idx' for c in categorical_cols],\n",
    "    outputCols=[c+'_ohe' for c in categorical_cols]\n",
    ")\n",
    "model_encoder = encoder.fit(train_data)\n",
    "train_data = model_encoder.transform(train_data)\n",
    "test_data = model_encoder.transform(test_data)\n",
    "\n",
    "# объединение признаков в вектор\n",
    "categorical_assembler = VectorAssembler(\n",
    "    inputCols=[c+'_ohe' for c in categorical_cols],\n",
    "    outputCol=\"categorical_features\"\n",
    ")\n",
    "train_data = categorical_assembler.transform(train_data)\n",
    "test_data = categorical_assembler.transform(test_data)\n",
    "\n",
    "# шкалирование\n",
    "numerical_assembler = VectorAssembler(\n",
    "    inputCols=numerical_cols, \n",
    "    outputCol=\"numerical_features\"\n",
    ")\n",
    "train_data = numerical_assembler.transform(train_data)\n",
    "test_data = numerical_assembler.transform(test_data)\n",
    "train_data_no_cat = numerical_assembler.transform(train_data_no_cat)\n",
    "test_data_no_cat = numerical_assembler.transform(test_data_no_cat)\n",
    "\n",
    "# нормализация\n",
    "standardScaler = StandardScaler(\n",
    "    inputCol='numerical_features',\n",
    "    outputCol=\"numerical_features_scaled\"\n",
    ")\n",
    "model_standardScaler = standardScaler.fit(train_data)\n",
    "model_standardScaler_no_cat = standardScaler.fit(train_data_no_cat)\n",
    "train_data = model_standardScaler.transform(train_data)\n",
    "test_data = model_standardScaler.transform(test_data)\n",
    "train_data_no_cat = model_standardScaler_no_cat.transform(train_data_no_cat)\n",
    "test_data_no_cat = model_standardScaler_no_cat.transform(test_data_no_cat)\n",
    "\n",
    "# объединение, полный набор данных\n",
    "all_features = ['numerical_features_scaled', 'categorical_features']\n",
    "\n",
    "final_assembler = VectorAssembler(inputCols=all_features, \n",
    "                                  outputCol=\"features\") \n",
    "train_data = final_assembler.transform(train_data)\n",
    "test_data = final_assembler.transform(test_data)\n",
    "\n",
    "# объединение, без категорий\n",
    "all_features_no_cat = [\n",
    "    'longitude', 'latitude',\n",
    "    'housing_median_age', 'total_rooms', 'total_bedrooms',\n",
    "    'population', 'households', 'median_income',\n",
    "    'numerical_features', 'numerical_features_scaled'\n",
    "]\n",
    "final_assembler_no_cat = VectorAssembler(inputCols=all_features_no_cat, \n",
    "                                  outputCol=\"features\") \n",
    "train_data_no_cat = final_assembler_no_cat.transform(train_data_no_cat)\n",
    "test_data_no_cat = final_assembler_no_cat.transform(test_data_no_cat)"
   ]
  },
  {
   "cell_type": "markdown",
   "id": "9f0a82f3",
   "metadata": {
    "id": "9f0a82f3"
   },
   "source": [
    "# Обучение моделей"
   ]
  },
  {
   "cell_type": "code",
   "execution_count": 10,
   "id": "bddb08c4",
   "metadata": {
    "id": "bddb08c4"
   },
   "outputs": [
    {
     "name": "stderr",
     "output_type": "stream",
     "text": [
      "25/02/14 16:22:12 WARN BLAS: Failed to load implementation from: com.github.fommil.netlib.NativeSystemBLAS\n",
      "25/02/14 16:22:12 WARN BLAS: Failed to load implementation from: com.github.fommil.netlib.NativeRefBLAS\n",
      "                                                                                \r"
     ]
    }
   ],
   "source": [
    "# алгоритм прнимает подготовленные данные, полный набор данных\n",
    "lr = LinearRegression(labelCol = target, maxIter=10, regParam=0.3, elasticNetParam=0.8)\n",
    "model = lr.fit(train_data) "
   ]
  },
  {
   "cell_type": "code",
   "execution_count": 11,
   "id": "3559a0b5",
   "metadata": {},
   "outputs": [],
   "source": [
    "# алгоритм прнимает подготовленные данные, без категорий\n",
    "lr_no_cat = LinearRegression(labelCol = target, maxIter=10, regParam=0.3, elasticNetParam=0.8)\n",
    "model_no_cat = lr_no_cat.fit(train_data_no_cat) "
   ]
  },
  {
   "cell_type": "code",
   "execution_count": 12,
   "id": "17ab7183",
   "metadata": {},
   "outputs": [
    {
     "name": "stdout",
     "output_type": "stream",
     "text": [
      "+------------------+------------------+\n",
      "|median_house_value|        prediction|\n",
      "+------------------+------------------+\n",
      "|          103600.0|  182285.104944975|\n",
      "|           50800.0|231881.45708222373|\n",
      "|           58100.0|157977.37314810825|\n",
      "|           68400.0|160956.83919210604|\n",
      "|           72200.0| 179611.2824642522|\n",
      "|           67000.0|170196.84260551736|\n",
      "|           81300.0| 169350.0857670986|\n",
      "|           70500.0| 182127.7343615702|\n",
      "|           60000.0|159733.80720700452|\n",
      "|          109400.0|201953.63070480118|\n",
      "|           74100.0|167995.44826235448|\n",
      "|           74700.0| 187343.4740787606|\n",
      "|           90000.0|227818.66910462163|\n",
      "|          104200.0|218948.29801876575|\n",
      "|           74100.0| 175243.6540852181|\n",
      "|           67500.0|166560.11338318104|\n",
      "|          103100.0| 70862.23743311397|\n",
      "|           92500.0|177441.04949920077|\n",
      "|          128100.0| 235084.6981139189|\n",
      "|           99600.0|204457.54931465432|\n",
      "+------------------+------------------+\n",
      "only showing top 20 rows\n",
      "\n"
     ]
    }
   ],
   "source": [
    "# предсказания, полный набор данных\n",
    "predictions = model.transform(test_data)\n",
    "predictedLabes = predictions.select(\"median_house_value\", \"prediction\")\n",
    "predictedLabes.show()"
   ]
  },
  {
   "cell_type": "code",
   "execution_count": 13,
   "id": "b7035683",
   "metadata": {},
   "outputs": [
    {
     "name": "stdout",
     "output_type": "stream",
     "text": [
      "+------------------+-------------------+\n",
      "|median_house_value|         prediction|\n",
      "+------------------+-------------------+\n",
      "|          103600.0| 105633.99332956038|\n",
      "|           50800.0| 182063.35213976027|\n",
      "|           58100.0| 107114.32935573999|\n",
      "|           68400.0|  85810.84353321418|\n",
      "|           72200.0|  126737.1699739662|\n",
      "|           67000.0|  118292.2261051475|\n",
      "|           81300.0| 116939.24293019203|\n",
      "|           70500.0|  133571.8331590509|\n",
      "|           60000.0| 109978.60671096016|\n",
      "|          109400.0| 122626.33297799248|\n",
      "|           74100.0| 120570.46014583111|\n",
      "|           74700.0|  139405.8700640686|\n",
      "|           90000.0| 177803.06818344025|\n",
      "|          104200.0|  168116.6700751367|\n",
      "|           74100.0| 124037.98498514853|\n",
      "|           67500.0| 110847.92131673079|\n",
      "|          103100.0|-15578.461096462328|\n",
      "|           92500.0| 138983.03798170667|\n",
      "|          128100.0| 187470.78506444115|\n",
      "|           99600.0| 155908.51102677733|\n",
      "+------------------+-------------------+\n",
      "only showing top 20 rows\n",
      "\n"
     ]
    }
   ],
   "source": [
    "# предсказания, без категорий\n",
    "predictions_no_cat = model_no_cat.transform(test_data_no_cat)\n",
    "predictedLabes_no_cat = predictions_no_cat.select(\"median_house_value\", \"prediction\")\n",
    "predictedLabes_no_cat.show()"
   ]
  },
  {
   "cell_type": "code",
   "execution_count": 14,
   "id": "15a4f9ed",
   "metadata": {},
   "outputs": [
    {
     "name": "stdout",
     "output_type": "stream",
     "text": [
      "housing - RMSE: 68977.59966256263, MAE: 50076.277840938405, R2: 0.6485742713919607\n"
     ]
    }
   ],
   "source": [
    "# оценка метрик, полный набор данных\n",
    "evaluator = RegressionEvaluator(labelCol=target, predictionCol=\"prediction\")\n",
    "\n",
    "rmse = evaluator.evaluate(predictions, {evaluator.metricName: \"rmse\"})\n",
    "mae = evaluator.evaluate(predictions, {evaluator.metricName: \"mae\"})\n",
    "r2 = evaluator.evaluate(predictions, {evaluator.metricName: \"r2\"})\n",
    "\n",
    "print(f\"housing - RMSE: {rmse}, MAE: {mae}, R2: {r2}\")"
   ]
  },
  {
   "cell_type": "code",
   "execution_count": 15,
   "id": "20d78347",
   "metadata": {},
   "outputs": [
    {
     "name": "stdout",
     "output_type": "stream",
     "text": [
      "housing_no_cat - RMSE: 69598.32234695918, MAE: 50819.236254485484, R2: 0.6422209212136882\n"
     ]
    }
   ],
   "source": [
    "# оценка метрик, без категорий\n",
    "evaluator_no_cat = RegressionEvaluator(labelCol=target, predictionCol=\"prediction\")\n",
    "\n",
    "rmse_no_cat = evaluator.evaluate(predictions_no_cat, {evaluator.metricName: \"rmse\"})\n",
    "mae_no_cat = evaluator.evaluate(predictions_no_cat, {evaluator.metricName: \"mae\"})\n",
    "r2_no_cat = evaluator.evaluate(predictions_no_cat, {evaluator.metricName: \"r2\"})\n",
    "\n",
    "print(f\"housing_no_cat - RMSE: {rmse_no_cat}, MAE: {mae_no_cat}, R2: {r2_no_cat}\")"
   ]
  },
  {
   "cell_type": "code",
   "execution_count": 16,
   "id": "2f714df2",
   "metadata": {},
   "outputs": [],
   "source": [
    "spark.stop()"
   ]
  },
  {
   "cell_type": "markdown",
   "id": "757fd103",
   "metadata": {
    "id": "757fd103"
   },
   "source": [
    "# Анализ результатов"
   ]
  },
  {
   "cell_type": "markdown",
   "id": "d60aebd0",
   "metadata": {},
   "source": [
    "По итогу данного исследоавния можно сделать вывод о следующем:\n",
    "\n",
    "- метрика RMSE находится на уровне 13.8% от максималього значения медианной стоимости дома в жилом массиве, это достойный показатель. Разница между моделями незначительная\n",
    "- метрика MAE находится на уровне 10% от максималього значения медианной стоимости дома в жилом массиве, это достойный показатель. Разница между моделями незначительная.\n",
    "- метрика R2 у двух моделей объясняет около 64% вариации, в данном случае достаточно низкий показатель. "
   ]
  }
 ],
 "metadata": {
  "ExecuteTimeLog": [
   {
    "duration": 15597,
    "start_time": "2025-01-13T15:43:24.952Z"
   },
   {
    "duration": 17059,
    "start_time": "2025-01-13T18:13:50.646Z"
   },
   {
    "duration": 28,
    "start_time": "2025-01-13T18:15:11.073Z"
   },
   {
    "duration": 22,
    "start_time": "2025-01-13T18:19:17.447Z"
   },
   {
    "duration": 5,
    "start_time": "2025-01-13T18:22:10.967Z"
   },
   {
    "duration": 669,
    "start_time": "2025-01-13T18:42:37.961Z"
   },
   {
    "duration": 76,
    "start_time": "2025-01-13T18:42:42.170Z"
   },
   {
    "duration": 15293,
    "start_time": "2025-01-13T18:44:13.819Z"
   },
   {
    "duration": 28,
    "start_time": "2025-01-13T18:44:39.812Z"
   },
   {
    "duration": 8017,
    "start_time": "2025-01-13T18:45:24.611Z"
   },
   {
    "duration": 923,
    "start_time": "2025-01-13T18:46:00.685Z"
   },
   {
    "duration": 759,
    "start_time": "2025-01-13T18:46:12.640Z"
   },
   {
    "duration": 18,
    "start_time": "2025-01-13T18:46:29.150Z"
   },
   {
    "duration": 654,
    "start_time": "2025-01-13T18:49:04.569Z"
   },
   {
    "duration": 60,
    "start_time": "2025-01-14T13:35:20.710Z"
   },
   {
    "duration": 781,
    "start_time": "2025-01-14T13:35:26.497Z"
   },
   {
    "duration": 26956,
    "start_time": "2025-01-14T13:35:27.280Z"
   },
   {
    "duration": 98,
    "start_time": "2025-01-14T13:35:54.238Z"
   },
   {
    "duration": 2590,
    "start_time": "2025-01-14T14:37:54.483Z"
   },
   {
    "duration": 1261,
    "start_time": "2025-01-14T14:38:34.906Z"
   },
   {
    "duration": 696,
    "start_time": "2025-01-14T14:38:52.380Z"
   },
   {
    "duration": 539,
    "start_time": "2025-01-14T14:39:01.395Z"
   },
   {
    "duration": 1124,
    "start_time": "2025-01-14T14:39:46.017Z"
   },
   {
    "duration": 747,
    "start_time": "2025-01-14T14:40:03.610Z"
   },
   {
    "duration": 691,
    "start_time": "2025-01-14T14:40:16.694Z"
   },
   {
    "duration": 26571,
    "start_time": "2025-01-14T14:40:17.387Z"
   },
   {
    "duration": 2583,
    "start_time": "2025-01-14T14:40:43.961Z"
   },
   {
    "duration": 1308,
    "start_time": "2025-01-14T14:40:46.546Z"
   },
   {
    "duration": 569,
    "start_time": "2025-01-14T14:42:50.163Z"
   },
   {
    "duration": 1906,
    "start_time": "2025-01-14T14:43:39.547Z"
   },
   {
    "duration": 1680,
    "start_time": "2025-01-14T14:43:52.206Z"
   },
   {
    "duration": 1009,
    "start_time": "2025-01-14T14:44:01.337Z"
   },
   {
    "duration": 1388,
    "start_time": "2025-01-14T14:44:19.617Z"
   },
   {
    "duration": 693,
    "start_time": "2025-01-14T14:44:59.925Z"
   },
   {
    "duration": 866,
    "start_time": "2025-01-14T14:45:47.511Z"
   },
   {
    "duration": 677,
    "start_time": "2025-01-14T14:45:53.560Z"
   },
   {
    "duration": 24,
    "start_time": "2025-01-14T14:51:14.756Z"
   },
   {
    "duration": 1577,
    "start_time": "2025-01-14T14:51:21.784Z"
   },
   {
    "duration": 753,
    "start_time": "2025-01-14T14:51:32.430Z"
   },
   {
    "duration": 24760,
    "start_time": "2025-01-14T14:51:33.185Z"
   },
   {
    "duration": 1593,
    "start_time": "2025-01-14T14:51:57.948Z"
   },
   {
    "duration": 1325,
    "start_time": "2025-01-14T14:51:59.543Z"
   },
   {
    "duration": 1664,
    "start_time": "2025-01-14T14:52:00.869Z"
   },
   {
    "duration": 2016,
    "start_time": "2025-01-14T14:52:02.535Z"
   },
   {
    "duration": 978,
    "start_time": "2025-01-14T14:52:04.553Z"
   },
   {
    "duration": 4,
    "start_time": "2025-01-14T14:52:05.533Z"
   },
   {
    "duration": 5,
    "start_time": "2025-01-14T15:06:34.726Z"
   },
   {
    "duration": 2017,
    "start_time": "2025-01-14T15:09:49.857Z"
   },
   {
    "duration": 1645,
    "start_time": "2025-01-14T15:10:08.560Z"
   },
   {
    "duration": 754,
    "start_time": "2025-01-14T15:13:10.225Z"
   },
   {
    "duration": 25970,
    "start_time": "2025-01-14T15:13:10.981Z"
   },
   {
    "duration": 1620,
    "start_time": "2025-01-14T15:13:36.954Z"
   },
   {
    "duration": 1528,
    "start_time": "2025-01-14T15:13:38.577Z"
   },
   {
    "duration": 1832,
    "start_time": "2025-01-14T15:13:40.107Z"
   },
   {
    "duration": 2120,
    "start_time": "2025-01-14T15:13:41.941Z"
   },
   {
    "duration": 929,
    "start_time": "2025-01-14T15:13:44.129Z"
   },
   {
    "duration": 4,
    "start_time": "2025-01-14T15:13:45.060Z"
   },
   {
    "duration": 2102,
    "start_time": "2025-01-14T15:13:45.066Z"
   },
   {
    "duration": 338,
    "start_time": "2025-01-14T15:13:47.170Z"
   },
   {
    "duration": 1274,
    "start_time": "2025-01-14T15:14:37.385Z"
   },
   {
    "duration": 131,
    "start_time": "2025-01-14T15:14:41.411Z"
   },
   {
    "duration": 785,
    "start_time": "2025-01-14T15:15:37.628Z"
   },
   {
    "duration": 48,
    "start_time": "2025-01-14T15:16:33.652Z"
   },
   {
    "duration": 525,
    "start_time": "2025-01-14T15:23:09.631Z"
   },
   {
    "duration": 106,
    "start_time": "2025-01-14T15:23:40.852Z"
   },
   {
    "duration": 704,
    "start_time": "2025-01-14T15:25:06.852Z"
   },
   {
    "duration": 576,
    "start_time": "2025-01-14T15:26:53.394Z"
   },
   {
    "duration": 39,
    "start_time": "2025-01-14T15:27:12.291Z"
   },
   {
    "duration": 1417,
    "start_time": "2025-01-14T15:28:22.448Z"
   },
   {
    "duration": 7,
    "start_time": "2025-01-14T15:28:44.104Z"
   },
   {
    "duration": 495,
    "start_time": "2025-01-14T15:30:08.379Z"
   },
   {
    "duration": 4305,
    "start_time": "2025-01-14T15:32:19.343Z"
   },
   {
    "duration": 1264913,
    "start_time": "2025-01-14T15:34:03.451Z"
   },
   {
    "duration": 0,
    "start_time": "2025-01-14T15:55:08.367Z"
   },
   {
    "duration": 730,
    "start_time": "2025-01-14T15:55:46.910Z"
   },
   {
    "duration": 28622,
    "start_time": "2025-01-14T15:55:47.648Z"
   },
   {
    "duration": 1729,
    "start_time": "2025-01-14T15:56:16.273Z"
   },
   {
    "duration": 1563,
    "start_time": "2025-01-14T15:56:18.004Z"
   },
   {
    "duration": 1994,
    "start_time": "2025-01-14T15:56:19.569Z"
   },
   {
    "duration": 2607,
    "start_time": "2025-01-14T15:56:21.565Z"
   },
   {
    "duration": 948,
    "start_time": "2025-01-14T15:56:24.230Z"
   },
   {
    "duration": 3,
    "start_time": "2025-01-14T15:56:25.180Z"
   },
   {
    "duration": 2435,
    "start_time": "2025-01-14T15:56:25.242Z"
   },
   {
    "duration": 910,
    "start_time": "2025-01-14T15:56:27.680Z"
   },
   {
    "duration": 95,
    "start_time": "2025-01-14T15:56:28.592Z"
   },
   {
    "duration": 151,
    "start_time": "2025-01-14T15:56:28.689Z"
   },
   {
    "duration": 1917,
    "start_time": "2025-01-14T15:56:28.842Z"
   },
   {
    "duration": 7,
    "start_time": "2025-01-14T15:56:30.761Z"
   },
   {
    "duration": 806,
    "start_time": "2025-01-14T15:56:30.770Z"
   },
   {
    "duration": 4170,
    "start_time": "2025-01-14T15:56:31.579Z"
   },
   {
    "duration": 841387,
    "start_time": "2025-01-14T15:56:35.751Z"
   },
   {
    "duration": 1,
    "start_time": "2025-01-14T16:10:37.151Z"
   },
   {
    "duration": 787,
    "start_time": "2025-01-14T16:10:50.279Z"
   },
   {
    "duration": 28200,
    "start_time": "2025-01-14T16:10:51.068Z"
   },
   {
    "duration": 1974,
    "start_time": "2025-01-14T16:11:19.270Z"
   },
   {
    "duration": 1618,
    "start_time": "2025-01-14T16:11:21.246Z"
   },
   {
    "duration": 1999,
    "start_time": "2025-01-14T16:11:22.866Z"
   },
   {
    "duration": 2507,
    "start_time": "2025-01-14T16:11:24.867Z"
   },
   {
    "duration": 1090,
    "start_time": "2025-01-14T16:11:27.376Z"
   },
   {
    "duration": 4,
    "start_time": "2025-01-14T16:11:28.468Z"
   },
   {
    "duration": 2470,
    "start_time": "2025-01-14T16:11:28.475Z"
   },
   {
    "duration": 844,
    "start_time": "2025-01-14T16:11:30.947Z"
   },
   {
    "duration": 169,
    "start_time": "2025-01-14T16:11:31.793Z"
   },
   {
    "duration": 103,
    "start_time": "2025-01-14T16:11:31.964Z"
   },
   {
    "duration": 1802,
    "start_time": "2025-01-14T16:11:32.069Z"
   },
   {
    "duration": 6,
    "start_time": "2025-01-14T16:11:33.874Z"
   },
   {
    "duration": 829,
    "start_time": "2025-01-14T16:11:33.937Z"
   },
   {
    "duration": 3798,
    "start_time": "2025-01-14T16:11:34.769Z"
   },
   {
    "duration": 763,
    "start_time": "2025-01-15T02:07:17.699Z"
   },
   {
    "duration": 23765,
    "start_time": "2025-01-15T02:07:18.464Z"
   },
   {
    "duration": 1414,
    "start_time": "2025-01-15T02:07:42.230Z"
   },
   {
    "duration": 1076,
    "start_time": "2025-01-15T02:07:43.646Z"
   },
   {
    "duration": 1621,
    "start_time": "2025-01-15T02:07:44.725Z"
   },
   {
    "duration": 2079,
    "start_time": "2025-01-15T02:07:46.348Z"
   },
   {
    "duration": 704,
    "start_time": "2025-01-15T02:07:48.428Z"
   },
   {
    "duration": 3,
    "start_time": "2025-01-15T02:07:49.134Z"
   },
   {
    "duration": 2029,
    "start_time": "2025-01-15T02:07:49.138Z"
   },
   {
    "duration": 695,
    "start_time": "2025-01-15T02:07:51.169Z"
   },
   {
    "duration": 76,
    "start_time": "2025-01-15T02:07:51.866Z"
   },
   {
    "duration": 96,
    "start_time": "2025-01-15T02:07:51.943Z"
   },
   {
    "duration": 1378,
    "start_time": "2025-01-15T02:07:52.040Z"
   },
   {
    "duration": 5,
    "start_time": "2025-01-15T02:07:53.421Z"
   },
   {
    "duration": 530,
    "start_time": "2025-01-15T02:07:53.427Z"
   },
   {
    "duration": 3169,
    "start_time": "2025-01-15T02:07:53.958Z"
   },
   {
    "duration": 685,
    "start_time": "2025-01-15T13:11:59.511Z"
   },
   {
    "duration": 22988,
    "start_time": "2025-01-15T13:12:00.198Z"
   },
   {
    "duration": 1259,
    "start_time": "2025-01-15T13:12:23.189Z"
   },
   {
    "duration": 974,
    "start_time": "2025-01-15T13:12:24.450Z"
   },
   {
    "duration": 1417,
    "start_time": "2025-01-15T13:12:25.446Z"
   },
   {
    "duration": 1901,
    "start_time": "2025-01-15T13:12:26.864Z"
   },
   {
    "duration": 886,
    "start_time": "2025-01-15T13:12:28.767Z"
   },
   {
    "duration": 3,
    "start_time": "2025-01-15T13:12:29.654Z"
   },
   {
    "duration": 1828,
    "start_time": "2025-01-15T13:12:29.659Z"
   },
   {
    "duration": 705,
    "start_time": "2025-01-15T13:12:31.489Z"
   },
   {
    "duration": 81,
    "start_time": "2025-01-15T13:12:32.195Z"
   },
   {
    "duration": 91,
    "start_time": "2025-01-15T13:12:32.277Z"
   },
   {
    "duration": 1377,
    "start_time": "2025-01-15T13:12:32.369Z"
   },
   {
    "duration": 6,
    "start_time": "2025-01-15T13:12:33.748Z"
   },
   {
    "duration": 508,
    "start_time": "2025-01-15T13:12:33.755Z"
   },
   {
    "duration": 3093,
    "start_time": "2025-01-15T13:12:34.265Z"
   },
   {
    "duration": 1314901,
    "start_time": "2025-01-15T13:12:37.360Z"
   },
   {
    "duration": 0,
    "start_time": "2025-01-15T13:34:32.262Z"
   },
   {
    "duration": 1424877,
    "start_time": "2025-01-15T13:34:37.271Z"
   },
   {
    "duration": 0,
    "start_time": "2025-01-15T13:58:22.150Z"
   },
   {
    "duration": 54137,
    "start_time": "2025-01-15T13:58:29.645Z"
   },
   {
    "duration": 717,
    "start_time": "2025-01-15T14:00:28.666Z"
   },
   {
    "duration": 22762,
    "start_time": "2025-01-15T14:00:29.384Z"
   },
   {
    "duration": 1299,
    "start_time": "2025-01-15T14:00:52.148Z"
   },
   {
    "duration": 928,
    "start_time": "2025-01-15T14:00:53.449Z"
   },
   {
    "duration": 1572,
    "start_time": "2025-01-15T14:00:54.379Z"
   },
   {
    "duration": 4363,
    "start_time": "2025-01-15T14:00:55.953Z"
   },
   {
    "duration": 468,
    "start_time": "2025-01-15T14:01:00.317Z"
   },
   {
    "duration": 4,
    "start_time": "2025-01-15T14:01:00.846Z"
   },
   {
    "duration": 1896,
    "start_time": "2025-01-15T14:01:00.851Z"
   },
   {
    "duration": 607,
    "start_time": "2025-01-15T14:01:02.749Z"
   },
   {
    "duration": 88,
    "start_time": "2025-01-15T14:01:03.358Z"
   },
   {
    "duration": 99,
    "start_time": "2025-01-15T14:01:03.448Z"
   },
   {
    "duration": 1401,
    "start_time": "2025-01-15T14:01:03.549Z"
   },
   {
    "duration": 9,
    "start_time": "2025-01-15T14:01:04.952Z"
   },
   {
    "duration": 676,
    "start_time": "2025-01-15T14:01:04.963Z"
   },
   {
    "duration": 3248,
    "start_time": "2025-01-15T14:01:05.641Z"
   },
   {
    "duration": 15596,
    "start_time": "2025-01-15T14:01:08.890Z"
   },
   {
    "duration": 0,
    "start_time": "2025-01-15T14:01:24.488Z"
   },
   {
    "duration": 2,
    "start_time": "2025-01-15T14:02:25.880Z"
   },
   {
    "duration": 767,
    "start_time": "2025-01-15T14:02:55.518Z"
   },
   {
    "duration": 23075,
    "start_time": "2025-01-15T14:02:56.287Z"
   },
   {
    "duration": 1383,
    "start_time": "2025-01-15T14:03:19.364Z"
   },
   {
    "duration": 844,
    "start_time": "2025-01-15T14:03:20.750Z"
   },
   {
    "duration": 1594,
    "start_time": "2025-01-15T14:03:21.595Z"
   },
   {
    "duration": 978,
    "start_time": "2025-01-15T14:03:23.191Z"
   },
   {
    "duration": 3,
    "start_time": "2025-01-15T14:03:24.170Z"
   },
   {
    "duration": 2076,
    "start_time": "2025-01-15T14:03:24.175Z"
   },
   {
    "duration": 3,
    "start_time": "2025-01-15T14:03:26.252Z"
   },
   {
    "duration": 306,
    "start_time": "2025-01-15T14:03:26.257Z"
   },
   {
    "duration": 0,
    "start_time": "2025-01-15T14:03:26.564Z"
   },
   {
    "duration": 0,
    "start_time": "2025-01-15T14:03:26.566Z"
   },
   {
    "duration": 0,
    "start_time": "2025-01-15T14:03:26.567Z"
   },
   {
    "duration": 0,
    "start_time": "2025-01-15T14:03:26.568Z"
   },
   {
    "duration": 0,
    "start_time": "2025-01-15T14:03:26.569Z"
   },
   {
    "duration": 0,
    "start_time": "2025-01-15T14:03:26.570Z"
   },
   {
    "duration": 0,
    "start_time": "2025-01-15T14:03:26.572Z"
   },
   {
    "duration": 756,
    "start_time": "2025-01-15T14:08:01.914Z"
   },
   {
    "duration": 23006,
    "start_time": "2025-01-15T14:08:02.673Z"
   },
   {
    "duration": 1211,
    "start_time": "2025-01-15T14:08:25.681Z"
   },
   {
    "duration": 866,
    "start_time": "2025-01-15T14:08:26.947Z"
   },
   {
    "duration": 1532,
    "start_time": "2025-01-15T14:08:27.815Z"
   },
   {
    "duration": 921,
    "start_time": "2025-01-15T14:08:29.349Z"
   },
   {
    "duration": 3,
    "start_time": "2025-01-15T14:08:30.271Z"
   },
   {
    "duration": 2225,
    "start_time": "2025-01-15T14:08:30.275Z"
   },
   {
    "duration": 44,
    "start_time": "2025-01-15T14:08:32.502Z"
   },
   {
    "duration": 234,
    "start_time": "2025-01-15T14:08:32.548Z"
   },
   {
    "duration": 0,
    "start_time": "2025-01-15T14:08:32.784Z"
   },
   {
    "duration": 0,
    "start_time": "2025-01-15T14:08:32.785Z"
   },
   {
    "duration": 0,
    "start_time": "2025-01-15T14:08:32.787Z"
   },
   {
    "duration": 0,
    "start_time": "2025-01-15T14:08:32.788Z"
   },
   {
    "duration": 0,
    "start_time": "2025-01-15T14:08:32.789Z"
   },
   {
    "duration": 0,
    "start_time": "2025-01-15T14:08:32.790Z"
   },
   {
    "duration": 0,
    "start_time": "2025-01-15T14:08:32.791Z"
   },
   {
    "duration": 149,
    "start_time": "2025-01-15T14:16:28.123Z"
   },
   {
    "duration": 1285,
    "start_time": "2025-01-15T14:16:31.171Z"
   },
   {
    "duration": 7,
    "start_time": "2025-01-15T14:16:35.563Z"
   },
   {
    "duration": 103,
    "start_time": "2025-01-15T14:16:40.734Z"
   },
   {
    "duration": 2163,
    "start_time": "2025-01-15T14:17:49.013Z"
   },
   {
    "duration": 280,
    "start_time": "2025-01-15T14:17:52.803Z"
   },
   {
    "duration": 19,
    "start_time": "2025-01-15T14:18:32.271Z"
   },
   {
    "duration": 442,
    "start_time": "2025-01-15T14:19:32.728Z"
   },
   {
    "duration": 68,
    "start_time": "2025-01-15T14:19:35.233Z"
   },
   {
    "duration": 634,
    "start_time": "2025-01-15T14:19:44.458Z"
   },
   {
    "duration": 23476,
    "start_time": "2025-01-15T14:19:45.094Z"
   },
   {
    "duration": 1315,
    "start_time": "2025-01-15T14:20:08.571Z"
   },
   {
    "duration": 814,
    "start_time": "2025-01-15T14:20:09.887Z"
   },
   {
    "duration": 1513,
    "start_time": "2025-01-15T14:20:10.746Z"
   },
   {
    "duration": 818,
    "start_time": "2025-01-15T14:20:12.261Z"
   },
   {
    "duration": 2,
    "start_time": "2025-01-15T14:20:13.147Z"
   },
   {
    "duration": 1952,
    "start_time": "2025-01-15T14:20:13.151Z"
   },
   {
    "duration": 949,
    "start_time": "2025-01-15T14:20:15.105Z"
   },
   {
    "duration": 196,
    "start_time": "2025-01-15T14:20:16.058Z"
   },
   {
    "duration": 28,
    "start_time": "2025-01-15T14:20:16.256Z"
   },
   {
    "duration": 1290,
    "start_time": "2025-01-15T14:20:16.286Z"
   },
   {
    "duration": 69,
    "start_time": "2025-01-15T14:20:17.578Z"
   },
   {
    "duration": 528,
    "start_time": "2025-01-15T14:20:17.649Z"
   },
   {
    "duration": 2886,
    "start_time": "2025-01-15T14:20:18.179Z"
   },
   {
    "duration": 297,
    "start_time": "2025-01-15T14:20:21.067Z"
   },
   {
    "duration": 0,
    "start_time": "2025-01-15T14:20:21.366Z"
   },
   {
    "duration": 271063,
    "start_time": "2025-01-15T14:20:33.196Z"
   },
   {
    "duration": 114937,
    "start_time": "2025-01-15T14:25:20.025Z"
   },
   {
    "duration": 55129,
    "start_time": "2025-01-15T15:05:54.227Z"
   },
   {
    "duration": 738,
    "start_time": "2025-01-15T15:20:32.053Z"
   },
   {
    "duration": 25755,
    "start_time": "2025-01-15T15:20:32.793Z"
   },
   {
    "duration": 1614,
    "start_time": "2025-01-15T15:20:58.549Z"
   },
   {
    "duration": 1121,
    "start_time": "2025-01-15T15:21:00.165Z"
   },
   {
    "duration": 1869,
    "start_time": "2025-01-15T15:21:01.288Z"
   },
   {
    "duration": 1029,
    "start_time": "2025-01-15T15:21:03.159Z"
   },
   {
    "duration": 10,
    "start_time": "2025-01-15T15:21:04.248Z"
   },
   {
    "duration": 2986,
    "start_time": "2025-01-15T15:21:04.261Z"
   },
   {
    "duration": 1001,
    "start_time": "2025-01-15T15:21:07.249Z"
   },
   {
    "duration": 117,
    "start_time": "2025-01-15T15:21:08.253Z"
   },
   {
    "duration": 105,
    "start_time": "2025-01-15T15:21:08.372Z"
   },
   {
    "duration": 1684,
    "start_time": "2025-01-15T15:21:08.479Z"
   },
   {
    "duration": 6,
    "start_time": "2025-01-15T15:21:10.165Z"
   },
   {
    "duration": 725,
    "start_time": "2025-01-15T15:21:10.246Z"
   },
   {
    "duration": 3699,
    "start_time": "2025-01-15T15:21:10.973Z"
   },
   {
    "duration": 223008,
    "start_time": "2025-01-15T15:21:14.675Z"
   },
   {
    "duration": 0,
    "start_time": "2025-01-15T15:24:57.685Z"
   },
   {
    "duration": 92659,
    "start_time": "2025-01-15T15:25:10.887Z"
   },
   {
    "duration": 687,
    "start_time": "2025-01-15T15:26:47.296Z"
   },
   {
    "duration": 23083,
    "start_time": "2025-01-15T15:26:47.985Z"
   },
   {
    "duration": 1236,
    "start_time": "2025-01-15T15:27:11.070Z"
   },
   {
    "duration": 1064,
    "start_time": "2025-01-15T15:27:12.308Z"
   },
   {
    "duration": 1587,
    "start_time": "2025-01-15T15:27:13.374Z"
   },
   {
    "duration": 906,
    "start_time": "2025-01-15T15:27:14.963Z"
   },
   {
    "duration": 2,
    "start_time": "2025-01-15T15:27:15.871Z"
   },
   {
    "duration": 2087,
    "start_time": "2025-01-15T15:27:15.875Z"
   },
   {
    "duration": 809,
    "start_time": "2025-01-15T15:27:17.963Z"
   },
   {
    "duration": 99,
    "start_time": "2025-01-15T15:27:18.775Z"
   },
   {
    "duration": 94,
    "start_time": "2025-01-15T15:27:18.875Z"
   },
   {
    "duration": 1196,
    "start_time": "2025-01-15T15:27:18.970Z"
   },
   {
    "duration": 5,
    "start_time": "2025-01-15T15:27:20.168Z"
   },
   {
    "duration": 626,
    "start_time": "2025-01-15T15:27:20.175Z"
   },
   {
    "duration": 2844,
    "start_time": "2025-01-15T15:27:20.803Z"
   },
   {
    "duration": 409,
    "start_time": "2025-01-15T15:27:23.649Z"
   },
   {
    "duration": 0,
    "start_time": "2025-01-15T15:27:24.060Z"
   },
   {
    "duration": 113,
    "start_time": "2025-01-15T15:28:15.724Z"
   },
   {
    "duration": 115,
    "start_time": "2025-01-15T15:30:06.223Z"
   },
   {
    "duration": 104,
    "start_time": "2025-01-15T15:30:15.466Z"
   },
   {
    "duration": 775,
    "start_time": "2025-01-15T15:31:01.112Z"
   },
   {
    "duration": 23061,
    "start_time": "2025-01-15T15:31:01.889Z"
   },
   {
    "duration": 1260,
    "start_time": "2025-01-15T15:31:24.951Z"
   },
   {
    "duration": 1041,
    "start_time": "2025-01-15T15:31:26.214Z"
   },
   {
    "duration": 1401,
    "start_time": "2025-01-15T15:31:27.256Z"
   },
   {
    "duration": 715,
    "start_time": "2025-01-15T15:31:28.658Z"
   },
   {
    "duration": 3,
    "start_time": "2025-01-15T15:31:29.374Z"
   },
   {
    "duration": 1978,
    "start_time": "2025-01-15T15:31:29.379Z"
   },
   {
    "duration": 725,
    "start_time": "2025-01-15T15:31:31.358Z"
   },
   {
    "duration": 94,
    "start_time": "2025-01-15T15:31:32.085Z"
   },
   {
    "duration": 92,
    "start_time": "2025-01-15T15:31:32.181Z"
   },
   {
    "duration": 1301,
    "start_time": "2025-01-15T15:31:32.275Z"
   },
   {
    "duration": 5,
    "start_time": "2025-01-15T15:31:33.578Z"
   },
   {
    "duration": 605,
    "start_time": "2025-01-15T15:31:33.585Z"
   },
   {
    "duration": 2680,
    "start_time": "2025-01-15T15:31:34.191Z"
   },
   {
    "duration": 394,
    "start_time": "2025-01-15T15:31:36.873Z"
   },
   {
    "duration": 0,
    "start_time": "2025-01-15T15:31:37.269Z"
   },
   {
    "duration": 2280,
    "start_time": "2025-01-15T15:34:58.966Z"
   },
   {
    "duration": 138284,
    "start_time": "2025-01-15T15:35:05.787Z"
   },
   {
    "duration": 680,
    "start_time": "2025-01-15T15:37:38.712Z"
   },
   {
    "duration": 23475,
    "start_time": "2025-01-15T15:37:39.394Z"
   },
   {
    "duration": 1316,
    "start_time": "2025-01-15T15:38:02.871Z"
   },
   {
    "duration": 1146,
    "start_time": "2025-01-15T15:38:04.246Z"
   },
   {
    "duration": 1572,
    "start_time": "2025-01-15T15:38:05.393Z"
   },
   {
    "duration": 881,
    "start_time": "2025-01-15T15:38:06.966Z"
   },
   {
    "duration": 3,
    "start_time": "2025-01-15T15:38:07.849Z"
   },
   {
    "duration": 2010,
    "start_time": "2025-01-15T15:38:07.853Z"
   },
   {
    "duration": 749,
    "start_time": "2025-01-15T15:38:09.865Z"
   },
   {
    "duration": 62,
    "start_time": "2025-01-15T15:38:10.617Z"
   },
   {
    "duration": 104,
    "start_time": "2025-01-15T15:38:10.681Z"
   },
   {
    "duration": 1295,
    "start_time": "2025-01-15T15:38:10.787Z"
   },
   {
    "duration": 6,
    "start_time": "2025-01-15T15:38:12.146Z"
   },
   {
    "duration": 599,
    "start_time": "2025-01-15T15:38:12.154Z"
   },
   {
    "duration": 2825,
    "start_time": "2025-01-15T15:38:12.754Z"
   },
   {
    "duration": 365,
    "start_time": "2025-01-15T15:38:15.581Z"
   },
   {
    "duration": 0,
    "start_time": "2025-01-15T15:38:15.948Z"
   },
   {
    "duration": 16,
    "start_time": "2025-01-15T15:38:43.479Z"
   },
   {
    "duration": 20,
    "start_time": "2025-01-15T15:39:15.007Z"
   },
   {
    "duration": 8,
    "start_time": "2025-01-15T15:39:51.223Z"
   },
   {
    "duration": 113,
    "start_time": "2025-01-15T15:40:04.600Z"
   },
   {
    "duration": 781,
    "start_time": "2025-01-15T18:14:13.921Z"
   },
   {
    "duration": 24794,
    "start_time": "2025-01-15T18:14:14.704Z"
   },
   {
    "duration": 1412,
    "start_time": "2025-01-15T18:14:39.560Z"
   },
   {
    "duration": 1130,
    "start_time": "2025-01-15T18:14:40.974Z"
   },
   {
    "duration": 1654,
    "start_time": "2025-01-15T18:14:42.106Z"
   },
   {
    "duration": 1033,
    "start_time": "2025-01-15T18:14:43.762Z"
   },
   {
    "duration": 3,
    "start_time": "2025-01-15T18:14:44.797Z"
   },
   {
    "duration": 2219,
    "start_time": "2025-01-15T18:14:44.861Z"
   },
   {
    "duration": 859,
    "start_time": "2025-01-15T18:14:47.081Z"
   },
   {
    "duration": 118,
    "start_time": "2025-01-15T18:14:47.944Z"
   },
   {
    "duration": 96,
    "start_time": "2025-01-15T18:14:48.064Z"
   },
   {
    "duration": 1438,
    "start_time": "2025-01-15T18:14:48.162Z"
   },
   {
    "duration": 7,
    "start_time": "2025-01-15T18:14:49.661Z"
   },
   {
    "duration": 739,
    "start_time": "2025-01-15T18:14:49.670Z"
   },
   {
    "duration": 303,
    "start_time": "2025-01-15T18:14:50.411Z"
   },
   {
    "duration": 0,
    "start_time": "2025-01-15T18:14:50.715Z"
   },
   {
    "duration": 0,
    "start_time": "2025-01-15T18:14:50.717Z"
   },
   {
    "duration": 717,
    "start_time": "2025-01-15T18:45:46.193Z"
   },
   {
    "duration": 26179,
    "start_time": "2025-01-15T18:45:46.912Z"
   },
   {
    "duration": 110,
    "start_time": "2025-01-15T18:46:13.093Z"
   },
   {
    "duration": 1518,
    "start_time": "2025-01-15T18:46:13.261Z"
   },
   {
    "duration": 1107,
    "start_time": "2025-01-15T18:46:14.781Z"
   },
   {
    "duration": 1894,
    "start_time": "2025-01-15T18:46:15.890Z"
   },
   {
    "duration": 1080,
    "start_time": "2025-01-15T18:46:17.786Z"
   },
   {
    "duration": 4,
    "start_time": "2025-01-15T18:46:18.867Z"
   },
   {
    "duration": 2690,
    "start_time": "2025-01-15T18:46:18.872Z"
   },
   {
    "duration": 894,
    "start_time": "2025-01-15T18:46:21.566Z"
   },
   {
    "duration": 129,
    "start_time": "2025-01-15T18:46:22.462Z"
   },
   {
    "duration": 96,
    "start_time": "2025-01-15T18:46:22.593Z"
   },
   {
    "duration": 1510,
    "start_time": "2025-01-15T18:46:22.759Z"
   },
   {
    "duration": 6,
    "start_time": "2025-01-15T18:46:24.271Z"
   },
   {
    "duration": 612,
    "start_time": "2025-01-15T18:46:24.278Z"
   },
   {
    "duration": 3896,
    "start_time": "2025-01-15T18:46:24.892Z"
   },
   {
    "duration": 100171,
    "start_time": "2025-01-15T18:46:28.790Z"
   },
   {
    "duration": 0,
    "start_time": "2025-01-15T18:48:08.964Z"
   },
   {
    "duration": 771,
    "start_time": "2025-01-15T18:48:48.739Z"
   },
   {
    "duration": 26278,
    "start_time": "2025-01-15T18:48:49.512Z"
   },
   {
    "duration": 110,
    "start_time": "2025-01-15T18:49:15.792Z"
   },
   {
    "duration": 1421,
    "start_time": "2025-01-15T18:49:15.959Z"
   },
   {
    "duration": 798,
    "start_time": "2025-01-15T18:49:17.382Z"
   },
   {
    "duration": 1598,
    "start_time": "2025-01-15T18:49:18.183Z"
   },
   {
    "duration": 1096,
    "start_time": "2025-01-15T18:49:19.783Z"
   },
   {
    "duration": 3,
    "start_time": "2025-01-15T18:49:20.882Z"
   },
   {
    "duration": 2493,
    "start_time": "2025-01-15T18:49:20.887Z"
   },
   {
    "duration": 1049,
    "start_time": "2025-01-15T18:49:23.383Z"
   },
   {
    "duration": 108,
    "start_time": "2025-01-15T18:49:24.461Z"
   },
   {
    "duration": 93,
    "start_time": "2025-01-15T18:49:24.571Z"
   },
   {
    "duration": 4,
    "start_time": "2025-01-15T18:49:24.666Z"
   },
   {
    "duration": 6,
    "start_time": "2025-01-15T18:49:24.672Z"
   },
   {
    "duration": 819,
    "start_time": "2025-01-15T18:49:24.680Z"
   },
   {
    "duration": 3783,
    "start_time": "2025-01-15T18:49:25.501Z"
   },
   {
    "duration": 275298,
    "start_time": "2025-01-15T18:49:29.286Z"
   },
   {
    "duration": 0,
    "start_time": "2025-01-15T18:54:04.586Z"
   },
   {
    "duration": 857,
    "start_time": "2025-01-15T18:55:03.807Z"
   },
   {
    "duration": 25799,
    "start_time": "2025-01-15T18:55:04.666Z"
   },
   {
    "duration": 92,
    "start_time": "2025-01-15T18:55:30.468Z"
   },
   {
    "duration": 1406,
    "start_time": "2025-01-15T18:55:30.566Z"
   },
   {
    "duration": 986,
    "start_time": "2025-01-15T18:55:31.974Z"
   },
   {
    "duration": 1724,
    "start_time": "2025-01-15T18:55:32.963Z"
   },
   {
    "duration": 900,
    "start_time": "2025-01-15T18:55:34.689Z"
   },
   {
    "duration": 3,
    "start_time": "2025-01-15T18:55:35.592Z"
   },
   {
    "duration": 2509,
    "start_time": "2025-01-15T18:55:35.660Z"
   },
   {
    "duration": 831,
    "start_time": "2025-01-15T18:55:38.171Z"
   },
   {
    "duration": 98,
    "start_time": "2025-01-15T18:55:39.004Z"
   },
   {
    "duration": 210,
    "start_time": "2025-01-15T18:55:39.161Z"
   },
   {
    "duration": 0,
    "start_time": "2025-01-15T18:55:39.372Z"
   },
   {
    "duration": 0,
    "start_time": "2025-01-15T18:55:39.374Z"
   },
   {
    "duration": 0,
    "start_time": "2025-01-15T18:55:39.375Z"
   },
   {
    "duration": 0,
    "start_time": "2025-01-15T18:55:39.376Z"
   },
   {
    "duration": 0,
    "start_time": "2025-01-15T18:55:39.377Z"
   },
   {
    "duration": 0,
    "start_time": "2025-01-15T18:55:39.379Z"
   },
   {
    "duration": 732,
    "start_time": "2025-01-15T18:56:10.681Z"
   },
   {
    "duration": 27668,
    "start_time": "2025-01-15T18:56:11.415Z"
   },
   {
    "duration": 109,
    "start_time": "2025-01-15T18:56:39.085Z"
   },
   {
    "duration": 1490,
    "start_time": "2025-01-15T18:56:39.197Z"
   },
   {
    "duration": 894,
    "start_time": "2025-01-15T18:56:40.689Z"
   },
   {
    "duration": 1875,
    "start_time": "2025-01-15T18:56:41.585Z"
   },
   {
    "duration": 1014,
    "start_time": "2025-01-15T18:56:43.462Z"
   },
   {
    "duration": 4,
    "start_time": "2025-01-15T18:56:44.478Z"
   },
   {
    "duration": 2804,
    "start_time": "2025-01-15T18:56:44.484Z"
   },
   {
    "duration": 900,
    "start_time": "2025-01-15T18:56:47.291Z"
   },
   {
    "duration": 104,
    "start_time": "2025-01-15T18:56:48.194Z"
   },
   {
    "duration": 90,
    "start_time": "2025-01-15T18:56:48.300Z"
   },
   {
    "duration": 3,
    "start_time": "2025-01-15T18:56:48.393Z"
   },
   {
    "duration": 63,
    "start_time": "2025-01-15T18:56:48.398Z"
   },
   {
    "duration": 715,
    "start_time": "2025-01-15T18:56:48.462Z"
   },
   {
    "duration": 4000,
    "start_time": "2025-01-15T18:56:49.179Z"
   },
   {
    "duration": 53394,
    "start_time": "2025-01-15T18:56:53.181Z"
   },
   {
    "duration": 0,
    "start_time": "2025-01-15T18:57:46.577Z"
   },
   {
    "duration": 793,
    "start_time": "2025-01-15T18:58:57.020Z"
   },
   {
    "duration": 26266,
    "start_time": "2025-01-15T18:58:57.815Z"
   },
   {
    "duration": 94,
    "start_time": "2025-01-15T18:59:24.083Z"
   },
   {
    "duration": 1401,
    "start_time": "2025-01-15T18:59:24.182Z"
   },
   {
    "duration": 913,
    "start_time": "2025-01-15T18:59:25.585Z"
   },
   {
    "duration": 1482,
    "start_time": "2025-01-15T18:59:26.500Z"
   },
   {
    "duration": 393,
    "start_time": "2025-01-15T18:59:27.984Z"
   },
   {
    "duration": 0,
    "start_time": "2025-01-15T18:59:28.379Z"
   },
   {
    "duration": 0,
    "start_time": "2025-01-15T18:59:28.380Z"
   },
   {
    "duration": 0,
    "start_time": "2025-01-15T18:59:28.381Z"
   },
   {
    "duration": 0,
    "start_time": "2025-01-15T18:59:28.383Z"
   },
   {
    "duration": 0,
    "start_time": "2025-01-15T18:59:28.383Z"
   },
   {
    "duration": 0,
    "start_time": "2025-01-15T18:59:28.385Z"
   },
   {
    "duration": 0,
    "start_time": "2025-01-15T18:59:28.386Z"
   },
   {
    "duration": 0,
    "start_time": "2025-01-15T18:59:28.387Z"
   },
   {
    "duration": 0,
    "start_time": "2025-01-15T18:59:28.388Z"
   },
   {
    "duration": 0,
    "start_time": "2025-01-15T18:59:28.389Z"
   },
   {
    "duration": 0,
    "start_time": "2025-01-15T18:59:28.390Z"
   },
   {
    "duration": 3,
    "start_time": "2025-01-15T19:00:03.820Z"
   },
   {
    "duration": 4,
    "start_time": "2025-01-15T19:00:05.367Z"
   },
   {
    "duration": 2533,
    "start_time": "2025-01-15T19:00:07.667Z"
   },
   {
    "duration": 756,
    "start_time": "2025-01-15T19:00:11.933Z"
   },
   {
    "duration": 59,
    "start_time": "2025-01-15T19:00:14.342Z"
   },
   {
    "duration": 40,
    "start_time": "2025-01-15T19:00:17.523Z"
   },
   {
    "duration": 6,
    "start_time": "2025-01-15T19:00:20.884Z"
   },
   {
    "duration": 688,
    "start_time": "2025-01-15T19:00:23.217Z"
   },
   {
    "duration": 3963,
    "start_time": "2025-01-15T19:00:25.717Z"
   },
   {
    "duration": 65387,
    "start_time": "2025-01-15T19:00:31.090Z"
   },
   {
    "duration": 710,
    "start_time": "2025-01-15T19:03:37.805Z"
   },
   {
    "duration": 25577,
    "start_time": "2025-01-15T19:03:38.518Z"
   },
   {
    "duration": 34,
    "start_time": "2025-01-15T19:04:04.161Z"
   },
   {
    "duration": 1344,
    "start_time": "2025-01-15T19:04:04.263Z"
   },
   {
    "duration": 813,
    "start_time": "2025-01-15T19:04:05.659Z"
   },
   {
    "duration": 1523,
    "start_time": "2025-01-15T19:04:06.474Z"
   },
   {
    "duration": 62,
    "start_time": "2025-01-15T19:04:07.999Z"
   },
   {
    "duration": 8,
    "start_time": "2025-01-15T19:04:08.063Z"
   },
   {
    "duration": 3,
    "start_time": "2025-01-15T19:04:08.073Z"
   },
   {
    "duration": 8,
    "start_time": "2025-01-15T19:04:08.080Z"
   },
   {
    "duration": 3,
    "start_time": "2025-01-15T19:04:08.090Z"
   },
   {
    "duration": 215,
    "start_time": "2025-01-15T19:04:08.159Z"
   },
   {
    "duration": 0,
    "start_time": "2025-01-15T19:04:08.376Z"
   },
   {
    "duration": 0,
    "start_time": "2025-01-15T19:04:08.378Z"
   },
   {
    "duration": 0,
    "start_time": "2025-01-15T19:04:08.380Z"
   },
   {
    "duration": 0,
    "start_time": "2025-01-15T19:04:08.382Z"
   },
   {
    "duration": 0,
    "start_time": "2025-01-15T19:04:08.383Z"
   },
   {
    "duration": 0,
    "start_time": "2025-01-15T19:04:08.385Z"
   },
   {
    "duration": 265,
    "start_time": "2025-01-15T19:05:25.337Z"
   },
   {
    "duration": 1872,
    "start_time": "2025-01-15T19:05:27.829Z"
   },
   {
    "duration": 10,
    "start_time": "2025-01-15T19:05:32.849Z"
   },
   {
    "duration": 95,
    "start_time": "2025-01-15T19:05:39.155Z"
   },
   {
    "duration": 520,
    "start_time": "2025-01-15T19:05:44.070Z"
   },
   {
    "duration": 3021,
    "start_time": "2025-01-15T19:05:47.949Z"
   },
   {
    "duration": 141124,
    "start_time": "2025-01-15T19:05:52.391Z"
   },
   {
    "duration": 150420,
    "start_time": "2025-01-15T19:08:21.018Z"
   },
   {
    "duration": 20,
    "start_time": "2025-01-15T19:10:54.662Z"
   },
   {
    "duration": 763,
    "start_time": "2025-01-15T19:11:45.549Z"
   },
   {
    "duration": 27174,
    "start_time": "2025-01-15T19:11:46.315Z"
   },
   {
    "duration": 99,
    "start_time": "2025-01-15T19:12:13.492Z"
   },
   {
    "duration": 1274,
    "start_time": "2025-01-15T19:12:13.596Z"
   },
   {
    "duration": 829,
    "start_time": "2025-01-15T19:12:14.872Z"
   },
   {
    "duration": 1532,
    "start_time": "2025-01-15T19:12:15.761Z"
   },
   {
    "duration": 64,
    "start_time": "2025-01-15T19:12:17.296Z"
   },
   {
    "duration": 10,
    "start_time": "2025-01-15T19:12:17.363Z"
   },
   {
    "duration": 8,
    "start_time": "2025-01-15T19:12:17.376Z"
   },
   {
    "duration": 4,
    "start_time": "2025-01-15T19:12:17.388Z"
   },
   {
    "duration": 10,
    "start_time": "2025-01-15T19:12:17.394Z"
   },
   {
    "duration": 604,
    "start_time": "2025-01-15T19:12:17.462Z"
   },
   {
    "duration": 1827,
    "start_time": "2025-01-15T19:12:18.069Z"
   },
   {
    "duration": 69,
    "start_time": "2025-01-15T19:12:19.899Z"
   },
   {
    "duration": 589,
    "start_time": "2025-01-15T19:12:19.971Z"
   },
   {
    "duration": 3320,
    "start_time": "2025-01-15T19:12:20.563Z"
   },
   {
    "duration": 382,
    "start_time": "2025-01-15T19:12:23.884Z"
   },
   {
    "duration": 0,
    "start_time": "2025-01-15T19:12:24.268Z"
   },
   {
    "duration": 799,
    "start_time": "2025-01-15T19:19:33.568Z"
   },
   {
    "duration": 25707,
    "start_time": "2025-01-15T19:19:34.369Z"
   },
   {
    "duration": 122,
    "start_time": "2025-01-15T19:20:00.078Z"
   },
   {
    "duration": 1689,
    "start_time": "2025-01-15T19:20:00.202Z"
   },
   {
    "duration": 934,
    "start_time": "2025-01-15T19:20:01.893Z"
   },
   {
    "duration": 2039,
    "start_time": "2025-01-15T19:20:02.829Z"
   },
   {
    "duration": 1094,
    "start_time": "2025-01-15T19:20:04.871Z"
   },
   {
    "duration": 3,
    "start_time": "2025-01-15T19:20:05.967Z"
   },
   {
    "duration": 2636,
    "start_time": "2025-01-15T19:20:05.972Z"
   },
   {
    "duration": 805,
    "start_time": "2025-01-15T19:20:08.611Z"
   },
   {
    "duration": 85,
    "start_time": "2025-01-15T19:20:09.418Z"
   },
   {
    "duration": 100,
    "start_time": "2025-01-15T19:20:09.560Z"
   },
   {
    "duration": 1502,
    "start_time": "2025-01-15T19:20:09.662Z"
   },
   {
    "duration": 5,
    "start_time": "2025-01-15T19:20:11.166Z"
   },
   {
    "duration": 302,
    "start_time": "2025-01-15T19:20:11.173Z"
   },
   {
    "duration": 0,
    "start_time": "2025-01-15T19:20:11.477Z"
   },
   {
    "duration": 0,
    "start_time": "2025-01-15T19:20:11.479Z"
   },
   {
    "duration": 0,
    "start_time": "2025-01-15T19:20:11.480Z"
   },
   {
    "duration": 122,
    "start_time": "2025-01-15T19:22:54.333Z"
   },
   {
    "duration": 706,
    "start_time": "2025-01-15T19:23:03.901Z"
   },
   {
    "duration": 26884,
    "start_time": "2025-01-15T19:23:04.609Z"
   },
   {
    "duration": 203,
    "start_time": "2025-01-15T19:23:31.495Z"
   },
   {
    "duration": 1600,
    "start_time": "2025-01-15T19:23:31.701Z"
   },
   {
    "duration": 1417,
    "start_time": "2025-01-15T19:23:33.304Z"
   },
   {
    "duration": 2056,
    "start_time": "2025-01-15T19:23:34.723Z"
   },
   {
    "duration": 989,
    "start_time": "2025-01-15T19:23:36.781Z"
   },
   {
    "duration": 4,
    "start_time": "2025-01-15T19:23:37.772Z"
   },
   {
    "duration": 2482,
    "start_time": "2025-01-15T19:23:37.778Z"
   },
   {
    "duration": 928,
    "start_time": "2025-01-15T19:23:40.262Z"
   },
   {
    "duration": 181,
    "start_time": "2025-01-15T19:23:41.193Z"
   },
   {
    "duration": 120,
    "start_time": "2025-01-15T19:23:41.377Z"
   },
   {
    "duration": 1978,
    "start_time": "2025-01-15T19:23:41.500Z"
   },
   {
    "duration": 80,
    "start_time": "2025-01-15T19:23:43.482Z"
   },
   {
    "duration": 551,
    "start_time": "2025-01-15T19:23:43.564Z"
   },
   {
    "duration": 3713,
    "start_time": "2025-01-15T19:23:44.160Z"
   },
   {
    "duration": 425,
    "start_time": "2025-01-15T19:23:47.875Z"
   },
   {
    "duration": 0,
    "start_time": "2025-01-15T19:23:48.302Z"
   },
   {
    "duration": 4843,
    "start_time": "2025-01-15T19:25:43.145Z"
   },
   {
    "duration": 1181,
    "start_time": "2025-01-15T19:25:58.179Z"
   },
   {
    "duration": 722,
    "start_time": "2025-01-16T13:07:15.965Z"
   },
   {
    "duration": 24270,
    "start_time": "2025-01-16T13:07:16.689Z"
   },
   {
    "duration": 113,
    "start_time": "2025-01-16T13:07:40.961Z"
   },
   {
    "duration": 1665,
    "start_time": "2025-01-16T13:07:41.077Z"
   },
   {
    "duration": 706,
    "start_time": "2025-01-16T13:07:42.744Z"
   },
   {
    "duration": 1610,
    "start_time": "2025-01-16T13:07:43.451Z"
   },
   {
    "duration": 975,
    "start_time": "2025-01-16T13:07:45.063Z"
   },
   {
    "duration": 3,
    "start_time": "2025-01-16T13:07:46.040Z"
   },
   {
    "duration": 2093,
    "start_time": "2025-01-16T13:07:46.044Z"
   },
   {
    "duration": 804,
    "start_time": "2025-01-16T13:07:48.141Z"
   },
   {
    "duration": 108,
    "start_time": "2025-01-16T13:07:48.947Z"
   },
   {
    "duration": 94,
    "start_time": "2025-01-16T13:07:49.057Z"
   },
   {
    "duration": 1493,
    "start_time": "2025-01-16T13:07:49.152Z"
   },
   {
    "duration": 6,
    "start_time": "2025-01-16T13:07:50.647Z"
   },
   {
    "duration": 643,
    "start_time": "2025-01-16T13:07:50.655Z"
   },
   {
    "duration": 3353,
    "start_time": "2025-01-16T13:07:51.299Z"
   },
   {
    "duration": 4614,
    "start_time": "2025-01-16T13:07:54.653Z"
   },
   {
    "duration": 1029,
    "start_time": "2025-01-16T13:07:59.269Z"
   },
   {
    "duration": 697,
    "start_time": "2025-01-16T13:52:12.891Z"
   },
   {
    "duration": 25468,
    "start_time": "2025-01-16T13:52:13.590Z"
   },
   {
    "duration": 178,
    "start_time": "2025-01-16T13:52:39.059Z"
   },
   {
    "duration": 1321,
    "start_time": "2025-01-16T13:52:39.240Z"
   },
   {
    "duration": 176,
    "start_time": "2025-01-16T13:52:40.563Z"
   },
   {
    "duration": 0,
    "start_time": "2025-01-16T13:52:40.742Z"
   },
   {
    "duration": 0,
    "start_time": "2025-01-16T13:52:40.743Z"
   },
   {
    "duration": 0,
    "start_time": "2025-01-16T13:52:40.744Z"
   },
   {
    "duration": 0,
    "start_time": "2025-01-16T13:52:40.746Z"
   },
   {
    "duration": 0,
    "start_time": "2025-01-16T13:52:40.747Z"
   },
   {
    "duration": 0,
    "start_time": "2025-01-16T13:52:40.748Z"
   },
   {
    "duration": 0,
    "start_time": "2025-01-16T13:52:40.750Z"
   },
   {
    "duration": 0,
    "start_time": "2025-01-16T13:52:40.751Z"
   },
   {
    "duration": 0,
    "start_time": "2025-01-16T13:52:40.752Z"
   },
   {
    "duration": 0,
    "start_time": "2025-01-16T13:52:40.753Z"
   },
   {
    "duration": 0,
    "start_time": "2025-01-16T13:52:40.755Z"
   },
   {
    "duration": 0,
    "start_time": "2025-01-16T13:52:40.756Z"
   },
   {
    "duration": 0,
    "start_time": "2025-01-16T13:52:40.757Z"
   },
   {
    "duration": 708,
    "start_time": "2025-01-16T13:54:33.780Z"
   },
   {
    "duration": 23549,
    "start_time": "2025-01-16T13:54:34.490Z"
   },
   {
    "duration": 136,
    "start_time": "2025-01-16T13:54:58.041Z"
   },
   {
    "duration": 139,
    "start_time": "2025-01-16T13:54:58.239Z"
   },
   {
    "duration": 0,
    "start_time": "2025-01-16T13:54:58.380Z"
   },
   {
    "duration": 0,
    "start_time": "2025-01-16T13:54:58.381Z"
   },
   {
    "duration": 0,
    "start_time": "2025-01-16T13:54:58.382Z"
   },
   {
    "duration": 0,
    "start_time": "2025-01-16T13:54:58.383Z"
   },
   {
    "duration": 0,
    "start_time": "2025-01-16T13:54:58.384Z"
   },
   {
    "duration": 0,
    "start_time": "2025-01-16T13:54:58.385Z"
   },
   {
    "duration": 0,
    "start_time": "2025-01-16T13:54:58.386Z"
   },
   {
    "duration": 0,
    "start_time": "2025-01-16T13:54:58.440Z"
   },
   {
    "duration": 0,
    "start_time": "2025-01-16T13:54:58.442Z"
   },
   {
    "duration": 0,
    "start_time": "2025-01-16T13:54:58.443Z"
   },
   {
    "duration": 0,
    "start_time": "2025-01-16T13:54:58.444Z"
   },
   {
    "duration": 0,
    "start_time": "2025-01-16T13:54:58.445Z"
   },
   {
    "duration": 0,
    "start_time": "2025-01-16T13:54:58.446Z"
   },
   {
    "duration": 0,
    "start_time": "2025-01-16T13:54:58.446Z"
   },
   {
    "duration": 775,
    "start_time": "2025-01-16T13:55:28.705Z"
   },
   {
    "duration": 24169,
    "start_time": "2025-01-16T13:55:29.482Z"
   },
   {
    "duration": 184,
    "start_time": "2025-01-16T13:55:53.653Z"
   },
   {
    "duration": 1535,
    "start_time": "2025-01-16T13:55:53.840Z"
   },
   {
    "duration": 965,
    "start_time": "2025-01-16T13:55:55.376Z"
   },
   {
    "duration": 1806,
    "start_time": "2025-01-16T13:55:56.343Z"
   },
   {
    "duration": 904,
    "start_time": "2025-01-16T13:55:58.151Z"
   },
   {
    "duration": 3,
    "start_time": "2025-01-16T13:55:59.057Z"
   },
   {
    "duration": 2212,
    "start_time": "2025-01-16T13:55:59.061Z"
   },
   {
    "duration": 743,
    "start_time": "2025-01-16T13:56:01.275Z"
   },
   {
    "duration": 54,
    "start_time": "2025-01-16T13:56:02.020Z"
   },
   {
    "duration": 92,
    "start_time": "2025-01-16T13:56:02.076Z"
   },
   {
    "duration": 1333,
    "start_time": "2025-01-16T13:56:02.237Z"
   },
   {
    "duration": 67,
    "start_time": "2025-01-16T13:56:03.572Z"
   },
   {
    "duration": 529,
    "start_time": "2025-01-16T13:56:03.641Z"
   },
   {
    "duration": 3466,
    "start_time": "2025-01-16T13:56:04.172Z"
   },
   {
    "duration": 158,
    "start_time": "2025-01-16T13:56:07.640Z"
   },
   {
    "duration": 0,
    "start_time": "2025-01-16T13:56:07.799Z"
   },
   {
    "duration": 4320,
    "start_time": "2025-01-16T13:56:14.038Z"
   },
   {
    "duration": 888,
    "start_time": "2025-01-16T13:56:30.310Z"
   },
   {
    "duration": 9,
    "start_time": "2025-01-16T14:03:51.910Z"
   },
   {
    "duration": 5,
    "start_time": "2025-01-16T14:04:32.428Z"
   },
   {
    "duration": 148,
    "start_time": "2025-01-16T14:04:38.088Z"
   },
   {
    "duration": 2478,
    "start_time": "2025-01-16T14:06:09.061Z"
   },
   {
    "duration": 700,
    "start_time": "2025-01-16T14:16:01.390Z"
   },
   {
    "duration": 24064,
    "start_time": "2025-01-16T14:16:02.092Z"
   },
   {
    "duration": 196,
    "start_time": "2025-01-16T14:16:26.158Z"
   },
   {
    "duration": 1480,
    "start_time": "2025-01-16T14:16:26.357Z"
   },
   {
    "duration": 1154,
    "start_time": "2025-01-16T14:16:27.839Z"
   },
   {
    "duration": 1662,
    "start_time": "2025-01-16T14:16:28.995Z"
   },
   {
    "duration": 884,
    "start_time": "2025-01-16T14:16:30.658Z"
   },
   {
    "duration": 4,
    "start_time": "2025-01-16T14:16:31.543Z"
   },
   {
    "duration": 2391,
    "start_time": "2025-01-16T14:16:31.549Z"
   },
   {
    "duration": 816,
    "start_time": "2025-01-16T14:16:33.943Z"
   },
   {
    "duration": 105,
    "start_time": "2025-01-16T14:16:34.761Z"
   },
   {
    "duration": 186,
    "start_time": "2025-01-16T14:16:34.868Z"
   },
   {
    "duration": 2361,
    "start_time": "2025-01-16T14:16:35.057Z"
   },
   {
    "duration": 0,
    "start_time": "2025-01-16T14:16:37.420Z"
   },
   {
    "duration": 0,
    "start_time": "2025-01-16T14:16:37.421Z"
   },
   {
    "duration": 0,
    "start_time": "2025-01-16T14:16:37.423Z"
   },
   {
    "duration": 0,
    "start_time": "2025-01-16T14:16:37.425Z"
   },
   {
    "duration": 0,
    "start_time": "2025-01-16T14:16:37.426Z"
   },
   {
    "duration": 0,
    "start_time": "2025-01-16T14:16:37.428Z"
   },
   {
    "duration": 0,
    "start_time": "2025-01-16T14:16:37.429Z"
   },
   {
    "duration": 0,
    "start_time": "2025-01-16T14:16:37.431Z"
   },
   {
    "duration": 1,
    "start_time": "2025-01-16T14:16:37.432Z"
   },
   {
    "duration": 0,
    "start_time": "2025-01-16T14:16:37.434Z"
   },
   {
    "duration": 0,
    "start_time": "2025-01-16T14:16:37.435Z"
   },
   {
    "duration": 0,
    "start_time": "2025-01-16T14:16:37.437Z"
   },
   {
    "duration": 715,
    "start_time": "2025-01-16T14:20:12.469Z"
   },
   {
    "duration": 24083,
    "start_time": "2025-01-16T14:20:13.186Z"
   },
   {
    "duration": 192,
    "start_time": "2025-01-16T14:20:37.271Z"
   },
   {
    "duration": 1391,
    "start_time": "2025-01-16T14:20:37.465Z"
   },
   {
    "duration": 1283,
    "start_time": "2025-01-16T14:20:38.858Z"
   },
   {
    "duration": 1697,
    "start_time": "2025-01-16T14:20:40.143Z"
   },
   {
    "duration": 1796,
    "start_time": "2025-01-16T14:20:41.842Z"
   },
   {
    "duration": 3,
    "start_time": "2025-01-16T14:20:43.639Z"
   },
   {
    "duration": 2038,
    "start_time": "2025-01-16T14:20:43.644Z"
   },
   {
    "duration": 906,
    "start_time": "2025-01-16T14:20:45.686Z"
   },
   {
    "duration": 81,
    "start_time": "2025-01-16T14:20:46.594Z"
   },
   {
    "duration": 181,
    "start_time": "2025-01-16T14:20:46.677Z"
   },
   {
    "duration": 2780,
    "start_time": "2025-01-16T14:20:46.859Z"
   },
   {
    "duration": 5,
    "start_time": "2025-01-16T14:20:49.641Z"
   },
   {
    "duration": 7,
    "start_time": "2025-01-16T14:20:49.647Z"
   },
   {
    "duration": 580,
    "start_time": "2025-01-16T14:20:49.656Z"
   },
   {
    "duration": 305,
    "start_time": "2025-01-16T14:20:50.238Z"
   },
   {
    "duration": 0,
    "start_time": "2025-01-16T14:20:50.545Z"
   },
   {
    "duration": 0,
    "start_time": "2025-01-16T14:20:50.546Z"
   },
   {
    "duration": 0,
    "start_time": "2025-01-16T14:20:50.547Z"
   },
   {
    "duration": 0,
    "start_time": "2025-01-16T14:20:50.548Z"
   },
   {
    "duration": 0,
    "start_time": "2025-01-16T14:20:50.549Z"
   },
   {
    "duration": 0,
    "start_time": "2025-01-16T14:20:50.550Z"
   },
   {
    "duration": 0,
    "start_time": "2025-01-16T14:20:50.552Z"
   },
   {
    "duration": 0,
    "start_time": "2025-01-16T14:20:50.553Z"
   },
   {
    "duration": 738,
    "start_time": "2025-01-16T14:26:58.150Z"
   },
   {
    "duration": 24073,
    "start_time": "2025-01-16T14:26:58.890Z"
   },
   {
    "duration": 197,
    "start_time": "2025-01-16T14:27:22.965Z"
   },
   {
    "duration": 1584,
    "start_time": "2025-01-16T14:27:23.165Z"
   },
   {
    "duration": 1002,
    "start_time": "2025-01-16T14:27:24.751Z"
   },
   {
    "duration": 1801,
    "start_time": "2025-01-16T14:27:25.755Z"
   },
   {
    "duration": 1589,
    "start_time": "2025-01-16T14:27:27.558Z"
   },
   {
    "duration": 3,
    "start_time": "2025-01-16T14:27:29.148Z"
   },
   {
    "duration": 2022,
    "start_time": "2025-01-16T14:27:29.153Z"
   },
   {
    "duration": 882,
    "start_time": "2025-01-16T14:27:31.179Z"
   },
   {
    "duration": 111,
    "start_time": "2025-01-16T14:27:32.063Z"
   },
   {
    "duration": 173,
    "start_time": "2025-01-16T14:27:32.176Z"
   },
   {
    "duration": 2197,
    "start_time": "2025-01-16T14:27:32.350Z"
   },
   {
    "duration": 7,
    "start_time": "2025-01-16T14:27:34.549Z"
   },
   {
    "duration": 80,
    "start_time": "2025-01-16T14:27:34.558Z"
   },
   {
    "duration": 551,
    "start_time": "2025-01-16T14:27:34.639Z"
   },
   {
    "duration": 3,
    "start_time": "2025-01-16T14:27:35.236Z"
   },
   {
    "duration": 3226,
    "start_time": "2025-01-16T14:27:35.241Z"
   },
   {
    "duration": 1690,
    "start_time": "2025-01-16T14:27:38.468Z"
   },
   {
    "duration": 4579,
    "start_time": "2025-01-16T14:27:40.160Z"
   },
   {
    "duration": 293,
    "start_time": "2025-01-16T14:27:44.741Z"
   },
   {
    "duration": 0,
    "start_time": "2025-01-16T14:27:45.035Z"
   },
   {
    "duration": 0,
    "start_time": "2025-01-16T14:27:45.037Z"
   },
   {
    "duration": 0,
    "start_time": "2025-01-16T14:27:45.038Z"
   },
   {
    "duration": 0,
    "start_time": "2025-01-16T14:27:45.039Z"
   },
   {
    "duration": 709,
    "start_time": "2025-01-16T14:49:37.880Z"
   },
   {
    "duration": 24882,
    "start_time": "2025-01-16T14:49:38.591Z"
   },
   {
    "duration": 262,
    "start_time": "2025-01-16T14:50:03.475Z"
   },
   {
    "duration": 1626,
    "start_time": "2025-01-16T14:50:03.740Z"
   },
   {
    "duration": 1205,
    "start_time": "2025-01-16T14:50:05.367Z"
   },
   {
    "duration": 1866,
    "start_time": "2025-01-16T14:50:06.574Z"
   },
   {
    "duration": 1717,
    "start_time": "2025-01-16T14:50:08.441Z"
   },
   {
    "duration": 3,
    "start_time": "2025-01-16T14:50:10.160Z"
   },
   {
    "duration": 2219,
    "start_time": "2025-01-16T14:50:10.165Z"
   },
   {
    "duration": 692,
    "start_time": "2025-01-16T14:50:12.388Z"
   },
   {
    "duration": 85,
    "start_time": "2025-01-16T14:50:13.082Z"
   },
   {
    "duration": 169,
    "start_time": "2025-01-16T14:50:13.169Z"
   },
   {
    "duration": 2217,
    "start_time": "2025-01-16T14:50:13.340Z"
   },
   {
    "duration": 7,
    "start_time": "2025-01-16T14:50:15.559Z"
   },
   {
    "duration": 73,
    "start_time": "2025-01-16T14:50:15.568Z"
   },
   {
    "duration": 623,
    "start_time": "2025-01-16T14:50:15.643Z"
   },
   {
    "duration": 298,
    "start_time": "2025-01-16T14:50:16.268Z"
   },
   {
    "duration": 0,
    "start_time": "2025-01-16T14:50:16.569Z"
   },
   {
    "duration": 0,
    "start_time": "2025-01-16T14:50:16.571Z"
   },
   {
    "duration": 0,
    "start_time": "2025-01-16T14:50:16.572Z"
   },
   {
    "duration": 0,
    "start_time": "2025-01-16T14:50:16.573Z"
   },
   {
    "duration": 0,
    "start_time": "2025-01-16T14:50:16.574Z"
   },
   {
    "duration": 0,
    "start_time": "2025-01-16T14:50:16.575Z"
   },
   {
    "duration": 0,
    "start_time": "2025-01-16T14:50:16.576Z"
   },
   {
    "duration": 0,
    "start_time": "2025-01-16T14:50:16.577Z"
   },
   {
    "duration": 521,
    "start_time": "2025-01-16T14:51:12.617Z"
   },
   {
    "duration": 3225,
    "start_time": "2025-01-16T14:52:37.247Z"
   },
   {
    "duration": 1699,
    "start_time": "2025-01-16T14:52:42.354Z"
   },
   {
    "duration": 4129,
    "start_time": "2025-01-16T14:52:48.519Z"
   },
   {
    "duration": 2561,
    "start_time": "2025-01-16T14:52:53.208Z"
   },
   {
    "duration": 922,
    "start_time": "2025-01-16T14:52:56.661Z"
   },
   {
    "duration": 750,
    "start_time": "2025-01-16T14:53:00.257Z"
   },
   {
    "duration": 2369,
    "start_time": "2025-01-16T14:53:11.826Z"
   },
   {
    "duration": 1842,
    "start_time": "2025-01-16T14:53:15.565Z"
   },
   {
    "duration": 1605,
    "start_time": "2025-01-16T14:55:16.983Z"
   },
   {
    "duration": 768,
    "start_time": "2025-01-16T15:02:30.217Z"
   },
   {
    "duration": 24869,
    "start_time": "2025-01-16T15:02:30.987Z"
   },
   {
    "duration": 178,
    "start_time": "2025-01-16T15:02:55.858Z"
   },
   {
    "duration": 1325,
    "start_time": "2025-01-16T15:02:56.039Z"
   },
   {
    "duration": 1160,
    "start_time": "2025-01-16T15:02:57.365Z"
   },
   {
    "duration": 1624,
    "start_time": "2025-01-16T15:02:58.528Z"
   },
   {
    "duration": 1690,
    "start_time": "2025-01-16T15:03:00.154Z"
   },
   {
    "duration": 3,
    "start_time": "2025-01-16T15:03:01.846Z"
   },
   {
    "duration": 1942,
    "start_time": "2025-01-16T15:03:01.850Z"
   },
   {
    "duration": 757,
    "start_time": "2025-01-16T15:03:03.839Z"
   },
   {
    "duration": 76,
    "start_time": "2025-01-16T15:03:04.598Z"
   },
   {
    "duration": 112,
    "start_time": "2025-01-16T15:03:04.738Z"
   },
   {
    "duration": 2101,
    "start_time": "2025-01-16T15:03:04.852Z"
   },
   {
    "duration": 6,
    "start_time": "2025-01-16T15:03:06.954Z"
   },
   {
    "duration": 40,
    "start_time": "2025-01-16T15:03:06.962Z"
   },
   {
    "duration": 875,
    "start_time": "2025-01-16T15:03:07.004Z"
   },
   {
    "duration": 60,
    "start_time": "2025-01-16T15:03:07.880Z"
   },
   {
    "duration": 3400,
    "start_time": "2025-01-16T15:03:07.942Z"
   },
   {
    "duration": 1928,
    "start_time": "2025-01-16T15:03:11.344Z"
   },
   {
    "duration": 4578,
    "start_time": "2025-01-16T15:03:13.274Z"
   },
   {
    "duration": 2708,
    "start_time": "2025-01-16T15:03:17.853Z"
   },
   {
    "duration": 948,
    "start_time": "2025-01-16T15:03:20.563Z"
   },
   {
    "duration": 807,
    "start_time": "2025-01-16T15:03:21.537Z"
   },
   {
    "duration": 2599,
    "start_time": "2025-01-16T15:03:22.345Z"
   },
   {
    "duration": 1908,
    "start_time": "2025-01-16T15:03:24.946Z"
   },
   {
    "duration": 1684,
    "start_time": "2025-01-16T15:12:04.105Z"
   },
   {
    "duration": 748,
    "start_time": "2025-01-16T15:12:17.943Z"
   },
   {
    "duration": 23781,
    "start_time": "2025-01-16T15:12:18.693Z"
   },
   {
    "duration": 192,
    "start_time": "2025-01-16T15:12:42.476Z"
   },
   {
    "duration": 1381,
    "start_time": "2025-01-16T15:12:42.670Z"
   },
   {
    "duration": 914,
    "start_time": "2025-01-16T15:12:44.052Z"
   },
   {
    "duration": 1789,
    "start_time": "2025-01-16T15:12:44.968Z"
   },
   {
    "duration": 1588,
    "start_time": "2025-01-16T15:12:46.759Z"
   },
   {
    "duration": 3,
    "start_time": "2025-01-16T15:12:48.349Z"
   },
   {
    "duration": 2025,
    "start_time": "2025-01-16T15:12:48.354Z"
   },
   {
    "duration": 765,
    "start_time": "2025-01-16T15:12:50.382Z"
   },
   {
    "duration": 104,
    "start_time": "2025-01-16T15:12:51.149Z"
   },
   {
    "duration": 114,
    "start_time": "2025-01-16T15:12:51.255Z"
   },
   {
    "duration": 2173,
    "start_time": "2025-01-16T15:12:51.372Z"
   },
   {
    "duration": 6,
    "start_time": "2025-01-16T15:12:53.546Z"
   },
   {
    "duration": 13,
    "start_time": "2025-01-16T15:12:53.553Z"
   },
   {
    "duration": 616,
    "start_time": "2025-01-16T15:12:53.567Z"
   },
   {
    "duration": 59,
    "start_time": "2025-01-16T15:12:54.185Z"
   },
   {
    "duration": 3625,
    "start_time": "2025-01-16T15:12:54.246Z"
   },
   {
    "duration": 1966,
    "start_time": "2025-01-16T15:12:57.873Z"
   },
   {
    "duration": 4396,
    "start_time": "2025-01-16T15:12:59.841Z"
   },
   {
    "duration": 2405,
    "start_time": "2025-01-16T15:13:04.239Z"
   },
   {
    "duration": 897,
    "start_time": "2025-01-16T15:13:06.646Z"
   },
   {
    "duration": 833,
    "start_time": "2025-01-16T15:13:07.545Z"
   },
   {
    "duration": 3169,
    "start_time": "2025-01-16T15:13:08.379Z"
   },
   {
    "duration": 2389,
    "start_time": "2025-01-16T15:13:11.549Z"
   },
   {
    "duration": 748,
    "start_time": "2025-01-17T16:01:07.232Z"
   },
   {
    "duration": 25353,
    "start_time": "2025-01-17T16:01:07.982Z"
   },
   {
    "duration": 200,
    "start_time": "2025-01-17T16:01:33.338Z"
   },
   {
    "duration": 1420,
    "start_time": "2025-01-17T16:01:33.540Z"
   },
   {
    "duration": 992,
    "start_time": "2025-01-17T16:01:34.961Z"
   },
   {
    "duration": 2095,
    "start_time": "2025-01-17T16:01:35.954Z"
   },
   {
    "duration": 1706,
    "start_time": "2025-01-17T16:01:38.050Z"
   },
   {
    "duration": 3,
    "start_time": "2025-01-17T16:01:39.758Z"
   },
   {
    "duration": 2110,
    "start_time": "2025-01-17T16:01:39.763Z"
   },
   {
    "duration": 798,
    "start_time": "2025-01-17T16:01:41.932Z"
   },
   {
    "duration": 105,
    "start_time": "2025-01-17T16:01:42.732Z"
   },
   {
    "duration": 115,
    "start_time": "2025-01-17T16:01:42.839Z"
   },
   {
    "duration": 2291,
    "start_time": "2025-01-17T16:01:42.956Z"
   },
   {
    "duration": 6,
    "start_time": "2025-01-17T16:01:45.249Z"
   },
   {
    "duration": 74,
    "start_time": "2025-01-17T16:01:45.257Z"
   },
   {
    "duration": 671,
    "start_time": "2025-01-17T16:01:45.333Z"
   },
   {
    "duration": 37,
    "start_time": "2025-01-17T16:01:46.005Z"
   },
   {
    "duration": 3306,
    "start_time": "2025-01-17T16:01:46.044Z"
   },
   {
    "duration": 1801,
    "start_time": "2025-01-17T16:01:49.352Z"
   },
   {
    "duration": 4283,
    "start_time": "2025-01-17T16:01:51.155Z"
   },
   {
    "duration": 2696,
    "start_time": "2025-01-17T16:01:55.440Z"
   },
   {
    "duration": 1099,
    "start_time": "2025-01-17T16:01:58.138Z"
   },
   {
    "duration": 936,
    "start_time": "2025-01-17T16:01:59.240Z"
   },
   {
    "duration": 2747,
    "start_time": "2025-01-17T16:02:00.231Z"
   },
   {
    "duration": 2002,
    "start_time": "2025-01-17T16:02:02.980Z"
   },
   {
    "duration": 2081,
    "start_time": "2025-01-17T16:04:10.775Z"
   },
   {
    "duration": 709,
    "start_time": "2025-01-18T05:29:20.763Z"
   },
   {
    "duration": 24243,
    "start_time": "2025-01-18T05:29:25.907Z"
   },
   {
    "duration": 111,
    "start_time": "2025-01-18T05:29:52.719Z"
   },
   {
    "duration": 75,
    "start_time": "2025-01-18T05:29:58.476Z"
   },
   {
    "duration": 1342,
    "start_time": "2025-01-18T05:30:01.514Z"
   },
   {
    "duration": 546,
    "start_time": "2025-01-18T05:30:36.255Z"
   },
   {
    "duration": 736,
    "start_time": "2025-01-18T05:31:59.135Z"
   },
   {
    "duration": 26468,
    "start_time": "2025-01-18T05:32:02.580Z"
   },
   {
    "duration": 134,
    "start_time": "2025-01-18T05:32:33.428Z"
   },
   {
    "duration": 893,
    "start_time": "2025-01-18T05:32:37.742Z"
   },
   {
    "duration": 399,
    "start_time": "2025-01-18T05:32:47.849Z"
   },
   {
    "duration": 3789,
    "start_time": "2025-01-18T05:32:50.952Z"
   },
   {
    "duration": 776,
    "start_time": "2025-01-18T05:34:11.072Z"
   },
   {
    "duration": 1171,
    "start_time": "2025-01-18T05:34:16.586Z"
   },
   {
    "duration": 4,
    "start_time": "2025-01-18T05:34:25.291Z"
   },
   {
    "duration": 2330,
    "start_time": "2025-01-18T05:34:40.401Z"
   },
   {
    "duration": 708,
    "start_time": "2025-01-18T05:41:00.746Z"
   },
   {
    "duration": 973,
    "start_time": "2025-01-18T05:43:53.585Z"
   },
   {
    "duration": 2449,
    "start_time": "2025-01-18T05:44:36.423Z"
   },
   {
    "duration": 3014,
    "start_time": "2025-01-18T05:47:43.632Z"
   },
   {
    "duration": 3677,
    "start_time": "2025-01-18T05:47:58.462Z"
   },
   {
    "duration": 2135,
    "start_time": "2025-01-18T05:48:04.211Z"
   },
   {
    "duration": 633,
    "start_time": "2025-01-18T05:48:11.202Z"
   },
   {
    "duration": 463,
    "start_time": "2025-01-18T05:48:15.871Z"
   },
   {
    "duration": 845,
    "start_time": "2025-01-18T05:48:25.300Z"
   },
   {
    "duration": 1504,
    "start_time": "2025-01-18T05:49:21.130Z"
   },
   {
    "duration": 706,
    "start_time": "2025-01-18T05:55:22.470Z"
   },
   {
    "duration": 23413,
    "start_time": "2025-01-18T05:55:28.454Z"
   },
   {
    "duration": 79,
    "start_time": "2025-01-18T05:59:52.760Z"
   },
   {
    "duration": 717,
    "start_time": "2025-01-18T05:59:55.817Z"
   },
   {
    "duration": 3893,
    "start_time": "2025-01-18T05:59:59.249Z"
   },
   {
    "duration": 974,
    "start_time": "2025-01-18T06:00:05.992Z"
   },
   {
    "duration": 1165,
    "start_time": "2025-01-18T06:00:08.394Z"
   },
   {
    "duration": 135,
    "start_time": "2025-01-18T06:00:22.648Z"
   },
   {
    "duration": 2,
    "start_time": "2025-01-18T06:00:33.899Z"
   },
   {
    "duration": 5605,
    "start_time": "2025-01-18T06:00:38.048Z"
   },
   {
    "duration": 3501,
    "start_time": "2025-01-18T06:00:46.250Z"
   },
   {
    "duration": 2341,
    "start_time": "2025-01-18T06:00:50.399Z"
   },
   {
    "duration": 587,
    "start_time": "2025-01-18T06:00:56.288Z"
   },
   {
    "duration": 502,
    "start_time": "2025-01-18T06:01:00.671Z"
   },
   {
    "duration": 1852,
    "start_time": "2025-01-18T06:01:06.207Z"
   },
   {
    "duration": 1589,
    "start_time": "2025-01-18T06:01:10.864Z"
   },
   {
    "duration": 539,
    "start_time": "2025-01-18T06:01:18.638Z"
   },
   {
    "duration": 734,
    "start_time": "2025-01-18T06:48:47.442Z"
   },
   {
    "duration": 25393,
    "start_time": "2025-01-18T06:48:48.178Z"
   },
   {
    "duration": 200,
    "start_time": "2025-01-18T06:49:13.573Z"
   },
   {
    "duration": 858,
    "start_time": "2025-01-18T06:49:13.776Z"
   },
   {
    "duration": 4838,
    "start_time": "2025-01-18T06:49:14.635Z"
   },
   {
    "duration": 1177,
    "start_time": "2025-01-18T06:49:19.475Z"
   },
   {
    "duration": 1479,
    "start_time": "2025-01-18T06:49:20.654Z"
   },
   {
    "duration": 5,
    "start_time": "2025-01-18T06:49:22.134Z"
   },
   {
    "duration": 6495,
    "start_time": "2025-01-18T06:49:22.140Z"
   },
   {
    "duration": 4303,
    "start_time": "2025-01-18T06:49:28.642Z"
   },
   {
    "duration": 2601,
    "start_time": "2025-01-18T06:49:32.949Z"
   },
   {
    "duration": 795,
    "start_time": "2025-01-18T06:49:35.552Z"
   },
   {
    "duration": 589,
    "start_time": "2025-01-18T06:49:36.349Z"
   },
   {
    "duration": 1732,
    "start_time": "2025-01-18T06:49:36.940Z"
   },
   {
    "duration": 1596,
    "start_time": "2025-01-18T06:49:38.675Z"
   },
   {
    "duration": 201,
    "start_time": "2025-01-18T06:49:40.273Z"
   },
   {
    "duration": 687,
    "start_time": "2025-02-14T16:21:35.725Z"
   },
   {
    "duration": 22867,
    "start_time": "2025-02-14T16:21:36.414Z"
   },
   {
    "duration": 203,
    "start_time": "2025-02-14T16:21:59.283Z"
   },
   {
    "duration": 681,
    "start_time": "2025-02-14T16:21:59.488Z"
   },
   {
    "duration": 3811,
    "start_time": "2025-02-14T16:22:00.171Z"
   },
   {
    "duration": 912,
    "start_time": "2025-02-14T16:22:03.984Z"
   },
   {
    "duration": 1122,
    "start_time": "2025-02-14T16:22:04.962Z"
   },
   {
    "duration": 3,
    "start_time": "2025-02-14T16:22:06.085Z"
   },
   {
    "duration": 5136,
    "start_time": "2025-02-14T16:22:06.161Z"
   },
   {
    "duration": 4068,
    "start_time": "2025-02-14T16:22:11.299Z"
   },
   {
    "duration": 2205,
    "start_time": "2025-02-14T16:22:15.369Z"
   },
   {
    "duration": 518,
    "start_time": "2025-02-14T16:22:17.576Z"
   },
   {
    "duration": 500,
    "start_time": "2025-02-14T16:22:18.096Z"
   },
   {
    "duration": 1781,
    "start_time": "2025-02-14T16:22:18.598Z"
   },
   {
    "duration": 1705,
    "start_time": "2025-02-14T16:22:20.381Z"
   },
   {
    "duration": 302,
    "start_time": "2025-02-14T16:22:22.088Z"
   }
  ],
  "colab": {
   "name": "PySparkSprint.ipynb",
   "provenance": []
  },
  "kernelspec": {
   "display_name": "Python 3 (ipykernel)",
   "language": "python",
   "name": "python3"
  },
  "language_info": {
   "codemirror_mode": {
    "name": "ipython",
    "version": 3
   },
   "file_extension": ".py",
   "mimetype": "text/x-python",
   "name": "python",
   "nbconvert_exporter": "python",
   "pygments_lexer": "ipython3",
   "version": "3.12.2"
  },
  "toc": {
   "base_numbering": 1,
   "nav_menu": {},
   "number_sections": true,
   "sideBar": true,
   "skip_h1_title": true,
   "title_cell": "Table of Contents",
   "title_sidebar": "Contents",
   "toc_cell": false,
   "toc_position": {},
   "toc_section_display": true,
   "toc_window_display": false
  }
 },
 "nbformat": 4,
 "nbformat_minor": 5
}
